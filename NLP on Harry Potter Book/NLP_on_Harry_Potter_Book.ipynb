{
  "nbformat": 4,
  "nbformat_minor": 0,
  "metadata": {
    "accelerator": "GPU",
    "colab": {
      "name": "NLP on Harry Potter Book.ipynb",
      "provenance": [],
      "collapsed_sections": []
    },
    "kernelspec": {
      "display_name": "Python 3",
      "name": "python3"
    },
    "language_info": {
      "name": "python"
    }
  },
  "cells": [
    {
      "cell_type": "code",
      "metadata": {
        "colab": {
          "base_uri": "https://localhost:8080/"
        },
        "id": "iqt5axPswkUz",
        "outputId": "fd9d23aa-479b-4a9a-a01e-f90a003fbc82"
      },
      "source": [
        "# Import packages/libraries\n",
        "import collections\n",
        "import pandas as pd\n",
        "import glob\n",
        "import numpy as np\n",
        "import matplotlib\n",
        "import matplotlib.pyplot as plt\n",
        "import nltk #Import NLTK library\n",
        "nltk.download('punkt') #installed punkt to fix error\n",
        "from nltk import word_tokenize\n",
        "from nltk.corpus import stopwords #Import stopwords to Python\n",
        "import string #Punctuation\n",
        "nltk.download('wordnet')\n",
        "nltk.download('stopwords')\n",
        "nltk.download('averaged_perceptron_tagger')\n",
        "import codecs\n"
      ],
      "execution_count": null,
      "outputs": [
        {
          "output_type": "stream",
          "text": [
            "[nltk_data] Downloading package punkt to /root/nltk_data...\n",
            "[nltk_data]   Package punkt is already up-to-date!\n",
            "[nltk_data] Downloading package wordnet to /root/nltk_data...\n",
            "[nltk_data]   Package wordnet is already up-to-date!\n",
            "[nltk_data] Downloading package stopwords to /root/nltk_data...\n",
            "[nltk_data]   Package stopwords is already up-to-date!\n",
            "[nltk_data] Downloading package averaged_perceptron_tagger to\n",
            "[nltk_data]     /root/nltk_data...\n",
            "[nltk_data]   Package averaged_perceptron_tagger is already up-to-\n",
            "[nltk_data]       date!\n"
          ],
          "name": "stdout"
        }
      ]
    },
    {
      "cell_type": "code",
      "metadata": {
        "colab": {
          "base_uri": "https://localhost:8080/"
        },
        "id": "V5i6Zvhf-39o",
        "outputId": "f05113a8-fe1a-4af8-c0be-6f6a9c4a8da7"
      },
      "source": [
        "%cd /content/drive/MyDrive/Harry_Potter_Book_Data/"
      ],
      "execution_count": null,
      "outputs": [
        {
          "output_type": "stream",
          "text": [
            "/content/drive/MyDrive/Harry_Potter_Book_Data\n"
          ],
          "name": "stdout"
        }
      ]
    },
    {
      "cell_type": "code",
      "metadata": {
        "colab": {
          "base_uri": "https://localhost:8080/"
        },
        "id": "om9hl5ydatRE",
        "outputId": "6c8e602a-3296-45eb-8471-7c3245fb7937"
      },
      "source": [
        "!ls"
      ],
      "execution_count": null,
      "outputs": [
        {
          "output_type": "stream",
          "text": [
            "\"Book 1 - The Philosopher's Stone.txt\"\t'Book 5 - The Order of the Phoenix.txt'\n",
            "'Book 2 - The Chamber of Secrets.txt'\t'Book 6 - The Half Blood Prince.txt'\n",
            "'Book 3 - The Prisoner of Azkaban.txt'\t'Book 7 - The Deathly Hallows.txt'\n",
            "'Book 4 - The Goblet of Fire.txt'\n"
          ],
          "name": "stdout"
        }
      ]
    },
    {
      "cell_type": "code",
      "metadata": {
        "id": "yx5v70P-aXVb"
      },
      "source": [
        "import glob\n",
        "\n",
        "read_files = glob.glob(\"*.txt\")\n",
        "\n",
        "with open(\"all.txt\", \"wb\") as outfile:\n",
        "    for f in read_files:\n",
        "        with open(f, \"rb\") as infile:\n",
        "            outfile.write(infile.read())"
      ],
      "execution_count": null,
      "outputs": []
    },
    {
      "cell_type": "code",
      "metadata": {
        "id": "SKAqtuaRc3aC"
      },
      "source": [
        "import csv\n",
        "filename=\"/content/drive/MyDrive/harry save data/all.txt\"\n",
        "df=pd.read_csv(filename, delimiter=\"\\t\", quoting=csv.QUOTE_NONE, encoding='utf-8',skipinitialspace = True,names=[\"sentence\"])\n",
        "df=df.fillna('')"
      ],
      "execution_count": null,
      "outputs": []
    },
    {
      "cell_type": "code",
      "metadata": {
        "colab": {
          "base_uri": "https://localhost:8080/",
          "height": 202
        },
        "id": "d7KEREXCbjfo",
        "outputId": "35823a6d-f216-4a8b-c61c-6111f9a4717f"
      },
      "source": [
        "df[2:7]"
      ],
      "execution_count": null,
      "outputs": [
        {
          "output_type": "execute_result",
          "data": {
            "text/html": [
              "<div>\n",
              "<style scoped>\n",
              "    .dataframe tbody tr th:only-of-type {\n",
              "        vertical-align: middle;\n",
              "    }\n",
              "\n",
              "    .dataframe tbody tr th {\n",
              "        vertical-align: top;\n",
              "    }\n",
              "\n",
              "    .dataframe thead th {\n",
              "        text-align: right;\n",
              "    }\n",
              "</style>\n",
              "<table border=\"1\" class=\"dataframe\">\n",
              "  <thead>\n",
              "    <tr style=\"text-align: right;\">\n",
              "      <th></th>\n",
              "      <th>sentence</th>\n",
              "    </tr>\n",
              "  </thead>\n",
              "  <tbody>\n",
              "    <tr>\n",
              "      <th>2</th>\n",
              "      <td>THE DARK LORD ASCENDING</td>\n",
              "    </tr>\n",
              "    <tr>\n",
              "      <th>3</th>\n",
              "      <td>The two men appeared out of nowhere, a few yards</td>\n",
              "    </tr>\n",
              "    <tr>\n",
              "      <th>4</th>\n",
              "      <td>apart in the narrow, moonlit lane. For a secon...</td>\n",
              "    </tr>\n",
              "    <tr>\n",
              "      <th>5</th>\n",
              "      <td>stood quite still, wands directed at each othe...</td>\n",
              "    </tr>\n",
              "    <tr>\n",
              "      <th>6</th>\n",
              "      <td>chests; then, recognizing each other, they sto...</td>\n",
              "    </tr>\n",
              "  </tbody>\n",
              "</table>\n",
              "</div>"
            ],
            "text/plain": [
              "                                            sentence\n",
              "2                           THE DARK LORD ASCENDING \n",
              "3  The two men appeared out of nowhere, a few yards \n",
              "4  apart in the narrow, moonlit lane. For a secon...\n",
              "5  stood quite still, wands directed at each othe...\n",
              "6  chests; then, recognizing each other, they sto..."
            ]
          },
          "metadata": {
            "tags": []
          },
          "execution_count": 85
        }
      ]
    },
    {
      "cell_type": "markdown",
      "metadata": {
        "id": "QLi3X6m79ivc"
      },
      "source": [
        "Tokentization and bag of words\n",
        "\n",
        "\n",
        "For bag of words the book text is represented as a bag of words which cotains comma separated words.The implication here is that each word is analyzed individually, not taking into account word order or grammar.To transform the data into a bag of words, my code:\n",
        "\n",
        "1.removes end of line (/n) characters from the text\n",
        "\n",
        "2.splits the text by whitespace to break into words\n",
        "\n",
        "3.lowercases all text\n",
        "\n",
        "4.removes all punctuation\n",
        "\n",
        "\n",
        "-------------------------------------------------\n",
        "\n",
        "For tokenization.Tokenization is the first step in NLP. It is the process of breaking strings into tokens which in turn are small structures or units. Tokenization involves three steps which are breaking a complex sentence into words, understanding the importance of each word with respect to the sentence and finally produce structural description on an input sentence.\n",
        "\n"
      ]
    },
    {
      "cell_type": "markdown",
      "metadata": {
        "id": "zIyWqayIhGmn"
      },
      "source": [
        "Importing library and read data"
      ]
    },
    {
      "cell_type": "code",
      "metadata": {
        "id": "YHiN-svqc3ce"
      },
      "source": [
        "stopwords = set(stopwords.words('english')) #English stopwords assigned to \"stopwords\" object\n",
        "\n",
        "# Function for removing punctuation\n",
        "def remove_punctuations(text):\n",
        "    for punctuation in string.punctuation:\n",
        "        text = text.replace(punctuation, '')\n",
        "    return text\n",
        "    \n",
        "stopwords = [''.join(item for item in x if item not in string.punctuation) for x in stopwords] #Remove punctuation from stopwords\n"
      ],
      "execution_count": null,
      "outputs": []
    },
    {
      "cell_type": "code",
      "metadata": {
        "colab": {
          "base_uri": "https://localhost:8080/",
          "height": 202
        },
        "id": "yAhXXcuLtJgP",
        "outputId": "5d50a8e6-cb63-471c-fcef-e8ac9899a79c"
      },
      "source": [
        "df[2:7]"
      ],
      "execution_count": null,
      "outputs": [
        {
          "output_type": "execute_result",
          "data": {
            "text/html": [
              "<div>\n",
              "<style scoped>\n",
              "    .dataframe tbody tr th:only-of-type {\n",
              "        vertical-align: middle;\n",
              "    }\n",
              "\n",
              "    .dataframe tbody tr th {\n",
              "        vertical-align: top;\n",
              "    }\n",
              "\n",
              "    .dataframe thead th {\n",
              "        text-align: right;\n",
              "    }\n",
              "</style>\n",
              "<table border=\"1\" class=\"dataframe\">\n",
              "  <thead>\n",
              "    <tr style=\"text-align: right;\">\n",
              "      <th></th>\n",
              "      <th>sentence</th>\n",
              "    </tr>\n",
              "  </thead>\n",
              "  <tbody>\n",
              "    <tr>\n",
              "      <th>2</th>\n",
              "      <td>THE DARK LORD ASCENDING</td>\n",
              "    </tr>\n",
              "    <tr>\n",
              "      <th>3</th>\n",
              "      <td>The two men appeared out of nowhere, a few yards</td>\n",
              "    </tr>\n",
              "    <tr>\n",
              "      <th>4</th>\n",
              "      <td>apart in the narrow, moonlit lane. For a secon...</td>\n",
              "    </tr>\n",
              "    <tr>\n",
              "      <th>5</th>\n",
              "      <td>stood quite still, wands directed at each othe...</td>\n",
              "    </tr>\n",
              "    <tr>\n",
              "      <th>6</th>\n",
              "      <td>chests; then, recognizing each other, they sto...</td>\n",
              "    </tr>\n",
              "  </tbody>\n",
              "</table>\n",
              "</div>"
            ],
            "text/plain": [
              "                                            sentence\n",
              "2                           THE DARK LORD ASCENDING \n",
              "3  The two men appeared out of nowhere, a few yards \n",
              "4  apart in the narrow, moonlit lane. For a secon...\n",
              "5  stood quite still, wands directed at each othe...\n",
              "6  chests; then, recognizing each other, they sto..."
            ]
          },
          "metadata": {
            "tags": []
          },
          "execution_count": 87
        }
      ]
    },
    {
      "cell_type": "code",
      "metadata": {
        "colab": {
          "base_uri": "https://localhost:8080/",
          "height": 202
        },
        "id": "Fg9nbNW9lGQS",
        "outputId": "231bfffd-1fac-49d4-8cc2-95504840af85"
      },
      "source": [
        "df['sentence']=df['sentence'].str.lower()\n",
        "df[2:7]"
      ],
      "execution_count": null,
      "outputs": [
        {
          "output_type": "execute_result",
          "data": {
            "text/html": [
              "<div>\n",
              "<style scoped>\n",
              "    .dataframe tbody tr th:only-of-type {\n",
              "        vertical-align: middle;\n",
              "    }\n",
              "\n",
              "    .dataframe tbody tr th {\n",
              "        vertical-align: top;\n",
              "    }\n",
              "\n",
              "    .dataframe thead th {\n",
              "        text-align: right;\n",
              "    }\n",
              "</style>\n",
              "<table border=\"1\" class=\"dataframe\">\n",
              "  <thead>\n",
              "    <tr style=\"text-align: right;\">\n",
              "      <th></th>\n",
              "      <th>sentence</th>\n",
              "    </tr>\n",
              "  </thead>\n",
              "  <tbody>\n",
              "    <tr>\n",
              "      <th>2</th>\n",
              "      <td>the dark lord ascending</td>\n",
              "    </tr>\n",
              "    <tr>\n",
              "      <th>3</th>\n",
              "      <td>the two men appeared out of nowhere, a few yards</td>\n",
              "    </tr>\n",
              "    <tr>\n",
              "      <th>4</th>\n",
              "      <td>apart in the narrow, moonlit lane. for a secon...</td>\n",
              "    </tr>\n",
              "    <tr>\n",
              "      <th>5</th>\n",
              "      <td>stood quite still, wands directed at each othe...</td>\n",
              "    </tr>\n",
              "    <tr>\n",
              "      <th>6</th>\n",
              "      <td>chests; then, recognizing each other, they sto...</td>\n",
              "    </tr>\n",
              "  </tbody>\n",
              "</table>\n",
              "</div>"
            ],
            "text/plain": [
              "                                            sentence\n",
              "2                           the dark lord ascending \n",
              "3  the two men appeared out of nowhere, a few yards \n",
              "4  apart in the narrow, moonlit lane. for a secon...\n",
              "5  stood quite still, wands directed at each othe...\n",
              "6  chests; then, recognizing each other, they sto..."
            ]
          },
          "metadata": {
            "tags": []
          },
          "execution_count": 88
        }
      ]
    },
    {
      "cell_type": "code",
      "metadata": {
        "colab": {
          "base_uri": "https://localhost:8080/",
          "height": 202
        },
        "id": "7KoDuIrctAhx",
        "outputId": "fee726c9-de39-4296-aeaf-4d96034ccf07"
      },
      "source": [
        "df['sentence']=df['sentence'].apply(remove_punctuations)\n",
        "df[2:7]"
      ],
      "execution_count": null,
      "outputs": [
        {
          "output_type": "execute_result",
          "data": {
            "text/html": [
              "<div>\n",
              "<style scoped>\n",
              "    .dataframe tbody tr th:only-of-type {\n",
              "        vertical-align: middle;\n",
              "    }\n",
              "\n",
              "    .dataframe tbody tr th {\n",
              "        vertical-align: top;\n",
              "    }\n",
              "\n",
              "    .dataframe thead th {\n",
              "        text-align: right;\n",
              "    }\n",
              "</style>\n",
              "<table border=\"1\" class=\"dataframe\">\n",
              "  <thead>\n",
              "    <tr style=\"text-align: right;\">\n",
              "      <th></th>\n",
              "      <th>sentence</th>\n",
              "    </tr>\n",
              "  </thead>\n",
              "  <tbody>\n",
              "    <tr>\n",
              "      <th>2</th>\n",
              "      <td>the dark lord ascending</td>\n",
              "    </tr>\n",
              "    <tr>\n",
              "      <th>3</th>\n",
              "      <td>the two men appeared out of nowhere a few yards</td>\n",
              "    </tr>\n",
              "    <tr>\n",
              "      <th>4</th>\n",
              "      <td>apart in the narrow moonlit lane for a second ...</td>\n",
              "    </tr>\n",
              "    <tr>\n",
              "      <th>5</th>\n",
              "      <td>stood quite still wands directed at each other’s</td>\n",
              "    </tr>\n",
              "    <tr>\n",
              "      <th>6</th>\n",
              "      <td>chests then recognizing each other they stowed</td>\n",
              "    </tr>\n",
              "  </tbody>\n",
              "</table>\n",
              "</div>"
            ],
            "text/plain": [
              "                                            sentence\n",
              "2                           the dark lord ascending \n",
              "3   the two men appeared out of nowhere a few yards \n",
              "4  apart in the narrow moonlit lane for a second ...\n",
              "5  stood quite still wands directed at each other’s \n",
              "6    chests then recognizing each other they stowed "
            ]
          },
          "metadata": {
            "tags": []
          },
          "execution_count": 89
        }
      ]
    },
    {
      "cell_type": "code",
      "metadata": {
        "colab": {
          "base_uri": "https://localhost:8080/",
          "height": 202
        },
        "id": "19u6nxGvtA8O",
        "outputId": "af707e4c-25a7-4b57-d870-ff086f507446"
      },
      "source": [
        "df['sentence']=df['sentence'].apply(word_tokenize) # Word Count Text\n",
        "df[2:7]"
      ],
      "execution_count": null,
      "outputs": [
        {
          "output_type": "execute_result",
          "data": {
            "text/html": [
              "<div>\n",
              "<style scoped>\n",
              "    .dataframe tbody tr th:only-of-type {\n",
              "        vertical-align: middle;\n",
              "    }\n",
              "\n",
              "    .dataframe tbody tr th {\n",
              "        vertical-align: top;\n",
              "    }\n",
              "\n",
              "    .dataframe thead th {\n",
              "        text-align: right;\n",
              "    }\n",
              "</style>\n",
              "<table border=\"1\" class=\"dataframe\">\n",
              "  <thead>\n",
              "    <tr style=\"text-align: right;\">\n",
              "      <th></th>\n",
              "      <th>sentence</th>\n",
              "    </tr>\n",
              "  </thead>\n",
              "  <tbody>\n",
              "    <tr>\n",
              "      <th>2</th>\n",
              "      <td>[the, dark, lord, ascending]</td>\n",
              "    </tr>\n",
              "    <tr>\n",
              "      <th>3</th>\n",
              "      <td>[the, two, men, appeared, out, of, nowhere, a,...</td>\n",
              "    </tr>\n",
              "    <tr>\n",
              "      <th>4</th>\n",
              "      <td>[apart, in, the, narrow, moonlit, lane, for, a...</td>\n",
              "    </tr>\n",
              "    <tr>\n",
              "      <th>5</th>\n",
              "      <td>[stood, quite, still, wands, directed, at, eac...</td>\n",
              "    </tr>\n",
              "    <tr>\n",
              "      <th>6</th>\n",
              "      <td>[chests, then, recognizing, each, other, they,...</td>\n",
              "    </tr>\n",
              "  </tbody>\n",
              "</table>\n",
              "</div>"
            ],
            "text/plain": [
              "                                            sentence\n",
              "2                       [the, dark, lord, ascending]\n",
              "3  [the, two, men, appeared, out, of, nowhere, a,...\n",
              "4  [apart, in, the, narrow, moonlit, lane, for, a...\n",
              "5  [stood, quite, still, wands, directed, at, eac...\n",
              "6  [chests, then, recognizing, each, other, they,..."
            ]
          },
          "metadata": {
            "tags": []
          },
          "execution_count": 90
        }
      ]
    },
    {
      "cell_type": "markdown",
      "metadata": {
        "id": "rnDT5Ga2joDI"
      },
      "source": [
        "Stop Words\n",
        "\n",
        "“Stop words” are the most common words in a language like “the”, “a”, “at”, “for”, “above”, “on”, “is”, “all”. These words do not provide any meaning and are usually removed from texts. We have remove these stop words using nltk library"
      ]
    },
    {
      "cell_type": "code",
      "metadata": {
        "colab": {
          "base_uri": "https://localhost:8080/",
          "height": 202
        },
        "id": "JQrzn2dCkhfx",
        "outputId": "9a778885-3d5a-4ad8-aa21-c3519d4aa979"
      },
      "source": [
        "df['sentence']=df['sentence'].apply(lambda x: [word for word in x if word not in stopwords]) \n",
        "df[2:7]"
      ],
      "execution_count": null,
      "outputs": [
        {
          "output_type": "execute_result",
          "data": {
            "text/html": [
              "<div>\n",
              "<style scoped>\n",
              "    .dataframe tbody tr th:only-of-type {\n",
              "        vertical-align: middle;\n",
              "    }\n",
              "\n",
              "    .dataframe tbody tr th {\n",
              "        vertical-align: top;\n",
              "    }\n",
              "\n",
              "    .dataframe thead th {\n",
              "        text-align: right;\n",
              "    }\n",
              "</style>\n",
              "<table border=\"1\" class=\"dataframe\">\n",
              "  <thead>\n",
              "    <tr style=\"text-align: right;\">\n",
              "      <th></th>\n",
              "      <th>sentence</th>\n",
              "    </tr>\n",
              "  </thead>\n",
              "  <tbody>\n",
              "    <tr>\n",
              "      <th>2</th>\n",
              "      <td>[dark, lord, ascending]</td>\n",
              "    </tr>\n",
              "    <tr>\n",
              "      <th>3</th>\n",
              "      <td>[two, men, appeared, nowhere, yards]</td>\n",
              "    </tr>\n",
              "    <tr>\n",
              "      <th>4</th>\n",
              "      <td>[apart, narrow, moonlit, lane, second]</td>\n",
              "    </tr>\n",
              "    <tr>\n",
              "      <th>5</th>\n",
              "      <td>[stood, quite, still, wands, directed, ’]</td>\n",
              "    </tr>\n",
              "    <tr>\n",
              "      <th>6</th>\n",
              "      <td>[chests, recognizing, stowed]</td>\n",
              "    </tr>\n",
              "  </tbody>\n",
              "</table>\n",
              "</div>"
            ],
            "text/plain": [
              "                                    sentence\n",
              "2                    [dark, lord, ascending]\n",
              "3       [two, men, appeared, nowhere, yards]\n",
              "4     [apart, narrow, moonlit, lane, second]\n",
              "5  [stood, quite, still, wands, directed, ’]\n",
              "6              [chests, recognizing, stowed]"
            ]
          },
          "metadata": {
            "tags": []
          },
          "execution_count": 91
        }
      ]
    },
    {
      "cell_type": "markdown",
      "metadata": {
        "id": "GjvZQDH2i8yo"
      },
      "source": [
        "Stemming\n",
        "\n",
        "\n",
        "There are two methods in Stemming namely, Porter Stemming (removes common morphological and inflectional endings from words) and Lancaster Stemming (a more aggressive stemming algorithm). We have used the Porter Stemming."
      ]
    },
    {
      "cell_type": "code",
      "metadata": {
        "id": "lhQxyKoyYklQ"
      },
      "source": [
        ""
      ],
      "execution_count": null,
      "outputs": []
    },
    {
      "cell_type": "code",
      "metadata": {
        "id": "2H90emOSJPt6"
      },
      "source": [
        "#from nltk.stem import PorterStemmer\n",
        "#stemmer=PorterStemmer()"
      ],
      "execution_count": null,
      "outputs": []
    },
    {
      "cell_type": "code",
      "metadata": {
        "id": "LeH4mhPEJZMZ"
      },
      "source": [
        "#def word_stemmer(text):\n",
        "#     stem_text=[stemmer.stem(i) for i in text]\n",
        "#     return stem_text"
      ],
      "execution_count": null,
      "outputs": []
    },
    {
      "cell_type": "code",
      "metadata": {
        "id": "sDmZVUcRJZTm"
      },
      "source": [
        "#df['sentence']=df['sentence'].apply(lambda x:word_stemmer(x))"
      ],
      "execution_count": null,
      "outputs": []
    },
    {
      "cell_type": "code",
      "metadata": {
        "colab": {
          "base_uri": "https://localhost:8080/",
          "height": 639
        },
        "id": "_wukmVL1JZch",
        "outputId": "891a4304-7c56-410a-ddaf-e5cfa9652ae5"
      },
      "source": [
        "#df[:20]"
      ],
      "execution_count": null,
      "outputs": [
        {
          "output_type": "execute_result",
          "data": {
            "text/html": [
              "<div>\n",
              "<style scoped>\n",
              "    .dataframe tbody tr th:only-of-type {\n",
              "        vertical-align: middle;\n",
              "    }\n",
              "\n",
              "    .dataframe tbody tr th {\n",
              "        vertical-align: top;\n",
              "    }\n",
              "\n",
              "    .dataframe thead th {\n",
              "        text-align: right;\n",
              "    }\n",
              "</style>\n",
              "<table border=\"1\" class=\"dataframe\">\n",
              "  <thead>\n",
              "    <tr style=\"text-align: right;\">\n",
              "      <th></th>\n",
              "      <th>sentence</th>\n",
              "    </tr>\n",
              "  </thead>\n",
              "  <tbody>\n",
              "    <tr>\n",
              "      <th>0</th>\n",
              "      <td>[]</td>\n",
              "    </tr>\n",
              "    <tr>\n",
              "      <th>1</th>\n",
              "      <td>[]</td>\n",
              "    </tr>\n",
              "    <tr>\n",
              "      <th>2</th>\n",
              "      <td>[dark, lord, ascendin]</td>\n",
              "    </tr>\n",
              "    <tr>\n",
              "      <th>3</th>\n",
              "      <td>[two, men, appear, nowher, yard]</td>\n",
              "    </tr>\n",
              "    <tr>\n",
              "      <th>4</th>\n",
              "      <td>[part, narrow, moonlit, lane, second]</td>\n",
              "    </tr>\n",
              "    <tr>\n",
              "      <th>5</th>\n",
              "      <td>[tood, quit, still, wand, direct, ’]</td>\n",
              "    </tr>\n",
              "    <tr>\n",
              "      <th>6</th>\n",
              "      <td>[hest, recogn, stow]</td>\n",
              "    </tr>\n",
              "    <tr>\n",
              "      <th>7</th>\n",
              "      <td>[heir, wand, beneath, cloak, start, walkin]</td>\n",
              "    </tr>\n",
              "    <tr>\n",
              "      <th>8</th>\n",
              "      <td>[riskli, directio]</td>\n",
              "    </tr>\n",
              "    <tr>\n",
              "      <th>9</th>\n",
              "      <td>[news, ”, ask, taller, tw]</td>\n",
              "    </tr>\n",
              "    <tr>\n",
              "      <th>10</th>\n",
              "      <td>[best, ”, repli, severu, snap]</td>\n",
              "    </tr>\n",
              "    <tr>\n",
              "      <th>11</th>\n",
              "      <td>[lane, border, left, wild, lo]</td>\n",
              "    </tr>\n",
              "    <tr>\n",
              "      <th>12</th>\n",
              "      <td>[row, brambl, right, high, neatl]</td>\n",
              "    </tr>\n",
              "    <tr>\n",
              "      <th>13</th>\n",
              "      <td>[anicur, hedg, men, ’, long, cloak, flapp]</td>\n",
              "    </tr>\n",
              "    <tr>\n",
              "      <th>14</th>\n",
              "      <td>[round, ankl, march]</td>\n",
              "    </tr>\n",
              "    <tr>\n",
              "      <th>15</th>\n",
              "      <td>[thought, might, late, ”, said, yaxley, blun]</td>\n",
              "    </tr>\n",
              "    <tr>\n",
              "      <th>16</th>\n",
              "      <td>[eatur, slide, sight, branch]</td>\n",
              "    </tr>\n",
              "    <tr>\n",
              "      <th>17</th>\n",
              "      <td>[verhang, tree, broke, moonlight, “, littl]</td>\n",
              "    </tr>\n",
              "    <tr>\n",
              "      <th>18</th>\n",
              "      <td>[rickier, expect, hope, b]</td>\n",
              "    </tr>\n",
              "    <tr>\n",
              "      <th>19</th>\n",
              "      <td>[atisfi, sound, confid, recept, wil]</td>\n",
              "    </tr>\n",
              "  </tbody>\n",
              "</table>\n",
              "</div>"
            ],
            "text/plain": [
              "                                         sentence\n",
              "0                                              []\n",
              "1                                              []\n",
              "2                          [dark, lord, ascendin]\n",
              "3                [two, men, appear, nowher, yard]\n",
              "4           [part, narrow, moonlit, lane, second]\n",
              "5            [tood, quit, still, wand, direct, ’]\n",
              "6                            [hest, recogn, stow]\n",
              "7     [heir, wand, beneath, cloak, start, walkin]\n",
              "8                              [riskli, directio]\n",
              "9                      [news, ”, ask, taller, tw]\n",
              "10                 [best, ”, repli, severu, snap]\n",
              "11                 [lane, border, left, wild, lo]\n",
              "12              [row, brambl, right, high, neatl]\n",
              "13     [anicur, hedg, men, ’, long, cloak, flapp]\n",
              "14                           [round, ankl, march]\n",
              "15  [thought, might, late, ”, said, yaxley, blun]\n",
              "16                  [eatur, slide, sight, branch]\n",
              "17    [verhang, tree, broke, moonlight, “, littl]\n",
              "18                     [rickier, expect, hope, b]\n",
              "19           [atisfi, sound, confid, recept, wil]"
            ]
          },
          "metadata": {
            "tags": []
          },
          "execution_count": 60
        }
      ]
    },
    {
      "cell_type": "markdown",
      "metadata": {
        "id": "AEjp2Xk3DHyj"
      },
      "source": [
        "Lemmatizing\n",
        "\n",
        "In simpler terms, it is the process of converting a word to its base form. The difference between stemming and lemmatization is, lemmatization considers the context and converts the word to its meaningful base form, whereas stemming just removes the last few characters, often leading to incorrect meanings and spelling errors.\n"
      ]
    },
    {
      "cell_type": "code",
      "metadata": {
        "id": "R_KmCT0xDTdi"
      },
      "source": [
        "#from nltk.stem import WordNetLemmatizer\n",
        "#lemmatizer=WordNetLemmatizer()"
      ],
      "execution_count": null,
      "outputs": []
    },
    {
      "cell_type": "code",
      "metadata": {
        "id": "_SGAdHilDTgU"
      },
      "source": [
        "#def word_lemmatizer(text):\n",
        "     #lem_text=[lemmatizer.lemmatize(i) for i in text]\n",
        "     #return lem_text"
      ],
      "execution_count": null,
      "outputs": []
    },
    {
      "cell_type": "code",
      "metadata": {
        "id": "GoBsfO0EDTi_"
      },
      "source": [
        "#df['sentence']=df['sentence'].apply(lambda x:word_lemmatizer(x))"
      ],
      "execution_count": null,
      "outputs": []
    },
    {
      "cell_type": "code",
      "metadata": {
        "colab": {
          "base_uri": "https://localhost:8080/",
          "height": 195
        },
        "id": "jarrTG2_DTod",
        "outputId": "b31a447a-1eb3-4441-9aa7-c55cd08130a5"
      },
      "source": [
        "#df[2:7]"
      ],
      "execution_count": null,
      "outputs": [
        {
          "output_type": "execute_result",
          "data": {
            "text/html": [
              "<div>\n",
              "<style scoped>\n",
              "    .dataframe tbody tr th:only-of-type {\n",
              "        vertical-align: middle;\n",
              "    }\n",
              "\n",
              "    .dataframe tbody tr th {\n",
              "        vertical-align: top;\n",
              "    }\n",
              "\n",
              "    .dataframe thead th {\n",
              "        text-align: right;\n",
              "    }\n",
              "</style>\n",
              "<table border=\"1\" class=\"dataframe\">\n",
              "  <thead>\n",
              "    <tr style=\"text-align: right;\">\n",
              "      <th></th>\n",
              "      <th>sentence</th>\n",
              "    </tr>\n",
              "  </thead>\n",
              "  <tbody>\n",
              "    <tr>\n",
              "      <th>2</th>\n",
              "      <td>[dark, lord, ascendin]</td>\n",
              "    </tr>\n",
              "    <tr>\n",
              "      <th>3</th>\n",
              "      <td>[two, men, appear, nowher, yard]</td>\n",
              "    </tr>\n",
              "    <tr>\n",
              "      <th>4</th>\n",
              "      <td>[part, narrow, moonlit, lane, second]</td>\n",
              "    </tr>\n",
              "    <tr>\n",
              "      <th>5</th>\n",
              "      <td>[tood, quit, still, wand, direct, ’]</td>\n",
              "    </tr>\n",
              "    <tr>\n",
              "      <th>6</th>\n",
              "      <td>[hest, recogn, stow]</td>\n",
              "    </tr>\n",
              "  </tbody>\n",
              "</table>\n",
              "</div>"
            ],
            "text/plain": [
              "                                sentence\n",
              "2                 [dark, lord, ascendin]\n",
              "3       [two, men, appear, nowher, yard]\n",
              "4  [part, narrow, moonlit, lane, second]\n",
              "5   [tood, quit, still, wand, direct, ’]\n",
              "6                   [hest, recogn, stow]"
            ]
          },
          "metadata": {
            "tags": []
          },
          "execution_count": 64
        }
      ]
    },
    {
      "cell_type": "code",
      "metadata": {
        "id": "HiNcOJQ0s2-L"
      },
      "source": [
        "df1=df"
      ],
      "execution_count": null,
      "outputs": []
    },
    {
      "cell_type": "code",
      "metadata": {
        "colab": {
          "base_uri": "https://localhost:8080/",
          "height": 202
        },
        "id": "ih7rlDwbkjeZ",
        "outputId": "6ae68538-a7af-4d2a-a43d-acaf8442ae88"
      },
      "source": [
        "df1['WordCount'] = df1['sentence'].str.len() \n",
        "df1[:5]"
      ],
      "execution_count": null,
      "outputs": [
        {
          "output_type": "execute_result",
          "data": {
            "text/html": [
              "<div>\n",
              "<style scoped>\n",
              "    .dataframe tbody tr th:only-of-type {\n",
              "        vertical-align: middle;\n",
              "    }\n",
              "\n",
              "    .dataframe tbody tr th {\n",
              "        vertical-align: top;\n",
              "    }\n",
              "\n",
              "    .dataframe thead th {\n",
              "        text-align: right;\n",
              "    }\n",
              "</style>\n",
              "<table border=\"1\" class=\"dataframe\">\n",
              "  <thead>\n",
              "    <tr style=\"text-align: right;\">\n",
              "      <th></th>\n",
              "      <th>sentence</th>\n",
              "      <th>WordCount</th>\n",
              "    </tr>\n",
              "  </thead>\n",
              "  <tbody>\n",
              "    <tr>\n",
              "      <th>0</th>\n",
              "      <td>[]</td>\n",
              "      <td>0</td>\n",
              "    </tr>\n",
              "    <tr>\n",
              "      <th>1</th>\n",
              "      <td>[]</td>\n",
              "      <td>0</td>\n",
              "    </tr>\n",
              "    <tr>\n",
              "      <th>2</th>\n",
              "      <td>[dark, lord, ascending]</td>\n",
              "      <td>3</td>\n",
              "    </tr>\n",
              "    <tr>\n",
              "      <th>3</th>\n",
              "      <td>[two, men, appeared, nowhere, yards]</td>\n",
              "      <td>5</td>\n",
              "    </tr>\n",
              "    <tr>\n",
              "      <th>4</th>\n",
              "      <td>[apart, narrow, moonlit, lane, second]</td>\n",
              "      <td>5</td>\n",
              "    </tr>\n",
              "  </tbody>\n",
              "</table>\n",
              "</div>"
            ],
            "text/plain": [
              "                                 sentence  WordCount\n",
              "0                                      []          0\n",
              "1                                      []          0\n",
              "2                 [dark, lord, ascending]          3\n",
              "3    [two, men, appeared, nowhere, yards]          5\n",
              "4  [apart, narrow, moonlit, lane, second]          5"
            ]
          },
          "metadata": {
            "tags": []
          },
          "execution_count": 93
        }
      ]
    },
    {
      "cell_type": "code",
      "metadata": {
        "id": "svWRC0FDc3jd"
      },
      "source": [
        "df.to_excel(\"/content/drive/MyDrive/Harry_Potter_Book_Data/df.xlsx\", index=False)"
      ],
      "execution_count": null,
      "outputs": []
    },
    {
      "cell_type": "code",
      "metadata": {
        "id": "aytQoHUpc3ln"
      },
      "source": [
        "# Bring in df\n",
        "df = pd.read_excel(\"/content/drive/MyDrive/Harry_Potter_Book_Data/df.xlsx\")\n",
        "\n",
        "# Bring in string punctuation"
      ],
      "execution_count": null,
      "outputs": []
    },
    {
      "cell_type": "markdown",
      "metadata": {
        "id": "WORJAyj1tdMb"
      },
      "source": [
        "Printing 20 Most Common words in \"Harry Potter\""
      ]
    },
    {
      "cell_type": "code",
      "metadata": {
        "id": "plJcrqUHc3of"
      },
      "source": [
        "# Lists in df currently strings - remove double quotes\n",
        "df['sentence']=df['sentence'].apply(lambda x: x.strip('][').split(', '))"
      ],
      "execution_count": null,
      "outputs": []
    },
    {
      "cell_type": "code",
      "metadata": {
        "id": "XcT1NPjTjmmj"
      },
      "source": [
        "# Create Dictionary and list\n",
        "wordcount={}\n",
        "list = []\n",
        "\n",
        "# Get Words Ready\n",
        "for x in df.sentence:\n",
        "    list.extend(x)"
      ],
      "execution_count": null,
      "outputs": []
    },
    {
      "cell_type": "code",
      "metadata": {
        "colab": {
          "base_uri": "https://localhost:8080/"
        },
        "id": "fiXXwM6bjmpc",
        "outputId": "60792859-6409-40d7-fcb1-6c0262453955"
      },
      "source": [
        "# Clean text\n",
        "textcount=str(list).split()\n",
        "textcount=[''.join(c for c in s if c not in string.punctuation) for s in textcount] #Remove punctuation\n",
        "\n",
        "# Wordcount Loop\n",
        "# If the word is not in the stop words, it's added to the dictionary with a count.\n",
        "# If the word already exists in the dictionary, the count is made one higher.\n",
        "\n",
        "for word in textcount:\n",
        "        if word not in wordcount:\n",
        "            wordcount[word] = 1\n",
        "        else:\n",
        "            wordcount[word] += 1\n",
        "\n",
        "# Clean messy words out of dictionary - FOR HP ONLY\n",
        "del wordcount['—']\n",
        "del wordcount['ter']\n",
        "del wordcount['’']\n",
        "del wordcount['“']\n",
        "del wordcount['”']\n",
        "del wordcount['jk']\n",
        "del wordcount['e']\n",
        "del wordcount['hi']\n",
        "del wordcount['h']\n",
        "#del wordcount['rry']\n",
        "\n",
        "    \n",
        "# Printing 20 Most Common words in \"Harry Potter\"\n",
        "Counts = collections.Counter(wordcount)\n",
        "\n",
        "for word, count in Counts.most_common(20):\n",
        "    print(word, \": \", count)"
      ],
      "execution_count": null,
      "outputs": [
        {
          "output_type": "stream",
          "text": [
            "harry :  219160\n",
            "said :  144910\n",
            "ron :  63280\n",
            "potter :  58800\n",
            "hermione :  53500\n",
            "page :  48160\n",
            "rowling :  47130\n",
            "dumbledore :  33620\n",
            "back :  32340\n",
            "could :  28610\n",
            "one :  26130\n",
            "like :  23790\n",
            "looked :  23610\n",
            "would :  23010\n",
            "know :  22870\n",
            "around :  22610\n",
            "got :  21090\n",
            "hagrid :  20410\n",
            "professor :  20310\n",
            "well :  20160\n"
          ],
          "name": "stdout"
        }
      ]
    },
    {
      "cell_type": "markdown",
      "metadata": {
        "id": "dAwhMHrtt7py"
      },
      "source": [
        "How many time all the charecters has been mentioned"
      ]
    },
    {
      "cell_type": "code",
      "metadata": {
        "colab": {
          "base_uri": "https://localhost:8080/"
        },
        "id": "HMeJd5bYuMJw",
        "outputId": "7b509053-059b-45b5-bab6-3571752d595f"
      },
      "source": [
        "characters = ['harry', 'ron', 'hermione', 'sirius', 'fred', 'george',\n",
        "              'percy','voldemort', 'tom', 'dumbledore', 'snape', 'malfoy', 'hagrid',\n",
        "              'crabbe', 'goyle', 'mcgonagall', 'ginny','neville', 'lavender',\n",
        "             'dudley', 'vernon', 'petunia', 'lily', 'james','hooch', 'dean', 'seamus', 'charlie', 'draco', 'pomfrey', 'quirrell', 'sprout', 'oliver','ginny','luna']\n",
        "CharDictionary = {x:wordcount[x] for x in characters}\n",
        "\n",
        "Counts = collections.Counter(CharDictionary)\n",
        "\n",
        "for word, count in Counts.most_common(51):\n",
        "    print(word, \": \", count)"
      ],
      "execution_count": null,
      "outputs": [
        {
          "output_type": "stream",
          "text": [
            "harry :  219160\n",
            "ron :  63280\n",
            "hermione :  53500\n",
            "dumbledore :  33620\n",
            "hagrid :  20410\n",
            "snape :  18250\n",
            "malfoy :  13320\n",
            "voldemort :  12410\n",
            "sirius :  11350\n",
            "fred :  9100\n",
            "george :  7760\n",
            "neville :  7740\n",
            "ginny :  7690\n",
            "mcgonagall :  7340\n",
            "vernon :  5050\n",
            "dudley :  4350\n",
            "percy :  4120\n",
            "luna :  3430\n",
            "petunia :  2880\n",
            "draco :  2370\n",
            "goyle :  2350\n",
            "crabbe :  2300\n",
            "dean :  2100\n",
            "james :  1880\n",
            "seamus :  1800\n",
            "pomfrey :  1560\n",
            "lavender :  1370\n",
            "tom :  1280\n",
            "lily :  1250\n",
            "quirrell :  1230\n",
            "charlie :  1100\n",
            "sprout :  930\n",
            "hooch :  530\n",
            "oliver :  390\n"
          ],
          "name": "stdout"
        }
      ]
    },
    {
      "cell_type": "markdown",
      "metadata": {
        "id": "wZoiJe6hj7lW"
      },
      "source": [
        "Future Work\n",
        "\n",
        "\n",
        "1.Part of Speech Tagging\n",
        "Part-of-speech tagging is used to assign parts of speech to each word of a given text (such as nouns, verbs, pronouns, adverbs, conjunction, adjectives, interjection) based on its definition and its context.\n",
        "\n",
        "2.Named Entity Recognization\n",
        "It is the process of detecting the named entities such as the person name, the location name.\n",
        "\n",
        "3.Chunking\n",
        "\n",
        "Chunking means picking up individual pieces of information and grouping them into bigger pieces. In the context of NLP and text mining, chunking means a grouping of words or tokens into chunks.\n",
        "\n",
        "4.Neo4j Graph Relation\n",
        "We will show the reation beetween the Charecters(Named) Entity in Neo4j"
      ]
    },
    {
      "cell_type": "code",
      "metadata": {
        "id": "ZzYIc-KvuMW6"
      },
      "source": [
        ""
      ],
      "execution_count": null,
      "outputs": []
    },
    {
      "cell_type": "code",
      "metadata": {
        "id": "RyJLh1IzYzJk"
      },
      "source": [
        ""
      ],
      "execution_count": null,
      "outputs": []
    },
    {
      "cell_type": "code",
      "metadata": {
        "id": "JefnqdgWYzQI"
      },
      "source": [
        ""
      ],
      "execution_count": null,
      "outputs": []
    },
    {
      "cell_type": "code",
      "metadata": {
        "id": "1iWdjnNUYzXI"
      },
      "source": [
        ""
      ],
      "execution_count": null,
      "outputs": []
    },
    {
      "cell_type": "markdown",
      "metadata": {
        "id": "YY1bvEitl1LG"
      },
      "source": [
        "Word2Vector"
      ]
    },
    {
      "cell_type": "code",
      "metadata": {
        "colab": {
          "base_uri": "https://localhost:8080/"
        },
        "id": "FWBKB-JzuMZy",
        "outputId": "d6d2c380-8f22-4dd0-ad70-ca6732071aa0"
      },
      "source": [
        "# Importing Packages\n",
        "import codecs\n",
        "import os\n",
        "import re\n",
        "import time\n",
        "import gensim\n",
        "import pandas as pd\n",
        "import glob\n",
        "import nltk\n",
        "import gensim.models.word2vec as w2v\n",
        "import sklearn.manifold\n",
        "import numpy as np\n",
        "import matplotlib.pyplot as plt\n",
        "import pandas as pd\n",
        "import seaborn as sns\n",
        "%pylab inline"
      ],
      "execution_count": null,
      "outputs": [
        {
          "output_type": "stream",
          "text": [
            "Populating the interactive namespace from numpy and matplotlib\n"
          ],
          "name": "stdout"
        }
      ]
    },
    {
      "cell_type": "code",
      "metadata": {
        "colab": {
          "base_uri": "https://localhost:8080/"
        },
        "id": "Cvgl8wVZrPtP",
        "outputId": "a886b16b-9921-4e60-a35a-ed69777fb676"
      },
      "source": [
        "%cd /content/drive/MyDrive/Harry_Potter_Book_Data/"
      ],
      "execution_count": null,
      "outputs": [
        {
          "output_type": "stream",
          "text": [
            "/content/drive/MyDrive/Harry_Potter_Book_Data\n"
          ],
          "name": "stdout"
        }
      ]
    },
    {
      "cell_type": "code",
      "metadata": {
        "id": "neb6b8edrWXO"
      },
      "source": [
        "\n",
        "# Books present\n",
        "books = sorted(glob.glob(\"*.txt\"))\n"
      ],
      "execution_count": null,
      "outputs": []
    },
    {
      "cell_type": "code",
      "metadata": {
        "colab": {
          "base_uri": "https://localhost:8080/"
        },
        "id": "UhICA83_uMb6",
        "outputId": "7449f19f-d2c9-49bd-fbee-65508ead6de4"
      },
      "source": [
        "# Read data from all books to single corpus variable\n",
        "temp = \"\"\n",
        "t = \"\"\n",
        "chars = []\n",
        "for book in books:\n",
        "    print \n",
        "    with codecs.open(book, \"rb\", \"utf-8\") as infile:\n",
        "        temp += infile.read()\n",
        "        chars.append(len(temp))\n",
        "        print (\"Characters read so far \" + str(len(temp)))"
      ],
      "execution_count": null,
      "outputs": [
        {
          "output_type": "stream",
          "text": [
            "Characters read so far 474429\n",
            "Characters read so far 1006137\n",
            "Characters read so far 1683115\n",
            "Characters read so far 2870365\n",
            "Characters read so far 4479128\n",
            "Characters read so far 5538150\n",
            "Characters read so far 6765174\n"
          ],
          "name": "stdout"
        }
      ]
    },
    {
      "cell_type": "code",
      "metadata": {
        "colab": {
          "base_uri": "https://localhost:8080/"
        },
        "id": "--Tp4WTVjmsi",
        "outputId": "8488045d-1dbb-4c4e-8529-38157a5b3a82"
      },
      "source": [
        "lens = []\n",
        "lens.append(chars[0])\n",
        "for i in range(1, len(chars)):\n",
        "    lens.append(chars[i] - chars[i-1])\n",
        "lens"
      ],
      "execution_count": null,
      "outputs": [
        {
          "output_type": "execute_result",
          "data": {
            "text/plain": [
              "[474429, 531708, 676978, 1187250, 1608763, 1059022, 1227024]"
            ]
          },
          "metadata": {
            "tags": []
          },
          "execution_count": 14
        }
      ]
    },
    {
      "cell_type": "code",
      "metadata": {
        "colab": {
          "base_uri": "https://localhost:8080/",
          "height": 309
        },
        "id": "UN7C2rk_jmup",
        "outputId": "e46f3f2d-ac53-4a4a-ff8b-90e3bb604fad"
      },
      "source": [
        "y = lens\n",
        "N = len(y)\n",
        "x = [i+1 for i in range(N)]\n",
        "width = 1/1.5\n",
        "\n",
        "pylab.xlabel(\"Book\")\n",
        "pylab.ylabel(\"Length\")\n",
        "plt.bar(x, y, width, color=\"red\", align='center')"
      ],
      "execution_count": null,
      "outputs": [
        {
          "output_type": "execute_result",
          "data": {
            "text/plain": [
              "<BarContainer object of 7 artists>"
            ]
          },
          "metadata": {
            "tags": []
          },
          "execution_count": 15
        },
        {
          "output_type": "display_data",
          "data": {
            "image/png": "[encoded data removed]",
            "text/plain": [
              "<Figure size 432x288 with 1 Axes>"
            ]
          },
          "metadata": {
            "tags": [],
            "needs_background": "light"
          }
        }
      ]
    },
    {
      "cell_type": "code",
      "metadata": {
        "colab": {
          "base_uri": "https://localhost:8080/"
        },
        "id": "Xo3nh0SGsBbv",
        "outputId": "0ba721b3-4703-40af-9d85-f6b95a8ae461"
      },
      "source": [
        "# Split into sentences\n",
        "sentences = nltk.tokenize.sent_tokenize(temp)\n",
        "print (\"Total Sentences are \" + str(len(sentences)))"
      ],
      "execution_count": null,
      "outputs": [
        {
          "output_type": "stream",
          "text": [
            "Total Sentences are 63914\n"
          ],
          "name": "stdout"
        }
      ]
    },
    {
      "cell_type": "code",
      "metadata": {
        "colab": {
          "base_uri": "https://localhost:8080/"
        },
        "id": "NhDP0rNMlz5a",
        "outputId": "f97c1431-2729-4513-feca-d180ddb178fe"
      },
      "source": [
        "sentences[:2]"
      ],
      "execution_count": null,
      "outputs": [
        {
          "output_type": "execute_result",
          "data": {
            "text/plain": [
              "['/ \\n\\n\\n\\n\\nTHE BOY WHO LIVED \\n\\nMr. and Mrs. Dursley, of number four, Privet Drive, \\nwere proud to say that they were perfectly normal, \\nthank you very much.',\n",
              " 'They were the last people you’d \\nexpect to be involved in anything strange or \\nmysterious, because they just didn’t hold with such \\nnonsense.']"
            ]
          },
          "metadata": {
            "tags": []
          },
          "execution_count": 17
        }
      ]
    },
    {
      "cell_type": "code",
      "metadata": {
        "id": "OkLfguDruucG"
      },
      "source": [
        "with open(\"/content/drive/MyDrive/harry save data/out.txt\", \"w\") as text_file:\n",
        "    print(sentences, file=text_file)"
      ],
      "execution_count": null,
      "outputs": []
    },
    {
      "cell_type": "code",
      "metadata": {
        "colab": {
          "base_uri": "https://localhost:8080/"
        },
        "id": "RycsMeQnsBiX",
        "outputId": "13f62f1b-2e28-4fc2-f3ed-21df615efe57"
      },
      "source": [
        "# sentences to list of words\n",
        "sent_words = []\n",
        "total_tokens = 0\n",
        "for raw_sent in sentences:\n",
        "    clean = nltk.word_tokenize(raw_sent)\n",
        "    tokens = [i for i in clean if len(i) > 1]\n",
        "    total_tokens += len(tokens)\n",
        "    sent_words.append(tokens)\n",
        "\n",
        "print (\"Total tokens are \" + str(total_tokens))"
      ],
      "execution_count": null,
      "outputs": [
        {
          "output_type": "stream",
          "text": [
            "Total tokens are 1114832\n"
          ],
          "name": "stdout"
        }
      ]
    },
    {
      "cell_type": "code",
      "metadata": {
        "id": "nzqcXhsziH8n"
      },
      "source": [
        "with open(\"/content/drive/MyDrive/harry save data/words.txt\", \"w\") as text_file:\n",
        "    print(sent_words, file=text_file)"
      ],
      "execution_count": null,
      "outputs": []
    },
    {
      "cell_type": "markdown",
      "metadata": {
        "id": "vJQCogCCmgv-"
      },
      "source": [
        "Pos Tagging"
      ]
    },
    {
      "cell_type": "code",
      "metadata": {
        "id": "IOPNl9Vv6d8J"
      },
      "source": [
        "# sentences to list of words\n",
        "words_pos_all = []\n",
        "\n",
        "for raw_sent in sent_words:\n",
        "    pos_token=nltk.pos_tag(raw_sent)\n",
        "    words_pos_all.append(pos_token)"
      ],
      "execution_count": null,
      "outputs": []
    },
    {
      "cell_type": "code",
      "metadata": {
        "colab": {
          "background_save": true
        },
        "id": "BbFNxikU6u0h",
        "outputId": "090bd947-7fb3-4ac5-f149-4aec481a2bf2"
      },
      "source": [
        "words_pos_all[:4]"
      ],
      "execution_count": null,
      "outputs": [
        {
          "output_type": "execute_result",
          "data": {
            "text/plain": [
              "[[('THE', 'DT'),\n",
              "  ('BOY', 'NNP'),\n",
              "  ('WHO', 'NNP'),\n",
              "  ('LIVED', 'NNP'),\n",
              "  ('Mr.', 'NNP'),\n",
              "  ('and', 'CC'),\n",
              "  ('Mrs.', 'NNP'),\n",
              "  ('Dursley', 'NNP'),\n",
              "  ('of', 'IN'),\n",
              "  ('number', 'NN'),\n",
              "  ('four', 'CD'),\n",
              "  ('Privet', 'NNP'),\n",
              "  ('Drive', 'NNP'),\n",
              "  ('were', 'VBD'),\n",
              "  ('proud', 'JJ'),\n",
              "  ('to', 'TO'),\n",
              "  ('say', 'VB'),\n",
              "  ('that', 'IN'),\n",
              "  ('they', 'PRP'),\n",
              "  ('were', 'VBD'),\n",
              "  ('perfectly', 'RB'),\n",
              "  ('normal', 'JJ'),\n",
              "  ('thank', 'NN'),\n",
              "  ('you', 'PRP'),\n",
              "  ('very', 'RB'),\n",
              "  ('much', 'RB')],\n",
              " [('They', 'PRP'),\n",
              "  ('were', 'VBD'),\n",
              "  ('the', 'DT'),\n",
              "  ('last', 'JJ'),\n",
              "  ('people', 'NNS'),\n",
              "  ('you', 'PRP'),\n",
              "  ('expect', 'VBP'),\n",
              "  ('to', 'TO'),\n",
              "  ('be', 'VB'),\n",
              "  ('involved', 'VBN'),\n",
              "  ('in', 'IN'),\n",
              "  ('anything', 'NN'),\n",
              "  ('strange', 'JJ'),\n",
              "  ('or', 'CC'),\n",
              "  ('mysterious', 'JJ'),\n",
              "  ('because', 'IN'),\n",
              "  ('they', 'PRP'),\n",
              "  ('just', 'RB'),\n",
              "  ('didn', 'VBP'),\n",
              "  ('hold', 'JJ'),\n",
              "  ('with', 'IN'),\n",
              "  ('such', 'JJ'),\n",
              "  ('nonsense', 'NN')],\n",
              " [('Mr.', 'NNP'),\n",
              "  ('Dursley', 'NNP'),\n",
              "  ('was', 'VBD'),\n",
              "  ('the', 'DT'),\n",
              "  ('director', 'NN'),\n",
              "  ('of', 'IN'),\n",
              "  ('firm', 'NN'),\n",
              "  ('called', 'VBN'),\n",
              "  ('Grunnings', 'NNP'),\n",
              "  ('which', 'WDT'),\n",
              "  ('made', 'VBD'),\n",
              "  ('drills', 'NNS')],\n",
              " [('He', 'PRP'),\n",
              "  ('was', 'VBD'),\n",
              "  ('big', 'JJ'),\n",
              "  ('beefy', 'NN'),\n",
              "  ('man', 'NN'),\n",
              "  ('with', 'IN'),\n",
              "  ('hardly', 'RB'),\n",
              "  ('any', 'DT'),\n",
              "  ('neck', 'NN'),\n",
              "  ('although', 'IN'),\n",
              "  ('he', 'PRP'),\n",
              "  ('did', 'VBD'),\n",
              "  ('have', 'VB'),\n",
              "  ('very', 'RB'),\n",
              "  ('large', 'JJ'),\n",
              "  ('mustache', 'NN')]]"
            ]
          },
          "metadata": {
            "tags": []
          },
          "execution_count": 0
        }
      ]
    },
    {
      "cell_type": "code",
      "metadata": {
        "id": "UMXFgTHrmgCq"
      },
      "source": [
        "# sentences to list of words\n",
        "words_pos = []\n",
        "\n",
        "for raw_sent in sent_words:\n",
        "    pos_token=nltk.pos_tag(raw_sent)\n",
        "    nn_tagged = [(word,tag) for word, tag in pos_token if tag.startswith('NNP')]\n",
        "    words_pos.append(nn_tagged)\n",
        "\n",
        "\n"
      ],
      "execution_count": null,
      "outputs": []
    },
    {
      "cell_type": "code",
      "metadata": {
        "id": "fOHQbazBmgMx",
        "colab": {
          "base_uri": "https://localhost:8080/"
        },
        "outputId": "ef6e61a8-d1cd-4d92-eb4f-3d158456df18"
      },
      "source": [
        "words_pos[:200]"
      ],
      "execution_count": null,
      "outputs": [
        {
          "output_type": "execute_result",
          "data": {
            "text/plain": [
              "[[('BOY', 'NNP'),\n",
              "  ('WHO', 'NNP'),\n",
              "  ('LIVED', 'NNP'),\n",
              "  ('Mr.', 'NNP'),\n",
              "  ('Mrs.', 'NNP'),\n",
              "  ('Dursley', 'NNP'),\n",
              "  ('Privet', 'NNP'),\n",
              "  ('Drive', 'NNP')],\n",
              " [],\n",
              " [('Mr.', 'NNP'), ('Dursley', 'NNP'), ('Grunnings', 'NNP')],\n",
              " [],\n",
              " [('Mrs.', 'NNP'), ('Dursley', 'NNP')],\n",
              " [('Dursley', 'NNP'), ('Dudley', 'NNP')],\n",
              " [('Dursleys', 'NNP')],\n",
              " [],\n",
              " [('Mrs.', 'NNP'),\n",
              "  ('Potter', 'NNP'),\n",
              "  ('Mrs.', 'NNP'),\n",
              "  ('Dursley', 'NNP'),\n",
              "  ('Page', 'NNP'),\n",
              "  ('Harry', 'NNP'),\n",
              "  ('Potter', 'NNP'),\n",
              "  ('Philosophers', 'NNP'),\n",
              "  ('Stone', 'NNP'),\n",
              "  ('J.K.', 'NNP'),\n",
              "  ('Rowling', 'NNP'),\n",
              "  ('Mrs.', 'NNP'),\n",
              "  ('Dursley', 'NNP')],\n",
              " [('Dursleys', 'NNP'), ('Potters', 'NNPS')],\n",
              " [('Dursleys', 'NNP'), ('Potters', 'NNPS')],\n",
              " [('Potters', 'NNPS'), ('Dudley', 'NNP')],\n",
              " [('Mr.', 'NNP'), ('Mrs.', 'NNP'), ('Dursley', 'NNP'), ('Tuesday', 'NNP')],\n",
              " [('Mr.', 'NNP'),\n",
              "  ('Dursley', 'NNP'),\n",
              "  ('Mrs.', 'NNP'),\n",
              "  ('Dursley', 'NNP'),\n",
              "  ('Dudley', 'NNP')],\n",
              " [],\n",
              " [('Mr.', 'NNP'),\n",
              "  ('Dursley', 'NNP'),\n",
              "  ('Mrs.', 'NNP'),\n",
              "  ('Dursley', 'NNP'),\n",
              "  ('Dudley', 'NNP'),\n",
              "  ('Dudley', 'NNP')],\n",
              " [('Mr.', 'NNP'), ('Dursley', 'NNP')],\n",
              " [],\n",
              " [],\n",
              " [('Mr.', 'NNP'), ('Dursley', 'NNP')],\n",
              " [('Privet', 'NNP'), ('Drive', 'NNP')],\n",
              " [],\n",
              " [],\n",
              " [('Mr.', 'NNP'),\n",
              "  ('Dursley', 'NNP'),\n",
              "  ('Page', 'NNP'),\n",
              "  ('Harry', 'NNP'),\n",
              "  ('Potter', 'NNP'),\n",
              "  ('Philosophers', 'NNP'),\n",
              "  ('Stone', 'NNP'),\n",
              "  ('J.K.', 'NNP')],\n",
              " [],\n",
              " [('Mr.', 'NNP'), ('Dursley', 'NNP')],\n",
              " [('Privet', 'NNP'), ('Drive', 'NNP')],\n",
              " [('Mr.', 'NNP'), ('Dursley', 'NNP')],\n",
              " [],\n",
              " [],\n",
              " [],\n",
              " [],\n",
              " [('Mr.', 'NNP'), ('Dursley', 'NNP')],\n",
              " [],\n",
              " [],\n",
              " [],\n",
              " [('Mr.', 'NNP'), ('Dursley', 'NNP')],\n",
              " [],\n",
              " [('Mr.', 'NNP'), ('Dursley', 'NNP')],\n",
              " [('Mr.', 'NNP'), ('Dursley', 'NNP'), ('Grunnings', 'NNP')],\n",
              " [('Mr.', 'NNP'), ('Dursley', 'NNP')],\n",
              " [],\n",
              " [],\n",
              " [],\n",
              " [('Mr.', 'NNP'), ('Dursley', 'NNP')],\n",
              " [],\n",
              " [('Page', 'NNP'),\n",
              "  ('Harry', 'NNP'),\n",
              "  ('Potter', 'NNP'),\n",
              "  ('Philosophers', 'NNP'),\n",
              "  ('Stone', 'NNP'),\n",
              "  ('J.K.', 'NNP'),\n",
              "  ('Rowling', 'NNP')],\n",
              " [],\n",
              " [],\n",
              " [],\n",
              " [],\n",
              " [],\n",
              " [],\n",
              " [('Potters', 'NNPS'), ('Harry', 'NNP'), ('Mr.', 'NNP'), ('Dursley', 'NNP')],\n",
              " [],\n",
              " [],\n",
              " [],\n",
              " [],\n",
              " [('Potter', 'NNP')],\n",
              " [('Potter', 'NNP'), ('Harry', 'NNP')],\n",
              " [('Come', 'NNP'), ('Harry', 'NNP')],\n",
              " [],\n",
              " [('Harvey', 'NNP')],\n",
              " [],\n",
              " [('Mrs.', 'NNP'), ('Dursley', 'NNP')],\n",
              " [],\n",
              " [('Harry', 'NNP'),\n",
              "  ('Potter', 'NNP'),\n",
              "  ('Philosophers', 'NNP'),\n",
              "  ('Stone', 'NNP'),\n",
              "  ('J.K.', 'NNP'),\n",
              "  ('Rowling', 'NNP')],\n",
              " [('Sorry', 'NNP')],\n",
              " [('Mr.', 'NNP'), ('Dursley', 'NNP')],\n",
              " [],\n",
              " [('Don', 'NNP')],\n",
              " [('Rejoice', 'NNP'), ('You-', 'NNP'), ('Know-Who', 'NNP')],\n",
              " [('Mr.', 'NNP'), ('Dursley', 'NNP')],\n",
              " [('Mr.', 'NNP'), ('Dursley', 'NNP')],\n",
              " [],\n",
              " [('Muggle', 'NNP')],\n",
              " [],\n",
              " [],\n",
              " [],\n",
              " [],\n",
              " [],\n",
              " [('Shoo', 'NNP'), ('Mr.', 'NNP'), ('Dursley', 'NNP')],\n",
              " [],\n",
              " [],\n",
              " [('Was', 'NNP')],\n",
              " [('Mr.', 'NNP'), ('Dursley', 'NNP')],\n",
              " [('Page', 'NNP'),\n",
              "  ('Harry', 'NNP'),\n",
              "  ('Potter', 'NNP'),\n",
              "  ('Philosophers', 'NNP'),\n",
              "  ('Stone', 'NNP'),\n",
              "  ('J.K.', 'NNP'),\n",
              "  ('Rowling', 'NNP')],\n",
              " [],\n",
              " [('Mrs.', 'NNP'), ('Dursley', 'NNP')],\n",
              " [('Mrs.', 'NNP'),\n",
              "  ('Next', 'NNP'),\n",
              "  ('Door', 'NNP'),\n",
              "  ('Dudley', 'NNP'),\n",
              "  ('Won', 'NNP')],\n",
              " [('Mr.', 'NNP'), ('Dursley', 'NNP')],\n",
              " [('Dudley', 'NNP')],\n",
              " [],\n",
              " [],\n",
              " [],\n",
              " [('Jim', 'NNP'), ('McGuffin', 'NNP')],\n",
              " [('Jim', 'NNP'), ('Well', 'NNP'), ('Ted', 'NNP')],\n",
              " [('Kent', 'NNP'), ('Yorkshire', 'NNP'), ('Dundee', 'NNP')],\n",
              " [('Bonfire', 'NNP'), ('Night', 'NNP')],\n",
              " [('Mr.', 'NNP'), ('Dursley', 'NNP')],\n",
              " [('Britain', 'NNP')],\n",
              " [],\n",
              " [],\n",
              " [],\n",
              " [],\n",
              " [],\n",
              " [('Harry', 'NNP'),\n",
              "  ('Potter', 'NNP'),\n",
              "  ('Philosophers', 'NNP'),\n",
              "  ('Stone', 'NNP'),\n",
              "  ('J.K.', 'NNP'),\n",
              "  ('Rowling', 'NNP'),\n",
              "  ('Mrs.', 'NNP'),\n",
              "  ('Dursley', 'NNP')],\n",
              " [],\n",
              " [],\n",
              " [],\n",
              " [('Er', 'NNP'), ('Petunia', 'NNP'), ('Mrs.', 'NNP'), ('Dursley', 'NNP')],\n",
              " [],\n",
              " [],\n",
              " [('Funny', 'NNP'), ('Mr.', 'NNP'), ('Dursley', 'NNP')],\n",
              " [],\n",
              " [],\n",
              " [],\n",
              " [],\n",
              " [],\n",
              " [],\n",
              " [('Mrs.', 'NNP'), ('Dursley', 'NNP')],\n",
              " [('Mrs.', 'NNP'), ('Dursley', 'NNP')],\n",
              " [('Mr.', 'NNP'), ('Dursley', 'NNP'), ('Potter.', 'NNP')],\n",
              " [('Dudley', 'NNP'), ('Mrs.', 'NNP'), ('Dursley', 'NNP')],\n",
              " [],\n",
              " [('Howard', 'NNP'), ('Harry', 'NNP')],\n",
              " [('Oh', 'NNP'), ('Mr.', 'NNP'), ('Dursley', 'NNP')],\n",
              " [],\n",
              " [('Mrs.', 'NNP'),\n",
              "  ('Dursley', 'NNP'),\n",
              "  ('Mr.', 'NNP'),\n",
              "  ('Dursley', 'NNP'),\n",
              "  ('Page', 'NNP'),\n",
              "  ('Harry', 'NNP'),\n",
              "  ('Potter', 'NNP'),\n",
              "  ('Philosophers', 'NNP'),\n",
              "  ('Stone', 'NNP'),\n",
              "  ('J.K.', 'NNP'),\n",
              "  ('Rowling', 'NNP')],\n",
              " [],\n",
              " [('Privet', 'NNP'), ('Drive', 'NNP')],\n",
              " [('Was', 'NNP')],\n",
              " [],\n",
              " [],\n",
              " [('Dursleys', 'NNP')],\n",
              " [('Mrs.', 'NNP'), ('Dursley', 'NNP'), ('Mr.', 'NNP'), ('Dursley', 'NNP')],\n",
              " [('Potters', 'NNPS'), ('Mrs.', 'NNP'), ('Dursley', 'NNP')],\n",
              " [('Potters', 'NNPS'), ('Petunia', 'NNP')],\n",
              " [],\n",
              " [('Petunia', 'NNP')],\n",
              " [],\n",
              " [('Mr.', 'NNP'), ('Dursley', 'NNP')],\n",
              " [('Privet', 'NNP'), ('Drive', 'NNP')],\n",
              " [],\n",
              " [],\n",
              " [],\n",
              " [],\n",
              " [('Privet', 'NNP'), ('Drive', 'NNP')],\n",
              " [('Harry', 'NNP'),\n",
              "  ('Potter', 'NNP'),\n",
              "  ('Philosophers', 'NNP'),\n",
              "  ('Stone', 'NNP'),\n",
              "  ('J.K.', 'NNP'),\n",
              "  ('Rowling', 'NNP')],\n",
              " [],\n",
              " [],\n",
              " [('Albus', 'NNP'), ('Dumbledore', 'NNP')],\n",
              " [('Albus', 'NNP'), ('Dumbledore', 'NNP')],\n",
              " [],\n",
              " [],\n",
              " [],\n",
              " [],\n",
              " [],\n",
              " [],\n",
              " [],\n",
              " [],\n",
              " [('Twelve', 'NNP'), ('Put-Outer', 'NNP')],\n",
              " [('Mrs.', 'NNP'), ('Dursley', 'NNP')],\n",
              " [('Dumbledore', 'NNP'), ('Put-', 'NNP'), ('Outer', 'NNP')],\n",
              " [],\n",
              " [('Fancy', 'NNP'),\n",
              "  ('Professor', 'NNP'),\n",
              "  ('McGonagall.', 'NNP'),\n",
              "  ('Page', 'NNP'),\n",
              "  ('Harry', 'NNP'),\n",
              "  ('Potter', 'NNP'),\n",
              "  ('Philosophers', 'NNP'),\n",
              "  ('Stone', 'NNP'),\n",
              "  ('J.K.', 'NNP'),\n",
              "  ('Rowling', 'NNP')],\n",
              " [],\n",
              " [],\n",
              " [],\n",
              " [],\n",
              " [],\n",
              " [('Professor', 'NNP'), ('Professor', 'NNP'), ('McGonagall', 'NNP')],\n",
              " [],\n",
              " [],\n",
              " [('Professor', 'NNP'), ('McGonagall', 'NNP')],\n",
              " [],\n",
              " [],\n",
              " [('Dursleys', 'NNP')],\n",
              " [],\n",
              " [],\n",
              " [],\n",
              " [],\n",
              " [('Kent', 'NNP'), ('Dedalus', 'NNP'), ('Diggle', 'NNP')],\n",
              " [('Dumbledore', 'NNP')],\n",
              " [('Professor', 'NNP'), ('McGonagall', 'NNP')],\n",
              " [],\n",
              " [('Harry', 'NNP'),\n",
              "  ('Potter', 'NNP'),\n",
              "  ('Philosophers', 'NNP'),\n",
              "  ('Stone', 'NNP'),\n",
              "  ('J.K.', 'NNP'),\n",
              "  ('Rowling', 'NNP'),\n",
              "  ('Muggle', 'NNP'),\n",
              "  ('Dumbledore', 'NNP')],\n",
              " [('Muggles', 'NNP')],\n",
              " [('Dumbledore', 'NNP'), ('Dumbledore', 'NNP')],\n",
              " [],\n",
              " [],\n",
              " [('Muggle', 'NNP'),\n",
              "  ('No', 'NNP'),\n",
              "  ('Professor', 'NNP'),\n",
              "  ('McGonagall', 'NNP')],\n",
              " [('You-Know-Who', 'NNP'), ('My', 'NNP'), ('Professor', 'NNP')],\n",
              " [('Know-Who', 'NNP'),\n",
              "  ('Voldemort.', 'NNP'),\n",
              "  ('Professor', 'NNP'),\n",
              "  ('McGonagall', 'NNP'),\n",
              "  ('Dumbledore', 'NNP')],\n",
              " [('Voldemort', 'NNP'), ('Professor', 'NNP'), ('McGonagall', 'NNP')],\n",
              " [],\n",
              " [('Know-', 'NNP'),\n",
              "  ('Voldemort', 'NNP'),\n",
              "  ('Page', 'NNP'),\n",
              "  ('Harry', 'NNP'),\n",
              "  ('Potter', 'NNP'),\n",
              "  ('Philosophers', 'NNP'),\n",
              "  ('Stone', 'NNP'),\n",
              "  ('J.K.', 'NNP'),\n",
              "  ('Rowling', 'NNP'),\n",
              "  ('Dumbledore', 'NNP')],\n",
              " [('Voldemort', 'NNP')],\n",
              " [('Madam', 'NNP'),\n",
              "  ('Pomfrey', 'NNP'),\n",
              "  ('Professor', 'NNP'),\n",
              "  ('McGonagall', 'NNP'),\n",
              "  ('Dumbledore', 'NNP')],\n",
              " []]"
            ]
          },
          "metadata": {
            "tags": []
          },
          "execution_count": 25
        }
      ]
    },
    {
      "cell_type": "code",
      "metadata": {
        "id": "jsjcrYpRmgPm"
      },
      "source": [
        "with open(\"/content/drive/MyDrive/harry save data/word_pos.txt\", \"w\") as text_file:\n",
        "    print(words_pos, file=text_file)"
      ],
      "execution_count": null,
      "outputs": []
    },
    {
      "cell_type": "markdown",
      "metadata": {
        "id": "7Tx7CPonsZ95"
      },
      "source": [
        "Named entity recognition\n",
        "\n",
        "It is the process of detecting the named entities such as the person name, the location name, the company name, the quantities and the monetary value."
      ]
    },
    {
      "cell_type": "code",
      "metadata": {
        "id": "z5I3SdwxsarN",
        "colab": {
          "base_uri": "https://localhost:8080/"
        },
        "outputId": "ba24213d-76f2-40dd-ec64-88be7714908d"
      },
      "source": [
        "nltk.download('maxent_ne_chunker')\n",
        "nltk.download('words')\n",
        "from nltk import ne_chunk\n",
        "\n",
        "# sentences to list of words\n",
        "chunk = []\n",
        "\n",
        "for raw_sent in sent_words:\n",
        "    pos_token=nltk.pos_tag(raw_sent)\n",
        "    nn_tagged = [(word,tag) for word, tag in pos_token if tag.startswith('NNP')]\n",
        "    chunk_tag = ne_chunk(nn_tagged)\n",
        "    chunk.append(chunk_tag)"
      ],
      "execution_count": null,
      "outputs": [
        {
          "output_type": "stream",
          "text": [
            "[nltk_data] Downloading package maxent_ne_chunker to\n",
            "[nltk_data]     /root/nltk_data...\n",
            "[nltk_data]   Unzipping chunkers/maxent_ne_chunker.zip.\n",
            "[nltk_data] Downloading package words to /root/nltk_data...\n",
            "[nltk_data]   Unzipping corpora/words.zip.\n"
          ],
          "name": "stdout"
        }
      ]
    },
    {
      "cell_type": "code",
      "metadata": {
        "id": "dJXwL44auHRK",
        "colab": {
          "base_uri": "https://localhost:8080/"
        },
        "outputId": "df5df730-29a2-4a2d-936a-d8fd6144e040"
      },
      "source": [
        "chunk[:60]"
      ],
      "execution_count": null,
      "outputs": [
        {
          "output_type": "execute_result",
          "data": {
            "text/plain": [
              "[Tree('S', [('BOY', 'NNP'), ('WHO', 'NNP'), ('LIVED', 'NNP'), Tree('PERSON', [('Mr.', 'NNP')]), ('Mrs.', 'NNP'), Tree('PERSON', [('Dursley', 'NNP'), ('Privet', 'NNP'), ('Drive', 'NNP')])]),\n",
              " Tree('S', []),\n",
              " Tree('S', [Tree('PERSON', [('Mr.', 'NNP')]), Tree('PERSON', [('Dursley', 'NNP'), ('Grunnings', 'NNP')])]),\n",
              " Tree('S', []),\n",
              " Tree('S', [('Mrs.', 'NNP'), ('Dursley', 'NNP')]),\n",
              " Tree('S', [Tree('PERSON', [('Dursley', 'NNP')]), Tree('PERSON', [('Dudley', 'NNP')])]),\n",
              " Tree('S', [Tree('GPE', [('Dursleys', 'NNP')])]),\n",
              " Tree('S', []),\n",
              " Tree('S', [('Mrs.', 'NNP'), ('Potter', 'NNP'), ('Mrs.', 'NNP'), Tree('PERSON', [('Dursley', 'NNP'), ('Page', 'NNP'), ('Harry', 'NNP'), ('Potter', 'NNP'), ('Philosophers', 'NNP'), ('Stone', 'NNP')]), ('J.K.', 'NNP'), ('Rowling', 'NNP'), ('Mrs.', 'NNP'), ('Dursley', 'NNP')]),\n",
              " Tree('S', [Tree('GPE', [('Dursleys', 'NNP')]), Tree('ORGANIZATION', [('Potters', 'NNPS')])]),\n",
              " Tree('S', [Tree('GPE', [('Dursleys', 'NNP')]), Tree('ORGANIZATION', [('Potters', 'NNPS')])]),\n",
              " Tree('S', [('Potters', 'NNPS'), Tree('PERSON', [('Dudley', 'NNP')])]),\n",
              " Tree('S', [Tree('PERSON', [('Mr.', 'NNP')]), ('Mrs.', 'NNP'), Tree('PERSON', [('Dursley', 'NNP')]), ('Tuesday', 'NNP')]),\n",
              " Tree('S', [Tree('PERSON', [('Mr.', 'NNP')]), Tree('PERSON', [('Dursley', 'NNP')]), ('Mrs.', 'NNP'), Tree('PERSON', [('Dursley', 'NNP'), ('Dudley', 'NNP')])]),\n",
              " Tree('S', []),\n",
              " Tree('S', [Tree('PERSON', [('Mr.', 'NNP')]), Tree('PERSON', [('Dursley', 'NNP')]), ('Mrs.', 'NNP'), Tree('PERSON', [('Dursley', 'NNP'), ('Dudley', 'NNP'), ('Dudley', 'NNP')])]),\n",
              " Tree('S', [Tree('PERSON', [('Mr.', 'NNP')]), Tree('ORGANIZATION', [('Dursley', 'NNP')])]),\n",
              " Tree('S', []),\n",
              " Tree('S', []),\n",
              " Tree('S', [Tree('PERSON', [('Mr.', 'NNP')]), Tree('ORGANIZATION', [('Dursley', 'NNP')])]),\n",
              " Tree('S', [Tree('GPE', [('Privet', 'NNP')]), ('Drive', 'NNP')]),\n",
              " Tree('S', []),\n",
              " Tree('S', []),\n",
              " Tree('S', [Tree('PERSON', [('Mr.', 'NNP')]), Tree('PERSON', [('Dursley', 'NNP'), ('Page', 'NNP'), ('Harry', 'NNP'), ('Potter', 'NNP'), ('Philosophers', 'NNP'), ('Stone', 'NNP')]), ('J.K.', 'NNP')]),\n",
              " Tree('S', []),\n",
              " Tree('S', [Tree('PERSON', [('Mr.', 'NNP')]), Tree('ORGANIZATION', [('Dursley', 'NNP')])]),\n",
              " Tree('S', [Tree('GPE', [('Privet', 'NNP')]), ('Drive', 'NNP')]),\n",
              " Tree('S', [Tree('PERSON', [('Mr.', 'NNP')]), Tree('ORGANIZATION', [('Dursley', 'NNP')])]),\n",
              " Tree('S', []),\n",
              " Tree('S', []),\n",
              " Tree('S', []),\n",
              " Tree('S', []),\n",
              " Tree('S', [Tree('PERSON', [('Mr.', 'NNP')]), Tree('ORGANIZATION', [('Dursley', 'NNP')])]),\n",
              " Tree('S', []),\n",
              " Tree('S', []),\n",
              " Tree('S', []),\n",
              " Tree('S', [Tree('PERSON', [('Mr.', 'NNP')]), Tree('ORGANIZATION', [('Dursley', 'NNP')])]),\n",
              " Tree('S', []),\n",
              " Tree('S', [Tree('PERSON', [('Mr.', 'NNP')]), Tree('ORGANIZATION', [('Dursley', 'NNP')])]),\n",
              " Tree('S', [Tree('PERSON', [('Mr.', 'NNP')]), Tree('PERSON', [('Dursley', 'NNP'), ('Grunnings', 'NNP')])]),\n",
              " Tree('S', [Tree('PERSON', [('Mr.', 'NNP')]), Tree('ORGANIZATION', [('Dursley', 'NNP')])]),\n",
              " Tree('S', []),\n",
              " Tree('S', []),\n",
              " Tree('S', []),\n",
              " Tree('S', [Tree('PERSON', [('Mr.', 'NNP')]), Tree('ORGANIZATION', [('Dursley', 'NNP')])]),\n",
              " Tree('S', []),\n",
              " Tree('S', [Tree('PERSON', [('Page', 'NNP')]), Tree('PERSON', [('Harry', 'NNP'), ('Potter', 'NNP'), ('Philosophers', 'NNP'), ('Stone', 'NNP')]), ('J.K.', 'NNP'), ('Rowling', 'NNP')]),\n",
              " Tree('S', []),\n",
              " Tree('S', []),\n",
              " Tree('S', []),\n",
              " Tree('S', []),\n",
              " Tree('S', []),\n",
              " Tree('S', []),\n",
              " Tree('S', [('Potters', 'NNPS'), Tree('PERSON', [('Harry', 'NNP'), ('Mr.', 'NNP'), ('Dursley', 'NNP')])]),\n",
              " Tree('S', []),\n",
              " Tree('S', []),\n",
              " Tree('S', []),\n",
              " Tree('S', []),\n",
              " Tree('S', [('Potter', 'NNP')]),\n",
              " Tree('S', [Tree('PERSON', [('Potter', 'NNP')]), Tree('PERSON', [('Harry', 'NNP')])])]"
            ]
          },
          "metadata": {
            "tags": []
          },
          "execution_count": 35
        }
      ]
    },
    {
      "cell_type": "markdown",
      "metadata": {
        "id": "f9PrOLICuHhL"
      },
      "source": [
        "Chunking\n",
        "Chunking means picking up individual pieces of information and grouping them into bigger pieces. In the context of NLP and text mining, chunking means a grouping of words or tokens into chunks.\n",
        "\n"
      ]
    },
    {
      "cell_type": "markdown",
      "metadata": {
        "id": "hva-XPQArq8I"
      },
      "source": [
        "Bi-gramn"
      ]
    },
    {
      "cell_type": "code",
      "metadata": {
        "id": "ZxOxBJOesBkc",
        "colab": {
          "base_uri": "https://localhost:8080/"
        },
        "outputId": "4a21e5c4-6d46-43d4-863d-59b5246c8f0c"
      },
      "source": [
        "# capture collocations\n",
        "bigram = gensim.models.Phrases(sent_words)\n",
        "final = []\n",
        "for s in sent_words:\n",
        "    processed_sent = bigram[s]\n",
        "    final.append(processed_sent)"
      ],
      "execution_count": null,
      "outputs": [
        {
          "output_type": "stream",
          "text": [
            "/usr/local/lib/python3.7/dist-packages/gensim/models/phrases.py:598: UserWarning: For a faster implementation, use the gensim.models.phrases.Phraser class\n",
            "  warnings.warn(\"For a faster implementation, use the gensim.models.phrases.Phraser class\")\n"
          ],
          "name": "stderr"
        }
      ]
    },
    {
      "cell_type": "code",
      "metadata": {
        "id": "8UegDDFp5jow",
        "colab": {
          "base_uri": "https://localhost:8080/"
        },
        "outputId": "d95629b6-75fc-4600-9cba-5ae0540ccb3b"
      },
      "source": [
        "# Sample first two sentences\n",
        "final[:2]"
      ],
      "execution_count": null,
      "outputs": [
        {
          "output_type": "execute_result",
          "data": {
            "text/plain": [
              "[['THE',\n",
              "  'BOY',\n",
              "  'WHO',\n",
              "  'LIVED',\n",
              "  'Mr.',\n",
              "  'and',\n",
              "  'Mrs._Dursley',\n",
              "  'of',\n",
              "  'number_four',\n",
              "  'Privet_Drive',\n",
              "  'were',\n",
              "  'proud',\n",
              "  'to',\n",
              "  'say',\n",
              "  'that',\n",
              "  'they_were',\n",
              "  'perfectly',\n",
              "  'normal',\n",
              "  'thank_you',\n",
              "  'very_much'],\n",
              " ['They_were',\n",
              "  'the',\n",
              "  'last',\n",
              "  'people',\n",
              "  'you',\n",
              "  'expect',\n",
              "  'to',\n",
              "  'be',\n",
              "  'involved',\n",
              "  'in',\n",
              "  'anything',\n",
              "  'strange',\n",
              "  'or',\n",
              "  'mysterious',\n",
              "  'because',\n",
              "  'they',\n",
              "  'just',\n",
              "  'didn',\n",
              "  'hold',\n",
              "  'with',\n",
              "  'such',\n",
              "  'nonsense']]"
            ]
          },
          "metadata": {
            "tags": []
          },
          "execution_count": 39
        }
      ]
    },
    {
      "cell_type": "markdown",
      "metadata": {
        "id": "rZ9MeE7p6GIi"
      },
      "source": [
        "Model Parameters\n",
        "\n",
        "We are now ready to train our word embeddings over all Harry Potter books. One thing that we need to decide upon is the model parameters. We will be using gensim's word2vec model implementation for training our model.\n",
        "\n",
        "Parameters\n",
        "Window Size: 7\n",
        "Min Count: 2\n",
        "Dimension: 200\n",
        "Workers: 3\n",
        "\n",
        "theory=https://radimrehurek.com/gensim/models/word2vec.html"
      ]
    },
    {
      "cell_type": "code",
      "metadata": {
        "id": "4MSl1E8n5jrP"
      },
      "source": [
        "num_features = 200\n",
        "min_word_count = 2\n",
        "num_workers = 3\n",
        "context_size = 7\n",
        "seed = 1"
      ],
      "execution_count": null,
      "outputs": []
    },
    {
      "cell_type": "code",
      "metadata": {
        "id": "D3h9_bfq5jtv"
      },
      "source": [
        "model = gensim.models.Word2Vec(sent_words, window=context_size,min_count=min_word_count, workers=num_workers,seed=seed, size=num_features)"
      ],
      "execution_count": null,
      "outputs": []
    },
    {
      "cell_type": "code",
      "metadata": {
        "id": "KOFCnmBA7le0"
      },
      "source": [
        "model.epochs=5"
      ],
      "execution_count": null,
      "outputs": []
    },
    {
      "cell_type": "code",
      "metadata": {
        "id": "xTLwMdP15jzh",
        "colab": {
          "base_uri": "https://localhost:8080/"
        },
        "outputId": "2dc6dc47-6cd6-4deb-edeb-3d545a8f41c0"
      },
      "source": [
        "model.train(sent_words,epochs=model.epochs,total_examples=model.corpus_total_words)"
      ],
      "execution_count": null,
      "outputs": [
        {
          "output_type": "execute_result",
          "data": {
            "text/plain": [
              "(4288226, 5574160)"
            ]
          },
          "metadata": {
            "tags": []
          },
          "execution_count": 67
        }
      ]
    },
    {
      "cell_type": "code",
      "metadata": {
        "id": "hwCvbgNB_yBz",
        "colab": {
          "base_uri": "https://localhost:8080/"
        },
        "outputId": "333abb0a-d24c-4480-ee43-faea3c92c8bc"
      },
      "source": [
        "print ('Vocabulary ' + str(len(model.wv.vocab)))"
      ],
      "execution_count": null,
      "outputs": [
        {
          "output_type": "stream",
          "text": [
            "Vocabulary 18471\n"
          ],
          "name": "stdout"
        }
      ]
    },
    {
      "cell_type": "code",
      "metadata": {
        "id": "fEVYu6946gTq"
      },
      "source": [
        "model.save(\"/content/drive/MyDrive/harry save data/harry2vec.w2v\")"
      ],
      "execution_count": null,
      "outputs": []
    },
    {
      "cell_type": "code",
      "metadata": {
        "id": "Ue9U6rPHKuS3",
        "colab": {
          "base_uri": "https://localhost:8080/"
        },
        "outputId": "169de19f-b720-4e23-d5a7-4133bd0e3269"
      },
      "source": [
        "print ('Similar kind of words for AZKABAN: ')\n",
        "aa = model.most_similar('Azkaban')[0:10]\n",
        "for word, score in aa:\n",
        "    print('{} {}'.format(word.encode('utf-8'), score))"
      ],
      "execution_count": null,
      "outputs": [
        {
          "output_type": "stream",
          "text": [
            "Similar kind of words for AZKABAN: \n",
            "b'Stone' 0.8337974548339844\n",
            "b'Fire' 0.8324242830276489\n",
            "b'Chamber' 0.8318600654602051\n",
            "b'Secrets' 0.8101357221603394\n",
            "b'Goblet' 0.8055983781814575\n",
            "b'Philosophers' 0.7973560094833374\n",
            "b'Blood' 0.7961214780807495\n",
            "b'Hallows' 0.7925543785095215\n",
            "b'Prince' 0.7879524230957031\n",
            "b'Half' 0.7825939655303955\n"
          ],
          "name": "stdout"
        },
        {
          "output_type": "stream",
          "text": [
            "/usr/local/lib/python3.7/dist-packages/ipykernel_launcher.py:2: DeprecationWarning: Call to deprecated `most_similar` (Method will be removed in 4.0.0, use self.wv.most_similar() instead).\n",
            "  \n"
          ],
          "name": "stderr"
        }
      ]
    },
    {
      "cell_type": "code",
      "metadata": {
        "id": "2P0jXj6SKukT",
        "colab": {
          "base_uri": "https://localhost:8080/"
        },
        "outputId": "9545832b-ab04-4f1d-f78f-7a7358e9a94a"
      },
      "source": [
        "print ('Similar kind of words for RON: ')\n",
        "aa = model.most_similar('Ron')[0:10]\n",
        "for word, score in aa:\n",
        "    print('{} {}'.format(word.encode('utf-8'), score))"
      ],
      "execution_count": null,
      "outputs": [
        {
          "output_type": "stream",
          "text": [
            "Similar kind of words for RON: \n",
            "b'Ginny' 0.6223344802856445\n",
            "b'Neville' 0.5752665996551514\n",
            "b'Griphook' 0.5443210601806641\n",
            "b'Wood' 0.5053819417953491\n",
            "b'Hagrid' 0.5041469931602478\n",
            "b'Cho' 0.48746469616889954\n",
            "b'Seamus' 0.48731333017349243\n",
            "b'Cedric' 0.45676296949386597\n",
            "b'Stan' 0.44232094287872314\n",
            "b'Luna' 0.4390173554420471\n"
          ],
          "name": "stdout"
        },
        {
          "output_type": "stream",
          "text": [
            "/usr/local/lib/python3.7/dist-packages/ipykernel_launcher.py:2: DeprecationWarning: Call to deprecated `most_similar` (Method will be removed in 4.0.0, use self.wv.most_similar() instead).\n",
            "  \n"
          ],
          "name": "stderr"
        }
      ]
    },
    {
      "cell_type": "code",
      "metadata": {
        "id": "3XGqNV0vKurl",
        "colab": {
          "base_uri": "https://localhost:8080/"
        },
        "outputId": "4657054c-16d1-4557-c10d-05adcd8ec754"
      },
      "source": [
        "print ('Similar kind of words for SNAPE: ')\n",
        "aa = model.most_similar('Snape')[0:10]\n",
        "for word, score in aa:\n",
        "    print('{} {}'.format(word.encode('utf-8'), score))"
      ],
      "execution_count": null,
      "outputs": [
        {
          "output_type": "stream",
          "text": [
            "Similar kind of words for SNAPE: \n",
            "b'Dumbledore' 0.7455786466598511\n",
            "b'Slughorn' 0.6917421817779541\n",
            "b'Quirrell' 0.6577334403991699\n",
            "b'Karkaroff' 0.6408932209014893\n",
            "b'Lupin' 0.6261154413223267\n",
            "b'Voldemort' 0.6040548086166382\n",
            "b'Moody' 0.5895786881446838\n",
            "b'Umbridge' 0.5575754642486572\n",
            "b'headmaster' 0.5555095672607422\n",
            "b'Fudge' 0.5445960760116577\n"
          ],
          "name": "stdout"
        },
        {
          "output_type": "stream",
          "text": [
            "/usr/local/lib/python3.7/dist-packages/ipykernel_launcher.py:2: DeprecationWarning: Call to deprecated `most_similar` (Method will be removed in 4.0.0, use self.wv.most_similar() instead).\n",
            "  \n"
          ],
          "name": "stderr"
        }
      ]
    },
    {
      "cell_type": "code",
      "metadata": {
        "id": "swyiHFHbKee9",
        "colab": {
          "base_uri": "https://localhost:8080/"
        },
        "outputId": "b66e486f-22f0-4813-c858-76daaf976983"
      },
      "source": [
        "print ('Similar kind of words for SNAPE: ')\n",
        "aa = model.most_similar('Snape')[0:10]\n",
        "for word, score in aa:\n",
        "    print('{} {}'.format(word.encode('utf-8'), score))"
      ],
      "execution_count": null,
      "outputs": [
        {
          "output_type": "stream",
          "text": [
            "Similar kind of words for SNAPE: \n",
            "b'Dumbledore' 0.7455786466598511\n",
            "b'Slughorn' 0.6917421817779541\n",
            "b'Quirrell' 0.6577334403991699\n",
            "b'Karkaroff' 0.6408932209014893\n",
            "b'Lupin' 0.6261154413223267\n",
            "b'Voldemort' 0.6040548086166382\n",
            "b'Moody' 0.5895786881446838\n",
            "b'Umbridge' 0.5575754642486572\n",
            "b'headmaster' 0.5555095672607422\n",
            "b'Fudge' 0.5445960760116577\n"
          ],
          "name": "stdout"
        },
        {
          "output_type": "stream",
          "text": [
            "/usr/local/lib/python3.7/dist-packages/ipykernel_launcher.py:2: DeprecationWarning: Call to deprecated `most_similar` (Method will be removed in 4.0.0, use self.wv.most_similar() instead).\n",
            "  \n"
          ],
          "name": "stderr"
        }
      ]
    },
    {
      "cell_type": "code",
      "metadata": {
        "id": "jQNGHJJeqHYq",
        "colab": {
          "base_uri": "https://localhost:8080/"
        },
        "outputId": "b58134f9-e21e-48db-bf38-28a24b2eea89"
      },
      "source": [
        "print ('Similar kind of words for Harry: ')\n",
        "aa = model.most_similar('Harry')[0:5]\n",
        "for word, score in aa:\n",
        "    print('{} {}'.format(word.encode('utf-8'), score))"
      ],
      "execution_count": null,
      "outputs": [
        {
          "output_type": "stream",
          "text": [
            "Similar kind of words for Harry: \n",
            "b'he' 0.5271121859550476\n",
            "b'He' 0.4870307445526123\n",
            "b'356' 0.41077226400375366\n",
            "b'Levicorpus\\\\' 0.3962160050868988\n",
            "b'again' 0.37650221586227417\n"
          ],
          "name": "stdout"
        },
        {
          "output_type": "stream",
          "text": [
            "/usr/local/lib/python3.7/dist-packages/ipykernel_launcher.py:2: DeprecationWarning: Call to deprecated `most_similar` (Method will be removed in 4.0.0, use self.wv.most_similar() instead).\n",
            "  \n"
          ],
          "name": "stderr"
        }
      ]
    },
    {
      "cell_type": "code",
      "metadata": {
        "id": "pGRbsvby5j2W",
        "colab": {
          "base_uri": "https://localhost:8080/"
        },
        "outputId": "62ba448d-086f-4960-e180-d47822aabccc"
      },
      "source": [
        "start = time.time()\n",
        "tsne = sklearn.manifold.TSNE(n_components=2, random_state=0)\n",
        "all_word_vectors_matrix = model.wv.syn0\n",
        "all_word_vectors_matrix_2d = tsne.fit_transform(all_word_vectors_matrix)\n",
        "stop = time.time() - start\n",
        "print ('Time taken is ' + str(stop))"
      ],
      "execution_count": null,
      "outputs": [
        {
          "output_type": "stream",
          "text": [
            "/usr/local/lib/python3.7/dist-packages/ipykernel_launcher.py:3: DeprecationWarning: Call to deprecated `syn0` (Attribute will be removed in 4.0.0, use self.wv.vectors instead).\n",
            "  This is separate from the ipykernel package so we can avoid doing imports until\n"
          ],
          "name": "stderr"
        },
        {
          "output_type": "stream",
          "text": [
            "Time taken is 395.8072597980499\n"
          ],
          "name": "stdout"
        }
      ]
    },
    {
      "cell_type": "code",
      "metadata": {
        "id": "Lqk_VDyCAulU",
        "colab": {
          "base_uri": "https://localhost:8080/",
          "height": 662
        },
        "outputId": "12b59821-65de-4b79-8028-fba3156ba224"
      },
      "source": [
        "points = pd.DataFrame(\n",
        "    [\n",
        "        (word, coords[0], coords[1])\n",
        "        for word, coords in [\n",
        "            (word, all_word_vectors_matrix_2d[model.wv.vocab[word].index])\n",
        "            for word in model.wv.vocab\n",
        "        ]\n",
        "    ],\n",
        "    columns=[\"word\", \"x\", \"y\"]\n",
        ")\n",
        "points.head(20)"
      ],
      "execution_count": null,
      "outputs": [
        {
          "output_type": "execute_result",
          "data": {
            "text/html": [
              "<div>\n",
              "<style scoped>\n",
              "    .dataframe tbody tr th:only-of-type {\n",
              "        vertical-align: middle;\n",
              "    }\n",
              "\n",
              "    .dataframe tbody tr th {\n",
              "        vertical-align: top;\n",
              "    }\n",
              "\n",
              "    .dataframe thead th {\n",
              "        text-align: right;\n",
              "    }\n",
              "</style>\n",
              "<table border=\"1\" class=\"dataframe\">\n",
              "  <thead>\n",
              "    <tr style=\"text-align: right;\">\n",
              "      <th></th>\n",
              "      <th>word</th>\n",
              "      <th>x</th>\n",
              "      <th>y</th>\n",
              "    </tr>\n",
              "  </thead>\n",
              "  <tbody>\n",
              "    <tr>\n",
              "      <th>0</th>\n",
              "      <td>THE</td>\n",
              "      <td>-5.058432</td>\n",
              "      <td>-52.722904</td>\n",
              "    </tr>\n",
              "    <tr>\n",
              "      <th>1</th>\n",
              "      <td>BOY</td>\n",
              "      <td>-3.951128</td>\n",
              "      <td>-31.837894</td>\n",
              "    </tr>\n",
              "    <tr>\n",
              "      <th>2</th>\n",
              "      <td>WHO</td>\n",
              "      <td>-5.208688</td>\n",
              "      <td>-33.730732</td>\n",
              "    </tr>\n",
              "    <tr>\n",
              "      <th>3</th>\n",
              "      <td>Mr.</td>\n",
              "      <td>-11.684791</td>\n",
              "      <td>-40.370064</td>\n",
              "    </tr>\n",
              "    <tr>\n",
              "      <th>4</th>\n",
              "      <td>and</td>\n",
              "      <td>-52.585262</td>\n",
              "      <td>-16.491764</td>\n",
              "    </tr>\n",
              "    <tr>\n",
              "      <th>5</th>\n",
              "      <td>Mrs.</td>\n",
              "      <td>-11.691153</td>\n",
              "      <td>-40.421169</td>\n",
              "    </tr>\n",
              "    <tr>\n",
              "      <th>6</th>\n",
              "      <td>Dursley</td>\n",
              "      <td>-4.970640</td>\n",
              "      <td>-43.691059</td>\n",
              "    </tr>\n",
              "    <tr>\n",
              "      <th>7</th>\n",
              "      <td>of</td>\n",
              "      <td>-42.627941</td>\n",
              "      <td>-8.164887</td>\n",
              "    </tr>\n",
              "    <tr>\n",
              "      <th>8</th>\n",
              "      <td>number</td>\n",
              "      <td>-30.453415</td>\n",
              "      <td>-37.947083</td>\n",
              "    </tr>\n",
              "    <tr>\n",
              "      <th>9</th>\n",
              "      <td>four</td>\n",
              "      <td>-31.446100</td>\n",
              "      <td>-38.324490</td>\n",
              "    </tr>\n",
              "    <tr>\n",
              "      <th>10</th>\n",
              "      <td>Privet</td>\n",
              "      <td>-29.137033</td>\n",
              "      <td>-36.388489</td>\n",
              "    </tr>\n",
              "    <tr>\n",
              "      <th>11</th>\n",
              "      <td>Drive</td>\n",
              "      <td>-29.135529</td>\n",
              "      <td>-36.384304</td>\n",
              "    </tr>\n",
              "    <tr>\n",
              "      <th>12</th>\n",
              "      <td>were</td>\n",
              "      <td>17.771296</td>\n",
              "      <td>-46.214573</td>\n",
              "    </tr>\n",
              "    <tr>\n",
              "      <th>13</th>\n",
              "      <td>proud</td>\n",
              "      <td>7.970860</td>\n",
              "      <td>-35.144653</td>\n",
              "    </tr>\n",
              "    <tr>\n",
              "      <th>14</th>\n",
              "      <td>to</td>\n",
              "      <td>13.182423</td>\n",
              "      <td>-38.417702</td>\n",
              "    </tr>\n",
              "    <tr>\n",
              "      <th>15</th>\n",
              "      <td>say</td>\n",
              "      <td>26.260485</td>\n",
              "      <td>-36.532879</td>\n",
              "    </tr>\n",
              "    <tr>\n",
              "      <th>16</th>\n",
              "      <td>that</td>\n",
              "      <td>19.885761</td>\n",
              "      <td>-35.650612</td>\n",
              "    </tr>\n",
              "    <tr>\n",
              "      <th>17</th>\n",
              "      <td>they</td>\n",
              "      <td>-34.341713</td>\n",
              "      <td>-27.724533</td>\n",
              "    </tr>\n",
              "    <tr>\n",
              "      <th>18</th>\n",
              "      <td>perfectly</td>\n",
              "      <td>8.184146</td>\n",
              "      <td>-34.037113</td>\n",
              "    </tr>\n",
              "    <tr>\n",
              "      <th>19</th>\n",
              "      <td>normal</td>\n",
              "      <td>7.800074</td>\n",
              "      <td>-33.252464</td>\n",
              "    </tr>\n",
              "  </tbody>\n",
              "</table>\n",
              "</div>"
            ],
            "text/plain": [
              "         word          x          y\n",
              "0         THE  -5.058432 -52.722904\n",
              "1         BOY  -3.951128 -31.837894\n",
              "2         WHO  -5.208688 -33.730732\n",
              "3         Mr. -11.684791 -40.370064\n",
              "4         and -52.585262 -16.491764\n",
              "5        Mrs. -11.691153 -40.421169\n",
              "6     Dursley  -4.970640 -43.691059\n",
              "7          of -42.627941  -8.164887\n",
              "8      number -30.453415 -37.947083\n",
              "9        four -31.446100 -38.324490\n",
              "10     Privet -29.137033 -36.388489\n",
              "11      Drive -29.135529 -36.384304\n",
              "12       were  17.771296 -46.214573\n",
              "13      proud   7.970860 -35.144653\n",
              "14         to  13.182423 -38.417702\n",
              "15        say  26.260485 -36.532879\n",
              "16       that  19.885761 -35.650612\n",
              "17       they -34.341713 -27.724533\n",
              "18  perfectly   8.184146 -34.037113\n",
              "19     normal   7.800074 -33.252464"
            ]
          },
          "metadata": {
            "tags": []
          },
          "execution_count": 75
        }
      ]
    },
    {
      "cell_type": "code",
      "metadata": {
        "id": "SBiG9F-fAupb",
        "colab": {
          "base_uri": "https://localhost:8080/",
          "height": 765
        },
        "outputId": "2769265c-8f80-431e-9e3a-077df203a59d"
      },
      "source": [
        "sns.set_context(\"poster\")\n",
        "points.plot.scatter(\"x\", \"y\", s=10, figsize=(20, 12))"
      ],
      "execution_count": null,
      "outputs": [
        {
          "output_type": "execute_result",
          "data": {
            "text/plain": [
              "<matplotlib.axes._subplots.AxesSubplot at 0x7f5ae3cf6990>"
            ]
          },
          "metadata": {
            "tags": []
          },
          "execution_count": 76
        },
        {
          "output_type": "display_data",
          "data": {
            "image/png": "[encoded data removed]",
            "text/plain": [
              "<Figure size 1440x864 with 1 Axes>"
            ]
          },
          "metadata": {
            "tags": []
          }
        }
      ]
    },
    {
      "cell_type": "markdown",
      "metadata": {
        "id": "bWYMFUqbPYzl"
      },
      "source": [
        "# New Section"
      ]
    },
    {
      "cell_type": "code",
      "metadata": {
        "id": "qEh_RnfaAuy5"
      },
      "source": [
        ""
      ],
      "execution_count": null,
      "outputs": []
    },
    {
      "cell_type": "markdown",
      "metadata": {
        "id": "D0LXhUa-ePk2"
      },
      "source": [
        "Harry Potter Book Sentiment Analysis\n"
      ]
    },
    {
      "cell_type": "code",
      "metadata": {
        "id": "GrEalpxBhayg",
        "colab": {
          "base_uri": "https://localhost:8080/"
        },
        "outputId": "e2bd7827-d8c2-4159-e128-b41bd8d194c7"
      },
      "source": [
        "import pandas as pd #Importing Pandas package\n",
        "\n",
        "Bookfile=[] #Empty \"Book\" list - Prepare for loop\n",
        "\n",
        "# Loops through importing 7 HP text files - Book 1 creates table, Books 2-7 append to Book 1 table\n",
        "for i in range(1,8): \n",
        "    Bookfile.append('HPBook'+str(i)+'.txt')\n",
        "    FileLoc = \"/content/drive/MyDrive/HPBookdata/{}\".format(Bookfile[i-1])\n",
        "    if i == 1:\n",
        "        df = pd.read_csv(FileLoc, sep=\"@\")\n",
        "    else:\n",
        "        df2 = pd.read_csv(FileLoc, sep=\"@\")\n",
        "        df = pd.concat([df, df2])\n",
        "        \n",
        "import nltk #Import NLTK library\n",
        "nltk.download('punkt') #installed punkt to fix error\n",
        "from nltk import word_tokenize\n",
        "from nltk.corpus import stopwords #Import stopwords to Python\n",
        "\n",
        "stopwords = set(stopwords.words('english')) #English stopwords assigned to \"stopwords\" object\n",
        "\n",
        "import string #Punctuation\n",
        "\n",
        "# Function for removing punctuation\n",
        "def remove_punctuations(text):\n",
        "    for punctuation in string.punctuation:\n",
        "        text = text.replace(punctuation, '')\n",
        "    return text\n",
        "\n",
        "stopwords = [''.join(item for item in x if item not in string.punctuation) for x in stopwords] #Remove punctuation from stopwords\n",
        "\n",
        "df['WordCountText']=df['Text'].str.lower().apply(remove_punctuations).apply(word_tokenize) # Word Count Text\n",
        "# Word Count\n",
        "df['WordCloudText']=df['WordCountText'].apply(lambda x: [word for word in x if word not in stopwords]) # Word Cloud Text\n",
        "df['WordCount'] = df['WordCountText'].str.len() #Word Count Per Chapter"
      ],
      "execution_count": null,
      "outputs": [
        {
          "output_type": "stream",
          "text": [
            "[nltk_data] Downloading package punkt to /root/nltk_data...\n",
            "[nltk_data]   Package punkt is already up-to-date!\n"
          ],
          "name": "stdout"
        }
      ]
    },
    {
      "cell_type": "markdown",
      "metadata": {
        "id": "x-YjKQFb3URx"
      },
      "source": [
        "# New Section"
      ]
    },
    {
      "cell_type": "code",
      "metadata": {
        "colab": {
          "base_uri": "https://localhost:8080/",
          "height": 416
        },
        "id": "1rOBjwGx3RhC",
        "outputId": "9f1d901c-183c-4a4d-e197-4b937b42040a"
      },
      "source": [
        "# Creating a table breaking down the text by each sentence, rather than each chapter.\n",
        "from nltk import sent_tokenize\n",
        "from nltk import word_tokenize\n",
        "from nltk.stem import PorterStemmer\n",
        "\n",
        "# Make smaller table - reset index to prepare for further work\n",
        "dfsentiment = df[['Book','Chapter','Text']].reset_index() \\\n",
        "    .drop([\"index\"], axis=1)\n",
        "dfsentiment = dfsentiment.join(dfsentiment.Text.apply(sent_tokenize).rename('Sentences')) # Breaking apart text into sentences\n",
        "\n",
        "#Put every tokenized sentence into its own row\n",
        "dfsentiment2 = dfsentiment.Sentences.apply(pd.Series) \\\n",
        "    .merge(dfsentiment, left_index = True, right_index = True) \\\n",
        "    .drop([\"Text\"], axis = 1) \\\n",
        "    .drop([\"Sentences\"], axis = 1) \\\n",
        "    .melt(id_vars = ['Book', 'Chapter'], value_name = \"Sentence\") \\\n",
        "    .drop(\"variable\", axis = 1) \\\n",
        "    .dropna()\n",
        "\n",
        "# Sort new table by Book and Chapter - reset index to reflect new order\n",
        "dfsentiment2=dfsentiment2.sort_values(by=['Book', 'Chapter']) \\\n",
        "    .reset_index() \\\n",
        "    .drop(['index'], axis = 1)\n",
        "\n",
        "# Clean punctuation, lower case\n",
        "dfsentiment2['Sentence']=dfsentiment2.Sentence.apply(remove_punctuations).apply(lambda x: x.lower()) \\\n",
        "\n",
        "# Check first five values\n",
        "dfsentiment2"
      ],
      "execution_count": null,
      "outputs": [
        {
          "output_type": "execute_result",
          "data": {
            "text/html": [
              "<div>\n",
              "<style scoped>\n",
              "    .dataframe tbody tr th:only-of-type {\n",
              "        vertical-align: middle;\n",
              "    }\n",
              "\n",
              "    .dataframe tbody tr th {\n",
              "        vertical-align: top;\n",
              "    }\n",
              "\n",
              "    .dataframe thead th {\n",
              "        text-align: right;\n",
              "    }\n",
              "</style>\n",
              "<table border=\"1\" class=\"dataframe\">\n",
              "  <thead>\n",
              "    <tr style=\"text-align: right;\">\n",
              "      <th></th>\n",
              "      <th>Book</th>\n",
              "      <th>Chapter</th>\n",
              "      <th>Sentence</th>\n",
              "    </tr>\n",
              "  </thead>\n",
              "  <tbody>\n",
              "    <tr>\n",
              "      <th>0</th>\n",
              "      <td>1</td>\n",
              "      <td>1</td>\n",
              "      <td>the boy who lived  mr and mrs dursley of numbe...</td>\n",
              "    </tr>\n",
              "    <tr>\n",
              "      <th>1</th>\n",
              "      <td>1</td>\n",
              "      <td>1</td>\n",
              "      <td>they were the last people youd expect to be in...</td>\n",
              "    </tr>\n",
              "    <tr>\n",
              "      <th>2</th>\n",
              "      <td>1</td>\n",
              "      <td>1</td>\n",
              "      <td>mr dursley was the director of a firm called g...</td>\n",
              "    </tr>\n",
              "    <tr>\n",
              "      <th>3</th>\n",
              "      <td>1</td>\n",
              "      <td>1</td>\n",
              "      <td>he was a big beefy man with hardly any neck al...</td>\n",
              "    </tr>\n",
              "    <tr>\n",
              "      <th>4</th>\n",
              "      <td>1</td>\n",
              "      <td>1</td>\n",
              "      <td>mrs dursley was thin and blonde and had nearly...</td>\n",
              "    </tr>\n",
              "    <tr>\n",
              "      <th>...</th>\n",
              "      <td>...</td>\n",
              "      <td>...</td>\n",
              "      <td>...</td>\n",
              "    </tr>\n",
              "    <tr>\n",
              "      <th>71011</th>\n",
              "      <td>7</td>\n",
              "      <td>37</td>\n",
              "      <td>the train began to more and harry walked along...</td>\n",
              "    </tr>\n",
              "    <tr>\n",
              "      <th>71012</th>\n",
              "      <td>7</td>\n",
              "      <td>37</td>\n",
              "      <td>harry kept smiling and waving even though it w...</td>\n",
              "    </tr>\n",
              "    <tr>\n",
              "      <th>71013</th>\n",
              "      <td>7</td>\n",
              "      <td>37</td>\n",
              "      <td>the train rounded a corner</td>\n",
              "    </tr>\n",
              "    <tr>\n",
              "      <th>71014</th>\n",
              "      <td>7</td>\n",
              "      <td>37</td>\n",
              "      <td>harrys hand was still raised in farewellhell b...</td>\n",
              "    </tr>\n",
              "    <tr>\n",
              "      <th>71015</th>\n",
              "      <td>7</td>\n",
              "      <td>37</td>\n",
              "      <td>all was well</td>\n",
              "    </tr>\n",
              "  </tbody>\n",
              "</table>\n",
              "<p>71016 rows × 3 columns</p>\n",
              "</div>"
            ],
            "text/plain": [
              "       Book  Chapter                                           Sentence\n",
              "0         1        1  the boy who lived  mr and mrs dursley of numbe...\n",
              "1         1        1  they were the last people youd expect to be in...\n",
              "2         1        1  mr dursley was the director of a firm called g...\n",
              "3         1        1  he was a big beefy man with hardly any neck al...\n",
              "4         1        1  mrs dursley was thin and blonde and had nearly...\n",
              "...     ...      ...                                                ...\n",
              "71011     7       37  the train began to more and harry walked along...\n",
              "71012     7       37  harry kept smiling and waving even though it w...\n",
              "71013     7       37                         the train rounded a corner\n",
              "71014     7       37  harrys hand was still raised in farewellhell b...\n",
              "71015     7       37                                      all was well \n",
              "\n",
              "[71016 rows x 3 columns]"
            ]
          },
          "metadata": {
            "tags": []
          },
          "execution_count": 49
        }
      ]
    },
    {
      "cell_type": "code",
      "metadata": {
        "colab": {
          "base_uri": "https://localhost:8080/"
        },
        "id": "bWIAY_L33Ro2",
        "outputId": "e54bc048-17d3-4fb4-e579-1ca518fc1e1b"
      },
      "source": [
        "# 71,016 rows in sentiment2 according to the table created\n",
        "# Check that there are 71,016 sentences before stacking rows\n",
        "\n",
        "dfsentiment.Sentences.apply(lambda x: len(x)).sum() # Count total sentences"
      ],
      "execution_count": null,
      "outputs": [
        {
          "output_type": "execute_result",
          "data": {
            "text/plain": [
              "71016"
            ]
          },
          "metadata": {
            "tags": []
          },
          "execution_count": 50
        }
      ]
    },
    {
      "cell_type": "code",
      "metadata": {
        "id": "AqmjwOqlhbUb",
        "colab": {
          "base_uri": "https://localhost:8080/"
        },
        "outputId": "fb8ea1cc-7983-4be6-e20a-61c13335c1ef"
      },
      "source": [
        "# Bring in VADER library and Sentiment Intensity Analyzer\n",
        "\n",
        "from nltk.sentiment.vader import SentimentIntensityAnalyzer\n",
        "\n",
        "import nltk\n",
        "nltk.download('vader_lexicon')\n",
        "\n",
        "sid=nltk.sentiment.vader.SentimentIntensityAnalyzer()"
      ],
      "execution_count": null,
      "outputs": [
        {
          "output_type": "stream",
          "text": [
            "/usr/local/lib/python3.7/dist-packages/nltk/twitter/__init__.py:20: UserWarning: The twython library has not been installed. Some functionality from the twitter package will not be available.\n",
            "  warnings.warn(\"The twython library has not been installed. \"\n"
          ],
          "name": "stderr"
        },
        {
          "output_type": "stream",
          "text": [
            "[nltk_data] Downloading package vader_lexicon to /root/nltk_data...\n"
          ],
          "name": "stdout"
        }
      ]
    },
    {
      "cell_type": "code",
      "metadata": {
        "colab": {
          "base_uri": "https://localhost:8080/"
        },
        "id": "Rg-SDrpG3n1a",
        "outputId": "7116bf54-f7a6-4d29-9924-628536e2ed3e"
      },
      "source": [
        "# Get intensity scores of each sentence\n",
        "dfsentiment2['Score']=dfsentiment2.Sentence.apply(lambda x: sid.polarity_scores(x))\n",
        "\n",
        "# Place scores in own columns\n",
        "dfsentiment2['CompScore']=dfsentiment2.Score.apply(lambda x: x.get(\"compound\"))\n",
        "dfsentiment2['PosScore']=dfsentiment2.Score.apply(lambda x: x.get(\"pos\"))\n",
        "dfsentiment2['NegScore']=dfsentiment2.Score.apply(lambda x: x.get(\"neg\"))\n",
        "dfsentiment2['NeuScore']=dfsentiment2.Score.apply(lambda x: x.get(\"neu\"))\n",
        "\n",
        "# With scores extracted, the original score field can be removed\n",
        "dfsentiment2 = dfsentiment2.drop([\"Score\"], axis=1)\n",
        "\n",
        "# Adding Sentiment Flags\n",
        "dfsentiment2['PosFlag'] = dfsentiment2.CompScore.apply(lambda x: 1 if x >= 0.05 else 0)\n",
        "dfsentiment2['NegFlag'] = dfsentiment2.CompScore.apply(lambda x: 1 if x <= -0.05 else 0)\n",
        "dfsentiment2['NeuFlag'] = dfsentiment2.CompScore.apply(lambda x: 1 if x < 0.05 and x > -0.05 else 0)\n",
        "\n",
        "# Confirm scores are present and flag is functional\n",
        "dfsentiment2.head(20)\n",
        "\n",
        "dfsentiment2.iloc[66771].Sentence\n",
        "\n",
        "dfsentiment2.groupby('Book').mean()['CompScore']"
      ],
      "execution_count": null,
      "outputs": [
        {
          "output_type": "execute_result",
          "data": {
            "text/plain": [
              "Book\n",
              "1    0.019839\n",
              "2    0.002158\n",
              "3    0.005637\n",
              "4    0.012198\n",
              "5    0.007214\n",
              "6    0.024079\n",
              "7   -0.031754\n",
              "Name: CompScore, dtype: float64"
            ]
          },
          "metadata": {
            "tags": []
          },
          "execution_count": 55
        }
      ]
    },
    {
      "cell_type": "code",
      "metadata": {
        "colab": {
          "base_uri": "https://localhost:8080/",
          "height": 202
        },
        "id": "GWstjkS6ur8z",
        "outputId": "0a2d92aa-66f8-450f-cacb-f452931cdfbb"
      },
      "source": [
        "dfsentiment2[:5]"
      ],
      "execution_count": null,
      "outputs": [
        {
          "output_type": "execute_result",
          "data": {
            "text/html": [
              "<div>\n",
              "<style scoped>\n",
              "    .dataframe tbody tr th:only-of-type {\n",
              "        vertical-align: middle;\n",
              "    }\n",
              "\n",
              "    .dataframe tbody tr th {\n",
              "        vertical-align: top;\n",
              "    }\n",
              "\n",
              "    .dataframe thead th {\n",
              "        text-align: right;\n",
              "    }\n",
              "</style>\n",
              "<table border=\"1\" class=\"dataframe\">\n",
              "  <thead>\n",
              "    <tr style=\"text-align: right;\">\n",
              "      <th></th>\n",
              "      <th>Book</th>\n",
              "      <th>Chapter</th>\n",
              "      <th>Sentence</th>\n",
              "      <th>CompScore</th>\n",
              "      <th>PosScore</th>\n",
              "      <th>NegScore</th>\n",
              "      <th>NeuScore</th>\n",
              "      <th>PosFlag</th>\n",
              "      <th>NegFlag</th>\n",
              "      <th>NeuFlag</th>\n",
              "    </tr>\n",
              "  </thead>\n",
              "  <tbody>\n",
              "    <tr>\n",
              "      <th>0</th>\n",
              "      <td>1</td>\n",
              "      <td>1</td>\n",
              "      <td>the boy who lived  mr and mrs dursley of numbe...</td>\n",
              "      <td>0.8779</td>\n",
              "      <td>0.335</td>\n",
              "      <td>0.000</td>\n",
              "      <td>0.665</td>\n",
              "      <td>1</td>\n",
              "      <td>0</td>\n",
              "      <td>0</td>\n",
              "    </tr>\n",
              "    <tr>\n",
              "      <th>1</th>\n",
              "      <td>1</td>\n",
              "      <td>1</td>\n",
              "      <td>they were the last people youd expect to be in...</td>\n",
              "      <td>-0.5423</td>\n",
              "      <td>0.000</td>\n",
              "      <td>0.176</td>\n",
              "      <td>0.824</td>\n",
              "      <td>0</td>\n",
              "      <td>1</td>\n",
              "      <td>0</td>\n",
              "    </tr>\n",
              "    <tr>\n",
              "      <th>2</th>\n",
              "      <td>1</td>\n",
              "      <td>1</td>\n",
              "      <td>mr dursley was the director of a firm called g...</td>\n",
              "      <td>0.0000</td>\n",
              "      <td>0.000</td>\n",
              "      <td>0.000</td>\n",
              "      <td>1.000</td>\n",
              "      <td>0</td>\n",
              "      <td>0</td>\n",
              "      <td>1</td>\n",
              "    </tr>\n",
              "    <tr>\n",
              "      <th>3</th>\n",
              "      <td>1</td>\n",
              "      <td>1</td>\n",
              "      <td>he was a big beefy man with hardly any neck al...</td>\n",
              "      <td>0.0000</td>\n",
              "      <td>0.000</td>\n",
              "      <td>0.000</td>\n",
              "      <td>1.000</td>\n",
              "      <td>0</td>\n",
              "      <td>0</td>\n",
              "      <td>1</td>\n",
              "    </tr>\n",
              "    <tr>\n",
              "      <th>4</th>\n",
              "      <td>1</td>\n",
              "      <td>1</td>\n",
              "      <td>mrs dursley was thin and blonde and had nearly...</td>\n",
              "      <td>0.4927</td>\n",
              "      <td>0.084</td>\n",
              "      <td>0.000</td>\n",
              "      <td>0.916</td>\n",
              "      <td>1</td>\n",
              "      <td>0</td>\n",
              "      <td>0</td>\n",
              "    </tr>\n",
              "  </tbody>\n",
              "</table>\n",
              "</div>"
            ],
            "text/plain": [
              "   Book  Chapter  ... NegFlag  NeuFlag\n",
              "0     1        1  ...       0        0\n",
              "1     1        1  ...       1        0\n",
              "2     1        1  ...       0        1\n",
              "3     1        1  ...       0        1\n",
              "4     1        1  ...       0        0\n",
              "\n",
              "[5 rows x 10 columns]"
            ]
          },
          "metadata": {
            "tags": []
          },
          "execution_count": 53
        }
      ]
    },
    {
      "cell_type": "code",
      "metadata": {
        "colab": {
          "base_uri": "https://localhost:8080/"
        },
        "id": "oag2wZYA3n4W",
        "outputId": "d98beaf6-be0b-4bea-c038-4bac29c6b5f4"
      },
      "source": [
        "print('There are', dfsentiment2['PosFlag'].sum(), \"positive sentences,\", \\\n",
        "      dfsentiment2['NegFlag'].sum(), \"negative sentences, and\", \\\n",
        "      dfsentiment2['NeuFlag'].sum(), \"neutral sentences\")\n",
        "print('This is a total of', \\\n",
        "      dfsentiment2['PosFlag'].sum()+dfsentiment2['NegFlag'].sum()+dfsentiment2['NeuFlag'].sum(), \"sentences\")"
      ],
      "execution_count": null,
      "outputs": [
        {
          "output_type": "stream",
          "text": [
            "There are 19058 positive sentences, 18384 negative sentences, and 33574 neutral sentences\n",
            "This is a total of 71016 sentences\n"
          ],
          "name": "stdout"
        }
      ]
    },
    {
      "cell_type": "code",
      "metadata": {
        "colab": {
          "base_uri": "https://localhost:8080/",
          "height": 826
        },
        "id": "oeJpehXY3n-z",
        "outputId": "97b3b5be-783b-4b38-9989-318043551e79"
      },
      "source": [
        "# How does the sentiment change during each chapter of each book over time?\n",
        "\n",
        "def Titles(x):\n",
        "    if x == 1:\n",
        "        return \"1 - Sorcerer's Stone\"\n",
        "    if x == 2:\n",
        "        return \"2 - Chamber of Secrets\"\n",
        "    if x == 3:\n",
        "        return \"3 - Prizoner of Azkaban\"\n",
        "    if x == 4:\n",
        "        return \"4 - Goblet of Fire\"\n",
        "    if x == 5:\n",
        "        return \"5 - Order of the Phoenix\"\n",
        "    if x == 6:\n",
        "        return \"6 - Half Blood Prince\"\n",
        "    if x == 7:\n",
        "        return \"7 - Deathly Hallows\"\n",
        "\n",
        "dfsentiment2['BookTitle']=dfsentiment2.Book.apply(lambda x: Titles(x))\n",
        "\n",
        "import matplotlib.pyplot as plt\n",
        "import matplotlib\n",
        "%matplotlib inline\n",
        "\n",
        "colorsList = ['#DC8458', '#950702', '#8E067D', '#2E8C44', '#395196', '#60A619','#ECA10A'] #Mauraders Map Colors\n",
        "ColorMap = matplotlib.colors.ListedColormap(colorsList)\n",
        "\n",
        "# plot data\n",
        "fig, ax = plt.subplots(figsize=(15,13))\n",
        "# use unstack()\n",
        "dfsentiment2.groupby(['Chapter','BookTitle']).mean()['CompScore'].unstack().plot(ax=ax, subplots=True, ylim=(-0.25, 0.25), colormap=ColorMap)\n",
        "plt.style.use('ggplot')\n",
        "ax.set_ylabel('Compound Sentiment Score')\n",
        "\n",
        "[ax.legend(loc=1) for ax in plt.gcf().axes]\n",
        "\n",
        "plt.savefig('/content/drive/MyDrive/harry save data/HPTimeplot.png')"
      ],
      "execution_count": null,
      "outputs": [
        {
          "output_type": "stream",
          "text": [
            "/usr/local/lib/python3.7/dist-packages/pandas/plotting/_matplotlib/__init__.py:61: UserWarning: To output multiple subplots, the figure containing the passed axes is being cleared\n",
            "  plot_obj.generate()\n"
          ],
          "name": "stderr"
        },
        {
          "output_type": "display_data",
          "data": {
            "image/png": "[encoded data removed]",
            "text/plain": [
              "<Figure size 1080x936 with 7 Axes>"
            ]
          },
          "metadata": {
            "tags": [],
            "needs_background": "light"
          }
        }
      ]
    },
    {
      "cell_type": "code",
      "metadata": {
        "id": "q_8EZ-xl3oCr"
      },
      "source": [
        "# Preparing the bag of words\n",
        "\n",
        "SentList = []\n",
        "\n",
        "# Loop to tokenize words into one huge list\n",
        "for x in dfsentiment2.Sentence:\n",
        "    SentList.extend(word_tokenize(x))    \n",
        "\n",
        "# Remove stopwords from this list\n",
        "SentList = [''.join(item for item in x if item not in string.punctuation) for x in SentList]\n",
        "    \n",
        "#Create dictionary function - exclude stopwords\n",
        "def BagOfWords(words):\n",
        "    return {\n",
        "        word:1 for word in words \n",
        "        if not word in stopwords}"
      ],
      "execution_count": null,
      "outputs": []
    },
    {
      "cell_type": "code",
      "metadata": {
        "id": "kPwKF3YKfngc"
      },
      "source": [
        "# Creating tables of positive and negative sentences\n",
        "\n",
        "# Pull out rows with positive flag only\n",
        " PosTable = dfsentiment2.loc[dfsentiment2['PosFlag'] == 1].reset_index()\\\n",
        "    .drop(['index'], axis=1)\n",
        "\n",
        " #Pull out rows with negative flag only\n",
        "NegTable = dfsentiment2.loc[dfsentiment2['NegFlag'] == 1].reset_index()\\\n",
        "    .drop(['index'], axis=1)"
      ],
      "execution_count": null,
      "outputs": []
    },
    {
      "cell_type": "code",
      "metadata": {
        "id": "acQ083_ENJxF"
      },
      "source": [
        "# Creating lists of positive/negative words\n",
        "PosList=[]\n",
        "NegList=[]\n",
        "\n",
        "# Loop to tokenize words into one huge list\n",
        "for x in PosTable.Sentence:\n",
        "    PosList.extend(sent_tokenize(x))    \n",
        "\n",
        "for x in NegTable.Sentence:\n",
        "    NegList.extend(sent_tokenize(x))"
      ],
      "execution_count": null,
      "outputs": []
    },
    {
      "cell_type": "code",
      "metadata": {
        "id": "KJqCtpA44S4B"
      },
      "source": [
        "# Creating dictionary of positive/negative words (using previous function)\n",
        "\n",
        "PosDict=BagOfWords(PosList)\n",
        "NegDict=BagOfWords(NegList)\n",
        "\n",
        "# Creating Lists from dictionary entries\n",
        "\n",
        "PosListClass=[(PosDict, 'pos')]\n",
        "NegListClass=[(NegDict, 'neg')]"
      ],
      "execution_count": null,
      "outputs": []
    },
    {
      "cell_type": "code",
      "metadata": {
        "id": "cn56fd79NIIG"
      },
      "source": [
        ""
      ],
      "execution_count": null,
      "outputs": []
    },
    {
      "cell_type": "code",
      "metadata": {
        "id": "OwZNzMtE4S60"
      },
      "source": [
        "# Creating positive and negative Bags of Words\n",
        "\n",
        "def word_bayes(words):\n",
        "    return dict([(word, True) for word in words.split() if word not in stopwords])\n",
        "\n",
        "PosBayes = [(word_bayes(words), 'positive') for sentence in PosList]\n",
        "NegBayes = [(word_bayes(words), 'negative') for sentence in NegList]"
      ],
      "execution_count": null,
      "outputs": []
    },
    {
      "cell_type": "code",
      "metadata": {
        "id": "xCmFUVF64pfT"
      },
      "source": [
        "# Open Naive Bayes Classifier Package\n",
        "from nltk.classify import NaiveBayesClassifier\n",
        "\n",
        "# Set Splits\n",
        "PosSplit=int(PosTable.PosFlag.sum()/2)\n",
        "NegSplit=int(NegTable.NegFlag.sum()/2)\n",
        "\n",
        "\n",
        "  \n",
        "\n",
        "#Train Model\n",
        "sentiment_classifier = NaiveBayesClassifier.train(PosBayes[:PosSplit]+NegBayes[:NegSplit])"
      ],
      "execution_count": null,
      "outputs": []
    },
    {
      "cell_type": "markdown",
      "metadata": {
        "id": "n6dXnl-8zii8"
      },
      "source": [
        "Training  Data Accuracy"
      ]
    },
    {
      "cell_type": "code",
      "metadata": {
        "colab": {
          "base_uri": "https://localhost:8080/"
        },
        "id": "kjpIYkri4ztg",
        "outputId": "c66bbeed-c496-4810-ae3c-33dba7808260"
      },
      "source": [
        "nltk.classify.util.accuracy(sentiment_classifier, PosBayes[:PosSplit]+NegBayes[:NegSplit])*100"
      ],
      "execution_count": null,
      "outputs": [
        {
          "output_type": "execute_result",
          "data": {
            "text/plain": [
              "90.90860530954544"
            ]
          },
          "metadata": {
            "tags": []
          },
          "execution_count": 23
        }
      ]
    },
    {
      "cell_type": "markdown",
      "metadata": {
        "id": "oNtKAkuqzf8_"
      },
      "source": [
        "Testing Data Accuracy"
      ]
    },
    {
      "cell_type": "code",
      "metadata": {
        "colab": {
          "base_uri": "https://localhost:8080/"
        },
        "id": "Z5rlRc344zwP",
        "outputId": "c85c072c-b4db-4cfc-a598-0414d21c8672"
      },
      "source": [
        "nltk.classify.util.accuracy(sentiment_classifier, PosBayes[PosSplit:]+NegBayes[NegSplit:])*100"
      ],
      "execution_count": null,
      "outputs": [
        {
          "output_type": "execute_result",
          "data": {
            "text/plain": [
              "80.20939052401047"
            ]
          },
          "metadata": {
            "tags": []
          },
          "execution_count": 24
        }
      ]
    },
    {
      "cell_type": "code",
      "metadata": {
        "colab": {
          "base_uri": "https://localhost:8080/"
        },
        "id": "tCw3vvZP4z5d",
        "outputId": "df007fb7-ced4-4702-c7e9-cb7ac67f0022"
      },
      "source": [
        "sentiment_classifier.show_most_informative_features()"
      ],
      "execution_count": null,
      "outputs": [
        {
          "output_type": "stream",
          "text": [
            "Most Informative Features\n",
            "               excellent = True           positi : negati =     38.3 : 1.0\n",
            "                   anger = True           negati : positi =     28.7 : 1.0\n",
            "               perfectly = True           positi : negati =     26.7 : 1.0\n",
            "               brilliant = True           positi : negati =     24.1 : 1.0\n",
            "                    fury = True           negati : positi =     21.1 : 1.0\n",
            "               excitedly = True           positi : negati =     21.0 : 1.0\n",
            "                    best = True           positi : negati =     20.7 : 1.0\n",
            "                    glad = True           positi : negati =     17.9 : 1.0\n",
            "                 sobbing = True           negati : positi =     16.2 : 1.0\n",
            "                ignoring = True           negati : positi =     16.2 : 1.0\n"
          ],
          "name": "stdout"
        }
      ]
    },
    {
      "cell_type": "code",
      "metadata": {
        "colab": {
          "base_uri": "https://localhost:8080/"
        },
        "id": "cKxbvkJ74pjN",
        "outputId": "dac81a7d-1929-43be-f160-912b61cae2b7"
      },
      "source": [
        "sentiment_classifier.most_informative_features()"
      ],
      "execution_count": null,
      "outputs": [
        {
          "output_type": "execute_result",
          "data": {
            "text/plain": [
              "[('excellent', True),\n",
              " ('anger', True),\n",
              " ('perfectly', True),\n",
              " ('brilliant', True),\n",
              " ('fury', True),\n",
              " ('excitedly', True),\n",
              " ('best', True),\n",
              " ('glad', True),\n",
              " ('sobbing', True),\n",
              " ('ignoring', True),\n",
              " ('rage', True),\n",
              " ('furious', True),\n",
              " ('wonderful', True),\n",
              " ('pain', True),\n",
              " ('eaters', True),\n",
              " ('painful', True),\n",
              " ('nasty', True),\n",
              " ('excitement', True),\n",
              " ('bloody', True),\n",
              " ('murdered', True),\n",
              " ('perfect', True),\n",
              " ('suspicious', True),\n",
              " ('terrified', True),\n",
              " ('desperately', True),\n",
              " ('horror', True),\n",
              " ('magnificent', True),\n",
              " ('imperius', True),\n",
              " ('murder', True),\n",
              " ('great', True),\n",
              " ('amazement', True),\n",
              " ('pleasure', True),\n",
              " ('threatening', True),\n",
              " ('dirty', True),\n",
              " ('sick', True),\n",
              " ('frightened', True),\n",
              " ('cool', True),\n",
              " ('champions', True),\n",
              " ('strength', True),\n",
              " ('chuckled', True),\n",
              " ('mad', True),\n",
              " ('terrible', True),\n",
              " ('interest', True),\n",
              " ('dead', True),\n",
              " ('attacking', True),\n",
              " ('uncertainly', True),\n",
              " ('amazing', True),\n",
              " ('upset', True),\n",
              " ('smiling', True),\n",
              " ('delighted', True),\n",
              " ('disgusting', True),\n",
              " ('enchanted', True),\n",
              " ('amazed', True),\n",
              " ('happiness', True),\n",
              " ('kindly', True),\n",
              " ('curse', True),\n",
              " ('failed', True),\n",
              " ('fallen', True),\n",
              " ('brightly', True),\n",
              " ('champion', True),\n",
              " ('nonsense', True),\n",
              " ('sobs', True),\n",
              " ('trapped', True),\n",
              " ('uncomfortably', True),\n",
              " ('petrified', True),\n",
              " ('fascinating', True),\n",
              " ('luck', True),\n",
              " ('eagerly', True),\n",
              " ('detention', True),\n",
              " ('shame', True),\n",
              " ('pleasantly', True),\n",
              " ('sweet', True),\n",
              " ('proud', True),\n",
              " ('satisfied', True),\n",
              " ('penalty', True),\n",
              " ('popping', True),\n",
              " ('arguing', True),\n",
              " ('dread', True),\n",
              " ('disturbed', True),\n",
              " ('hated', True),\n",
              " ('better', True),\n",
              " ('security', True),\n",
              " ('angrily', True),\n",
              " ('friend', True),\n",
              " ('danger', True),\n",
              " ('horrified', True),\n",
              " ('worst', True),\n",
              " ('poisonous', True),\n",
              " ('die', True),\n",
              " ('attack', True),\n",
              " ('thank', True),\n",
              " ('killed', True),\n",
              " ('yes', True),\n",
              " ('shocked', True),\n",
              " ('crash', True),\n",
              " ('thanks', True),\n",
              " ('furiously', True),\n",
              " ('smiled', True),\n",
              " ('kissed', True),\n",
              " ('chess', True),\n",
              " ('holiday', True)]"
            ]
          },
          "metadata": {
            "tags": []
          },
          "execution_count": 26
        }
      ]
    },
    {
      "cell_type": "code",
      "metadata": {
        "colab": {
          "base_uri": "https://localhost:8080/"
        },
        "id": "phOazah55TQp",
        "outputId": "178d6fd8-702d-4723-834b-db21add36a95"
      },
      "source": [
        "sentiment_classifier.labels()"
      ],
      "execution_count": null,
      "outputs": [
        {
          "output_type": "execute_result",
          "data": {
            "text/plain": [
              "['positive', 'negative']"
            ]
          },
          "metadata": {
            "tags": []
          },
          "execution_count": 33
        }
      ]
    }
  ]
}