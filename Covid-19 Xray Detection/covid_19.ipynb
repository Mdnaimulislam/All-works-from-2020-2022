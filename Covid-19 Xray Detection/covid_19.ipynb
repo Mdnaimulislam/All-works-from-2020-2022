{
  "nbformat": 4,
  "nbformat_minor": 0,
  "metadata": {
    "colab": {
      "name": "covid-19.ipynb",
      "provenance": [],
      "collapsed_sections": [],
      "toc_visible": true
    },
    "kernelspec": {
      "name": "python3",
      "display_name": "Python 3"
    },
    "accelerator": "GPU"
  },
  "cells": [
    {
      "cell_type": "code",
      "metadata": {
        "id": "cmQCSze85MFf"
      },
      "source": [
        "from tensorflow.keras.preprocessing.image import ImageDataGenerator\n",
        "from tensorflow.keras.applications import VGG16\n",
        "from tensorflow.keras.layers import AveragePooling2D\n",
        "from tensorflow.keras.layers import Dropout\n",
        "from tensorflow.keras.layers import Flatten\n",
        "from tensorflow.keras.layers import Dense\n",
        "from tensorflow.keras.layers import Input\n",
        "from tensorflow.keras.models import Model\n",
        "from tensorflow.keras.optimizers import Adam\n",
        "from tensorflow.keras.utils import to_categorical\n",
        "from sklearn.preprocessing import LabelBinarizer\n",
        "from sklearn.model_selection import train_test_split\n",
        "from sklearn.metrics import classification_report\n",
        "from sklearn.metrics import confusion_matrix\n",
        "from imutils import paths\n",
        "import matplotlib.pyplot as plt\n",
        "import numpy as np\n",
        "import argparse\n",
        "import cv2\n",
        "import os"
      ],
      "execution_count": null,
      "outputs": []
    },
    {
      "cell_type": "code",
      "metadata": {
        "id": "PCM8xVtf52Qm"
      },
      "source": [
        "INIT_LR = 1e-3\n",
        "EPOCHS = 26\n",
        "BS = 8"
      ],
      "execution_count": null,
      "outputs": []
    },
    {
      "cell_type": "code",
      "metadata": {
        "id": "JOoTuA456r65",
        "colab": {
          "base_uri": "https://localhost:8080/",
          "height": 33
        },
        "outputId": "2ac5a2ea-d6c5-4bdf-f08e-747f721aa734"
      },
      "source": [
        "print(\"[INFO] loading images...\")\n",
        "imagePaths = list(paths.list_images(\"/content/drive/My Drive/covid data\"))\n",
        "data = []\n",
        "labels = []\n",
        "\n",
        "# loop over the image paths\n",
        "for imagePath in imagePaths:\n",
        "\t# extract the class label from the filename\n",
        "\tlabel = imagePath.split(os.path.sep)[-2]\n",
        "\n",
        "\t# load the image, swap color channels, and resize it to be a fixed\n",
        "\t# 224x224 pixels while ignoring aspect ratio\n",
        "\timage = cv2.imread(imagePath)\n",
        "\timage = cv2.cvtColor(image, cv2.COLOR_BGR2RGB)\n",
        "\timage = cv2.resize(image, (224, 224))\n",
        "\n",
        "\t# update the data and labels lists, respectively\n",
        "\tdata.append(image)\n",
        "\tlabels.append(label)\n"
      ],
      "execution_count": null,
      "outputs": [
        {
          "output_type": "stream",
          "text": [
            "[INFO] loading images...\n"
          ],
          "name": "stdout"
        }
      ]
    },
    {
      "cell_type": "code",
      "metadata": {
        "id": "70mlRmPz8u3N"
      },
      "source": [
        "# convert the data and labels to NumPy arrays while scaling the pixel\n",
        "# intensities to the range [0, 255]\n",
        "data = np.array(data) / 255.0\n",
        "labels = np.array(labels)\n",
        "\n",
        "# perform one-hot encoding on the labels\n",
        "lb = LabelBinarizer()\n",
        "labels = lb.fit_transform(labels)\n",
        "labels = to_categorical(labels)"
      ],
      "execution_count": null,
      "outputs": []
    },
    {
      "cell_type": "code",
      "metadata": {
        "id": "cAZNqzFw801Q",
        "colab": {
          "base_uri": "https://localhost:8080/",
          "height": 381
        },
        "outputId": "200c68db-4513-4b43-ef91-63b1c71323b8"
      },
      "source": [
        "# partition the data into training and testing splits using 80% of\n",
        "# the data for training and the remaining 20% for testing\n",
        "(trainX, testX, trainY, testY) = train_test_split(data, labels,\n",
        "\ttest_size=0.20, stratify=labels, random_state=42)\n",
        "\n",
        "# initialize the training data augmentation object\n",
        "trainAug = ImageDataGenerator(\n",
        "\trotation_range=15,\n",
        "\tfill_mode=\"nearest\")\n",
        "\n",
        "# load the VGG16 network, ensuring the head FC layer sets are left\n",
        "# off\n",
        "baseModel = VGG16(weights=\"imagenet\", include_top=False,\n",
        "\tinput_tensor=Input(shape=(224, 224, 3)))"
      ],
      "execution_count": null,
      "outputs": [
        {
          "output_type": "error",
          "ename": "ValueError",
          "evalue": "ignored",
          "traceback": [
            "\u001b[0;31m---------------------------------------------------------------------------\u001b[0m",
            "\u001b[0;31mValueError\u001b[0m                                Traceback (most recent call last)",
            "\u001b[0;32m<ipython-input-47-e173442563b2>\u001b[0m in \u001b[0;36m<module>\u001b[0;34m()\u001b[0m\n\u001b[1;32m      1\u001b[0m (trainX, testX, trainY, testY) = train_test_split(data, labels,\n\u001b[0;32m----> 2\u001b[0;31m \ttest_size=0.20, stratify=labels, random_state=42)\n\u001b[0m\u001b[1;32m      3\u001b[0m \u001b[0;34m\u001b[0m\u001b[0m\n\u001b[1;32m      4\u001b[0m \u001b[0;31m# initialize the training data augmentation object\u001b[0m\u001b[0;34m\u001b[0m\u001b[0;34m\u001b[0m\u001b[0;34m\u001b[0m\u001b[0m\n\u001b[1;32m      5\u001b[0m trainAug = ImageDataGenerator(\n",
            "\u001b[0;32m/usr/local/lib/python3.6/dist-packages/sklearn/model_selection/_split.py\u001b[0m in \u001b[0;36mtrain_test_split\u001b[0;34m(*arrays, **options)\u001b[0m\n\u001b[1;32m   2141\u001b[0m                      random_state=random_state)\n\u001b[1;32m   2142\u001b[0m \u001b[0;34m\u001b[0m\u001b[0m\n\u001b[0;32m-> 2143\u001b[0;31m         \u001b[0mtrain\u001b[0m\u001b[0;34m,\u001b[0m \u001b[0mtest\u001b[0m \u001b[0;34m=\u001b[0m \u001b[0mnext\u001b[0m\u001b[0;34m(\u001b[0m\u001b[0mcv\u001b[0m\u001b[0;34m.\u001b[0m\u001b[0msplit\u001b[0m\u001b[0;34m(\u001b[0m\u001b[0mX\u001b[0m\u001b[0;34m=\u001b[0m\u001b[0marrays\u001b[0m\u001b[0;34m[\u001b[0m\u001b[0;36m0\u001b[0m\u001b[0;34m]\u001b[0m\u001b[0;34m,\u001b[0m \u001b[0my\u001b[0m\u001b[0;34m=\u001b[0m\u001b[0mstratify\u001b[0m\u001b[0;34m)\u001b[0m\u001b[0;34m)\u001b[0m\u001b[0;34m\u001b[0m\u001b[0;34m\u001b[0m\u001b[0m\n\u001b[0m\u001b[1;32m   2144\u001b[0m \u001b[0;34m\u001b[0m\u001b[0m\n\u001b[1;32m   2145\u001b[0m     return list(chain.from_iterable((_safe_indexing(a, train),\n",
            "\u001b[0;32m/usr/local/lib/python3.6/dist-packages/sklearn/model_selection/_split.py\u001b[0m in \u001b[0;36msplit\u001b[0;34m(self, X, y, groups)\u001b[0m\n\u001b[1;32m   1735\u001b[0m         \u001b[0mto\u001b[0m \u001b[0man\u001b[0m \u001b[0minteger\u001b[0m\u001b[0;34m.\u001b[0m\u001b[0;34m\u001b[0m\u001b[0;34m\u001b[0m\u001b[0m\n\u001b[1;32m   1736\u001b[0m         \"\"\"\n\u001b[0;32m-> 1737\u001b[0;31m         \u001b[0my\u001b[0m \u001b[0;34m=\u001b[0m \u001b[0mcheck_array\u001b[0m\u001b[0;34m(\u001b[0m\u001b[0my\u001b[0m\u001b[0;34m,\u001b[0m \u001b[0mensure_2d\u001b[0m\u001b[0;34m=\u001b[0m\u001b[0;32mFalse\u001b[0m\u001b[0;34m,\u001b[0m \u001b[0mdtype\u001b[0m\u001b[0;34m=\u001b[0m\u001b[0;32mNone\u001b[0m\u001b[0;34m)\u001b[0m\u001b[0;34m\u001b[0m\u001b[0;34m\u001b[0m\u001b[0m\n\u001b[0m\u001b[1;32m   1738\u001b[0m         \u001b[0;32mreturn\u001b[0m \u001b[0msuper\u001b[0m\u001b[0;34m(\u001b[0m\u001b[0;34m)\u001b[0m\u001b[0;34m.\u001b[0m\u001b[0msplit\u001b[0m\u001b[0;34m(\u001b[0m\u001b[0mX\u001b[0m\u001b[0;34m,\u001b[0m \u001b[0my\u001b[0m\u001b[0;34m,\u001b[0m \u001b[0mgroups\u001b[0m\u001b[0;34m)\u001b[0m\u001b[0;34m\u001b[0m\u001b[0;34m\u001b[0m\u001b[0m\n\u001b[1;32m   1739\u001b[0m \u001b[0;34m\u001b[0m\u001b[0m\n",
            "\u001b[0;32m/usr/local/lib/python3.6/dist-packages/sklearn/utils/validation.py\u001b[0m in \u001b[0;36mcheck_array\u001b[0;34m(array, accept_sparse, accept_large_sparse, dtype, order, copy, force_all_finite, ensure_2d, allow_nd, ensure_min_samples, ensure_min_features, warn_on_dtype, estimator)\u001b[0m\n\u001b[1;32m    572\u001b[0m         \u001b[0;32mif\u001b[0m \u001b[0;32mnot\u001b[0m \u001b[0mallow_nd\u001b[0m \u001b[0;32mand\u001b[0m \u001b[0marray\u001b[0m\u001b[0;34m.\u001b[0m\u001b[0mndim\u001b[0m \u001b[0;34m>=\u001b[0m \u001b[0;36m3\u001b[0m\u001b[0;34m:\u001b[0m\u001b[0;34m\u001b[0m\u001b[0;34m\u001b[0m\u001b[0m\n\u001b[1;32m    573\u001b[0m             raise ValueError(\"Found array with dim %d. %s expected <= 2.\"\n\u001b[0;32m--> 574\u001b[0;31m                              % (array.ndim, estimator_name))\n\u001b[0m\u001b[1;32m    575\u001b[0m \u001b[0;34m\u001b[0m\u001b[0m\n\u001b[1;32m    576\u001b[0m         \u001b[0;32mif\u001b[0m \u001b[0mforce_all_finite\u001b[0m\u001b[0;34m:\u001b[0m\u001b[0;34m\u001b[0m\u001b[0;34m\u001b[0m\u001b[0m\n",
            "\u001b[0;31mValueError\u001b[0m: Found array with dim 3. Estimator expected <= 2."
          ]
        }
      ]
    },
    {
      "cell_type": "code",
      "metadata": {
        "id": "SsHJ9hSa9BKJ"
      },
      "source": [
        "# construct the head of the model that will be placed on top of the\n",
        "# the base model\n",
        "headModel = baseModel.output\n",
        "headModel = AveragePooling2D(pool_size=(4, 4))(headModel)\n",
        "headModel = Flatten(name=\"flatten\")(headModel)\n",
        "headModel = Dense(64, activation=\"relu\")(headModel)\n",
        "headModel = Dropout(0.5)(headModel)\n",
        "headModel = Dense(2, activation=\"softmax\")(headModel)\n",
        "\n",
        "# place the head FC model on top of the base model (this will become\n",
        "# the actual model we will train)\n",
        "model = Model(inputs=baseModel.input, outputs=headModel)\n",
        "\n",
        "# loop over all layers in the base model and freeze them so they will\n",
        "# *not* be updated during the first training process\n",
        "for layer in baseModel.layers:\n",
        "\tlayer.trainable = False"
      ],
      "execution_count": null,
      "outputs": []
    },
    {
      "cell_type": "code",
      "metadata": {
        "id": "Q1GnOh1R9NWM",
        "colab": {
          "base_uri": "https://localhost:8080/",
          "height": 33
        },
        "outputId": "5119c74d-5347-49d4-fc5f-79f5aee09970"
      },
      "source": [
        "# compile our model\n",
        "print(\"[INFO] compiling model...\")\n",
        "opt = Adam(lr=INIT_LR, decay=INIT_LR / EPOCHS)\n",
        "model.compile(loss=\"binary_crossentropy\", optimizer=opt,\n",
        "\tmetrics=[\"accuracy\"])\n"
      ],
      "execution_count": null,
      "outputs": [
        {
          "output_type": "stream",
          "text": [
            "[INFO] compiling model...\n"
          ],
          "name": "stdout"
        }
      ]
    },
    {
      "cell_type": "code",
      "metadata": {
        "id": "-n_iyMNB9T6O",
        "colab": {
          "base_uri": "https://localhost:8080/",
          "height": 1000
        },
        "outputId": "c0c6344d-fe5c-47e2-e84a-d25b95cf3f76"
      },
      "source": [
        "# train the head of the network\n",
        "print(\"[INFO] training head...\")\n",
        "H = model.fit_generator(\n",
        "\ttrainAug.flow(trainX, trainY, batch_size=BS),\n",
        "\tsteps_per_epoch=len(trainX) // BS,\n",
        "\tvalidation_data=(testX, testY),\n",
        "\tvalidation_steps=len(testX) // BS,\n",
        "\tepochs=EPOCHS)"
      ],
      "execution_count": null,
      "outputs": [
        {
          "output_type": "stream",
          "text": [
            "[INFO] training head...\n",
            "Epoch 1/100\n",
            "32/32 [==============================] - 9s 271ms/step - loss: 0.6672 - accuracy: 0.5951 - val_loss: 0.6297 - val_accuracy: 0.7231\n",
            "Epoch 2/100\n",
            "32/32 [==============================] - 9s 271ms/step - loss: 0.6588 - accuracy: 0.6295 - val_loss: 0.6150 - val_accuracy: 0.7077\n",
            "Epoch 3/100\n",
            "32/32 [==============================] - 8s 263ms/step - loss: 0.6469 - accuracy: 0.6321 - val_loss: 0.6050 - val_accuracy: 0.6974\n",
            "Epoch 4/100\n",
            "32/32 [==============================] - 8s 263ms/step - loss: 0.6575 - accuracy: 0.6375 - val_loss: 0.6110 - val_accuracy: 0.7179\n",
            "Epoch 5/100\n",
            "32/32 [==============================] - 8s 265ms/step - loss: 0.6439 - accuracy: 0.6521 - val_loss: 0.5941 - val_accuracy: 0.7231\n",
            "Epoch 6/100\n",
            "32/32 [==============================] - 8s 265ms/step - loss: 0.6411 - accuracy: 0.6321 - val_loss: 0.6035 - val_accuracy: 0.6769\n",
            "Epoch 7/100\n",
            "32/32 [==============================] - 8s 262ms/step - loss: 0.6328 - accuracy: 0.6481 - val_loss: 0.5868 - val_accuracy: 0.7179\n",
            "Epoch 8/100\n",
            "32/32 [==============================] - 8s 264ms/step - loss: 0.6476 - accuracy: 0.6215 - val_loss: 0.5876 - val_accuracy: 0.6923\n",
            "Epoch 9/100\n",
            "32/32 [==============================] - 8s 262ms/step - loss: 0.6393 - accuracy: 0.6441 - val_loss: 0.5956 - val_accuracy: 0.7077\n",
            "Epoch 10/100\n",
            "32/32 [==============================] - 8s 262ms/step - loss: 0.6309 - accuracy: 0.6574 - val_loss: 0.5756 - val_accuracy: 0.7026\n",
            "Epoch 11/100\n",
            "32/32 [==============================] - 9s 267ms/step - loss: 0.6278 - accuracy: 0.6667 - val_loss: 0.5698 - val_accuracy: 0.7077\n",
            "Epoch 12/100\n",
            "32/32 [==============================] - 8s 264ms/step - loss: 0.6169 - accuracy: 0.6733 - val_loss: 0.5699 - val_accuracy: 0.7026\n",
            "Epoch 13/100\n",
            "32/32 [==============================] - 8s 265ms/step - loss: 0.6353 - accuracy: 0.6614 - val_loss: 0.5708 - val_accuracy: 0.7128\n",
            "Epoch 14/100\n",
            "32/32 [==============================] - 8s 262ms/step - loss: 0.6248 - accuracy: 0.6614 - val_loss: 0.5583 - val_accuracy: 0.7282\n",
            "Epoch 15/100\n",
            "32/32 [==============================] - 8s 261ms/step - loss: 0.6103 - accuracy: 0.6640 - val_loss: 0.5613 - val_accuracy: 0.7333\n",
            "Epoch 16/100\n",
            "32/32 [==============================] - 8s 263ms/step - loss: 0.6090 - accuracy: 0.6786 - val_loss: 0.5493 - val_accuracy: 0.7333\n",
            "Epoch 17/100\n",
            "32/32 [==============================] - 9s 268ms/step - loss: 0.6303 - accuracy: 0.6481 - val_loss: 0.5664 - val_accuracy: 0.7385\n",
            "Epoch 18/100\n",
            "32/32 [==============================] - 8s 262ms/step - loss: 0.6144 - accuracy: 0.6693 - val_loss: 0.5496 - val_accuracy: 0.7231\n",
            "Epoch 19/100\n",
            "32/32 [==============================] - 8s 264ms/step - loss: 0.6063 - accuracy: 0.6959 - val_loss: 0.5745 - val_accuracy: 0.7026\n",
            "Epoch 20/100\n",
            "32/32 [==============================] - 9s 266ms/step - loss: 0.6167 - accuracy: 0.6826 - val_loss: 0.5492 - val_accuracy: 0.7282\n",
            "Epoch 21/100\n",
            "32/32 [==============================] - 9s 267ms/step - loss: 0.5912 - accuracy: 0.6879 - val_loss: 0.5514 - val_accuracy: 0.7128\n",
            "Epoch 22/100\n",
            "32/32 [==============================] - 8s 263ms/step - loss: 0.6048 - accuracy: 0.6839 - val_loss: 0.5828 - val_accuracy: 0.6923\n",
            "Epoch 23/100\n",
            "32/32 [==============================] - 8s 261ms/step - loss: 0.6132 - accuracy: 0.6614 - val_loss: 0.5713 - val_accuracy: 0.6923\n",
            "Epoch 24/100\n",
            "32/32 [==============================] - 8s 263ms/step - loss: 0.6049 - accuracy: 0.6667 - val_loss: 0.5412 - val_accuracy: 0.7590\n",
            "Epoch 25/100\n",
            "32/32 [==============================] - 8s 261ms/step - loss: 0.6014 - accuracy: 0.6799 - val_loss: 0.5568 - val_accuracy: 0.7590\n",
            "Epoch 26/100\n",
            "32/32 [==============================] - 8s 262ms/step - loss: 0.6030 - accuracy: 0.6813 - val_loss: 0.5771 - val_accuracy: 0.7077\n",
            "Epoch 27/100\n",
            "32/32 [==============================] - 8s 264ms/step - loss: 0.5908 - accuracy: 0.6879 - val_loss: 0.5492 - val_accuracy: 0.7436\n",
            "Epoch 28/100\n",
            "32/32 [==============================] - 9s 267ms/step - loss: 0.5890 - accuracy: 0.6946 - val_loss: 0.5381 - val_accuracy: 0.7692\n",
            "Epoch 29/100\n",
            "32/32 [==============================] - 8s 264ms/step - loss: 0.6060 - accuracy: 0.6693 - val_loss: 0.5500 - val_accuracy: 0.7231\n",
            "Epoch 30/100\n",
            "32/32 [==============================] - 8s 265ms/step - loss: 0.5883 - accuracy: 0.7012 - val_loss: 0.5506 - val_accuracy: 0.7231\n",
            "Epoch 31/100\n",
            "32/32 [==============================] - 8s 265ms/step - loss: 0.5826 - accuracy: 0.7052 - val_loss: 0.5308 - val_accuracy: 0.7487\n",
            "Epoch 32/100\n",
            "32/32 [==============================] - 8s 264ms/step - loss: 0.5899 - accuracy: 0.6799 - val_loss: 0.5353 - val_accuracy: 0.7641\n",
            "Epoch 33/100\n",
            "32/32 [==============================] - 8s 262ms/step - loss: 0.6017 - accuracy: 0.6786 - val_loss: 0.5434 - val_accuracy: 0.7692\n",
            "Epoch 34/100\n",
            "32/32 [==============================] - 9s 268ms/step - loss: 0.5849 - accuracy: 0.6979 - val_loss: 0.5362 - val_accuracy: 0.7590\n",
            "Epoch 35/100\n",
            "32/32 [==============================] - 9s 272ms/step - loss: 0.5868 - accuracy: 0.7052 - val_loss: 0.5448 - val_accuracy: 0.7846\n",
            "Epoch 36/100\n",
            "32/32 [==============================] - 9s 269ms/step - loss: 0.5829 - accuracy: 0.7025 - val_loss: 0.5311 - val_accuracy: 0.7795\n",
            "Epoch 37/100\n",
            "32/32 [==============================] - 8s 264ms/step - loss: 0.5839 - accuracy: 0.7052 - val_loss: 0.5246 - val_accuracy: 0.7590\n",
            "Epoch 38/100\n",
            "32/32 [==============================] - 8s 263ms/step - loss: 0.5719 - accuracy: 0.6959 - val_loss: 0.5385 - val_accuracy: 0.7436\n",
            "Epoch 39/100\n",
            "32/32 [==============================] - 8s 265ms/step - loss: 0.5749 - accuracy: 0.6959 - val_loss: 0.5285 - val_accuracy: 0.7846\n",
            "Epoch 40/100\n",
            "32/32 [==============================] - 8s 264ms/step - loss: 0.5792 - accuracy: 0.6985 - val_loss: 0.5304 - val_accuracy: 0.7487\n",
            "Epoch 41/100\n",
            "32/32 [==============================] - 8s 262ms/step - loss: 0.5602 - accuracy: 0.7012 - val_loss: 0.5294 - val_accuracy: 0.7385\n",
            "Epoch 42/100\n",
            "32/32 [==============================] - 8s 265ms/step - loss: 0.5812 - accuracy: 0.6932 - val_loss: 0.5355 - val_accuracy: 0.7436\n",
            "Epoch 43/100\n",
            "32/32 [==============================] - 8s 264ms/step - loss: 0.5460 - accuracy: 0.7317 - val_loss: 0.5243 - val_accuracy: 0.7282\n",
            "Epoch 44/100\n",
            "32/32 [==============================] - 8s 265ms/step - loss: 0.5563 - accuracy: 0.7331 - val_loss: 0.5336 - val_accuracy: 0.7641\n",
            "Epoch 45/100\n",
            "32/32 [==============================] - 8s 263ms/step - loss: 0.5802 - accuracy: 0.7198 - val_loss: 0.5357 - val_accuracy: 0.7282\n",
            "Epoch 46/100\n",
            "32/32 [==============================] - 8s 262ms/step - loss: 0.5571 - accuracy: 0.7145 - val_loss: 0.5340 - val_accuracy: 0.7282\n",
            "Epoch 47/100\n",
            "32/32 [==============================] - 9s 267ms/step - loss: 0.5743 - accuracy: 0.6866 - val_loss: 0.5303 - val_accuracy: 0.7436\n",
            "Epoch 48/100\n",
            "32/32 [==============================] - 9s 269ms/step - loss: 0.5648 - accuracy: 0.7185 - val_loss: 0.5346 - val_accuracy: 0.7692\n",
            "Epoch 49/100\n",
            "32/32 [==============================] - 9s 266ms/step - loss: 0.5592 - accuracy: 0.7171 - val_loss: 0.5279 - val_accuracy: 0.7231\n",
            "Epoch 50/100\n",
            "32/32 [==============================] - 8s 264ms/step - loss: 0.5570 - accuracy: 0.7118 - val_loss: 0.5284 - val_accuracy: 0.7590\n",
            "Epoch 51/100\n",
            "32/32 [==============================] - 8s 264ms/step - loss: 0.5611 - accuracy: 0.7092 - val_loss: 0.5287 - val_accuracy: 0.7487\n",
            "Epoch 52/100\n",
            "32/32 [==============================] - 8s 265ms/step - loss: 0.5392 - accuracy: 0.7291 - val_loss: 0.5346 - val_accuracy: 0.7282\n",
            "Epoch 53/100\n",
            "32/32 [==============================] - 8s 264ms/step - loss: 0.5362 - accuracy: 0.7543 - val_loss: 0.5166 - val_accuracy: 0.7641\n",
            "Epoch 54/100\n",
            "32/32 [==============================] - 8s 263ms/step - loss: 0.5616 - accuracy: 0.7224 - val_loss: 0.5401 - val_accuracy: 0.7333\n",
            "Epoch 55/100\n",
            "32/32 [==============================] - 8s 262ms/step - loss: 0.5551 - accuracy: 0.7131 - val_loss: 0.5356 - val_accuracy: 0.7128\n",
            "Epoch 56/100\n",
            "32/32 [==============================] - 9s 266ms/step - loss: 0.5593 - accuracy: 0.7264 - val_loss: 0.5309 - val_accuracy: 0.7487\n",
            "Epoch 57/100\n",
            "32/32 [==============================] - 8s 265ms/step - loss: 0.5382 - accuracy: 0.7291 - val_loss: 0.5199 - val_accuracy: 0.7538\n",
            "Epoch 58/100\n",
            "32/32 [==============================] - 9s 267ms/step - loss: 0.5436 - accuracy: 0.7131 - val_loss: 0.5501 - val_accuracy: 0.7026\n",
            "Epoch 59/100\n",
            "32/32 [==============================] - 8s 264ms/step - loss: 0.5530 - accuracy: 0.7185 - val_loss: 0.5303 - val_accuracy: 0.7282\n",
            "Epoch 60/100\n",
            "32/32 [==============================] - 8s 263ms/step - loss: 0.5247 - accuracy: 0.7477 - val_loss: 0.5336 - val_accuracy: 0.7282\n",
            "Epoch 61/100\n",
            "32/32 [==============================] - 8s 264ms/step - loss: 0.5596 - accuracy: 0.7224 - val_loss: 0.5213 - val_accuracy: 0.7487\n",
            "Epoch 62/100\n",
            "32/32 [==============================] - 8s 265ms/step - loss: 0.5389 - accuracy: 0.7131 - val_loss: 0.5276 - val_accuracy: 0.7487\n",
            "Epoch 63/100\n",
            "32/32 [==============================] - 9s 266ms/step - loss: 0.5393 - accuracy: 0.7384 - val_loss: 0.5428 - val_accuracy: 0.7333\n",
            "Epoch 64/100\n",
            "32/32 [==============================] - 8s 264ms/step - loss: 0.5267 - accuracy: 0.7251 - val_loss: 0.5172 - val_accuracy: 0.7590\n",
            "Epoch 65/100\n",
            "32/32 [==============================] - 8s 263ms/step - loss: 0.5401 - accuracy: 0.7198 - val_loss: 0.5276 - val_accuracy: 0.7538\n",
            "Epoch 66/100\n",
            "32/32 [==============================] - 8s 263ms/step - loss: 0.5465 - accuracy: 0.7278 - val_loss: 0.5181 - val_accuracy: 0.7692\n",
            "Epoch 67/100\n",
            "32/32 [==============================] - 9s 269ms/step - loss: 0.5359 - accuracy: 0.7383 - val_loss: 0.5182 - val_accuracy: 0.7436\n",
            "Epoch 68/100\n",
            "32/32 [==============================] - 9s 272ms/step - loss: 0.5421 - accuracy: 0.7344 - val_loss: 0.5227 - val_accuracy: 0.7590\n",
            "Epoch 69/100\n",
            "32/32 [==============================] - 8s 264ms/step - loss: 0.5274 - accuracy: 0.7437 - val_loss: 0.5384 - val_accuracy: 0.7231\n",
            "Epoch 70/100\n",
            "32/32 [==============================] - 8s 263ms/step - loss: 0.5303 - accuracy: 0.7410 - val_loss: 0.5260 - val_accuracy: 0.7282\n",
            "Epoch 71/100\n",
            "32/32 [==============================] - 8s 262ms/step - loss: 0.5360 - accuracy: 0.7317 - val_loss: 0.5248 - val_accuracy: 0.7385\n",
            "Epoch 72/100\n",
            "32/32 [==============================] - 8s 265ms/step - loss: 0.5183 - accuracy: 0.7424 - val_loss: 0.5133 - val_accuracy: 0.7282\n",
            "Epoch 73/100\n",
            "32/32 [==============================] - 8s 262ms/step - loss: 0.5259 - accuracy: 0.7424 - val_loss: 0.5215 - val_accuracy: 0.7692\n",
            "Epoch 74/100\n",
            "32/32 [==============================] - 8s 263ms/step - loss: 0.5121 - accuracy: 0.7477 - val_loss: 0.5123 - val_accuracy: 0.7487\n",
            "Epoch 75/100\n",
            "32/32 [==============================] - 8s 265ms/step - loss: 0.5238 - accuracy: 0.7490 - val_loss: 0.5193 - val_accuracy: 0.7641\n",
            "Epoch 76/100\n",
            "32/32 [==============================] - 9s 267ms/step - loss: 0.5276 - accuracy: 0.7251 - val_loss: 0.5161 - val_accuracy: 0.7538\n",
            "Epoch 77/100\n",
            "32/32 [==============================] - 9s 268ms/step - loss: 0.5114 - accuracy: 0.7410 - val_loss: 0.5217 - val_accuracy: 0.7538\n",
            "Epoch 78/100\n",
            "32/32 [==============================] - 8s 265ms/step - loss: 0.5289 - accuracy: 0.7278 - val_loss: 0.5239 - val_accuracy: 0.7436\n",
            "Epoch 79/100\n",
            "32/32 [==============================] - 8s 264ms/step - loss: 0.5104 - accuracy: 0.7437 - val_loss: 0.5132 - val_accuracy: 0.7385\n",
            "Epoch 80/100\n",
            "32/32 [==============================] - 8s 265ms/step - loss: 0.5157 - accuracy: 0.7570 - val_loss: 0.5199 - val_accuracy: 0.7436\n",
            "Epoch 81/100\n",
            "32/32 [==============================] - 8s 265ms/step - loss: 0.5056 - accuracy: 0.7424 - val_loss: 0.5201 - val_accuracy: 0.7436\n",
            "Epoch 82/100\n",
            "32/32 [==============================] - 9s 267ms/step - loss: 0.5491 - accuracy: 0.7211 - val_loss: 0.5379 - val_accuracy: 0.7282\n",
            "Epoch 83/100\n",
            "32/32 [==============================] - 9s 266ms/step - loss: 0.5120 - accuracy: 0.7503 - val_loss: 0.5138 - val_accuracy: 0.7385\n",
            "Epoch 84/100\n",
            "32/32 [==============================] - 9s 268ms/step - loss: 0.5235 - accuracy: 0.7384 - val_loss: 0.5244 - val_accuracy: 0.7436\n",
            "Epoch 85/100\n",
            "32/32 [==============================] - 8s 265ms/step - loss: 0.5004 - accuracy: 0.7583 - val_loss: 0.5204 - val_accuracy: 0.7487\n",
            "Epoch 86/100\n",
            "32/32 [==============================] - 9s 266ms/step - loss: 0.5133 - accuracy: 0.7397 - val_loss: 0.5219 - val_accuracy: 0.7436\n",
            "Epoch 87/100\n",
            "32/32 [==============================] - 8s 264ms/step - loss: 0.5074 - accuracy: 0.7543 - val_loss: 0.5165 - val_accuracy: 0.7538\n",
            "Epoch 88/100\n",
            "32/32 [==============================] - 9s 266ms/step - loss: 0.5352 - accuracy: 0.7092 - val_loss: 0.5328 - val_accuracy: 0.7333\n",
            "Epoch 89/100\n",
            "32/32 [==============================] - 8s 265ms/step - loss: 0.4866 - accuracy: 0.7623 - val_loss: 0.5351 - val_accuracy: 0.7282\n",
            "Epoch 90/100\n",
            "32/32 [==============================] - 9s 266ms/step - loss: 0.5035 - accuracy: 0.7503 - val_loss: 0.5248 - val_accuracy: 0.7436\n",
            "Epoch 91/100\n",
            "32/32 [==============================] - 8s 264ms/step - loss: 0.5256 - accuracy: 0.7371 - val_loss: 0.5290 - val_accuracy: 0.7333\n",
            "Epoch 92/100\n",
            "32/32 [==============================] - 8s 265ms/step - loss: 0.4826 - accuracy: 0.7676 - val_loss: 0.5186 - val_accuracy: 0.7436\n",
            "Epoch 93/100\n",
            "32/32 [==============================] - 8s 264ms/step - loss: 0.5163 - accuracy: 0.7463 - val_loss: 0.5202 - val_accuracy: 0.7487\n",
            "Epoch 94/100\n",
            "32/32 [==============================] - 8s 265ms/step - loss: 0.4978 - accuracy: 0.7517 - val_loss: 0.5134 - val_accuracy: 0.7590\n",
            "Epoch 95/100\n",
            "32/32 [==============================] - 8s 265ms/step - loss: 0.5086 - accuracy: 0.7530 - val_loss: 0.5246 - val_accuracy: 0.7487\n",
            "Epoch 96/100\n",
            "32/32 [==============================] - 9s 266ms/step - loss: 0.5129 - accuracy: 0.7397 - val_loss: 0.5275 - val_accuracy: 0.7590\n",
            "Epoch 97/100\n",
            "32/32 [==============================] - 8s 265ms/step - loss: 0.5120 - accuracy: 0.7344 - val_loss: 0.5237 - val_accuracy: 0.7282\n",
            "Epoch 98/100\n",
            "32/32 [==============================] - 9s 266ms/step - loss: 0.4991 - accuracy: 0.7437 - val_loss: 0.5284 - val_accuracy: 0.7436\n",
            "Epoch 99/100\n",
            "32/32 [==============================] - 9s 266ms/step - loss: 0.5059 - accuracy: 0.7384 - val_loss: 0.5265 - val_accuracy: 0.7487\n",
            "Epoch 100/100\n",
            "32/32 [==============================] - 9s 270ms/step - loss: 0.4948 - accuracy: 0.7526 - val_loss: 0.5228 - val_accuracy: 0.7487\n"
          ],
          "name": "stdout"
        }
      ]
    },
    {
      "cell_type": "code",
      "metadata": {
        "id": "QSEDdkKh92D0",
        "colab": {
          "base_uri": "https://localhost:8080/",
          "height": 33
        },
        "outputId": "7fee311d-36b2-47bf-e21a-16039d67e0f8"
      },
      "source": [
        "# make predictions on the testing set\n",
        "print(\"[INFO] evaluating network...\")\n",
        "predIdxs = model.predict(testX, batch_size=BS)\n",
        "\n",
        "# for each image in the testing set we need to find the index of the\n",
        "# label with corresponding largest predicted probability\n",
        "predIdxs = np.argmax(predIdxs, axis=1)"
      ],
      "execution_count": null,
      "outputs": [
        {
          "output_type": "stream",
          "text": [
            "[INFO] evaluating network...\n"
          ],
          "name": "stdout"
        }
      ]
    },
    {
      "cell_type": "code",
      "metadata": {
        "id": "pqugxypg9-oE",
        "colab": {
          "base_uri": "https://localhost:8080/",
          "height": 245
        },
        "outputId": "79d1a450-c0a9-46ed-d1dd-f8abd47601be"
      },
      "source": [
        "# show a nicely formatted classification report\n",
        "print(classification_report(testY.argmax(axis=1), predIdxs,\n",
        "\ttarget_names=lb.classes_))\n",
        "# compute the confusion matrix and and use it to derive the raw\n",
        "# accuracy, sensitivity, and specificity\n",
        "cm = confusion_matrix(testY.argmax(axis=1), predIdxs)\n",
        "total = sum(sum(cm))\n",
        "acc = (cm[0, 0] + cm[1, 1]) / total\n",
        "sensitivity = cm[0, 0] / (cm[0, 0] + cm[0, 1])\n",
        "specificity = cm[1, 1] / (cm[1, 0] + cm[1, 1])\n",
        "\n",
        "# show the confusion matrix, accuracy, sensitivity, and specificity\n",
        "print(cm)\n",
        "print(\"acc: {:.4f}\".format(acc))\n",
        "print(\"sensitivity: {:.4f}\".format(sensitivity))\n",
        "print(\"specificity: {:.4f}\".format(specificity))"
      ],
      "execution_count": null,
      "outputs": [
        {
          "output_type": "stream",
          "text": [
            "              precision    recall  f1-score   support\n",
            "\n",
            "       covid       0.79      0.68      0.73        98\n",
            "      normal       0.72      0.81      0.76        97\n",
            "\n",
            "    accuracy                           0.75       195\n",
            "   macro avg       0.75      0.75      0.75       195\n",
            "weighted avg       0.75      0.75      0.75       195\n",
            "\n",
            "[[67 31]\n",
            " [18 79]]\n",
            "acc: 0.7487\n",
            "sensitivity: 0.6837\n",
            "specificity: 0.8144\n"
          ],
          "name": "stdout"
        }
      ]
    },
    {
      "cell_type": "code",
      "metadata": {
        "id": "Pt8-GRJAAJCt",
        "colab": {
          "base_uri": "https://localhost:8080/",
          "height": 745
        },
        "outputId": "c14c63f1-fd0a-4563-d080-25ca110b7502"
      },
      "source": [
        "# plot the training loss and accuracy\n",
        "N = EPOCHS\n",
        "plt.style.use(\"ggplot\")\n",
        "plt.figure()\n",
        "plt.plot(np.arange(0, N), H.history[\"loss\"], label=\"train_loss\")\n",
        "plt.plot(np.arange(0, N), H.history[\"val_loss\"], label=\"val_loss\")\n",
        "plt.plot(np.arange(0, N), H.history[\"accuracy\"], label=\"train_acc\")\n",
        "plt.plot(np.arange(0, N), H.history[\"val_accuracy\"], label=\"val_acc\")\n",
        "plt.title(\"Training Loss and Accuracy on COVID-19 Dataset\")\n",
        "plt.xlabel(\"Epoch #\")\n",
        "plt.ylabel(\"Loss/Accuracy\")\n",
        "plt.legend(loc=\"lower left\")\n",
        "plt.savefig(\"/content/drive/My Drive/covid 1st dataset/plot.png\")\n",
        "\n",
        "# serialize the model to disk\n",
        "print(\"[INFO] saving COVID-19 detector model...\")\n",
        "model.save(\"/content/drive/My Drive/covid 1st dataset/model\", save_format=\"h5\")"
      ],
      "execution_count": null,
      "outputs": [
        {
          "output_type": "stream",
          "text": [
            "[INFO] saving COVID-19 detector model...\n"
          ],
          "name": "stdout"
        },
        {
          "output_type": "error",
          "ename": "OSError",
          "evalue": "ignored",
          "traceback": [
            "\u001b[0;31m---------------------------------------------------------------------------\u001b[0m",
            "\u001b[0;31mOSError\u001b[0m                                   Traceback (most recent call last)",
            "\u001b[0;32m<ipython-input-29-ea2edbd5b278>\u001b[0m in \u001b[0;36m<module>\u001b[0;34m()\u001b[0m\n\u001b[1;32m     14\u001b[0m \u001b[0;31m# serialize the model to disk\u001b[0m\u001b[0;34m\u001b[0m\u001b[0;34m\u001b[0m\u001b[0;34m\u001b[0m\u001b[0m\n\u001b[1;32m     15\u001b[0m \u001b[0mprint\u001b[0m\u001b[0;34m(\u001b[0m\u001b[0;34m\"[INFO] saving COVID-19 detector model...\"\u001b[0m\u001b[0;34m)\u001b[0m\u001b[0;34m\u001b[0m\u001b[0;34m\u001b[0m\u001b[0m\n\u001b[0;32m---> 16\u001b[0;31m \u001b[0mmodel\u001b[0m\u001b[0;34m.\u001b[0m\u001b[0msave\u001b[0m\u001b[0;34m(\u001b[0m\u001b[0;34m\"/content/drive/My Drive/covid 1st dataset\"\u001b[0m\u001b[0;34m,\u001b[0m \u001b[0msave_format\u001b[0m\u001b[0;34m=\u001b[0m\u001b[0;34m\"h5\"\u001b[0m\u001b[0;34m)\u001b[0m\u001b[0;34m\u001b[0m\u001b[0;34m\u001b[0m\u001b[0m\n\u001b[0m",
            "\u001b[0;32m/usr/local/lib/python3.6/dist-packages/tensorflow/python/keras/engine/network.py\u001b[0m in \u001b[0;36msave\u001b[0;34m(self, filepath, overwrite, include_optimizer, save_format, signatures, options)\u001b[0m\n\u001b[1;32m   1050\u001b[0m     \"\"\"\n\u001b[1;32m   1051\u001b[0m     save.save_model(self, filepath, overwrite, include_optimizer, save_format,\n\u001b[0;32m-> 1052\u001b[0;31m                     signatures, options)\n\u001b[0m\u001b[1;32m   1053\u001b[0m \u001b[0;34m\u001b[0m\u001b[0m\n\u001b[1;32m   1054\u001b[0m   \u001b[0;32mdef\u001b[0m \u001b[0msave_weights\u001b[0m\u001b[0;34m(\u001b[0m\u001b[0mself\u001b[0m\u001b[0;34m,\u001b[0m \u001b[0mfilepath\u001b[0m\u001b[0;34m,\u001b[0m \u001b[0moverwrite\u001b[0m\u001b[0;34m=\u001b[0m\u001b[0;32mTrue\u001b[0m\u001b[0;34m,\u001b[0m \u001b[0msave_format\u001b[0m\u001b[0;34m=\u001b[0m\u001b[0;32mNone\u001b[0m\u001b[0;34m)\u001b[0m\u001b[0;34m:\u001b[0m\u001b[0;34m\u001b[0m\u001b[0;34m\u001b[0m\u001b[0m\n",
            "\u001b[0;32m/usr/local/lib/python3.6/dist-packages/tensorflow/python/keras/saving/save.py\u001b[0m in \u001b[0;36msave_model\u001b[0;34m(model, filepath, overwrite, include_optimizer, save_format, signatures, options)\u001b[0m\n\u001b[1;32m    133\u001b[0m           'or using `save_weights`.')\n\u001b[1;32m    134\u001b[0m     hdf5_format.save_model_to_hdf5(\n\u001b[0;32m--> 135\u001b[0;31m         model, filepath, overwrite, include_optimizer)\n\u001b[0m\u001b[1;32m    136\u001b[0m   \u001b[0;32melse\u001b[0m\u001b[0;34m:\u001b[0m\u001b[0;34m\u001b[0m\u001b[0;34m\u001b[0m\u001b[0m\n\u001b[1;32m    137\u001b[0m     saved_model_save.save(model, filepath, overwrite, include_optimizer,\n",
            "\u001b[0;32m/usr/local/lib/python3.6/dist-packages/tensorflow/python/keras/saving/hdf5_format.py\u001b[0m in \u001b[0;36msave_model_to_hdf5\u001b[0;34m(model, filepath, overwrite, include_optimizer)\u001b[0m\n\u001b[1;32m    100\u001b[0m         \u001b[0;32mreturn\u001b[0m\u001b[0;34m\u001b[0m\u001b[0;34m\u001b[0m\u001b[0m\n\u001b[1;32m    101\u001b[0m \u001b[0;34m\u001b[0m\u001b[0m\n\u001b[0;32m--> 102\u001b[0;31m     \u001b[0mf\u001b[0m \u001b[0;34m=\u001b[0m \u001b[0mh5py\u001b[0m\u001b[0;34m.\u001b[0m\u001b[0mFile\u001b[0m\u001b[0;34m(\u001b[0m\u001b[0mfilepath\u001b[0m\u001b[0;34m,\u001b[0m \u001b[0mmode\u001b[0m\u001b[0;34m=\u001b[0m\u001b[0;34m'w'\u001b[0m\u001b[0;34m)\u001b[0m\u001b[0;34m\u001b[0m\u001b[0;34m\u001b[0m\u001b[0m\n\u001b[0m\u001b[1;32m    103\u001b[0m     \u001b[0mopened_new_file\u001b[0m \u001b[0;34m=\u001b[0m \u001b[0;32mTrue\u001b[0m\u001b[0;34m\u001b[0m\u001b[0;34m\u001b[0m\u001b[0m\n\u001b[1;32m    104\u001b[0m   \u001b[0;32melse\u001b[0m\u001b[0;34m:\u001b[0m\u001b[0;34m\u001b[0m\u001b[0;34m\u001b[0m\u001b[0m\n",
            "\u001b[0;32m/usr/local/lib/python3.6/dist-packages/h5py/_hl/files.py\u001b[0m in \u001b[0;36m__init__\u001b[0;34m(self, name, mode, driver, libver, userblock_size, swmr, rdcc_nslots, rdcc_nbytes, rdcc_w0, track_order, **kwds)\u001b[0m\n\u001b[1;32m    406\u001b[0m                 fid = make_fid(name, mode, userblock_size,\n\u001b[1;32m    407\u001b[0m                                \u001b[0mfapl\u001b[0m\u001b[0;34m,\u001b[0m \u001b[0mfcpl\u001b[0m\u001b[0;34m=\u001b[0m\u001b[0mmake_fcpl\u001b[0m\u001b[0;34m(\u001b[0m\u001b[0mtrack_order\u001b[0m\u001b[0;34m=\u001b[0m\u001b[0mtrack_order\u001b[0m\u001b[0;34m)\u001b[0m\u001b[0;34m,\u001b[0m\u001b[0;34m\u001b[0m\u001b[0;34m\u001b[0m\u001b[0m\n\u001b[0;32m--> 408\u001b[0;31m                                swmr=swmr)\n\u001b[0m\u001b[1;32m    409\u001b[0m \u001b[0;34m\u001b[0m\u001b[0m\n\u001b[1;32m    410\u001b[0m             \u001b[0;32mif\u001b[0m \u001b[0misinstance\u001b[0m\u001b[0;34m(\u001b[0m\u001b[0mlibver\u001b[0m\u001b[0;34m,\u001b[0m \u001b[0mtuple\u001b[0m\u001b[0;34m)\u001b[0m\u001b[0;34m:\u001b[0m\u001b[0;34m\u001b[0m\u001b[0;34m\u001b[0m\u001b[0m\n",
            "\u001b[0;32m/usr/local/lib/python3.6/dist-packages/h5py/_hl/files.py\u001b[0m in \u001b[0;36mmake_fid\u001b[0;34m(name, mode, userblock_size, fapl, fcpl, swmr)\u001b[0m\n\u001b[1;32m    177\u001b[0m         \u001b[0mfid\u001b[0m \u001b[0;34m=\u001b[0m \u001b[0mh5f\u001b[0m\u001b[0;34m.\u001b[0m\u001b[0mcreate\u001b[0m\u001b[0;34m(\u001b[0m\u001b[0mname\u001b[0m\u001b[0;34m,\u001b[0m \u001b[0mh5f\u001b[0m\u001b[0;34m.\u001b[0m\u001b[0mACC_EXCL\u001b[0m\u001b[0;34m,\u001b[0m \u001b[0mfapl\u001b[0m\u001b[0;34m=\u001b[0m\u001b[0mfapl\u001b[0m\u001b[0;34m,\u001b[0m \u001b[0mfcpl\u001b[0m\u001b[0;34m=\u001b[0m\u001b[0mfcpl\u001b[0m\u001b[0;34m)\u001b[0m\u001b[0;34m\u001b[0m\u001b[0;34m\u001b[0m\u001b[0m\n\u001b[1;32m    178\u001b[0m     \u001b[0;32melif\u001b[0m \u001b[0mmode\u001b[0m \u001b[0;34m==\u001b[0m \u001b[0;34m'w'\u001b[0m\u001b[0;34m:\u001b[0m\u001b[0;34m\u001b[0m\u001b[0;34m\u001b[0m\u001b[0m\n\u001b[0;32m--> 179\u001b[0;31m         \u001b[0mfid\u001b[0m \u001b[0;34m=\u001b[0m \u001b[0mh5f\u001b[0m\u001b[0;34m.\u001b[0m\u001b[0mcreate\u001b[0m\u001b[0;34m(\u001b[0m\u001b[0mname\u001b[0m\u001b[0;34m,\u001b[0m \u001b[0mh5f\u001b[0m\u001b[0;34m.\u001b[0m\u001b[0mACC_TRUNC\u001b[0m\u001b[0;34m,\u001b[0m \u001b[0mfapl\u001b[0m\u001b[0;34m=\u001b[0m\u001b[0mfapl\u001b[0m\u001b[0;34m,\u001b[0m \u001b[0mfcpl\u001b[0m\u001b[0;34m=\u001b[0m\u001b[0mfcpl\u001b[0m\u001b[0;34m)\u001b[0m\u001b[0;34m\u001b[0m\u001b[0;34m\u001b[0m\u001b[0m\n\u001b[0m\u001b[1;32m    180\u001b[0m     \u001b[0;32melif\u001b[0m \u001b[0mmode\u001b[0m \u001b[0;34m==\u001b[0m \u001b[0;34m'a'\u001b[0m\u001b[0;34m:\u001b[0m\u001b[0;34m\u001b[0m\u001b[0;34m\u001b[0m\u001b[0m\n\u001b[1;32m    181\u001b[0m         \u001b[0;31m# Open in append mode (read/write).\u001b[0m\u001b[0;34m\u001b[0m\u001b[0;34m\u001b[0m\u001b[0;34m\u001b[0m\u001b[0m\n",
            "\u001b[0;32mh5py/_objects.pyx\u001b[0m in \u001b[0;36mh5py._objects.with_phil.wrapper\u001b[0;34m()\u001b[0m\n",
            "\u001b[0;32mh5py/_objects.pyx\u001b[0m in \u001b[0;36mh5py._objects.with_phil.wrapper\u001b[0;34m()\u001b[0m\n",
            "\u001b[0;32mh5py/h5f.pyx\u001b[0m in \u001b[0;36mh5py.h5f.create\u001b[0;34m()\u001b[0m\n",
            "\u001b[0;31mOSError\u001b[0m: Unable to create file (unable to open file: name = '/content/drive/My Drive/covid 1st dataset', errno = 21, error message = 'Is a directory', flags = 13, o_flags = 242)"
          ]
        },
        {
          "output_type": "display_data",
          "data": {
            "image/png": "[encoded data removed]",
            "text/plain": [
              "<Figure size 432x288 with 1 Axes>"
            ]
          },
          "metadata": {
            "tags": []
          }
        }
      ]
    }
  ]
}