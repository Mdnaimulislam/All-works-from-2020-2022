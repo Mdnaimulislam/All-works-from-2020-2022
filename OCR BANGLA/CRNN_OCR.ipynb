{
  "nbformat": 4,
  "nbformat_minor": 0,
  "metadata": {
    "colab": {
      "name": "CRNN_OCR.ipynb",
      "provenance": []
    },
    "kernelspec": {
      "name": "python3",
      "display_name": "Python 3"
    },
    "accelerator": "GPU"
  },
  "cells": [
    {
      "cell_type": "code",
      "metadata": {
        "id": "gft_NsaJ4eDY"
      },
      "source": [
        "DATA_DIR = \"/content/drive/MyDrive/captcha_images_v2/\"\n",
        "BATCH_SIZE = 8\n",
        "IMAGE_WIDTH = 300\n",
        "IMAGE_HEIGHT = 75\n",
        "NUM_WORKERS = 8\n",
        "EPOCHS = 100\n",
        "DEVICE = \"cuda\"\n"
      ],
      "execution_count": null,
      "outputs": []
    },
    {
      "cell_type": "markdown",
      "metadata": {
        "id": "BuBOSsl5BxaT"
      },
      "source": [
        "dataset\n"
      ]
    },
    {
      "cell_type": "code",
      "metadata": {
        "id": "HnNOZJV3BvhV"
      },
      "source": [
        "import albumentations\n",
        "import torch\n",
        "\n",
        "import numpy as np\n",
        "\n",
        "from PIL import Image\n",
        "from PIL import ImageFile\n",
        "\n",
        "ImageFile.LOAD_TRUNCATED_IMAGES = True\n",
        "\n",
        "\n",
        "class ClassificationDataset:\n",
        "    def __init__(self, image_paths, targets, resize=None):\n",
        "        # resize = (height, width)\n",
        "        self.image_paths = image_paths\n",
        "        self.targets = targets\n",
        "        self.resize = resize\n",
        "\n",
        "        mean = (0.485, 0.456, 0.406)\n",
        "        std = (0.229, 0.224, 0.225)\n",
        "        self.aug = albumentations.Compose(\n",
        "            [\n",
        "                albumentations.Normalize(\n",
        "                    mean, std, max_pixel_value=255.0, always_apply=True\n",
        "                )\n",
        "            ]\n",
        "        )\n",
        "\n",
        "    def __len__(self):\n",
        "        return len(self.image_paths)\n",
        "\n",
        "    def __getitem__(self, item):\n",
        "        image = Image.open(self.image_paths[item]).convert(\"RGB\")\n",
        "        targets = self.targets[item]\n",
        "\n",
        "        if self.resize is not None:\n",
        "            image = image.resize(\n",
        "                (self.resize[1], self.resize[0]), resample=Image.BILINEAR\n",
        "            )\n",
        "\n",
        "        image = np.array(image)\n",
        "        augmented = self.aug(image=image)\n",
        "        image = augmented[\"image\"]\n",
        "        image = np.transpose(image, (2, 0, 1)).astype(np.float32)\n",
        "\n",
        "        return {\n",
        "            \"images\": torch.tensor(image, dtype=torch.float),\n",
        "            \"targets\": torch.tensor(targets, dtype=torch.long),\n",
        "        }\n"
      ],
      "execution_count": null,
      "outputs": []
    },
    {
      "cell_type": "markdown",
      "metadata": {
        "id": "f6PfddM3B-jc"
      },
      "source": [
        "engine"
      ]
    },
    {
      "cell_type": "code",
      "metadata": {
        "id": "AkhVoSbABvjz"
      },
      "source": [
        "from tqdm import tqdm\n",
        "import torch\n",
        "\n",
        "\n",
        "def train_fn(model, data_loader, optimizer):\n",
        "    model.train()\n",
        "    fin_loss = 0\n",
        "    tk0 = tqdm(data_loader, total=len(data_loader))\n",
        "    for data in tk0:\n",
        "        for key, value in data.items():\n",
        "            data[key] = value.to(DEVICE)\n",
        "        optimizer.zero_grad()\n",
        "        _, loss = model(**data)\n",
        "        loss.backward()\n",
        "        optimizer.step()\n",
        "        fin_loss += loss.item()\n",
        "    return fin_loss / len(data_loader)\n",
        "\n",
        "\n",
        "def eval_fn(model, data_loader):\n",
        "    model.eval()\n",
        "    fin_loss = 0\n",
        "    fin_preds = []\n",
        "    tk0 = tqdm(data_loader, total=len(data_loader))\n",
        "    for data in tk0:\n",
        "        for key, value in data.items():\n",
        "            data[key] = value.to(DEVICE)\n",
        "        batch_preds, loss = model(**data)\n",
        "        fin_loss += loss.item()\n",
        "        fin_preds.append(batch_preds)\n",
        "    return fin_preds, fin_loss / len(data_loader)\n"
      ],
      "execution_count": null,
      "outputs": []
    },
    {
      "cell_type": "markdown",
      "metadata": {
        "id": "mM4gE95UCPA8"
      },
      "source": [
        "Model"
      ]
    },
    {
      "cell_type": "code",
      "metadata": {
        "id": "KTjb-1pvBvmH"
      },
      "source": [
        "import torch\n",
        "from torch import nn\n",
        "from torch.nn import functional as F\n",
        "\n",
        "\n",
        "class CaptchaModel(nn.Module):\n",
        "    def __init__(self, num_chars):\n",
        "        super(CaptchaModel, self).__init__()\n",
        "        self.conv_1 = nn.Conv2d(3, 128, kernel_size=(3, 6), padding=(1, 1))\n",
        "        self.pool_1 = nn.MaxPool2d(kernel_size=(2, 2))\n",
        "        self.conv_2 = nn.Conv2d(128, 64, kernel_size=(3, 6), padding=(1, 1))\n",
        "        self.pool_2 = nn.MaxPool2d(kernel_size=(2, 2))\n",
        "        self.linear_1 = nn.Linear(1152, 64)\n",
        "        self.drop_1 = nn.Dropout(0.2)\n",
        "        self.lstm = nn.GRU(64, 32, bidirectional=True, num_layers=2, dropout=0.25, batch_first=True)\n",
        "        self.output = nn.Linear(64, num_chars + 1)\n",
        "\n",
        "    def forward(self, images, targets=None):\n",
        "        bs, _, _, _ = images.size()\n",
        "      \n",
        "        x = F.relu(self.conv_1(images))\n",
        "       \n",
        "        x = self.pool_1(x)\n",
        "      \n",
        "        x = F.relu(self.conv_2(x))\n",
        "     \n",
        "        x = self.pool_2(x) #1,64,12,47\n",
        "     \n",
        "        x = x.permute(0, 3, 1, 2) # 1,47,64,12\n",
        "     \n",
        "        x = x.view(bs, x.size(1), -1)\n",
        "       \n",
        "        x = F.relu(self.linear_1(x))\n",
        "        x = self.drop_1(x)\n",
        "       \n",
        "        x, _ = self.lstm(x)\n",
        "       \n",
        "        x = self.output(x)\n",
        "       \n",
        "        x = x.permute(1, 0, 2)\n",
        "\n",
        "        if targets is not None:\n",
        "            log_probs = F.log_softmax(x, 2)\n",
        "            input_lengths = torch.full(\n",
        "                size=(bs,), fill_value=log_probs.size(0), dtype=torch.int32\n",
        "            )\n",
        "           \n",
        "            target_lengths = torch.full(\n",
        "                size=(bs,), fill_value=targets.size(1), dtype=torch.int32\n",
        "            )\n",
        "            \n",
        "            loss = nn.CTCLoss(blank=0)(\n",
        "                log_probs, targets, input_lengths, target_lengths\n",
        "            )\n",
        "            return x, loss\n",
        "\n",
        "        return x, None\n",
        "\n",
        "\n",
        "if __name__ == \"__main__\":\n",
        "    cm = CaptchaModel(19)\n",
        "    img = torch.rand((1, 3, 75, 300))\n",
        "    x, _ = cm(img, torch.rand((1, 5)))\n"
      ],
      "execution_count": null,
      "outputs": []
    },
    {
      "cell_type": "markdown",
      "metadata": {
        "id": "H1KEX82UMX-b"
      },
      "source": [
        "Train"
      ]
    },
    {
      "cell_type": "code",
      "metadata": {
        "colab": {
          "base_uri": "https://localhost:8080/"
        },
        "id": "8wpxX-iFBvoV",
        "outputId": "1d11f170-efb3-40e7-a7cf-617a22d54800"
      },
      "source": [
        "import os\n",
        "import glob\n",
        "import torch\n",
        "import numpy as np\n",
        "\n",
        "import albumentations\n",
        "from sklearn import preprocessing\n",
        "from sklearn import model_selection\n",
        "from sklearn import metrics\n",
        "\n",
        "\n",
        "\n",
        "\n",
        "from torch import nn\n",
        "\n",
        "\n",
        "def remove_duplicates(x):\n",
        "    if len(x) < 2:\n",
        "        return x\n",
        "    fin = \"\"\n",
        "    for j in x:\n",
        "        if fin == \"\":\n",
        "            fin = j\n",
        "        else:\n",
        "            if j == fin[-1]:\n",
        "                continue\n",
        "            else:\n",
        "                fin = fin + j\n",
        "    return fin\n",
        "\n",
        "\n",
        "def decode_predictions(preds, encoder):\n",
        "    preds = preds.permute(1, 0, 2)\n",
        "    preds = torch.softmax(preds, 2)\n",
        "    preds = torch.argmax(preds, 2)\n",
        "    preds = preds.detach().cpu().numpy()\n",
        "    cap_preds = []\n",
        "    for j in range(preds.shape[0]):\n",
        "        temp = []\n",
        "        for k in preds[j, :]:\n",
        "            k = k - 1\n",
        "            if k == -1:\n",
        "                temp.append(\"§\")\n",
        "            else:\n",
        "                p = encoder.inverse_transform([k])[0]\n",
        "                temp.append(p)\n",
        "        tp = \"\".join(temp).replace(\"§\", \"\")\n",
        "        cap_preds.append(remove_duplicates(tp))\n",
        "    return cap_preds\n",
        "\n",
        "\n",
        "def run_training():\n",
        "    image_files = glob.glob(os.path.join(DATA_DIR, \"*.png\"))\n",
        "    targets_orig = [x.split(\"/\")[-1][:-4] for x in image_files]\n",
        "    targets = [[c for c in x] for x in targets_orig]\n",
        "    targets_flat = [c for clist in targets for c in clist]\n",
        "\n",
        "    lbl_enc = preprocessing.LabelEncoder()\n",
        "    lbl_enc.fit(targets_flat)\n",
        "    targets_enc = [lbl_enc.transform(x) for x in targets]\n",
        "    targets_enc = np.array(targets_enc)\n",
        "    targets_enc = targets_enc + 1\n",
        "\n",
        "    (\n",
        "        train_imgs,\n",
        "        test_imgs,\n",
        "        train_targets,\n",
        "        test_targets,\n",
        "        _,\n",
        "        test_targets_orig,\n",
        "    ) = model_selection.train_test_split(\n",
        "        image_files, targets_enc, targets_orig, test_size=0.1, random_state=42\n",
        "    )\n",
        "\n",
        "    train_dataset = ClassificationDataset(\n",
        "        image_paths=train_imgs,\n",
        "        targets=train_targets,\n",
        "        resize=(IMAGE_HEIGHT, IMAGE_WIDTH),\n",
        "    )\n",
        "    train_loader = torch.utils.data.DataLoader(\n",
        "        train_dataset,\n",
        "        batch_size=BATCH_SIZE,\n",
        "        num_workers=NUM_WORKERS,\n",
        "        shuffle=True,\n",
        "    )\n",
        "    test_dataset = ClassificationDataset(\n",
        "        image_paths=test_imgs,\n",
        "        targets=test_targets,\n",
        "        resize=(IMAGE_HEIGHT,IMAGE_WIDTH),\n",
        "    )\n",
        "    test_loader = torch.utils.data.DataLoader(\n",
        "        test_dataset,\n",
        "        batch_size=BATCH_SIZE,\n",
        "        num_workers=NUM_WORKERS,\n",
        "        shuffle=False,\n",
        "    )\n",
        "\n",
        "    model = CaptchaModel(num_chars=len(lbl_enc.classes_))\n",
        "    model.to(DEVICE)\n",
        "\n",
        "    optimizer = torch.optim.Adam(model.parameters(), lr=3e-4)\n",
        "    scheduler = torch.optim.lr_scheduler.ReduceLROnPlateau(\n",
        "        optimizer, factor=0.8, patience=5, verbose=True\n",
        "    )\n",
        "    for epoch in range(EPOCHS):\n",
        "        train_loss = train_fn(model, train_loader, optimizer)\n",
        "        valid_preds, test_loss = eval_fn(model, test_loader)\n",
        "        valid_captcha_preds = []\n",
        "        for vp in valid_preds:\n",
        "            current_preds = decode_predictions(vp, lbl_enc)\n",
        "            valid_captcha_preds.extend(current_preds)\n",
        "        combined = list(zip(test_targets_orig, valid_captcha_preds))\n",
        "        print(combined[:10])\n",
        "        test_dup_rem = [remove_duplicates(c) for c in test_targets_orig]\n",
        "        accuracy = metrics.accuracy_score(test_dup_rem, valid_captcha_preds)\n",
        "        print(\n",
        "            f\"Epoch={epoch}, Train Loss={train_loss}, Test Loss={test_loss} Accuracy={accuracy}\"\n",
        "        )\n",
        "        scheduler.step(test_loss)\n",
        "\n",
        "\n",
        "if __name__ == \"__main__\":\n",
        "    run_training()\n"
      ],
      "execution_count": null,
      "outputs": [
        {
          "output_type": "stream",
          "text": [
            "100%|██████████| 117/117 [00:05<00:00, 21.89it/s]\n",
            "100%|██████████| 13/13 [00:00<00:00, 15.32it/s]\n",
            "  0%|          | 0/117 [00:00<?, ?it/s]"
          ],
          "name": "stderr"
        },
        {
          "output_type": "stream",
          "text": [
            "[('44c22', ''), ('ffnxn', ''), ('24pew', ''), ('6g45w', ''), ('m8gmx', ''), ('x3deb', ''), ('76y6f', ''), ('8eggg', ''), ('deneb', ''), ('bc8nf', '')]\n",
            "Epoch=0, Train Loss=7.997543459264641, Test Loss=3.344548225402832 Accuracy=0.0\n"
          ],
          "name": "stdout"
        },
        {
          "output_type": "stream",
          "text": [
            "100%|██████████| 117/117 [00:05<00:00, 22.17it/s]\n",
            "100%|██████████| 13/13 [00:00<00:00, 15.54it/s]\n",
            "  0%|          | 0/117 [00:00<?, ?it/s]"
          ],
          "name": "stderr"
        },
        {
          "output_type": "stream",
          "text": [
            "[('44c22', ''), ('ffnxn', ''), ('24pew', ''), ('6g45w', ''), ('m8gmx', ''), ('x3deb', ''), ('76y6f', ''), ('8eggg', ''), ('deneb', ''), ('bc8nf', '')]\n",
            "Epoch=1, Train Loss=3.3034496592660236, Test Loss=3.281954893699059 Accuracy=0.0\n"
          ],
          "name": "stdout"
        },
        {
          "output_type": "stream",
          "text": [
            "100%|██████████| 117/117 [00:05<00:00, 22.38it/s]\n",
            "100%|██████████| 13/13 [00:00<00:00, 15.59it/s]\n",
            "  0%|          | 0/117 [00:00<?, ?it/s]"
          ],
          "name": "stderr"
        },
        {
          "output_type": "stream",
          "text": [
            "[('44c22', ''), ('ffnxn', ''), ('24pew', ''), ('6g45w', ''), ('m8gmx', ''), ('x3deb', ''), ('76y6f', ''), ('8eggg', ''), ('deneb', ''), ('bc8nf', '')]\n",
            "Epoch=2, Train Loss=3.273097704618405, Test Loss=3.2723312194530783 Accuracy=0.0\n"
          ],
          "name": "stdout"
        },
        {
          "output_type": "stream",
          "text": [
            "100%|██████████| 117/117 [00:05<00:00, 22.39it/s]\n",
            "100%|██████████| 13/13 [00:00<00:00, 15.25it/s]\n",
            "  0%|          | 0/117 [00:00<?, ?it/s]"
          ],
          "name": "stderr"
        },
        {
          "output_type": "stream",
          "text": [
            "[('44c22', ''), ('ffnxn', ''), ('24pew', ''), ('6g45w', ''), ('m8gmx', ''), ('x3deb', ''), ('76y6f', ''), ('8eggg', ''), ('deneb', ''), ('bc8nf', '')]\n",
            "Epoch=3, Train Loss=3.2690807713402643, Test Loss=3.2694003398601827 Accuracy=0.0\n"
          ],
          "name": "stdout"
        },
        {
          "output_type": "stream",
          "text": [
            "100%|██████████| 117/117 [00:05<00:00, 22.29it/s]\n",
            "100%|██████████| 13/13 [00:00<00:00, 15.58it/s]\n",
            "  0%|          | 0/117 [00:00<?, ?it/s]"
          ],
          "name": "stderr"
        },
        {
          "output_type": "stream",
          "text": [
            "[('44c22', ''), ('ffnxn', ''), ('24pew', ''), ('6g45w', ''), ('m8gmx', ''), ('x3deb', ''), ('76y6f', ''), ('8eggg', ''), ('deneb', ''), ('bc8nf', '')]\n",
            "Epoch=4, Train Loss=3.267917952985845, Test Loss=3.269797343474168 Accuracy=0.0\n"
          ],
          "name": "stdout"
        },
        {
          "output_type": "stream",
          "text": [
            "100%|██████████| 117/117 [00:05<00:00, 22.17it/s]\n",
            "100%|██████████| 13/13 [00:00<00:00, 15.86it/s]\n",
            "  0%|          | 0/117 [00:00<?, ?it/s]"
          ],
          "name": "stderr"
        },
        {
          "output_type": "stream",
          "text": [
            "[('44c22', ''), ('ffnxn', ''), ('24pew', ''), ('6g45w', ''), ('m8gmx', ''), ('x3deb', ''), ('76y6f', ''), ('8eggg', ''), ('deneb', ''), ('bc8nf', '')]\n",
            "Epoch=5, Train Loss=3.267406453434219, Test Loss=3.2681408662062426 Accuracy=0.0\n"
          ],
          "name": "stdout"
        },
        {
          "output_type": "stream",
          "text": [
            "100%|██████████| 117/117 [00:05<00:00, 22.53it/s]\n",
            "100%|██████████| 13/13 [00:00<00:00, 15.84it/s]\n",
            "  0%|          | 0/117 [00:00<?, ?it/s]"
          ],
          "name": "stderr"
        },
        {
          "output_type": "stream",
          "text": [
            "[('44c22', ''), ('ffnxn', ''), ('24pew', ''), ('6g45w', ''), ('m8gmx', ''), ('x3deb', ''), ('76y6f', ''), ('8eggg', ''), ('deneb', ''), ('bc8nf', '')]\n",
            "Epoch=6, Train Loss=3.2680393304580297, Test Loss=3.2683250170487623 Accuracy=0.0\n"
          ],
          "name": "stdout"
        },
        {
          "output_type": "stream",
          "text": [
            "100%|██████████| 117/117 [00:05<00:00, 22.37it/s]\n",
            "100%|██████████| 13/13 [00:00<00:00, 15.51it/s]\n",
            "  0%|          | 0/117 [00:00<?, ?it/s]"
          ],
          "name": "stderr"
        },
        {
          "output_type": "stream",
          "text": [
            "[('44c22', ''), ('ffnxn', ''), ('24pew', ''), ('6g45w', ''), ('m8gmx', ''), ('x3deb', ''), ('76y6f', ''), ('8eggg', ''), ('deneb', ''), ('bc8nf', '')]\n",
            "Epoch=7, Train Loss=3.2677725319169526, Test Loss=3.2729125573084903 Accuracy=0.0\n"
          ],
          "name": "stdout"
        },
        {
          "output_type": "stream",
          "text": [
            "100%|██████████| 117/117 [00:05<00:00, 22.09it/s]\n",
            "100%|██████████| 13/13 [00:00<00:00, 15.16it/s]\n",
            "  0%|          | 0/117 [00:00<?, ?it/s]"
          ],
          "name": "stderr"
        },
        {
          "output_type": "stream",
          "text": [
            "[('44c22', ''), ('ffnxn', ''), ('24pew', ''), ('6g45w', ''), ('m8gmx', ''), ('x3deb', ''), ('76y6f', ''), ('8eggg', ''), ('deneb', ''), ('bc8nf', '')]\n",
            "Epoch=8, Train Loss=3.266877302756676, Test Loss=3.2727669935960035 Accuracy=0.0\n"
          ],
          "name": "stdout"
        },
        {
          "output_type": "stream",
          "text": [
            "100%|██████████| 117/117 [00:05<00:00, 22.15it/s]\n",
            "100%|██████████| 13/13 [00:00<00:00, 15.38it/s]\n",
            "  0%|          | 0/117 [00:00<?, ?it/s]"
          ],
          "name": "stderr"
        },
        {
          "output_type": "stream",
          "text": [
            "[('44c22', ''), ('ffnxn', ''), ('24pew', ''), ('6g45w', ''), ('m8gmx', ''), ('x3deb', ''), ('76y6f', ''), ('8eggg', ''), ('deneb', ''), ('bc8nf', '')]\n",
            "Epoch=9, Train Loss=3.2679724998963184, Test Loss=3.2682418639843283 Accuracy=0.0\n"
          ],
          "name": "stdout"
        },
        {
          "output_type": "stream",
          "text": [
            "100%|██████████| 117/117 [00:05<00:00, 22.31it/s]\n",
            "100%|██████████| 13/13 [00:00<00:00, 15.74it/s]\n",
            "  0%|          | 0/117 [00:00<?, ?it/s]"
          ],
          "name": "stderr"
        },
        {
          "output_type": "stream",
          "text": [
            "[('44c22', ''), ('ffnxn', ''), ('24pew', ''), ('6g45w', ''), ('m8gmx', ''), ('x3deb', ''), ('76y6f', ''), ('8eggg', ''), ('deneb', ''), ('bc8nf', '')]\n",
            "Epoch=10, Train Loss=3.2669726498106604, Test Loss=3.2682204980116625 Accuracy=0.0\n"
          ],
          "name": "stdout"
        },
        {
          "output_type": "stream",
          "text": [
            "100%|██████████| 117/117 [00:05<00:00, 22.52it/s]\n",
            "100%|██████████| 13/13 [00:00<00:00, 15.55it/s]\n",
            "  0%|          | 0/117 [00:00<?, ?it/s]"
          ],
          "name": "stderr"
        },
        {
          "output_type": "stream",
          "text": [
            "[('44c22', ''), ('ffnxn', ''), ('24pew', ''), ('6g45w', ''), ('m8gmx', ''), ('x3deb', ''), ('76y6f', ''), ('8eggg', ''), ('deneb', ''), ('bc8nf', '')]\n",
            "Epoch=11, Train Loss=3.26767714206989, Test Loss=3.272613213612483 Accuracy=0.0\n",
            "Epoch    12: reducing learning rate of group 0 to 2.4000e-04.\n"
          ],
          "name": "stdout"
        },
        {
          "output_type": "stream",
          "text": [
            "100%|██████████| 117/117 [00:05<00:00, 22.65it/s]\n",
            "100%|██████████| 13/13 [00:00<00:00, 15.53it/s]\n",
            "  0%|          | 0/117 [00:00<?, ?it/s]"
          ],
          "name": "stderr"
        },
        {
          "output_type": "stream",
          "text": [
            "[('44c22', ''), ('ffnxn', ''), ('24pew', ''), ('6g45w', ''), ('m8gmx', ''), ('x3deb', ''), ('76y6f', ''), ('8eggg', ''), ('deneb', ''), ('bc8nf', '')]\n",
            "Epoch=12, Train Loss=3.2660403455424514, Test Loss=3.269212851157555 Accuracy=0.0\n"
          ],
          "name": "stdout"
        },
        {
          "output_type": "stream",
          "text": [
            "100%|██████████| 117/117 [00:05<00:00, 22.47it/s]\n",
            "100%|██████████| 13/13 [00:00<00:00, 15.17it/s]\n",
            "  0%|          | 0/117 [00:00<?, ?it/s]"
          ],
          "name": "stderr"
        },
        {
          "output_type": "stream",
          "text": [
            "[('44c22', ''), ('ffnxn', ''), ('24pew', ''), ('6g45w', ''), ('m8gmx', ''), ('x3deb', ''), ('76y6f', ''), ('8eggg', ''), ('deneb', ''), ('bc8nf', '')]\n",
            "Epoch=13, Train Loss=3.2664179312877164, Test Loss=3.26950243803171 Accuracy=0.0\n"
          ],
          "name": "stdout"
        },
        {
          "output_type": "stream",
          "text": [
            "100%|██████████| 117/117 [00:05<00:00, 22.46it/s]\n",
            "100%|██████████| 13/13 [00:00<00:00, 15.45it/s]\n",
            "  0%|          | 0/117 [00:00<?, ?it/s]"
          ],
          "name": "stderr"
        },
        {
          "output_type": "stream",
          "text": [
            "[('44c22', ''), ('ffnxn', ''), ('24pew', ''), ('6g45w', ''), ('m8gmx', ''), ('x3deb', ''), ('76y6f', ''), ('8eggg', ''), ('deneb', ''), ('bc8nf', '')]\n",
            "Epoch=14, Train Loss=3.2662072324345255, Test Loss=3.2647240345294657 Accuracy=0.0\n"
          ],
          "name": "stdout"
        },
        {
          "output_type": "stream",
          "text": [
            "100%|██████████| 117/117 [00:05<00:00, 22.17it/s]\n",
            "100%|██████████| 13/13 [00:00<00:00, 15.15it/s]\n",
            "  0%|          | 0/117 [00:00<?, ?it/s]"
          ],
          "name": "stderr"
        },
        {
          "output_type": "stream",
          "text": [
            "[('44c22', ''), ('ffnxn', ''), ('24pew', ''), ('6g45w', ''), ('m8gmx', ''), ('x3deb', ''), ('76y6f', ''), ('8eggg', ''), ('deneb', ''), ('bc8nf', '')]\n",
            "Epoch=15, Train Loss=3.2651862507192497, Test Loss=3.2629942893981934 Accuracy=0.0\n"
          ],
          "name": "stdout"
        },
        {
          "output_type": "stream",
          "text": [
            "100%|██████████| 117/117 [00:05<00:00, 22.36it/s]\n",
            "100%|██████████| 13/13 [00:00<00:00, 15.19it/s]\n",
            "  0%|          | 0/117 [00:00<?, ?it/s]"
          ],
          "name": "stderr"
        },
        {
          "output_type": "stream",
          "text": [
            "[('44c22', ''), ('ffnxn', ''), ('24pew', ''), ('6g45w', ''), ('m8gmx', ''), ('x3deb', ''), ('76y6f', ''), ('8eggg', ''), ('deneb', ''), ('bc8nf', '')]\n",
            "Epoch=16, Train Loss=3.2638245708922033, Test Loss=3.2676910070272593 Accuracy=0.0\n"
          ],
          "name": "stdout"
        },
        {
          "output_type": "stream",
          "text": [
            "100%|██████████| 117/117 [00:05<00:00, 22.16it/s]\n",
            "100%|██████████| 13/13 [00:00<00:00, 15.50it/s]\n",
            "  0%|          | 0/117 [00:00<?, ?it/s]"
          ],
          "name": "stderr"
        },
        {
          "output_type": "stream",
          "text": [
            "[('44c22', ''), ('ffnxn', ''), ('24pew', ''), ('6g45w', ''), ('m8gmx', ''), ('x3deb', ''), ('76y6f', ''), ('8eggg', ''), ('deneb', ''), ('bc8nf', '')]\n",
            "Epoch=17, Train Loss=3.259913489349887, Test Loss=3.2697869630960317 Accuracy=0.0\n"
          ],
          "name": "stdout"
        },
        {
          "output_type": "stream",
          "text": [
            "100%|██████████| 117/117 [00:05<00:00, 22.25it/s]\n",
            "100%|██████████| 13/13 [00:00<00:00, 15.13it/s]\n",
            "  0%|          | 0/117 [00:00<?, ?it/s]"
          ],
          "name": "stderr"
        },
        {
          "output_type": "stream",
          "text": [
            "[('44c22', ''), ('ffnxn', ''), ('24pew', ''), ('6g45w', ''), ('m8gmx', ''), ('x3deb', ''), ('76y6f', ''), ('8eggg', ''), ('deneb', ''), ('bc8nf', '')]\n",
            "Epoch=18, Train Loss=3.2495243997655363, Test Loss=3.2618636901562033 Accuracy=0.0\n"
          ],
          "name": "stdout"
        },
        {
          "output_type": "stream",
          "text": [
            "100%|██████████| 117/117 [00:05<00:00, 22.45it/s]\n",
            "100%|██████████| 13/13 [00:00<00:00, 15.22it/s]\n",
            "  0%|          | 0/117 [00:00<?, ?it/s]"
          ],
          "name": "stderr"
        },
        {
          "output_type": "stream",
          "text": [
            "[('44c22', ''), ('ffnxn', ''), ('24pew', ''), ('6g45w', ''), ('m8gmx', ''), ('x3deb', ''), ('76y6f', ''), ('8eggg', ''), ('deneb', ''), ('bc8nf', '')]\n",
            "Epoch=19, Train Loss=3.22063032989828, Test Loss=3.218710789313683 Accuracy=0.0\n"
          ],
          "name": "stdout"
        },
        {
          "output_type": "stream",
          "text": [
            "100%|██████████| 117/117 [00:05<00:00, 22.59it/s]\n",
            "100%|██████████| 13/13 [00:00<00:00, 15.29it/s]\n",
            "  0%|          | 0/117 [00:00<?, ?it/s]"
          ],
          "name": "stderr"
        },
        {
          "output_type": "stream",
          "text": [
            "[('44c22', ''), ('ffnxn', ''), ('24pew', ''), ('6g45w', ''), ('m8gmx', ''), ('x3deb', ''), ('76y6f', ''), ('8eggg', ''), ('deneb', ''), ('bc8nf', '')]\n",
            "Epoch=20, Train Loss=3.1529956312261076, Test Loss=3.1223965057959924 Accuracy=0.0\n"
          ],
          "name": "stdout"
        },
        {
          "output_type": "stream",
          "text": [
            "100%|██████████| 117/117 [00:05<00:00, 22.41it/s]\n",
            "100%|██████████| 13/13 [00:00<00:00, 15.42it/s]\n",
            "  0%|          | 0/117 [00:00<?, ?it/s]"
          ],
          "name": "stderr"
        },
        {
          "output_type": "stream",
          "text": [
            "[('44c22', ''), ('ffnxn', ''), ('24pew', ''), ('6g45w', ''), ('m8gmx', ''), ('x3deb', ''), ('76y6f', ''), ('8eggg', ''), ('deneb', ''), ('bc8nf', '')]\n",
            "Epoch=21, Train Loss=3.0345067855639334, Test Loss=2.938327532548171 Accuracy=0.0\n"
          ],
          "name": "stdout"
        },
        {
          "output_type": "stream",
          "text": [
            "100%|██████████| 117/117 [00:05<00:00, 22.52it/s]\n",
            "100%|██████████| 13/13 [00:00<00:00, 15.63it/s]\n",
            "  0%|          | 0/117 [00:00<?, ?it/s]"
          ],
          "name": "stderr"
        },
        {
          "output_type": "stream",
          "text": [
            "[('44c22', ''), ('ffnxn', ''), ('24pew', ''), ('6g45w', ''), ('m8gmx', ''), ('x3deb', ''), ('76y6f', 'f'), ('8eggg', ''), ('deneb', ''), ('bc8nf', 'f')]\n",
            "Epoch=22, Train Loss=2.870778407806005, Test Loss=2.7069219809312086 Accuracy=0.0\n"
          ],
          "name": "stdout"
        },
        {
          "output_type": "stream",
          "text": [
            "100%|██████████| 117/117 [00:05<00:00, 22.54it/s]\n",
            "100%|██████████| 13/13 [00:00<00:00, 15.58it/s]\n",
            "  0%|          | 0/117 [00:00<?, ?it/s]"
          ],
          "name": "stderr"
        },
        {
          "output_type": "stream",
          "text": [
            "[('44c22', ''), ('ffnxn', 'f'), ('24pew', ''), ('6g45w', ''), ('m8gmx', ''), ('x3deb', ''), ('76y6f', 'f'), ('8eggg', ''), ('deneb', ''), ('bc8nf', 'f')]\n",
            "Epoch=23, Train Loss=2.651093423875988, Test Loss=2.429990364955022 Accuracy=0.0\n"
          ],
          "name": "stdout"
        },
        {
          "output_type": "stream",
          "text": [
            "100%|██████████| 117/117 [00:05<00:00, 22.48it/s]\n",
            "100%|██████████| 13/13 [00:00<00:00, 15.57it/s]\n",
            "  0%|          | 0/117 [00:00<?, ?it/s]"
          ],
          "name": "stderr"
        },
        {
          "output_type": "stream",
          "text": [
            "[('44c22', '42'), ('ffnxn', 'f'), ('24pew', '4'), ('6g45w', '4'), ('m8gmx', ''), ('x3deb', ''), ('76y6f', '7f'), ('8eggg', ''), ('deneb', ''), ('bc8nf', 'f')]\n",
            "Epoch=24, Train Loss=2.3712245154584575, Test Loss=2.0650134728505063 Accuracy=0.0\n"
          ],
          "name": "stdout"
        },
        {
          "output_type": "stream",
          "text": [
            "100%|██████████| 117/117 [00:05<00:00, 22.64it/s]\n",
            "100%|██████████| 13/13 [00:00<00:00, 15.60it/s]\n",
            "  0%|          | 0/117 [00:00<?, ?it/s]"
          ],
          "name": "stderr"
        },
        {
          "output_type": "stream",
          "text": [
            "[('44c22', '42'), ('ffnxn', 'f'), ('24pew', '4'), ('6g45w', '4'), ('m8gmx', '3'), ('x3deb', '3d'), ('76y6f', '7f'), ('8eggg', '3'), ('deneb', ''), ('bc8nf', 'd3f')]\n",
            "Epoch=25, Train Loss=2.015608609232128, Test Loss=1.6629746785530677 Accuracy=0.0\n"
          ],
          "name": "stdout"
        },
        {
          "output_type": "stream",
          "text": [
            "100%|██████████| 117/117 [00:05<00:00, 22.46it/s]\n",
            "100%|██████████| 13/13 [00:00<00:00, 15.53it/s]\n",
            "  0%|          | 0/117 [00:00<?, ?it/s]"
          ],
          "name": "stderr"
        },
        {
          "output_type": "stream",
          "text": [
            "[('44c22', '42'), ('ffnxn', 'f'), ('24pew', '4p'), ('6g45w', '45'), ('m8gmx', '3'), ('x3deb', '3db'), ('76y6f', '7yf'), ('8eggg', '3'), ('deneb', 'db'), ('bc8nf', 'd8f')]\n",
            "Epoch=26, Train Loss=1.6503614340073023, Test Loss=1.2997428545585046 Accuracy=0.028846153846153848\n"
          ],
          "name": "stdout"
        },
        {
          "output_type": "stream",
          "text": [
            "100%|██████████| 117/117 [00:05<00:00, 22.41it/s]\n",
            "100%|██████████| 13/13 [00:00<00:00, 15.39it/s]\n",
            "  0%|          | 0/117 [00:00<?, ?it/s]"
          ],
          "name": "stderr"
        },
        {
          "output_type": "stream",
          "text": [
            "[('44c22', '42'), ('ffnxn', 'f'), ('24pew', '24p'), ('6g45w', '6g45'), ('m8gmx', '8g'), ('x3deb', '3db'), ('76y6f', '76y6f'), ('8eggg', '3g'), ('deneb', 'db'), ('bc8nf', 'b8f')]\n",
            "Epoch=27, Train Loss=1.3182568305577986, Test Loss=1.0043000349631677 Accuracy=0.1346153846153846\n"
          ],
          "name": "stdout"
        },
        {
          "output_type": "stream",
          "text": [
            "100%|██████████| 117/117 [00:05<00:00, 22.47it/s]\n",
            "100%|██████████| 13/13 [00:00<00:00, 15.40it/s]\n",
            "  0%|          | 0/117 [00:00<?, ?it/s]"
          ],
          "name": "stderr"
        },
        {
          "output_type": "stream",
          "text": [
            "[('44c22', '42'), ('ffnxn', 'fn'), ('24pew', '24p'), ('6g45w', '6g45'), ('m8gmx', '8g'), ('x3deb', '3db'), ('76y6f', '76y6f'), ('8eggg', '8g'), ('deneb', 'db'), ('bc8nf', 'b8nf')]\n",
            "Epoch=28, Train Loss=1.049337522086934, Test Loss=0.7571818232536316 Accuracy=0.18269230769230768\n"
          ],
          "name": "stdout"
        },
        {
          "output_type": "stream",
          "text": [
            "100%|██████████| 117/117 [00:05<00:00, 22.30it/s]\n",
            "100%|██████████| 13/13 [00:00<00:00, 15.60it/s]\n",
            "  0%|          | 0/117 [00:00<?, ?it/s]"
          ],
          "name": "stderr"
        },
        {
          "output_type": "stream",
          "text": [
            "[('44c22', '4c2'), ('ffnxn', 'fxn'), ('24pew', '24p'), ('6g45w', '6g45'), ('m8gmx', '8gnx'), ('x3deb', 'x3db'), ('76y6f', '76y6f'), ('8eggg', '8g'), ('deneb', 'dnb'), ('bc8nf', 'bc8nf')]\n",
            "Epoch=29, Train Loss=0.8333237976090521, Test Loss=0.5798149704933167 Accuracy=0.40384615384615385\n"
          ],
          "name": "stdout"
        },
        {
          "output_type": "stream",
          "text": [
            "100%|██████████| 117/117 [00:05<00:00, 22.43it/s]\n",
            "100%|██████████| 13/13 [00:00<00:00, 15.57it/s]\n",
            "  0%|          | 0/117 [00:00<?, ?it/s]"
          ],
          "name": "stderr"
        },
        {
          "output_type": "stream",
          "text": [
            "[('44c22', '4c2'), ('ffnxn', 'fxn'), ('24pew', '24pew'), ('6g45w', '6g45'), ('m8gmx', '8gnx'), ('x3deb', 'x3deb'), ('76y6f', '76y6f'), ('8eggg', '8g'), ('deneb', 'denb'), ('bc8nf', 'bc8nf')]\n",
            "Epoch=30, Train Loss=0.6634473372728397, Test Loss=0.4595857491860023 Accuracy=0.5865384615384616\n"
          ],
          "name": "stdout"
        },
        {
          "output_type": "stream",
          "text": [
            "100%|██████████| 117/117 [00:05<00:00, 22.26it/s]\n",
            "100%|██████████| 13/13 [00:00<00:00, 15.79it/s]\n",
            "  0%|          | 0/117 [00:00<?, ?it/s]"
          ],
          "name": "stderr"
        },
        {
          "output_type": "stream",
          "text": [
            "[('44c22', '4c2'), ('ffnxn', 'fxn'), ('24pew', '24pew'), ('6g45w', '6g45w'), ('m8gmx', '8gnx'), ('x3deb', 'x3deb'), ('76y6f', '76y6f'), ('8eggg', '8eg'), ('deneb', 'deb'), ('bc8nf', 'bc8nf')]\n",
            "Epoch=31, Train Loss=0.556490484975342, Test Loss=0.38632578345445484 Accuracy=0.6442307692307693\n"
          ],
          "name": "stdout"
        },
        {
          "output_type": "stream",
          "text": [
            "100%|██████████| 117/117 [00:05<00:00, 22.41it/s]\n",
            "100%|██████████| 13/13 [00:00<00:00, 15.17it/s]\n",
            "  0%|          | 0/117 [00:00<?, ?it/s]"
          ],
          "name": "stderr"
        },
        {
          "output_type": "stream",
          "text": [
            "[('44c22', '4c2'), ('ffnxn', 'fxn'), ('24pew', '24pew'), ('6g45w', '6g45w'), ('m8gmx', '8gnx'), ('x3deb', 'x3deb'), ('76y6f', '76y6f'), ('8eggg', '8eg'), ('deneb', 'deb'), ('bc8nf', 'bc8nf')]\n",
            "Epoch=32, Train Loss=0.4658421713572282, Test Loss=0.34677393390582156 Accuracy=0.6538461538461539\n"
          ],
          "name": "stdout"
        },
        {
          "output_type": "stream",
          "text": [
            "100%|██████████| 117/117 [00:05<00:00, 22.34it/s]\n",
            "100%|██████████| 13/13 [00:00<00:00, 15.18it/s]\n",
            "  0%|          | 0/117 [00:00<?, ?it/s]"
          ],
          "name": "stderr"
        },
        {
          "output_type": "stream",
          "text": [
            "[('44c22', '4c2'), ('ffnxn', 'fnxn'), ('24pew', '24pew'), ('6g45w', '6g45w'), ('m8gmx', '8gnx'), ('x3deb', 'x3deb'), ('76y6f', '76y6f'), ('8eggg', '8eg'), ('deneb', 'deneb'), ('bc8nf', 'bc8nf')]\n",
            "Epoch=33, Train Loss=0.409149794624402, Test Loss=0.3337196891124432 Accuracy=0.7115384615384616\n"
          ],
          "name": "stdout"
        },
        {
          "output_type": "stream",
          "text": [
            "100%|██████████| 117/117 [00:05<00:00, 22.21it/s]\n",
            "100%|██████████| 13/13 [00:00<00:00, 15.66it/s]\n",
            "  0%|          | 0/117 [00:00<?, ?it/s]"
          ],
          "name": "stderr"
        },
        {
          "output_type": "stream",
          "text": [
            "[('44c22', '4c2'), ('ffnxn', 'fnxn'), ('24pew', '24pew'), ('6g45w', '6g45w'), ('m8gmx', '8gnx'), ('x3deb', 'x3deb'), ('76y6f', '76y6f'), ('8eggg', '8eg'), ('deneb', 'deneb'), ('bc8nf', 'bc8nf')]\n",
            "Epoch=34, Train Loss=0.36454639297265273, Test Loss=0.28183850531394666 Accuracy=0.7115384615384616\n"
          ],
          "name": "stdout"
        },
        {
          "output_type": "stream",
          "text": [
            "100%|██████████| 117/117 [00:05<00:00, 22.49it/s]\n",
            "100%|██████████| 13/13 [00:00<00:00, 15.30it/s]\n",
            "  0%|          | 0/117 [00:00<?, ?it/s]"
          ],
          "name": "stderr"
        },
        {
          "output_type": "stream",
          "text": [
            "[('44c22', '4c2'), ('ffnxn', 'fnxn'), ('24pew', '24pew'), ('6g45w', '6g45w'), ('m8gmx', '8gnx'), ('x3deb', 'x3deb'), ('76y6f', '76y6f'), ('8eggg', '8eg'), ('deneb', 'deb'), ('bc8nf', 'bc8nf')]\n",
            "Epoch=35, Train Loss=0.3256838175221386, Test Loss=0.24208418681071356 Accuracy=0.7019230769230769\n"
          ],
          "name": "stdout"
        },
        {
          "output_type": "stream",
          "text": [
            "100%|██████████| 117/117 [00:05<00:00, 22.36it/s]\n",
            "100%|██████████| 13/13 [00:00<00:00, 15.51it/s]\n",
            "  0%|          | 0/117 [00:00<?, ?it/s]"
          ],
          "name": "stderr"
        },
        {
          "output_type": "stream",
          "text": [
            "[('44c22', '4c2'), ('ffnxn', 'fnxn'), ('24pew', '24pew'), ('6g45w', '6g45w'), ('m8gmx', '8gnx'), ('x3deb', 'x3deb'), ('76y6f', '76y6f'), ('8eggg', '8eg'), ('deneb', 'deneb'), ('bc8nf', 'bc8nf')]\n",
            "Epoch=36, Train Loss=0.29742680254400283, Test Loss=0.2554709086051354 Accuracy=0.7403846153846154\n"
          ],
          "name": "stdout"
        },
        {
          "output_type": "stream",
          "text": [
            "100%|██████████| 117/117 [00:05<00:00, 22.60it/s]\n",
            "100%|██████████| 13/13 [00:00<00:00, 15.60it/s]\n",
            "  0%|          | 0/117 [00:00<?, ?it/s]"
          ],
          "name": "stderr"
        },
        {
          "output_type": "stream",
          "text": [
            "[('44c22', '4c2'), ('ffnxn', 'fmnxn'), ('24pew', '24pew'), ('6g45w', '6g45w'), ('m8gmx', '8gnx'), ('x3deb', 'x3deb'), ('76y6f', '76y6f'), ('8eggg', '8eg'), ('deneb', 'deneb'), ('bc8nf', 'bc8nf')]\n",
            "Epoch=37, Train Loss=0.2717105796576565, Test Loss=0.2199847251176834 Accuracy=0.7307692307692307\n"
          ],
          "name": "stdout"
        },
        {
          "output_type": "stream",
          "text": [
            "100%|██████████| 117/117 [00:05<00:00, 22.22it/s]\n",
            "100%|██████████| 13/13 [00:00<00:00, 15.54it/s]\n",
            "  0%|          | 0/117 [00:00<?, ?it/s]"
          ],
          "name": "stderr"
        },
        {
          "output_type": "stream",
          "text": [
            "[('44c22', '4c2'), ('ffnxn', 'fnxn'), ('24pew', '24pew'), ('6g45w', '6g45w'), ('m8gmx', '8gnx'), ('x3deb', 'x3deb'), ('76y6f', '76y6'), ('8eggg', '8eg'), ('deneb', 'deneb'), ('bc8nf', 'bc8nf')]\n",
            "Epoch=38, Train Loss=0.24778558078229937, Test Loss=0.1955772856107125 Accuracy=0.7115384615384616\n"
          ],
          "name": "stdout"
        },
        {
          "output_type": "stream",
          "text": [
            "100%|██████████| 117/117 [00:05<00:00, 22.32it/s]\n",
            "100%|██████████| 13/13 [00:00<00:00, 15.07it/s]\n",
            "  0%|          | 0/117 [00:00<?, ?it/s]"
          ],
          "name": "stderr"
        },
        {
          "output_type": "stream",
          "text": [
            "[('44c22', '4c2'), ('ffnxn', 'fmxn'), ('24pew', '24pew'), ('6g45w', '6g45w'), ('m8gmx', '8gnx'), ('x3deb', 'x3deb'), ('76y6f', '76y6f'), ('8eggg', '8eg'), ('deneb', 'deneb'), ('bc8nf', 'bc8nf')]\n",
            "Epoch=39, Train Loss=0.22678673795909962, Test Loss=0.1958886981010437 Accuracy=0.75\n"
          ],
          "name": "stdout"
        },
        {
          "output_type": "stream",
          "text": [
            "100%|██████████| 117/117 [00:05<00:00, 22.29it/s]\n",
            "100%|██████████| 13/13 [00:00<00:00, 15.62it/s]\n",
            "  0%|          | 0/117 [00:00<?, ?it/s]"
          ],
          "name": "stderr"
        },
        {
          "output_type": "stream",
          "text": [
            "[('44c22', '4c2'), ('ffnxn', 'fxn'), ('24pew', '24pew'), ('6g45w', '6g45w'), ('m8gmx', '8gnx'), ('x3deb', 'x3deb'), ('76y6f', '76y6f'), ('8eggg', '8eg'), ('deneb', 'demeb'), ('bc8nf', 'bc8nf')]\n",
            "Epoch=40, Train Loss=0.21449425186102206, Test Loss=0.17686446756124496 Accuracy=0.7115384615384616\n"
          ],
          "name": "stdout"
        },
        {
          "output_type": "stream",
          "text": [
            "100%|██████████| 117/117 [00:05<00:00, 22.21it/s]\n",
            "100%|██████████| 13/13 [00:00<00:00, 15.56it/s]\n",
            "  0%|          | 0/117 [00:00<?, ?it/s]"
          ],
          "name": "stderr"
        },
        {
          "output_type": "stream",
          "text": [
            "[('44c22', '4c2'), ('ffnxn', 'fnxn'), ('24pew', '24pew'), ('6g45w', '6g45w'), ('m8gmx', '8gnx'), ('x3deb', 'x3deb'), ('76y6f', '76y6f'), ('8eggg', '8eg'), ('deneb', 'deneb'), ('bc8nf', 'bc8nf')]\n",
            "Epoch=41, Train Loss=0.19801469561126497, Test Loss=0.16182710574223444 Accuracy=0.7884615384615384\n"
          ],
          "name": "stdout"
        },
        {
          "output_type": "stream",
          "text": [
            "100%|██████████| 117/117 [00:05<00:00, 22.42it/s]\n",
            "100%|██████████| 13/13 [00:00<00:00, 15.36it/s]\n",
            "  0%|          | 0/117 [00:00<?, ?it/s]"
          ],
          "name": "stderr"
        },
        {
          "output_type": "stream",
          "text": [
            "[('44c22', '4c2'), ('ffnxn', 'fnxn'), ('24pew', '24pew'), ('6g45w', '6g45w'), ('m8gmx', '8gnx'), ('x3deb', 'x3deb'), ('76y6f', '76y6f'), ('8eggg', '8eg'), ('deneb', 'deneb'), ('bc8nf', 'bc8nf')]\n",
            "Epoch=42, Train Loss=0.1906479697706353, Test Loss=0.16338728196345842 Accuracy=0.7788461538461539\n"
          ],
          "name": "stdout"
        },
        {
          "output_type": "stream",
          "text": [
            "100%|██████████| 117/117 [00:05<00:00, 22.36it/s]\n",
            "100%|██████████| 13/13 [00:00<00:00, 15.75it/s]\n",
            "  0%|          | 0/117 [00:00<?, ?it/s]"
          ],
          "name": "stderr"
        },
        {
          "output_type": "stream",
          "text": [
            "[('44c22', '4c2'), ('ffnxn', 'fnxn'), ('24pew', '24pew'), ('6g45w', '6g45w'), ('m8gmx', '8gnx'), ('x3deb', 'x3deb'), ('76y6f', '76y6f'), ('8eggg', '8eg'), ('deneb', 'deneb'), ('bc8nf', 'bc8nf')]\n",
            "Epoch=43, Train Loss=0.17552670116862681, Test Loss=0.15568446310666892 Accuracy=0.7980769230769231\n"
          ],
          "name": "stdout"
        },
        {
          "output_type": "stream",
          "text": [
            "100%|██████████| 117/117 [00:05<00:00, 22.37it/s]\n",
            "100%|██████████| 13/13 [00:00<00:00, 15.24it/s]\n",
            "  0%|          | 0/117 [00:00<?, ?it/s]"
          ],
          "name": "stderr"
        },
        {
          "output_type": "stream",
          "text": [
            "[('44c22', '4c2'), ('ffnxn', 'fxn'), ('24pew', '24pew'), ('6g45w', '6g45w'), ('m8gmx', 'm8gnx'), ('x3deb', 'x3deb'), ('76y6f', '76y6f'), ('8eggg', '8eg'), ('deneb', 'deneb'), ('bc8nf', 'bc8nf')]\n",
            "Epoch=44, Train Loss=0.16279283105435535, Test Loss=0.14456561752236807 Accuracy=0.8173076923076923\n"
          ],
          "name": "stdout"
        },
        {
          "output_type": "stream",
          "text": [
            "100%|██████████| 117/117 [00:05<00:00, 22.59it/s]\n",
            "100%|██████████| 13/13 [00:00<00:00, 15.25it/s]\n",
            "  0%|          | 0/117 [00:00<?, ?it/s]"
          ],
          "name": "stderr"
        },
        {
          "output_type": "stream",
          "text": [
            "[('44c22', '4c2'), ('ffnxn', 'fmnxn'), ('24pew', '24pew'), ('6g45w', '6g45w'), ('m8gmx', 'm8gnx'), ('x3deb', 'x3deb'), ('76y6f', '76y6f'), ('8eggg', '8eg'), ('deneb', 'deneb'), ('bc8nf', 'bc8nf')]\n",
            "Epoch=45, Train Loss=0.16204469160646454, Test Loss=0.1489048061462549 Accuracy=0.8269230769230769\n"
          ],
          "name": "stdout"
        },
        {
          "output_type": "stream",
          "text": [
            "100%|██████████| 117/117 [00:05<00:00, 22.39it/s]\n",
            "100%|██████████| 13/13 [00:00<00:00, 15.25it/s]\n",
            "  0%|          | 0/117 [00:00<?, ?it/s]"
          ],
          "name": "stderr"
        },
        {
          "output_type": "stream",
          "text": [
            "[('44c22', '4c2'), ('ffnxn', 'fnxn'), ('24pew', '24pew'), ('6g45w', '6g45w'), ('m8gmx', '8gnx'), ('x3deb', 'x3deb'), ('76y6f', '76y6f'), ('8eggg', '8eg'), ('deneb', 'deneb'), ('bc8nf', 'bc8nf')]\n",
            "Epoch=46, Train Loss=0.15191945038799548, Test Loss=0.12608663737773895 Accuracy=0.8461538461538461\n"
          ],
          "name": "stdout"
        },
        {
          "output_type": "stream",
          "text": [
            "100%|██████████| 117/117 [00:05<00:00, 22.48it/s]\n",
            "100%|██████████| 13/13 [00:00<00:00, 15.65it/s]\n",
            "  0%|          | 0/117 [00:00<?, ?it/s]"
          ],
          "name": "stderr"
        },
        {
          "output_type": "stream",
          "text": [
            "[('44c22', '4c2'), ('ffnxn', 'fmnxn'), ('24pew', '24pew'), ('6g45w', '6g45w'), ('m8gmx', '8gnx'), ('x3deb', 'x3deb'), ('76y6f', '76y6f'), ('8eggg', '8eg'), ('deneb', 'deneb'), ('bc8nf', 'bc8nf')]\n",
            "Epoch=47, Train Loss=0.14621121184820804, Test Loss=0.14727584415903458 Accuracy=0.8269230769230769\n"
          ],
          "name": "stdout"
        },
        {
          "output_type": "stream",
          "text": [
            "100%|██████████| 117/117 [00:05<00:00, 22.42it/s]\n",
            "100%|██████████| 13/13 [00:01<00:00, 12.85it/s]\n",
            "  0%|          | 0/117 [00:00<?, ?it/s]"
          ],
          "name": "stderr"
        },
        {
          "output_type": "stream",
          "text": [
            "[('44c22', '4c2'), ('ffnxn', 'fxn'), ('24pew', '24pew'), ('6g45w', '6g45w'), ('m8gmx', '8gnx'), ('x3deb', 'x3deb'), ('76y6f', '76y6f'), ('8eggg', '8eg'), ('deneb', 'deneb'), ('bc8nf', 'bc8nf')]\n",
            "Epoch=48, Train Loss=0.13656756428317127, Test Loss=0.14587992028548166 Accuracy=0.7980769230769231\n"
          ],
          "name": "stdout"
        },
        {
          "output_type": "stream",
          "text": [
            "100%|██████████| 117/117 [00:05<00:00, 22.41it/s]\n",
            "100%|██████████| 13/13 [00:00<00:00, 15.11it/s]\n",
            "  0%|          | 0/117 [00:00<?, ?it/s]"
          ],
          "name": "stderr"
        },
        {
          "output_type": "stream",
          "text": [
            "[('44c22', '4c2'), ('ffnxn', 'fnxn'), ('24pew', '24pew'), ('6g45w', '6g45w'), ('m8gmx', '8gnx'), ('x3deb', 'x3deb'), ('76y6f', '76y6f'), ('8eggg', '8eg'), ('deneb', 'deneb'), ('bc8nf', 'bc8nf')]\n",
            "Epoch=49, Train Loss=0.1391142338960089, Test Loss=0.11815578863024712 Accuracy=0.8365384615384616\n"
          ],
          "name": "stdout"
        },
        {
          "output_type": "stream",
          "text": [
            "100%|██████████| 117/117 [00:05<00:00, 22.32it/s]\n",
            "100%|██████████| 13/13 [00:00<00:00, 15.53it/s]\n",
            "  0%|          | 0/117 [00:00<?, ?it/s]"
          ],
          "name": "stderr"
        },
        {
          "output_type": "stream",
          "text": [
            "[('44c22', '4c2'), ('ffnxn', 'fmnxn'), ('24pew', '24pew'), ('6g45w', '6g45w'), ('m8gmx', 'm8gnx'), ('x3deb', 'x3deb'), ('76y6f', '76y6f'), ('8eggg', '8eg'), ('deneb', 'deneb'), ('bc8nf', 'bc8nf')]\n",
            "Epoch=50, Train Loss=0.12537819567399147, Test Loss=0.11426719822562657 Accuracy=0.8365384615384616\n"
          ],
          "name": "stdout"
        },
        {
          "output_type": "stream",
          "text": [
            "100%|██████████| 117/117 [00:05<00:00, 22.31it/s]\n",
            "100%|██████████| 13/13 [00:00<00:00, 15.47it/s]\n",
            "  0%|          | 0/117 [00:00<?, ?it/s]"
          ],
          "name": "stderr"
        },
        {
          "output_type": "stream",
          "text": [
            "[('44c22', '4c2'), ('ffnxn', 'fnxn'), ('24pew', '24pew'), ('6g45w', '6g45w'), ('m8gmx', '8gnx'), ('x3deb', 'x3deb'), ('76y6f', '76y6f'), ('8eggg', '8eg'), ('deneb', 'deneb'), ('bc8nf', 'bc8nf')]\n",
            "Epoch=51, Train Loss=0.1199601500844344, Test Loss=0.09994809444134052 Accuracy=0.8461538461538461\n"
          ],
          "name": "stdout"
        },
        {
          "output_type": "stream",
          "text": [
            "100%|██████████| 117/117 [00:05<00:00, 22.53it/s]\n",
            "100%|██████████| 13/13 [00:00<00:00, 15.54it/s]\n",
            "  0%|          | 0/117 [00:00<?, ?it/s]"
          ],
          "name": "stderr"
        },
        {
          "output_type": "stream",
          "text": [
            "[('44c22', '4c2'), ('ffnxn', 'fnxn'), ('24pew', '24pew'), ('6g45w', '6g45w'), ('m8gmx', '8gnx'), ('x3deb', 'x3deb'), ('76y6f', '76y6f'), ('8eggg', '8eg'), ('deneb', 'deneb'), ('bc8nf', 'bc8nf')]\n",
            "Epoch=52, Train Loss=0.11152986851003435, Test Loss=0.10209632836855374 Accuracy=0.8557692307692307\n"
          ],
          "name": "stdout"
        },
        {
          "output_type": "stream",
          "text": [
            "100%|██████████| 117/117 [00:05<00:00, 22.54it/s]\n",
            "100%|██████████| 13/13 [00:00<00:00, 15.48it/s]\n",
            "  0%|          | 0/117 [00:00<?, ?it/s]"
          ],
          "name": "stderr"
        },
        {
          "output_type": "stream",
          "text": [
            "[('44c22', '4c2'), ('ffnxn', 'fnxn'), ('24pew', '24pew'), ('6g45w', '6g45w'), ('m8gmx', '8gnx'), ('x3deb', 'x3deb'), ('76y6f', '76y6f'), ('8eggg', '8eg'), ('deneb', 'deneb'), ('bc8nf', 'bc8nf')]\n",
            "Epoch=53, Train Loss=0.11011383061607678, Test Loss=0.0962902559683873 Accuracy=0.8365384615384616\n"
          ],
          "name": "stdout"
        },
        {
          "output_type": "stream",
          "text": [
            "100%|██████████| 117/117 [00:05<00:00, 22.49it/s]\n",
            "100%|██████████| 13/13 [00:00<00:00, 15.38it/s]\n",
            "  0%|          | 0/117 [00:00<?, ?it/s]"
          ],
          "name": "stderr"
        },
        {
          "output_type": "stream",
          "text": [
            "[('44c22', '4c2'), ('ffnxn', 'fnxn'), ('24pew', '24pew'), ('6g45w', '6g45w'), ('m8gmx', 'm8gnx'), ('x3deb', 'x3deb'), ('76y6f', '76y6f'), ('8eggg', '8eg'), ('deneb', 'deneb'), ('bc8nf', 'bc8nf')]\n",
            "Epoch=54, Train Loss=0.10862710240941781, Test Loss=0.0972183571698574 Accuracy=0.8461538461538461\n"
          ],
          "name": "stdout"
        },
        {
          "output_type": "stream",
          "text": [
            "100%|██████████| 117/117 [00:05<00:00, 22.37it/s]\n",
            "100%|██████████| 13/13 [00:00<00:00, 15.56it/s]\n",
            "  0%|          | 0/117 [00:00<?, ?it/s]"
          ],
          "name": "stderr"
        },
        {
          "output_type": "stream",
          "text": [
            "[('44c22', '4c2'), ('ffnxn', 'fnxn'), ('24pew', '24pew'), ('6g45w', '6g45w'), ('m8gmx', 'm8gnx'), ('x3deb', 'x3deb'), ('76y6f', '76y6f'), ('8eggg', '8eg'), ('deneb', 'deneb'), ('bc8nf', 'bc8nf')]\n",
            "Epoch=55, Train Loss=0.10149908396932814, Test Loss=0.0898671903862403 Accuracy=0.8846153846153846\n"
          ],
          "name": "stdout"
        },
        {
          "output_type": "stream",
          "text": [
            "100%|██████████| 117/117 [00:05<00:00, 22.51it/s]\n",
            "100%|██████████| 13/13 [00:00<00:00, 15.55it/s]\n",
            "  0%|          | 0/117 [00:00<?, ?it/s]"
          ],
          "name": "stderr"
        },
        {
          "output_type": "stream",
          "text": [
            "[('44c22', '4c2'), ('ffnxn', 'fnxn'), ('24pew', '24pew'), ('6g45w', '6g45w'), ('m8gmx', 'm8gmx'), ('x3deb', 'x3deb'), ('76y6f', '76y6f'), ('8eggg', '8eg'), ('deneb', 'deneb'), ('bc8nf', 'bc8nf')]\n",
            "Epoch=56, Train Loss=0.09635844244024692, Test Loss=0.05850628333596083 Accuracy=0.9326923076923077\n"
          ],
          "name": "stdout"
        },
        {
          "output_type": "stream",
          "text": [
            "100%|██████████| 117/117 [00:05<00:00, 22.60it/s]\n",
            "100%|██████████| 13/13 [00:00<00:00, 13.35it/s]\n",
            "  0%|          | 0/117 [00:00<?, ?it/s]"
          ],
          "name": "stderr"
        },
        {
          "output_type": "stream",
          "text": [
            "[('44c22', '4c2'), ('ffnxn', 'fnxn'), ('24pew', '24pew'), ('6g45w', '6g45w'), ('m8gmx', 'm8gmx'), ('x3deb', 'x3deb'), ('76y6f', '76y6f'), ('8eggg', '8eg'), ('deneb', 'deneb'), ('bc8nf', 'bc8nf')]\n",
            "Epoch=57, Train Loss=0.07692885260360363, Test Loss=0.05558126892607946 Accuracy=0.9519230769230769\n"
          ],
          "name": "stdout"
        },
        {
          "output_type": "stream",
          "text": [
            "100%|██████████| 117/117 [00:05<00:00, 21.80it/s]\n",
            "100%|██████████| 13/13 [00:00<00:00, 15.01it/s]\n",
            "  0%|          | 0/117 [00:00<?, ?it/s]"
          ],
          "name": "stderr"
        },
        {
          "output_type": "stream",
          "text": [
            "[('44c22', '4c2'), ('ffnxn', 'fnxn'), ('24pew', '24pew'), ('6g45w', '6g45w'), ('m8gmx', 'm8gmx'), ('x3deb', 'x3deb'), ('76y6f', '76y6f'), ('8eggg', '8eg'), ('deneb', 'deneb'), ('bc8nf', 'bc8nf')]\n",
            "Epoch=58, Train Loss=0.06864181797728579, Test Loss=0.05363221452213251 Accuracy=0.9807692307692307\n"
          ],
          "name": "stdout"
        },
        {
          "output_type": "stream",
          "text": [
            "100%|██████████| 117/117 [00:05<00:00, 22.13it/s]\n",
            "100%|██████████| 13/13 [00:00<00:00, 15.19it/s]\n",
            "  0%|          | 0/117 [00:00<?, ?it/s]"
          ],
          "name": "stderr"
        },
        {
          "output_type": "stream",
          "text": [
            "[('44c22', '4c2'), ('ffnxn', 'fnxn'), ('24pew', '24pew'), ('6g45w', '6g45w'), ('m8gmx', 'm8gnx'), ('x3deb', 'x3deb'), ('76y6f', '76y6f'), ('8eggg', '8eg'), ('deneb', 'deneb'), ('bc8nf', 'bc8nf')]\n",
            "Epoch=59, Train Loss=0.06551358539961342, Test Loss=0.04758346202568366 Accuracy=0.9519230769230769\n"
          ],
          "name": "stdout"
        },
        {
          "output_type": "stream",
          "text": [
            "100%|██████████| 117/117 [00:05<00:00, 22.40it/s]\n",
            "100%|██████████| 13/13 [00:00<00:00, 15.61it/s]\n",
            "  0%|          | 0/117 [00:00<?, ?it/s]"
          ],
          "name": "stderr"
        },
        {
          "output_type": "stream",
          "text": [
            "[('44c22', '4c2'), ('ffnxn', 'fnxn'), ('24pew', '24pew'), ('6g45w', '6g45w'), ('m8gmx', 'm8gmx'), ('x3deb', 'x3deb'), ('76y6f', '76y6f'), ('8eggg', '8eg'), ('deneb', 'deneb'), ('bc8nf', 'bc8nf')]\n",
            "Epoch=60, Train Loss=0.054805327708331436, Test Loss=0.029080249297504242 Accuracy=0.9903846153846154\n"
          ],
          "name": "stdout"
        },
        {
          "output_type": "stream",
          "text": [
            "100%|██████████| 117/117 [00:05<00:00, 22.77it/s]\n",
            "100%|██████████| 13/13 [00:00<00:00, 15.38it/s]\n",
            "  0%|          | 0/117 [00:00<?, ?it/s]"
          ],
          "name": "stderr"
        },
        {
          "output_type": "stream",
          "text": [
            "[('44c22', '4c2'), ('ffnxn', 'fnxn'), ('24pew', '24pew'), ('6g45w', '6g45w'), ('m8gmx', 'm8gmx'), ('x3deb', 'x3deb'), ('76y6f', '76y6f'), ('8eggg', '8eg'), ('deneb', 'deneb'), ('bc8nf', 'bc8nf')]\n",
            "Epoch=61, Train Loss=0.05414343841819682, Test Loss=0.03723330516368151 Accuracy=0.9711538461538461\n"
          ],
          "name": "stdout"
        },
        {
          "output_type": "stream",
          "text": [
            "100%|██████████| 117/117 [00:05<00:00, 22.32it/s]\n",
            "100%|██████████| 13/13 [00:00<00:00, 15.52it/s]\n",
            "  0%|          | 0/117 [00:00<?, ?it/s]"
          ],
          "name": "stderr"
        },
        {
          "output_type": "stream",
          "text": [
            "[('44c22', '4c2'), ('ffnxn', 'fnxn'), ('24pew', '24pew'), ('6g45w', '6g45w'), ('m8gmx', 'm8gmx'), ('x3deb', 'x3deb'), ('76y6f', '76y6f'), ('8eggg', '8eg'), ('deneb', 'deneb'), ('bc8nf', 'bc8nf')]\n",
            "Epoch=62, Train Loss=0.048256489830330394, Test Loss=0.02633586970086281 Accuracy=0.9903846153846154\n"
          ],
          "name": "stdout"
        },
        {
          "output_type": "stream",
          "text": [
            "100%|██████████| 117/117 [00:05<00:00, 22.34it/s]\n",
            "100%|██████████| 13/13 [00:00<00:00, 15.39it/s]\n",
            "  0%|          | 0/117 [00:00<?, ?it/s]"
          ],
          "name": "stderr"
        },
        {
          "output_type": "stream",
          "text": [
            "[('44c22', '4c2'), ('ffnxn', 'fnxn'), ('24pew', '24pew'), ('6g45w', '6g45w'), ('m8gmx', 'm8gmx'), ('x3deb', 'x3deb'), ('76y6f', '76y6f'), ('8eggg', '8eg'), ('deneb', 'deneb'), ('bc8nf', 'bc8nf')]\n",
            "Epoch=63, Train Loss=0.04185070863200559, Test Loss=0.0286770798265934 Accuracy=0.9807692307692307\n"
          ],
          "name": "stdout"
        },
        {
          "output_type": "stream",
          "text": [
            "100%|██████████| 117/117 [00:05<00:00, 22.50it/s]\n",
            "100%|██████████| 13/13 [00:00<00:00, 15.81it/s]\n",
            "  0%|          | 0/117 [00:00<?, ?it/s]"
          ],
          "name": "stderr"
        },
        {
          "output_type": "stream",
          "text": [
            "[('44c22', '4c2'), ('ffnxn', 'fnxn'), ('24pew', '24pew'), ('6g45w', '6g45w'), ('m8gmx', 'm8gmx'), ('x3deb', 'x3deb'), ('76y6f', '76y6f'), ('8eggg', '8eg'), ('deneb', 'deneb'), ('bc8nf', 'bc8nf')]\n",
            "Epoch=64, Train Loss=0.04067695973456925, Test Loss=0.01839981575568135 Accuracy=0.9903846153846154\n"
          ],
          "name": "stdout"
        },
        {
          "output_type": "stream",
          "text": [
            "100%|██████████| 117/117 [00:05<00:00, 22.43it/s]\n",
            "100%|██████████| 13/13 [00:00<00:00, 15.32it/s]\n",
            "  0%|          | 0/117 [00:00<?, ?it/s]"
          ],
          "name": "stderr"
        },
        {
          "output_type": "stream",
          "text": [
            "[('44c22', '4c2'), ('ffnxn', 'fnxn'), ('24pew', '24pew'), ('6g45w', '6g45w'), ('m8gmx', 'm8gmx'), ('x3deb', 'x3deb'), ('76y6f', '76y6f'), ('8eggg', '8eg'), ('deneb', 'deneb'), ('bc8nf', 'bc8nf')]\n",
            "Epoch=65, Train Loss=0.037083255604673654, Test Loss=0.027070307853416756 Accuracy=0.9807692307692307\n"
          ],
          "name": "stdout"
        },
        {
          "output_type": "stream",
          "text": [
            "100%|██████████| 117/117 [00:05<00:00, 22.39it/s]\n",
            "100%|██████████| 13/13 [00:00<00:00, 15.32it/s]\n",
            "  0%|          | 0/117 [00:00<?, ?it/s]"
          ],
          "name": "stderr"
        },
        {
          "output_type": "stream",
          "text": [
            "[('44c22', '4c2'), ('ffnxn', 'fnxn'), ('24pew', '24pew'), ('6g45w', '6g45w'), ('m8gmx', 'm8gmx'), ('x3deb', 'x3deb'), ('76y6f', '76y6f'), ('8eggg', '8eg'), ('deneb', 'deneb'), ('bc8nf', 'bc8nf')]\n",
            "Epoch=66, Train Loss=0.037204079314047456, Test Loss=0.024163662635076504 Accuracy=0.9903846153846154\n"
          ],
          "name": "stdout"
        },
        {
          "output_type": "stream",
          "text": [
            "100%|██████████| 117/117 [00:05<00:00, 22.36it/s]\n",
            "100%|██████████| 13/13 [00:00<00:00, 15.12it/s]\n",
            "  0%|          | 0/117 [00:00<?, ?it/s]"
          ],
          "name": "stderr"
        },
        {
          "output_type": "stream",
          "text": [
            "[('44c22', '4c2'), ('ffnxn', 'fnxn'), ('24pew', '24pew'), ('6g45w', '6g45w'), ('m8gmx', 'm8gmx'), ('x3deb', 'x3deb'), ('76y6f', '76y6f'), ('8eggg', '8eg'), ('deneb', 'deneb'), ('bc8nf', 'bc8nf')]\n",
            "Epoch=67, Train Loss=0.031130640273993343, Test Loss=0.027935327854580604 Accuracy=1.0\n"
          ],
          "name": "stdout"
        },
        {
          "output_type": "stream",
          "text": [
            "100%|██████████| 117/117 [00:05<00:00, 22.42it/s]\n",
            "100%|██████████| 13/13 [00:00<00:00, 15.29it/s]\n",
            "  0%|          | 0/117 [00:00<?, ?it/s]"
          ],
          "name": "stderr"
        },
        {
          "output_type": "stream",
          "text": [
            "[('44c22', '4c2'), ('ffnxn', 'fnxn'), ('24pew', '24pew'), ('6g45w', '6g45w'), ('m8gmx', 'm8gmx'), ('x3deb', 'x3deb'), ('76y6f', '76y6f'), ('8eggg', '8eg'), ('deneb', 'deneb'), ('bc8nf', 'bc8nf')]\n",
            "Epoch=68, Train Loss=0.02590426493388338, Test Loss=0.024120962999474544 Accuracy=1.0\n"
          ],
          "name": "stdout"
        },
        {
          "output_type": "stream",
          "text": [
            "100%|██████████| 117/117 [00:05<00:00, 22.21it/s]\n",
            "100%|██████████| 13/13 [00:00<00:00, 15.26it/s]\n",
            "  0%|          | 0/117 [00:00<?, ?it/s]"
          ],
          "name": "stderr"
        },
        {
          "output_type": "stream",
          "text": [
            "[('44c22', '4c2'), ('ffnxn', 'fnxn'), ('24pew', '24pew'), ('6g45w', '6g45w'), ('m8gmx', 'm8gmx'), ('x3deb', 'x3deb'), ('76y6f', '76y6f'), ('8eggg', '8eg'), ('deneb', 'deneb'), ('bc8nf', 'bc8nf')]\n",
            "Epoch=69, Train Loss=0.025877028823089905, Test Loss=0.025214246599576794 Accuracy=0.9903846153846154\n"
          ],
          "name": "stdout"
        },
        {
          "output_type": "stream",
          "text": [
            "100%|██████████| 117/117 [00:05<00:00, 22.55it/s]\n",
            "100%|██████████| 13/13 [00:00<00:00, 15.16it/s]\n",
            "  0%|          | 0/117 [00:00<?, ?it/s]"
          ],
          "name": "stderr"
        },
        {
          "output_type": "stream",
          "text": [
            "[('44c22', '4c2'), ('ffnxn', 'fnxn'), ('24pew', '24pew'), ('6g45w', '6g45w'), ('m8gmx', 'm8gmx'), ('x3deb', 'x3deb'), ('76y6f', '76y6f'), ('8eggg', '8eg'), ('deneb', 'deneb'), ('bc8nf', 'bc8nf')]\n",
            "Epoch=70, Train Loss=0.020618826226514373, Test Loss=0.03144840489571484 Accuracy=0.9807692307692307\n",
            "Epoch    71: reducing learning rate of group 0 to 1.9200e-04.\n"
          ],
          "name": "stdout"
        },
        {
          "output_type": "stream",
          "text": [
            "100%|██████████| 117/117 [00:05<00:00, 22.49it/s]\n",
            "100%|██████████| 13/13 [00:00<00:00, 15.52it/s]\n",
            "  0%|          | 0/117 [00:00<?, ?it/s]"
          ],
          "name": "stderr"
        },
        {
          "output_type": "stream",
          "text": [
            "[('44c22', '4c2'), ('ffnxn', 'fnxn'), ('24pew', '24pew'), ('6g45w', '6g45w'), ('m8gmx', 'm8gmx'), ('x3deb', 'x3deb'), ('76y6f', '76y6f'), ('8eggg', '8eg'), ('deneb', 'deneb'), ('bc8nf', 'bc8nf')]\n",
            "Epoch=71, Train Loss=0.028129454511098374, Test Loss=0.016617701585906055 Accuracy=1.0\n"
          ],
          "name": "stdout"
        },
        {
          "output_type": "stream",
          "text": [
            "100%|██████████| 117/117 [00:05<00:00, 22.47it/s]\n",
            "100%|██████████| 13/13 [00:00<00:00, 15.26it/s]\n",
            "  0%|          | 0/117 [00:00<?, ?it/s]"
          ],
          "name": "stderr"
        },
        {
          "output_type": "stream",
          "text": [
            "[('44c22', '4c2'), ('ffnxn', 'fnxn'), ('24pew', '24pew'), ('6g45w', '6g45w'), ('m8gmx', 'm8gmx'), ('x3deb', 'x3deb'), ('76y6f', '76y6f'), ('8eggg', '8eg'), ('deneb', 'deneb'), ('bc8nf', 'bc8nf')]\n",
            "Epoch=72, Train Loss=0.022447708397148512, Test Loss=0.0188067014185855 Accuracy=1.0\n"
          ],
          "name": "stdout"
        },
        {
          "output_type": "stream",
          "text": [
            "100%|██████████| 117/117 [00:05<00:00, 22.33it/s]\n",
            "100%|██████████| 13/13 [00:01<00:00,  9.31it/s]\n",
            "  0%|          | 0/117 [00:00<?, ?it/s]"
          ],
          "name": "stderr"
        },
        {
          "output_type": "stream",
          "text": [
            "[('44c22', '4c2'), ('ffnxn', 'fnxn'), ('24pew', '24pew'), ('6g45w', '6g45w'), ('m8gmx', 'm8gmx'), ('x3deb', 'x3deb'), ('76y6f', '76y6f'), ('8eggg', '8eg'), ('deneb', 'deneb'), ('bc8nf', 'bc8nf')]\n",
            "Epoch=73, Train Loss=0.019623040054471064, Test Loss=0.021731137477148037 Accuracy=1.0\n"
          ],
          "name": "stdout"
        },
        {
          "output_type": "stream",
          "text": [
            "100%|██████████| 117/117 [00:05<00:00, 20.18it/s]\n",
            "100%|██████████| 13/13 [00:01<00:00,  9.43it/s]\n",
            "  0%|          | 0/117 [00:00<?, ?it/s]"
          ],
          "name": "stderr"
        },
        {
          "output_type": "stream",
          "text": [
            "[('44c22', '4c2'), ('ffnxn', 'fnxn'), ('24pew', '24pew'), ('6g45w', '6g45w'), ('m8gmx', 'm8gmx'), ('x3deb', 'x3deb'), ('76y6f', '76y6f'), ('8eggg', '8eg'), ('deneb', 'deneb'), ('bc8nf', 'bc8nf')]\n",
            "Epoch=74, Train Loss=0.01850100989556975, Test Loss=0.02166089963597747 Accuracy=1.0\n"
          ],
          "name": "stdout"
        },
        {
          "output_type": "stream",
          "text": [
            "100%|██████████| 117/117 [00:05<00:00, 20.32it/s]\n",
            "100%|██████████| 13/13 [00:01<00:00,  9.36it/s]\n",
            "  0%|          | 0/117 [00:00<?, ?it/s]"
          ],
          "name": "stderr"
        },
        {
          "output_type": "stream",
          "text": [
            "[('44c22', '4c2'), ('ffnxn', 'fnxn'), ('24pew', '24pew'), ('6g45w', '6g45w'), ('m8gmx', 'm8gmx'), ('x3deb', 'x3deb'), ('76y6f', '76y6f'), ('8eggg', '8eg'), ('deneb', 'deneb'), ('bc8nf', 'bc8nf')]\n",
            "Epoch=75, Train Loss=0.016603069495346047, Test Loss=0.024326507987167973 Accuracy=0.9903846153846154\n"
          ],
          "name": "stdout"
        },
        {
          "output_type": "stream",
          "text": [
            "100%|██████████| 117/117 [00:05<00:00, 20.39it/s]\n",
            "100%|██████████| 13/13 [00:01<00:00,  9.46it/s]\n",
            "  0%|          | 0/117 [00:00<?, ?it/s]"
          ],
          "name": "stderr"
        },
        {
          "output_type": "stream",
          "text": [
            "[('44c22', '4c2'), ('ffnxn', 'fnxn'), ('24pew', '24pew'), ('6g45w', '6g45w'), ('m8gmx', 'm8gmx'), ('x3deb', 'x3deb'), ('76y6f', '76y6f'), ('8eggg', '8eg'), ('deneb', 'deneb'), ('bc8nf', 'bc8nf')]\n",
            "Epoch=76, Train Loss=0.020690033888905987, Test Loss=0.028193535211567696 Accuracy=0.9903846153846154\n"
          ],
          "name": "stdout"
        },
        {
          "output_type": "stream",
          "text": [
            "100%|██████████| 117/117 [00:05<00:00, 20.32it/s]\n",
            "100%|██████████| 13/13 [00:01<00:00,  9.45it/s]\n",
            "  0%|          | 0/117 [00:00<?, ?it/s]"
          ],
          "name": "stderr"
        },
        {
          "output_type": "stream",
          "text": [
            "[('44c22', '4c2'), ('ffnxn', 'fnxn'), ('24pew', '24pew'), ('6g45w', '6g45w'), ('m8gmx', 'm8gmx'), ('x3deb', 'x3deb'), ('76y6f', '76y6f'), ('8eggg', '8eg'), ('deneb', 'deneb'), ('bc8nf', 'bc8nf')]\n",
            "Epoch=77, Train Loss=0.01845537695205874, Test Loss=0.03456731548962685 Accuracy=0.9903846153846154\n",
            "Epoch    78: reducing learning rate of group 0 to 1.5360e-04.\n"
          ],
          "name": "stdout"
        },
        {
          "output_type": "stream",
          "text": [
            "100%|██████████| 117/117 [00:05<00:00, 20.31it/s]\n",
            "100%|██████████| 13/13 [00:01<00:00,  9.44it/s]\n",
            "  0%|          | 0/117 [00:00<?, ?it/s]"
          ],
          "name": "stderr"
        },
        {
          "output_type": "stream",
          "text": [
            "[('44c22', '4c2'), ('ffnxn', 'fnxn'), ('24pew', '24pew'), ('6g45w', '6g45w'), ('m8gmx', 'm8gmx'), ('x3deb', 'x3deb'), ('76y6f', '76y6f'), ('8eggg', '8eg'), ('deneb', 'deneb'), ('bc8nf', 'bc8nf')]\n",
            "Epoch=78, Train Loss=0.014573877707171516, Test Loss=0.025747182277532723 Accuracy=0.9903846153846154\n"
          ],
          "name": "stdout"
        },
        {
          "output_type": "stream",
          "text": [
            "100%|██████████| 117/117 [00:05<00:00, 20.01it/s]\n",
            "100%|██████████| 13/13 [00:00<00:00, 15.30it/s]\n",
            "  0%|          | 0/117 [00:00<?, ?it/s]"
          ],
          "name": "stderr"
        },
        {
          "output_type": "stream",
          "text": [
            "[('44c22', '4c2'), ('ffnxn', 'fnxn'), ('24pew', '24pew'), ('6g45w', '6g45w'), ('m8gmx', 'm8gmx'), ('x3deb', 'x3deb'), ('76y6f', '76y6f'), ('8eggg', '8eg'), ('deneb', 'deneb'), ('bc8nf', 'bc8nf')]\n",
            "Epoch=79, Train Loss=0.011402238415092485, Test Loss=0.028370961618538085 Accuracy=0.9903846153846154\n"
          ],
          "name": "stdout"
        },
        {
          "output_type": "stream",
          "text": [
            "100%|██████████| 117/117 [00:05<00:00, 22.45it/s]\n",
            "100%|██████████| 13/13 [00:00<00:00, 15.35it/s]\n",
            "  0%|          | 0/117 [00:00<?, ?it/s]"
          ],
          "name": "stderr"
        },
        {
          "output_type": "stream",
          "text": [
            "[('44c22', '4c2'), ('ffnxn', 'fnxn'), ('24pew', '24pew'), ('6g45w', '6g45w'), ('m8gmx', 'm8gmx'), ('x3deb', 'x3deb'), ('76y6f', '76y6f'), ('8eggg', '8eg'), ('deneb', 'deneb'), ('bc8nf', 'bc8nf')]\n",
            "Epoch=80, Train Loss=0.013398058694572402, Test Loss=0.016083520622207567 Accuracy=1.0\n"
          ],
          "name": "stdout"
        },
        {
          "output_type": "stream",
          "text": [
            "100%|██████████| 117/117 [00:05<00:00, 22.39it/s]\n",
            "100%|██████████| 13/13 [00:00<00:00, 15.37it/s]\n",
            "  0%|          | 0/117 [00:00<?, ?it/s]"
          ],
          "name": "stderr"
        },
        {
          "output_type": "stream",
          "text": [
            "[('44c22', '4c2'), ('ffnxn', 'fnxn'), ('24pew', '24pew'), ('6g45w', '6g45w'), ('m8gmx', 'm8gmx'), ('x3deb', 'x3deb'), ('76y6f', '76y6f'), ('8eggg', '8eg'), ('deneb', 'deneb'), ('bc8nf', 'bc8nf')]\n",
            "Epoch=81, Train Loss=0.013512912670023039, Test Loss=0.026505421900835175 Accuracy=0.9807692307692307\n"
          ],
          "name": "stdout"
        },
        {
          "output_type": "stream",
          "text": [
            "100%|██████████| 117/117 [00:05<00:00, 22.19it/s]\n",
            "100%|██████████| 13/13 [00:00<00:00, 15.15it/s]\n",
            "  0%|          | 0/117 [00:00<?, ?it/s]"
          ],
          "name": "stderr"
        },
        {
          "output_type": "stream",
          "text": [
            "[('44c22', '4c2'), ('ffnxn', 'fnxn'), ('24pew', '24pew'), ('6g45w', '6g45w'), ('m8gmx', 'm8gmx'), ('x3deb', 'x3deb'), ('76y6f', '76y6f'), ('8eggg', '8eg'), ('deneb', 'deneb'), ('bc8nf', 'bc8nf')]\n",
            "Epoch=82, Train Loss=0.014527598782004708, Test Loss=0.008878557584606685 Accuracy=0.9807692307692307\n"
          ],
          "name": "stdout"
        },
        {
          "output_type": "stream",
          "text": [
            "100%|██████████| 117/117 [00:05<00:00, 22.49it/s]\n",
            "100%|██████████| 13/13 [00:00<00:00, 15.23it/s]\n",
            "  0%|          | 0/117 [00:00<?, ?it/s]"
          ],
          "name": "stderr"
        },
        {
          "output_type": "stream",
          "text": [
            "[('44c22', '4c2'), ('ffnxn', 'fnxn'), ('24pew', '24pew'), ('6g45w', '6g45w'), ('m8gmx', 'm8gmx'), ('x3deb', 'x3deb'), ('76y6f', '76y6f'), ('8eggg', '8eg'), ('deneb', 'deneb'), ('bc8nf', 'bc8nf')]\n",
            "Epoch=83, Train Loss=0.012908254089391129, Test Loss=0.020636525846874483 Accuracy=0.9903846153846154\n"
          ],
          "name": "stdout"
        },
        {
          "output_type": "stream",
          "text": [
            "100%|██████████| 117/117 [00:05<00:00, 22.69it/s]\n",
            "100%|██████████| 13/13 [00:00<00:00, 15.20it/s]\n",
            "  0%|          | 0/117 [00:00<?, ?it/s]"
          ],
          "name": "stderr"
        },
        {
          "output_type": "stream",
          "text": [
            "[('44c22', '4c2'), ('ffnxn', 'fnxn'), ('24pew', '24pew'), ('6g45w', '6g45w'), ('m8gmx', 'm8gmx'), ('x3deb', 'x3deb'), ('76y6f', '76y6f'), ('8eggg', '8eg'), ('deneb', 'deneb'), ('bc8nf', 'bc8nf')]\n",
            "Epoch=84, Train Loss=0.011376166117226338, Test Loss=0.03862136511955983 Accuracy=0.9903846153846154\n"
          ],
          "name": "stdout"
        },
        {
          "output_type": "stream",
          "text": [
            "100%|██████████| 117/117 [00:05<00:00, 22.44it/s]\n",
            "100%|██████████| 13/13 [00:00<00:00, 15.45it/s]\n",
            "  0%|          | 0/117 [00:00<?, ?it/s]"
          ],
          "name": "stderr"
        },
        {
          "output_type": "stream",
          "text": [
            "[('44c22', '4c2'), ('ffnxn', 'fnxn'), ('24pew', '24pew'), ('6g45w', '6g45w'), ('m8gmx', 'm8gmx'), ('x3deb', 'x3deb'), ('76y6f', '76y6f'), ('8eggg', '8eg'), ('deneb', 'deneb'), ('bc8nf', 'bc8nf')]\n",
            "Epoch=85, Train Loss=0.01136802649921459, Test Loss=0.027685424715925295 Accuracy=0.9903846153846154\n"
          ],
          "name": "stdout"
        },
        {
          "output_type": "stream",
          "text": [
            "100%|██████████| 117/117 [00:05<00:00, 22.47it/s]\n",
            "100%|██████████| 13/13 [00:00<00:00, 15.29it/s]\n",
            "  0%|          | 0/117 [00:00<?, ?it/s]"
          ],
          "name": "stderr"
        },
        {
          "output_type": "stream",
          "text": [
            "[('44c22', '4c2'), ('ffnxn', 'fnxn'), ('24pew', '24pew'), ('6g45w', '6g45w'), ('m8gmx', 'm8gmx'), ('x3deb', 'x3deb'), ('76y6f', '76y6f'), ('8eggg', '8eg'), ('deneb', 'deneb'), ('bc8nf', 'bc8nf')]\n",
            "Epoch=86, Train Loss=0.008300674659335334, Test Loss=0.025311972381762013 Accuracy=0.9807692307692307\n"
          ],
          "name": "stdout"
        },
        {
          "output_type": "stream",
          "text": [
            "100%|██████████| 117/117 [00:05<00:00, 22.29it/s]\n",
            "100%|██████████| 13/13 [00:00<00:00, 15.41it/s]\n",
            "  0%|          | 0/117 [00:00<?, ?it/s]"
          ],
          "name": "stderr"
        },
        {
          "output_type": "stream",
          "text": [
            "[('44c22', '4c2'), ('ffnxn', 'fnxn'), ('24pew', '24pew'), ('6g45w', '6g45w'), ('m8gmx', 'm8gmx'), ('x3deb', 'x3deb'), ('76y6f', '76y6f'), ('8eggg', '8eg'), ('deneb', 'deneb'), ('bc8nf', 'bc8nf')]\n",
            "Epoch=87, Train Loss=0.014536481203399917, Test Loss=0.028976902016438544 Accuracy=0.9807692307692307\n"
          ],
          "name": "stdout"
        },
        {
          "output_type": "stream",
          "text": [
            "100%|██████████| 117/117 [00:05<00:00, 22.46it/s]\n",
            "100%|██████████| 13/13 [00:00<00:00, 15.20it/s]\n",
            "  0%|          | 0/117 [00:00<?, ?it/s]"
          ],
          "name": "stderr"
        },
        {
          "output_type": "stream",
          "text": [
            "[('44c22', '4c2'), ('ffnxn', 'fnxn'), ('24pew', '24pew'), ('6g45w', '6g45w'), ('m8gmx', 'm8gmx'), ('x3deb', 'x3deb'), ('76y6f', '76y6f'), ('8eggg', '8eg'), ('deneb', 'deneb'), ('bc8nf', 'bc8nf')]\n",
            "Epoch=88, Train Loss=0.012003621966060665, Test Loss=0.032234971304065906 Accuracy=0.9903846153846154\n",
            "Epoch    89: reducing learning rate of group 0 to 1.2288e-04.\n"
          ],
          "name": "stdout"
        },
        {
          "output_type": "stream",
          "text": [
            "100%|██████████| 117/117 [00:05<00:00, 22.64it/s]\n",
            "100%|██████████| 13/13 [00:00<00:00, 15.17it/s]\n",
            "  0%|          | 0/117 [00:00<?, ?it/s]"
          ],
          "name": "stderr"
        },
        {
          "output_type": "stream",
          "text": [
            "[('44c22', '4c2'), ('ffnxn', 'fnxn'), ('24pew', '24pew'), ('6g45w', '6g45w'), ('m8gmx', 'm8gmx'), ('x3deb', 'x3deb'), ('76y6f', '76y6f'), ('8eggg', '8eg'), ('deneb', 'deneb'), ('bc8nf', 'bc8nf')]\n",
            "Epoch=89, Train Loss=0.008665736193537839, Test Loss=0.03167897281057846 Accuracy=0.9903846153846154\n"
          ],
          "name": "stdout"
        },
        {
          "output_type": "stream",
          "text": [
            "100%|██████████| 117/117 [00:05<00:00, 22.71it/s]\n",
            "100%|██████████| 13/13 [00:00<00:00, 15.17it/s]\n",
            "  0%|          | 0/117 [00:00<?, ?it/s]"
          ],
          "name": "stderr"
        },
        {
          "output_type": "stream",
          "text": [
            "[('44c22', '4c2'), ('ffnxn', 'fnxn'), ('24pew', '24pew'), ('6g45w', '6g45w'), ('m8gmx', 'm8gmx'), ('x3deb', 'x3deb'), ('76y6f', '76y6f'), ('8eggg', '8eg'), ('deneb', 'deneb'), ('bc8nf', 'bc8nf')]\n",
            "Epoch=90, Train Loss=0.00879446828427414, Test Loss=0.035413237924401 Accuracy=0.9807692307692307\n"
          ],
          "name": "stdout"
        },
        {
          "output_type": "stream",
          "text": [
            "100%|██████████| 117/117 [00:05<00:00, 22.61it/s]\n",
            "100%|██████████| 13/13 [00:00<00:00, 14.97it/s]\n",
            "  0%|          | 0/117 [00:00<?, ?it/s]"
          ],
          "name": "stderr"
        },
        {
          "output_type": "stream",
          "text": [
            "[('44c22', '4c2'), ('ffnxn', 'fnxn'), ('24pew', '24pew'), ('6g45w', '6g45w'), ('m8gmx', 'm8gmx'), ('x3deb', 'x3deb'), ('76y6f', '76y6f'), ('8eggg', '8eg'), ('deneb', 'deneb'), ('bc8nf', 'bc8nf')]\n",
            "Epoch=91, Train Loss=0.008692607263692169, Test Loss=0.020056949820942603 Accuracy=0.9807692307692307\n"
          ],
          "name": "stdout"
        },
        {
          "output_type": "stream",
          "text": [
            "100%|██████████| 117/117 [00:05<00:00, 22.23it/s]\n",
            "100%|██████████| 13/13 [00:00<00:00, 15.23it/s]\n",
            "  0%|          | 0/117 [00:00<?, ?it/s]"
          ],
          "name": "stderr"
        },
        {
          "output_type": "stream",
          "text": [
            "[('44c22', '4c2'), ('ffnxn', 'fnxn'), ('24pew', '24pew'), ('6g45w', '6g45w'), ('m8gmx', 'm8gmx'), ('x3deb', 'x3deb'), ('76y6f', '76y6f'), ('8eggg', '8eg'), ('deneb', 'deneb'), ('bc8nf', 'bc8nf')]\n",
            "Epoch=92, Train Loss=0.008071023499211058, Test Loss=0.0338580854720651 Accuracy=0.9807692307692307\n"
          ],
          "name": "stdout"
        },
        {
          "output_type": "stream",
          "text": [
            "100%|██████████| 117/117 [00:05<00:00, 22.51it/s]\n",
            "100%|██████████| 13/13 [00:00<00:00, 15.53it/s]\n",
            "  0%|          | 0/117 [00:00<?, ?it/s]"
          ],
          "name": "stderr"
        },
        {
          "output_type": "stream",
          "text": [
            "[('44c22', '4c2'), ('ffnxn', 'fnxn'), ('24pew', '24pew'), ('6g45w', '6g45w'), ('m8gmx', 'm8gmx'), ('x3deb', 'x3deb'), ('76y6f', '76y6f'), ('8eggg', '8eg'), ('deneb', 'deneb'), ('bc8nf', 'bc8nf')]\n",
            "Epoch=93, Train Loss=0.006306827617570376, Test Loss=0.024987245578533754 Accuracy=0.9903846153846154\n"
          ],
          "name": "stdout"
        },
        {
          "output_type": "stream",
          "text": [
            "100%|██████████| 117/117 [00:05<00:00, 22.34it/s]\n",
            "100%|██████████| 13/13 [00:00<00:00, 15.01it/s]\n",
            "  0%|          | 0/117 [00:00<?, ?it/s]"
          ],
          "name": "stderr"
        },
        {
          "output_type": "stream",
          "text": [
            "[('44c22', '4c2'), ('ffnxn', 'fnxn'), ('24pew', '24pew'), ('6g45w', '6g45w'), ('m8gmx', 'm8gmx'), ('x3deb', 'x3deb'), ('76y6f', '76y6f'), ('8eggg', '8eg'), ('deneb', 'deneb'), ('bc8nf', 'bc8nf')]\n",
            "Epoch=94, Train Loss=0.007469706537806963, Test Loss=0.02524820253109703 Accuracy=0.9903846153846154\n",
            "Epoch    95: reducing learning rate of group 0 to 9.8304e-05.\n"
          ],
          "name": "stdout"
        },
        {
          "output_type": "stream",
          "text": [
            "100%|██████████| 117/117 [00:05<00:00, 22.30it/s]\n",
            "100%|██████████| 13/13 [00:00<00:00, 15.48it/s]\n",
            "  0%|          | 0/117 [00:00<?, ?it/s]"
          ],
          "name": "stderr"
        },
        {
          "output_type": "stream",
          "text": [
            "[('44c22', '4c2'), ('ffnxn', 'fnxn'), ('24pew', '24pew'), ('6g45w', '6g45w'), ('m8gmx', 'm8gmx'), ('x3deb', 'x3deb'), ('76y6f', '76y6f'), ('8eggg', '8eg'), ('deneb', 'deneb'), ('bc8nf', 'bc8nf')]\n",
            "Epoch=95, Train Loss=0.008263962582135811, Test Loss=0.049369475938594684 Accuracy=0.9903846153846154\n"
          ],
          "name": "stdout"
        },
        {
          "output_type": "stream",
          "text": [
            "100%|██████████| 117/117 [00:05<00:00, 22.62it/s]\n",
            "100%|██████████| 13/13 [00:00<00:00, 15.45it/s]\n",
            "  0%|          | 0/117 [00:00<?, ?it/s]"
          ],
          "name": "stderr"
        },
        {
          "output_type": "stream",
          "text": [
            "[('44c22', '4c2'), ('ffnxn', 'fnxn'), ('24pew', '24pew'), ('6g45w', '6g45w'), ('m8gmx', 'm8gmx'), ('x3deb', 'x3deb'), ('76y6f', '76y6f'), ('8eggg', '8eg'), ('deneb', 'deneb'), ('bc8nf', 'bc8nf')]\n",
            "Epoch=96, Train Loss=0.009342961878969502, Test Loss=0.019655205658636987 Accuracy=1.0\n"
          ],
          "name": "stdout"
        },
        {
          "output_type": "stream",
          "text": [
            "100%|██████████| 117/117 [00:05<00:00, 22.27it/s]\n",
            "100%|██████████| 13/13 [00:00<00:00, 15.44it/s]\n",
            "  0%|          | 0/117 [00:00<?, ?it/s]"
          ],
          "name": "stderr"
        },
        {
          "output_type": "stream",
          "text": [
            "[('44c22', '4c2'), ('ffnxn', 'fnxn'), ('24pew', '24pew'), ('6g45w', '6g45w'), ('m8gmx', 'm8gmx'), ('x3deb', 'x3deb'), ('76y6f', '76y6f'), ('8eggg', '8eg'), ('deneb', 'deneb'), ('bc8nf', 'bc8nf')]\n",
            "Epoch=97, Train Loss=0.00845162759328054, Test Loss=0.02818140377684568 Accuracy=0.9807692307692307\n"
          ],
          "name": "stdout"
        },
        {
          "output_type": "stream",
          "text": [
            "100%|██████████| 117/117 [00:05<00:00, 22.50it/s]\n",
            "100%|██████████| 13/13 [00:00<00:00, 15.57it/s]\n",
            "  0%|          | 0/117 [00:00<?, ?it/s]"
          ],
          "name": "stderr"
        },
        {
          "output_type": "stream",
          "text": [
            "[('44c22', '4c2'), ('ffnxn', 'fnxn'), ('24pew', '24pew'), ('6g45w', '6g45w'), ('m8gmx', 'm8gmx'), ('x3deb', 'x3deb'), ('76y6f', '76y6f'), ('8eggg', '8eg'), ('deneb', 'deneb'), ('bc8nf', 'bc8nf')]\n",
            "Epoch=98, Train Loss=0.0076707823512454825, Test Loss=0.025608059009895302 Accuracy=0.9903846153846154\n"
          ],
          "name": "stdout"
        },
        {
          "output_type": "stream",
          "text": [
            "100%|██████████| 117/117 [00:05<00:00, 22.55it/s]\n",
            "100%|██████████| 13/13 [00:00<00:00, 15.34it/s]"
          ],
          "name": "stderr"
        },
        {
          "output_type": "stream",
          "text": [
            "[('44c22', '4c2'), ('ffnxn', 'fnxn'), ('24pew', '24pew'), ('6g45w', '6g45w'), ('m8gmx', 'm8gmx'), ('x3deb', 'x3deb'), ('76y6f', '76y6f'), ('8eggg', '8eg'), ('deneb', 'deneb'), ('bc8nf', 'bc8nf')]\n",
            "Epoch=99, Train Loss=0.004931911477882765, Test Loss=0.019888972030737653 Accuracy=1.0\n"
          ],
          "name": "stdout"
        },
        {
          "output_type": "stream",
          "text": [
            "\n"
          ],
          "name": "stderr"
        }
      ]
    },
    {
      "cell_type": "code",
      "metadata": {
        "id": "6g1FBACtBvql"
      },
      "source": [
        ""
      ],
      "execution_count": null,
      "outputs": []
    },
    {
      "cell_type": "code",
      "metadata": {
        "id": "Er9JmZVQBvs-"
      },
      "source": [
        ""
      ],
      "execution_count": null,
      "outputs": []
    },
    {
      "cell_type": "code",
      "metadata": {
        "id": "Uovphlt0BvvX"
      },
      "source": [
        ""
      ],
      "execution_count": null,
      "outputs": []
    },
    {
      "cell_type": "code",
      "metadata": {
        "id": "zrbgVf06Bvxy"
      },
      "source": [
        ""
      ],
      "execution_count": null,
      "outputs": []
    },
    {
      "cell_type": "code",
      "metadata": {
        "id": "oM6rdux4Bv0C"
      },
      "source": [
        ""
      ],
      "execution_count": null,
      "outputs": []
    }
  ]
}