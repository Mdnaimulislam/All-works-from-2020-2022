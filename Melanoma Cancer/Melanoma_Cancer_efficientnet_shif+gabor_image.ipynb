{
  "nbformat": 4,
  "nbformat_minor": 0,
  "metadata": {
    "colab": {
      "name": "Melanoma Cancer efficientnet_shif+gabor_image.ipynb",
      "provenance": [],
      "collapsed_sections": []
    },
    "kernelspec": {
      "display_name": "Python 3",
      "name": "python3"
    },
    "language_info": {
      "name": "python"
    },
    "accelerator": "GPU"
  },
  "cells": [
    {
      "cell_type": "code",
      "metadata": {
        "colab": {
          "base_uri": "https://localhost:8080/"
        },
        "id": "4hI26lpa-KPc",
        "outputId": "a606c8d9-384c-4ec7-d131-e0fbad50c1eb"
      },
      "source": [
        "!pip install -U efficientnet\n",
        "import sys\n",
        "import os\n",
        "from os.path import join\n",
        "import numpy as np\n",
        "import pandas as pd\n",
        "import matplotlib.pyplot as plt\n",
        "import efficientnet.keras as efn \n",
        "import tensorflow as tf\n",
        "from keras.preprocessing.image import load_img, img_to_array\n",
        "from keras import models, regularizers, layers, optimizers, losses, metrics\n",
        "from keras.models import Sequential\n",
        "from keras.layers import Dense\n",
        "from tensorflow.keras.utils import to_categorical\n",
        "from keras.preprocessing.image import ImageDataGenerator\n",
        "from keras.preprocessing import image"
      ],
      "execution_count": null,
      "outputs": [
        {
          "output_type": "stream",
          "text": [
            "Collecting efficientnet\n",
            "  Downloading efficientnet-1.1.1-py3-none-any.whl (18 kB)\n",
            "Collecting keras-applications<=1.0.8,>=1.0.7\n",
            "  Downloading Keras_Applications-1.0.8-py3-none-any.whl (50 kB)\n",
            "\u001b[?25l\r\u001b[K     |██████▌                         | 10 kB 42.6 MB/s eta 0:00:01\r\u001b[K     |█████████████                   | 20 kB 46.9 MB/s eta 0:00:01\r\u001b[K     |███████████████████▍            | 30 kB 38.9 MB/s eta 0:00:01\r\u001b[K     |█████████████████████████▉      | 40 kB 24.2 MB/s eta 0:00:01\r\u001b[K     |████████████████████████████████| 50 kB 4.6 MB/s \n",
            "\u001b[?25hRequirement already satisfied: scikit-image in /usr/local/lib/python3.7/dist-packages (from efficientnet) (0.16.2)\n",
            "Requirement already satisfied: h5py in /usr/local/lib/python3.7/dist-packages (from keras-applications<=1.0.8,>=1.0.7->efficientnet) (3.1.0)\n",
            "Requirement already satisfied: numpy>=1.9.1 in /usr/local/lib/python3.7/dist-packages (from keras-applications<=1.0.8,>=1.0.7->efficientnet) (1.19.5)\n",
            "Requirement already satisfied: cached-property in /usr/local/lib/python3.7/dist-packages (from h5py->keras-applications<=1.0.8,>=1.0.7->efficientnet) (1.5.2)\n",
            "Requirement already satisfied: matplotlib!=3.0.0,>=2.0.0 in /usr/local/lib/python3.7/dist-packages (from scikit-image->efficientnet) (3.2.2)\n",
            "Requirement already satisfied: pillow>=4.3.0 in /usr/local/lib/python3.7/dist-packages (from scikit-image->efficientnet) (7.1.2)\n",
            "Requirement already satisfied: imageio>=2.3.0 in /usr/local/lib/python3.7/dist-packages (from scikit-image->efficientnet) (2.4.1)\n",
            "Requirement already satisfied: networkx>=2.0 in /usr/local/lib/python3.7/dist-packages (from scikit-image->efficientnet) (2.5.1)\n",
            "Requirement already satisfied: scipy>=0.19.0 in /usr/local/lib/python3.7/dist-packages (from scikit-image->efficientnet) (1.4.1)\n",
            "Requirement already satisfied: PyWavelets>=0.4.0 in /usr/local/lib/python3.7/dist-packages (from scikit-image->efficientnet) (1.1.1)\n",
            "Requirement already satisfied: python-dateutil>=2.1 in /usr/local/lib/python3.7/dist-packages (from matplotlib!=3.0.0,>=2.0.0->scikit-image->efficientnet) (2.8.1)\n",
            "Requirement already satisfied: cycler>=0.10 in /usr/local/lib/python3.7/dist-packages (from matplotlib!=3.0.0,>=2.0.0->scikit-image->efficientnet) (0.10.0)\n",
            "Requirement already satisfied: pyparsing!=2.0.4,!=2.1.2,!=2.1.6,>=2.0.1 in /usr/local/lib/python3.7/dist-packages (from matplotlib!=3.0.0,>=2.0.0->scikit-image->efficientnet) (2.4.7)\n",
            "Requirement already satisfied: kiwisolver>=1.0.1 in /usr/local/lib/python3.7/dist-packages (from matplotlib!=3.0.0,>=2.0.0->scikit-image->efficientnet) (1.3.1)\n",
            "Requirement already satisfied: six in /usr/local/lib/python3.7/dist-packages (from cycler>=0.10->matplotlib!=3.0.0,>=2.0.0->scikit-image->efficientnet) (1.15.0)\n",
            "Requirement already satisfied: decorator<5,>=4.3 in /usr/local/lib/python3.7/dist-packages (from networkx>=2.0->scikit-image->efficientnet) (4.4.2)\n",
            "Installing collected packages: keras-applications, efficientnet\n",
            "Successfully installed efficientnet-1.1.1 keras-applications-1.0.8\n"
          ],
          "name": "stdout"
        }
      ]
    },
    {
      "cell_type": "code",
      "metadata": {
        "colab": {
          "base_uri": "https://localhost:8080/"
        },
        "id": "IrDRyMZxbmTZ",
        "outputId": "f6c5148a-e409-4156-d3ec-f4a1d0e08248"
      },
      "source": [
        "from google.colab import drive\n",
        "drive.mount('/content/drive')"
      ],
      "execution_count": null,
      "outputs": [
        {
          "output_type": "stream",
          "text": [
            "Mounted at /content/drive\n"
          ],
          "name": "stdout"
        }
      ]
    },
    {
      "cell_type": "code",
      "metadata": {
        "colab": {
          "base_uri": "https://localhost:8080/"
        },
        "id": "8i8kgoIG-KRY",
        "outputId": "84f94694-0311-4a24-f587-6e24624078b6"
      },
      "source": [
        "PATH = \"/content/drive/MyDrive/Melanoma_Data/Gabor+Shift/\"\n",
        "print(os.listdir(PATH))"
      ],
      "execution_count": null,
      "outputs": [
        {
          "output_type": "stream",
          "text": [
            "['train', 'test', 'valid']\n"
          ],
          "name": "stdout"
        }
      ]
    },
    {
      "cell_type": "code",
      "metadata": {
        "colab": {
          "base_uri": "https://localhost:8080/"
        },
        "id": "3Sk34dIq-KTt",
        "outputId": "509a7a4f-9809-4fa5-bd2a-1123d4e7050f"
      },
      "source": [
        "PATHtrain = PATH + 'train/'\n",
        "print(len(os.listdir(PATHtrain)), \" TRAIN Directories of photos\")\n",
        "Labels = os.listdir(PATHtrain)\n",
        "sig = 0\n",
        "for label in sorted(Labels):\n",
        "    print(label,len(os.listdir(PATHtrain + label +'/')))\n",
        "    sig = sig + len(os.listdir(PATHtrain + label +'/'))\n",
        "\n",
        "print(\"Total TRAIN photos \", sig)\n",
        "print(\"_\"*50)\n",
        "\n",
        "PATHvalid = PATH + 'valid/'\n",
        "print(len(os.listdir(PATHvalid)), \" VALID Directories of photos\")\n",
        "Labels = os.listdir(PATHvalid)\n",
        "sig = 0\n",
        "for label in sorted(Labels):\n",
        "    print(label,len(os.listdir(PATHvalid + label +'/')))\n",
        "    sig = sig + len(os.listdir(PATHvalid + label +'/'))\n",
        "\n",
        "print(\"Total Validation photos \", sig)\n",
        "print(\"_\"*50)\n",
        "\n",
        "PATHtest = PATH + 'test/'\n",
        "print(len(os.listdir(PATHtest)), \" TEST Directories of photos\")\n",
        "Labels = os.listdir(PATHtest)\n",
        "sig = 0\n",
        "for label in sorted(Labels):\n",
        "    print(label,len(os.listdir(PATHtest + label +'/')))\n",
        "    sig = sig + len(os.listdir(PATHtest + label +'/'))\n",
        "\n",
        "print(\"Total Testing photos \", sig)\n",
        "print(\"_\"*50)"
      ],
      "execution_count": null,
      "outputs": [
        {
          "output_type": "stream",
          "text": [
            "2  TRAIN Directories of photos\n",
            "Melanoma 1047\n",
            "NotMelanoma 0\n",
            "Total TRAIN photos  1047\n",
            "__________________________________________________\n",
            "2  VALID Directories of photos\n",
            "Melanoma 225\n",
            "NotMelanoma 225\n",
            "Total Validation photos  450\n",
            "__________________________________________________\n",
            "2  TEST Directories of photos\n",
            "Melanoma 225\n",
            "NotMelanoma 225\n",
            "Total Testing photos  450\n",
            "__________________________________________________\n"
          ],
          "name": "stdout"
        }
      ]
    },
    {
      "cell_type": "code",
      "metadata": {
        "id": "0pjq9JNo-KYd"
      },
      "source": [
        "from efficientnet.tfkeras import EfficientNetB4"
      ],
      "execution_count": null,
      "outputs": []
    },
    {
      "cell_type": "code",
      "metadata": {
        "id": "FMMYcFPU-KbB"
      },
      "source": [
        "import keras\n",
        "from keras.callbacks import EarlyStopping,ModelCheckpoint,LearningRateScheduler\n",
        "from keras.layers import Conv2D,BatchNormalization,MaxPool2D,Flatten,Dense\n",
        "from keras.regularizers import l2\n",
        "\n",
        "EP=30\n",
        "LR=0.0001\n",
        "DR=LR/EP\n",
        "MM=0.8\n",
        "K=0.2\n",
        "\n",
        "\"lr=0.0001\"\n",
        "\"--USING THIS--\"\n",
        "def lr_scheduler(epoch, lr):return lr* float((np.exp(- (epoch*DR))))\n",
        "    \n",
        "LRD=LearningRateScheduler(lr_scheduler)\n",
        "\n",
        "callbacks_list=[LRD]\n",
        "\n",
        "\n",
        "#OPT=keras.optimizers.Adam(lr=lr_schedule,decy_rate=DR)\n",
        "\n",
        "\"--CORRECT WAY WITH LEARNING RATE SCHEDULE--\"\n",
        "OPT=keras.optimizers.Adam(learning_rate=LR)\n",
        "\n",
        "\n",
        "model = keras.Sequential()\n",
        "model.add(EfficientNetB4(input_shape=(224, 224, 3), include_top=False, weights='imagenet'))\n",
        "model.add(keras.layers.Dropout(0.5))\n",
        "model.add(keras.layers.GlobalAveragePooling2D())\n",
        "model.add(keras.layers.Flatten())\n",
        "model.add(keras.layers.Dropout(0.5))\n",
        "model.add(keras.layers.Dense(256, activation='relu',kernel_regularizer=l2(0.05), bias_regularizer=l2(0.05)))\n",
        "model.add(keras.layers.BatchNormalization())\n",
        "model.add(keras.layers.Dropout(0.3))\n",
        "model.add(keras.layers.Dense(2, activation='sigmoid')) \n",
        "\n",
        "# monitor\n",
        "early_stopping_monitor = EarlyStopping(patience=100,monitor='val_accuracy')\n",
        "model_checkpoint_callback = ModelCheckpoint(filepath='/content/drive/MyDrive/Melanoma_Data/melanoma_model_shift+gabor.hdf5',\n",
        "                                            save_weights_only=True,\n",
        "                                            monitor='val_accuracy',\n",
        "                                            mode='auto',\n",
        "                                            save_best_only=True,\n",
        "                                            verbose=1)\n",
        "\n",
        "\n",
        "#categorical_crossentropy\n",
        "model.compile(loss='binary_crossentropy', optimizer=OPT, metrics=['accuracy', 'AUC'])"
      ],
      "execution_count": null,
      "outputs": []
    },
    {
      "cell_type": "code",
      "metadata": {
        "colab": {
          "base_uri": "https://localhost:8080/"
        },
        "id": "6y5SbQwu-KgG",
        "outputId": "a78fe680-dac7-444f-8b5b-1fdbec66a74a"
      },
      "source": [
        "train_dir = PATHtrain\n",
        "validation_dir = PATHvalid\n",
        "test_dir = PATHtest\n",
        "target_size=(224, 224)\n",
        "batch_size=10\n",
        "#train_datagen = ImageDataGenerator(rescale=1./255)\n",
        "train_datagen = ImageDataGenerator(rescale=1./255,\n",
        "                                   rotation_range=45,\n",
        "                                   width_shift_range=0.2,\n",
        "                                   height_shift_range=0.2,\n",
        "                                   shear_range=0.2,\n",
        "                                   zoom_range=0.2,\n",
        "                                   horizontal_flip=True,\n",
        "                                   vertical_flip=True,\n",
        "                                   fill_mode='nearest')\n",
        "\n",
        "test_datagen = ImageDataGenerator(rescale=1./255)\n",
        "\n",
        "train_generator = train_datagen.flow_from_directory(\n",
        "    train_dir,target_size=target_size,batch_size=batch_size,shuffle=True,seed=42)\n",
        "validation_generator = test_datagen.flow_from_directory(\n",
        "    validation_dir,target_size=target_size,batch_size=batch_size,shuffle=True,seed=42)\n",
        "test_generator = test_datagen.flow_from_directory(\n",
        "    test_dir,target_size=target_size,batch_size=1)"
      ],
      "execution_count": null,
      "outputs": [
        {
          "output_type": "stream",
          "text": [
            "Found 1047 images belonging to 2 classes.\n",
            "Found 450 images belonging to 2 classes.\n",
            "Found 450 images belonging to 2 classes.\n"
          ],
          "name": "stdout"
        }
      ]
    },
    {
      "cell_type": "code",
      "metadata": {
        "colab": {
          "base_uri": "https://localhost:8080/"
        },
        "id": "kyVoYLcL-Kit",
        "outputId": "9d6c0999-f231-493a-a7e9-85ecd6961125"
      },
      "source": [
        "print(train_generator.class_indices)\n",
        "print(validation_generator.class_indices)\n",
        "print(test_generator.class_indices)"
      ],
      "execution_count": null,
      "outputs": [
        {
          "output_type": "stream",
          "text": [
            "{'Melanoma': 0, 'NotMelanoma': 1}\n",
            "{'Melanoma': 0, 'NotMelanoma': 1}\n",
            "{'Melanoma': 0, 'NotMelanoma': 1}\n"
          ],
          "name": "stdout"
        }
      ]
    },
    {
      "cell_type": "code",
      "metadata": {
        "colab": {
          "base_uri": "https://localhost:8080/"
        },
        "id": "i6-CmTlw-Kk-",
        "outputId": "90212289-caa0-4286-b543-af8c9010b67c"
      },
      "source": [
        "len(test_generator.labels)\n"
      ],
      "execution_count": null,
      "outputs": [
        {
          "output_type": "execute_result",
          "data": {
            "text/plain": [
              "450"
            ]
          },
          "metadata": {
            "tags": []
          },
          "execution_count": 10
        }
      ]
    },
    {
      "cell_type": "code",
      "metadata": {
        "id": "GmWlJDuX-Knj",
        "colab": {
          "base_uri": "https://localhost:8080/"
        },
        "outputId": "6d3d667b-65b7-4cd1-cea1-a24f22bf4844"
      },
      "source": [
        "history = model.fit(train_generator, epochs=EP, \n",
        "                    steps_per_epoch=train_generator.n//train_generator.batch_size,\n",
        "                    validation_data=validation_generator, \n",
        "                    validation_steps=validation_generator.n//validation_generator.batch_size,\n",
        "                    callbacks=[early_stopping_monitor,model_checkpoint_callback])"
      ],
      "execution_count": null,
      "outputs": [
        {
          "output_type": "stream",
          "text": [
            "Epoch 1/30\n",
            "104/104 [==============================] - 536s 5s/step - loss: 21.9339 - accuracy: 0.5065 - auc: 0.5069 - val_loss: 18.2398 - val_accuracy: 0.5000 - val_auc: 0.5002\n",
            "\n",
            "Epoch 00001: val_accuracy improved from -inf to 0.50000, saving model to /content/drive/MyDrive/Melanoma_Data/melanoma_model_shift+gabor.hdf5\n",
            "Epoch 2/30\n",
            "104/104 [==============================] - 30s 287ms/step - loss: 17.4597 - accuracy: 0.5575 - auc: 0.5533 - val_loss: 14.7354 - val_accuracy: 0.5044 - val_auc: 0.5026\n",
            "\n",
            "Epoch 00002: val_accuracy improved from 0.50000 to 0.50444, saving model to /content/drive/MyDrive/Melanoma_Data/melanoma_model_shift+gabor.hdf5\n",
            "Epoch 3/30\n",
            "104/104 [==============================] - 30s 286ms/step - loss: 14.1053 - accuracy: 0.5850 - auc: 0.5904 - val_loss: 12.0570 - val_accuracy: 0.4822 - val_auc: 0.5004\n",
            "\n",
            "Epoch 00003: val_accuracy did not improve from 0.50444\n",
            "Epoch 4/30\n",
            "104/104 [==============================] - 30s 288ms/step - loss: 11.4732 - accuracy: 0.6817 - auc: 0.6699 - val_loss: 9.9744 - val_accuracy: 0.5133 - val_auc: 0.5107\n",
            "\n",
            "Epoch 00004: val_accuracy improved from 0.50444 to 0.51333, saving model to /content/drive/MyDrive/Melanoma_Data/melanoma_model_shift+gabor.hdf5\n",
            "Epoch 5/30\n",
            "104/104 [==============================] - 30s 286ms/step - loss: 9.4506 - accuracy: 0.7045 - auc: 0.7172 - val_loss: 8.3670 - val_accuracy: 0.5067 - val_auc: 0.4923\n",
            "\n",
            "Epoch 00005: val_accuracy did not improve from 0.51333\n",
            "Epoch 6/30\n",
            "104/104 [==============================] - 31s 293ms/step - loss: 7.8502 - accuracy: 0.7910 - auc: 0.7648 - val_loss: 7.0328 - val_accuracy: 0.5222 - val_auc: 0.5381\n",
            "\n",
            "Epoch 00006: val_accuracy improved from 0.51333 to 0.52222, saving model to /content/drive/MyDrive/Melanoma_Data/melanoma_model_shift+gabor.hdf5\n",
            "Epoch 7/30\n",
            "104/104 [==============================] - 30s 288ms/step - loss: 6.5540 - accuracy: 0.8127 - auc: 0.8153 - val_loss: 6.0067 - val_accuracy: 0.5133 - val_auc: 0.5066\n",
            "\n",
            "Epoch 00007: val_accuracy did not improve from 0.52222\n",
            "Epoch 8/30\n",
            "104/104 [==============================] - 31s 294ms/step - loss: 5.5063 - accuracy: 0.8455 - auc: 0.8531 - val_loss: 5.1951 - val_accuracy: 0.4911 - val_auc: 0.5041\n",
            "\n",
            "Epoch 00008: val_accuracy did not improve from 0.52222\n",
            "Epoch 9/30\n",
            "104/104 [==============================] - 31s 297ms/step - loss: 4.6428 - accuracy: 0.9062 - auc: 0.8927 - val_loss: 4.5540 - val_accuracy: 0.5044 - val_auc: 0.4819\n",
            "\n",
            "Epoch 00009: val_accuracy did not improve from 0.52222\n",
            "Epoch 10/30\n",
            "104/104 [==============================] - 31s 293ms/step - loss: 3.9179 - accuracy: 0.9124 - auc: 0.9329 - val_loss: 4.0218 - val_accuracy: 0.5022 - val_auc: 0.4769\n",
            "\n",
            "Epoch 00010: val_accuracy did not improve from 0.52222\n",
            "Epoch 11/30\n",
            "104/104 [==============================] - 31s 294ms/step - loss: 3.3104 - accuracy: 0.9671 - auc: 0.9637 - val_loss: 3.6374 - val_accuracy: 0.5000 - val_auc: 0.4801\n",
            "\n",
            "Epoch 00011: val_accuracy did not improve from 0.52222\n",
            "Epoch 12/30\n",
            "104/104 [==============================] - 31s 294ms/step - loss: 2.8172 - accuracy: 0.9594 - auc: 0.9713 - val_loss: 3.1762 - val_accuracy: 0.5000 - val_auc: 0.5191\n",
            "\n",
            "Epoch 00012: val_accuracy did not improve from 0.52222\n",
            "Epoch 13/30\n",
            "104/104 [==============================] - 30s 289ms/step - loss: 2.3873 - accuracy: 0.9824 - auc: 0.9862 - val_loss: 3.0929 - val_accuracy: 0.5000 - val_auc: 0.4733\n",
            "\n",
            "Epoch 00013: val_accuracy did not improve from 0.52222\n",
            "Epoch 14/30\n",
            "104/104 [==============================] - 31s 296ms/step - loss: 2.0170 - accuracy: 0.9838 - auc: 0.9894 - val_loss: 2.6715 - val_accuracy: 0.5000 - val_auc: 0.4764\n",
            "\n",
            "Epoch 00014: val_accuracy did not improve from 0.52222\n",
            "Epoch 15/30\n",
            "104/104 [==============================] - 30s 290ms/step - loss: 1.7068 - accuracy: 0.9895 - auc: 0.9939 - val_loss: 2.3400 - val_accuracy: 0.5000 - val_auc: 0.5277\n",
            "\n",
            "Epoch 00015: val_accuracy did not improve from 0.52222\n",
            "Epoch 16/30\n",
            "104/104 [==============================] - 31s 294ms/step - loss: 1.4223 - accuracy: 0.9945 - auc: 0.9958 - val_loss: 2.2685 - val_accuracy: 0.5000 - val_auc: 0.5014\n",
            "\n",
            "Epoch 00016: val_accuracy did not improve from 0.52222\n",
            "Epoch 17/30\n",
            "104/104 [==============================] - 30s 292ms/step - loss: 1.1938 - accuracy: 0.9961 - auc: 0.9983 - val_loss: 2.2658 - val_accuracy: 0.5000 - val_auc: 0.5090\n",
            "\n",
            "Epoch 00017: val_accuracy did not improve from 0.52222\n",
            "Epoch 18/30\n",
            "104/104 [==============================] - 31s 294ms/step - loss: 0.9927 - accuracy: 0.9953 - auc: 0.9982 - val_loss: 2.0036 - val_accuracy: 0.5000 - val_auc: 0.5306\n",
            "\n",
            "Epoch 00018: val_accuracy did not improve from 0.52222\n",
            "Epoch 19/30\n",
            "104/104 [==============================] - 31s 296ms/step - loss: 0.8201 - accuracy: 0.9975 - auc: 0.9996 - val_loss: 2.0572 - val_accuracy: 0.5000 - val_auc: 0.4889\n",
            "\n",
            "Epoch 00019: val_accuracy did not improve from 0.52222\n",
            "Epoch 20/30\n",
            "104/104 [==============================] - 31s 296ms/step - loss: 0.6717 - accuracy: 0.9983 - auc: 0.9999 - val_loss: 1.9316 - val_accuracy: 0.5000 - val_auc: 0.4950\n",
            "\n",
            "Epoch 00020: val_accuracy did not improve from 0.52222\n",
            "Epoch 21/30\n",
            "104/104 [==============================] - 30s 291ms/step - loss: 0.5555 - accuracy: 0.9999 - auc: 0.9998 - val_loss: 1.8307 - val_accuracy: 0.5000 - val_auc: 0.5014\n",
            "\n",
            "Epoch 00021: val_accuracy did not improve from 0.52222\n",
            "Epoch 22/30\n",
            "104/104 [==============================] - 31s 294ms/step - loss: 0.4567 - accuracy: 0.9997 - auc: 0.9999 - val_loss: 1.9678 - val_accuracy: 0.5000 - val_auc: 0.4821\n",
            "\n",
            "Epoch 00022: val_accuracy did not improve from 0.52222\n",
            "Epoch 23/30\n",
            "104/104 [==============================] - 30s 287ms/step - loss: 0.3723 - accuracy: 0.9987 - auc: 0.9998 - val_loss: 1.8207 - val_accuracy: 0.5000 - val_auc: 0.4494\n",
            "\n",
            "Epoch 00023: val_accuracy did not improve from 0.52222\n",
            "Epoch 24/30\n",
            "104/104 [==============================] - 31s 296ms/step - loss: 0.3013 - accuracy: 1.0000 - auc: 1.0000 - val_loss: 1.9638 - val_accuracy: 0.5000 - val_auc: 0.4950\n",
            "\n",
            "Epoch 00024: val_accuracy did not improve from 0.52222\n",
            "Epoch 25/30\n",
            "104/104 [==============================] - 30s 290ms/step - loss: 0.2467 - accuracy: 1.0000 - auc: 1.0000 - val_loss: 2.6023 - val_accuracy: 0.5000 - val_auc: 0.5007\n",
            "\n",
            "Epoch 00025: val_accuracy did not improve from 0.52222\n",
            "Epoch 26/30\n",
            "104/104 [==============================] - 31s 293ms/step - loss: 0.2048 - accuracy: 1.0000 - auc: 0.9999 - val_loss: 2.1124 - val_accuracy: 0.5000 - val_auc: 0.4738\n",
            "\n",
            "Epoch 00026: val_accuracy did not improve from 0.52222\n",
            "Epoch 27/30\n",
            "104/104 [==============================] - 31s 294ms/step - loss: 0.1672 - accuracy: 1.0000 - auc: 1.0000 - val_loss: 2.3548 - val_accuracy: 0.5000 - val_auc: 0.4961\n",
            "\n",
            "Epoch 00027: val_accuracy did not improve from 0.52222\n",
            "Epoch 28/30\n",
            "104/104 [==============================] - 31s 293ms/step - loss: 0.1411 - accuracy: 0.9947 - auc: 0.9994 - val_loss: 1.9139 - val_accuracy: 0.5000 - val_auc: 0.5352\n",
            "\n",
            "Epoch 00028: val_accuracy did not improve from 0.52222\n",
            "Epoch 29/30\n",
            "104/104 [==============================] - 31s 292ms/step - loss: 0.1098 - accuracy: 1.0000 - auc: 1.0000 - val_loss: 2.4253 - val_accuracy: 0.5000 - val_auc: 0.4788\n",
            "\n",
            "Epoch 00029: val_accuracy did not improve from 0.52222\n",
            "Epoch 30/30\n",
            "104/104 [==============================] - 31s 293ms/step - loss: 0.0977 - accuracy: 0.9999 - auc: 1.0000 - val_loss: 2.4320 - val_accuracy: 0.5000 - val_auc: 0.4947\n",
            "\n",
            "Epoch 00030: val_accuracy did not improve from 0.52222\n"
          ],
          "name": "stdout"
        }
      ]
    },
    {
      "cell_type": "code",
      "metadata": {
        "id": "ovuV8xqA-KqO",
        "colab": {
          "base_uri": "https://localhost:8080/",
          "height": 545
        },
        "outputId": "8417817c-95a9-4bed-bfb4-0b4322242e7f"
      },
      "source": [
        "acc = history.history['accuracy']\n",
        "val_acc = history.history['val_accuracy']\n",
        "loss = history.history['loss']\n",
        "val_loss = history.history['val_loss']\n",
        "epochs = range(1, len(acc) + 1)\n",
        "plt.plot(epochs, acc, 'bo', label='Training acc')\n",
        "plt.plot(epochs, val_acc, 'r', label='Validation acc')\n",
        "plt.title('Training and validation accuracy')\n",
        "plt.legend()\n",
        "plt.figure()\n",
        "plt.plot(epochs, loss, 'bo', label='Training loss')\n",
        "plt.plot(epochs, val_loss, 'r', label='Validation loss')\n",
        "plt.title('Training and validation loss')\n",
        "plt.legend()\n",
        "plt.show()"
      ],
      "execution_count": null,
      "outputs": [
        {
          "output_type": "display_data",
          "data": {
            "image/png": "[encoded data removed]",
            "text/plain": [
              "<Figure size 432x288 with 1 Axes>"
            ]
          },
          "metadata": {
            "tags": [],
            "needs_background": "light"
          }
        },
        {
          "output_type": "display_data",
          "data": {
            "image/png": "[encoded data removed]",
            "text/plain": [
              "<Figure size 432x288 with 1 Axes>"
            ]
          },
          "metadata": {
            "tags": [],
            "needs_background": "light"
          }
        }
      ]
    },
    {
      "cell_type": "code",
      "metadata": {
        "id": "7qm-PLfn-Ks0",
        "colab": {
          "base_uri": "https://localhost:8080/"
        },
        "outputId": "d7244fcd-6632-48ba-97df-ed9c1a39552d"
      },
      "source": [
        "y=np.concatenate([test_generator.next()[1] for i in range(test_generator.__len__())])\n",
        "true_labels=np.argmax(y, axis=-1)\n",
        "prediction= model.predict(test_generator, verbose=2)\n",
        "prediction=np.argmax(prediction, axis=-1)"
      ],
      "execution_count": null,
      "outputs": [
        {
          "output_type": "stream",
          "text": [
            "450/450 - 12s\n"
          ],
          "name": "stdout"
        }
      ]
    },
    {
      "cell_type": "code",
      "metadata": {
        "id": "72d5CVb-JlBw"
      },
      "source": [
        "def plot_confusion_matrix(cm, classes,\n",
        "                          normalize=False,\n",
        "                          title='Confusion matrix',\n",
        "                          cmap=plt.cm.Blues):\n",
        "    \"\"\"\n",
        "    This function prints and plots the confusion matrix.\n",
        "    Normalization can be applied by setting `normalize=True`.\n",
        "    \"\"\"\n",
        "    plt.imshow(cm, interpolation='nearest', cmap=cmap)\n",
        "    plt.title(title)\n",
        "    plt.colorbar()\n",
        "    tick_marks = np.arange(len(classes))\n",
        "    plt.xticks(tick_marks, classes, rotation=45)\n",
        "    plt.yticks(tick_marks, classes)\n",
        "\n",
        "    if normalize:\n",
        "        cm = cm.astype('float') / cm.sum(axis=1)[:, np.newaxis]\n",
        "        print(\"Normalized confusion matrix\")\n",
        "    else:\n",
        "        print('Confusion matrix, without normalization')\n",
        "\n",
        "    print(cm)\n",
        "\n",
        "    thresh = cm.max() / 2.\n",
        "    for i, j in itertools.product(range(cm.shape[0]), range(cm.shape[1])):\n",
        "        plt.text(j, i, cm[i, j],\n",
        "            horizontalalignment=\"center\",\n",
        "            color=\"white\" if cm[i, j] > thresh else \"black\")\n",
        "\n",
        "    plt.tight_layout()\n",
        "    plt.ylabel('True label')\n",
        "    plt.xlabel('Predicted label')\n",
        "from sklearn.metrics import confusion_matrix\n",
        "import itertools\n",
        "import matplotlib.pyplot as plt\n",
        "cm = confusion_matrix(y_true=true_labels, y_pred=prediction)"
      ],
      "execution_count": null,
      "outputs": []
    },
    {
      "cell_type": "code",
      "metadata": {
        "id": "90vWWKNkJlFy"
      },
      "source": [
        "cm_plot_labels = ['melanoma','not melanoma']"
      ],
      "execution_count": null,
      "outputs": []
    },
    {
      "cell_type": "code",
      "metadata": {
        "id": "UDd2tVoYJlIb",
        "colab": {
          "base_uri": "https://localhost:8080/",
          "height": 488
        },
        "outputId": "3c7e5010-2a84-494a-c20b-92db955b4f5f"
      },
      "source": [
        "plot_confusion_matrix(cm=cm, classes=cm_plot_labels, title='Confusion Matrix')\n",
        "from sklearn.metrics import accuracy_score\n",
        "acc=accuracy_score(true_labels,prediction) \n",
        "print('Accuracy: %.3f' % acc)\n",
        "from sklearn.metrics import precision_score\n",
        "precision = precision_score(true_labels,prediction,labels=[1,2], average='micro')\n",
        "print('Precision: %.3f' % precision)\n",
        "from sklearn.metrics import recall_score\n",
        "recall = recall_score(true_labels,prediction, average='binary')\n",
        "print('Recall: %.3f' % recall)\n",
        "from sklearn.metrics import f1_score\n",
        "score = f1_score(true_labels,prediction, average='binary')\n",
        "print('F-Measure: %.3f' % score)"
      ],
      "execution_count": null,
      "outputs": [
        {
          "output_type": "stream",
          "text": [
            "Confusion matrix, without normalization\n",
            "[[225   0]\n",
            " [225   0]]\n",
            "Accuracy: 0.500\n",
            "Precision: 0.000\n",
            "Recall: 0.000\n",
            "F-Measure: 0.000\n"
          ],
          "name": "stdout"
        },
        {
          "output_type": "stream",
          "text": [
            "/usr/local/lib/python3.7/dist-packages/sklearn/metrics/_classification.py:1272: UndefinedMetricWarning: Precision is ill-defined and being set to 0.0 due to no predicted samples. Use `zero_division` parameter to control this behavior.\n",
            "  _warn_prf(average, modifier, msg_start, len(result))\n"
          ],
          "name": "stderr"
        },
        {
          "output_type": "display_data",
          "data": {
            "image/png": "[encoded data removed]",
            "text/plain": [
              "<Figure size 432x288 with 2 Axes>"
            ]
          },
          "metadata": {
            "tags": [],
            "needs_background": "light"
          }
        }
      ]
    },
    {
      "cell_type": "code",
      "metadata": {
        "id": "aFiBpF5vLgay"
      },
      "source": [
        ""
      ],
      "execution_count": null,
      "outputs": []
    },
    {
      "cell_type": "code",
      "metadata": {
        "id": "g-OopgprLgeb"
      },
      "source": [
        ""
      ],
      "execution_count": null,
      "outputs": []
    },
    {
      "cell_type": "code",
      "metadata": {
        "id": "Xw0bra1mLgjq"
      },
      "source": [
        ""
      ],
      "execution_count": null,
      "outputs": []
    }
  ]
}