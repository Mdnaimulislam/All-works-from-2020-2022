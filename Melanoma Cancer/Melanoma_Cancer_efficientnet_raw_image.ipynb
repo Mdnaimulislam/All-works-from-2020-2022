{
  "nbformat": 4,
  "nbformat_minor": 0,
  "metadata": {
    "colab": {
      "name": "Melanoma Cancer efficientnet_raw_image.ipynb",
      "provenance": [],
      "collapsed_sections": []
    },
    "kernelspec": {
      "name": "python3",
      "display_name": "Python 3"
    },
    "language_info": {
      "name": "python"
    },
    "accelerator": "GPU"
  },
  "cells": [
    {
      "cell_type": "code",
      "metadata": {
        "id": "4hI26lpa-KPc",
        "colab": {
          "base_uri": "https://localhost:8080/"
        },
        "outputId": "deedd467-762e-45f0-a349-9f053164d8c9"
      },
      "source": [
        "!pip install -U efficientnet\n",
        "import sys\n",
        "import os\n",
        "from os.path import join\n",
        "import numpy as np\n",
        "import pandas as pd\n",
        "import matplotlib.pyplot as plt\n",
        "import efficientnet.keras as efn \n",
        "import tensorflow as tf\n",
        "from keras.preprocessing.image import load_img, img_to_array\n",
        "from keras import models, regularizers, layers, optimizers, losses, metrics\n",
        "from keras.models import Sequential\n",
        "from keras.layers import Dense\n",
        "from tensorflow.keras.utils import to_categorical\n",
        "from keras.preprocessing.image import ImageDataGenerator\n",
        "from keras.preprocessing import image"
      ],
      "execution_count": null,
      "outputs": [
        {
          "output_type": "stream",
          "name": "stdout",
          "text": [
            "Collecting efficientnet\n",
            "  Downloading efficientnet-1.1.1-py3-none-any.whl (18 kB)\n",
            "Collecting keras-applications<=1.0.8,>=1.0.7\n",
            "  Downloading Keras_Applications-1.0.8-py3-none-any.whl (50 kB)\n",
            "\u001b[K     |████████████████████████████████| 50 kB 3.2 MB/s \n",
            "\u001b[?25hRequirement already satisfied: scikit-image in /usr/local/lib/python3.7/dist-packages (from efficientnet) (0.16.2)\n",
            "Requirement already satisfied: numpy>=1.9.1 in /usr/local/lib/python3.7/dist-packages (from keras-applications<=1.0.8,>=1.0.7->efficientnet) (1.19.5)\n",
            "Requirement already satisfied: h5py in /usr/local/lib/python3.7/dist-packages (from keras-applications<=1.0.8,>=1.0.7->efficientnet) (3.1.0)\n",
            "Requirement already satisfied: cached-property in /usr/local/lib/python3.7/dist-packages (from h5py->keras-applications<=1.0.8,>=1.0.7->efficientnet) (1.5.2)\n",
            "Requirement already satisfied: PyWavelets>=0.4.0 in /usr/local/lib/python3.7/dist-packages (from scikit-image->efficientnet) (1.1.1)\n",
            "Requirement already satisfied: matplotlib!=3.0.0,>=2.0.0 in /usr/local/lib/python3.7/dist-packages (from scikit-image->efficientnet) (3.2.2)\n",
            "Requirement already satisfied: pillow>=4.3.0 in /usr/local/lib/python3.7/dist-packages (from scikit-image->efficientnet) (7.1.2)\n",
            "Requirement already satisfied: networkx>=2.0 in /usr/local/lib/python3.7/dist-packages (from scikit-image->efficientnet) (2.6.3)\n",
            "Requirement already satisfied: scipy>=0.19.0 in /usr/local/lib/python3.7/dist-packages (from scikit-image->efficientnet) (1.4.1)\n",
            "Requirement already satisfied: imageio>=2.3.0 in /usr/local/lib/python3.7/dist-packages (from scikit-image->efficientnet) (2.4.1)\n",
            "Requirement already satisfied: cycler>=0.10 in /usr/local/lib/python3.7/dist-packages (from matplotlib!=3.0.0,>=2.0.0->scikit-image->efficientnet) (0.10.0)\n",
            "Requirement already satisfied: python-dateutil>=2.1 in /usr/local/lib/python3.7/dist-packages (from matplotlib!=3.0.0,>=2.0.0->scikit-image->efficientnet) (2.8.2)\n",
            "Requirement already satisfied: pyparsing!=2.0.4,!=2.1.2,!=2.1.6,>=2.0.1 in /usr/local/lib/python3.7/dist-packages (from matplotlib!=3.0.0,>=2.0.0->scikit-image->efficientnet) (2.4.7)\n",
            "Requirement already satisfied: kiwisolver>=1.0.1 in /usr/local/lib/python3.7/dist-packages (from matplotlib!=3.0.0,>=2.0.0->scikit-image->efficientnet) (1.3.2)\n",
            "Requirement already satisfied: six in /usr/local/lib/python3.7/dist-packages (from cycler>=0.10->matplotlib!=3.0.0,>=2.0.0->scikit-image->efficientnet) (1.15.0)\n",
            "Installing collected packages: keras-applications, efficientnet\n",
            "Successfully installed efficientnet-1.1.1 keras-applications-1.0.8\n"
          ]
        }
      ]
    },
    {
      "cell_type": "code",
      "metadata": {
        "colab": {
          "base_uri": "https://localhost:8080/"
        },
        "id": "Gf3tK4gSMjwE",
        "outputId": "db326f67-e905-485b-ce28-6e1956e7e835"
      },
      "source": [
        "from google.colab import drive\n",
        "drive.mount('/content/drive')"
      ],
      "execution_count": null,
      "outputs": [
        {
          "output_type": "stream",
          "name": "stdout",
          "text": [
            "Drive already mounted at /content/drive; to attempt to forcibly remount, call drive.mount(\"/content/drive\", force_remount=True).\n"
          ]
        }
      ]
    },
    {
      "cell_type": "code",
      "metadata": {
        "colab": {
          "base_uri": "https://localhost:8080/"
        },
        "id": "8i8kgoIG-KRY",
        "outputId": "2f3f7df9-2a33-47e1-a69a-40b4e1cf16d1"
      },
      "source": [
        "PATH = \"/content/drive/MyDrive/Melanoma_Data/Raw_eff/\"\n",
        "print(os.listdir(PATH))"
      ],
      "execution_count": null,
      "outputs": [
        {
          "output_type": "stream",
          "name": "stdout",
          "text": [
            "['valid', 'test', 'train', 'torchmelanomamodel.pth']\n"
          ]
        }
      ]
    },
    {
      "cell_type": "code",
      "metadata": {
        "colab": {
          "base_uri": "https://localhost:8080/"
        },
        "id": "3Sk34dIq-KTt",
        "outputId": "035cf359-9bed-4e20-b7dd-6ca9297f342f"
      },
      "source": [
        "PATHtrain = PATH + 'train/'\n",
        "print(len(os.listdir(PATHtrain)), \" TRAIN Directories of photos\")\n",
        "Labels = os.listdir(PATHtrain)\n",
        "sig = 0\n",
        "for label in sorted(Labels):\n",
        "    print(label,len(os.listdir(PATHtrain + label +'/')))\n",
        "    sig = sig + len(os.listdir(PATHtrain + label +'/'))\n",
        "\n",
        "print(\"Total TRAIN photos \", sig)\n",
        "print(\"_\"*50)\n",
        "\n",
        "PATHvalid = PATH + 'valid/'\n",
        "print(len(os.listdir(PATHvalid)), \" VALID Directories of photos\")\n",
        "Labels = os.listdir(PATHvalid)\n",
        "sig = 0\n",
        "for label in sorted(Labels):\n",
        "    print(label,len(os.listdir(PATHvalid + label +'/')))\n",
        "    sig = sig + len(os.listdir(PATHvalid + label +'/'))\n",
        "\n",
        "print(\"Total Validation photos \", sig)\n",
        "print(\"_\"*50)\n",
        "\n",
        "PATHtest = PATH + 'test/'\n",
        "print(len(os.listdir(PATHtest)), \" TEST Directories of photos\")\n",
        "Labels = os.listdir(PATHtest)\n",
        "sig = 0\n",
        "for label in sorted(Labels):\n",
        "    print(label,len(os.listdir(PATHtest + label +'/')))\n",
        "    sig = sig + len(os.listdir(PATHtest + label +'/'))\n",
        "\n",
        "print(\"Total Testing photos \", sig)\n",
        "print(\"_\"*50)"
      ],
      "execution_count": null,
      "outputs": [
        {
          "output_type": "stream",
          "name": "stdout",
          "text": [
            "2  TRAIN Directories of photos\n",
            "Melanoma 1047\n",
            "NotMelanoma 1047\n",
            "Total TRAIN photos  2094\n",
            "__________________________________________________\n",
            "2  VALID Directories of photos\n",
            "Melanoma 225\n",
            "NotMelanoma 225\n",
            "Total Validation photos  450\n",
            "__________________________________________________\n",
            "2  TEST Directories of photos\n",
            "Melanoma 225\n",
            "NotMelanoma 225\n",
            "Total Testing photos  450\n",
            "__________________________________________________\n"
          ]
        }
      ]
    },
    {
      "cell_type": "code",
      "metadata": {
        "id": "0pjq9JNo-KYd"
      },
      "source": [
        "from efficientnet.tfkeras import EfficientNetB4"
      ],
      "execution_count": null,
      "outputs": []
    },
    {
      "cell_type": "code",
      "metadata": {
        "id": "FMMYcFPU-KbB",
        "colab": {
          "base_uri": "https://localhost:8080/"
        },
        "outputId": "17872c89-f0be-4d3d-9b2c-c377b849d802"
      },
      "source": [
        "import keras\n",
        "from keras.callbacks import EarlyStopping,ModelCheckpoint,LearningRateScheduler\n",
        "from keras.layers import Conv2D,BatchNormalization,MaxPool2D,Flatten,Dense\n",
        "from keras.regularizers import l2\n",
        "\n",
        "from tensorflow.keras.optimizers import Adam, SGD, RMSprop\n",
        "\n",
        "EP=30\n",
        "LR=0.0001\n",
        "DR=LR/EP\n",
        "MM=0.8\n",
        "K=0.2\n",
        "\n",
        "\"lr=0.0001\"\n",
        "\"--USING THIS--\"\n",
        "def lr_scheduler(epoch, lr):return lr* float((np.exp(- (epoch*DR))))\n",
        "    \n",
        "LRD=LearningRateScheduler(lr_scheduler)\n",
        "\n",
        "callbacks_list=[LRD]\n",
        "\n",
        "\n",
        "#OPT=keras.optimizers.Adam(lr=lr_schedule,decy_rate=DR)\n",
        "\n",
        "\"--CORRECT WAY WITH LEARNING RATE SCHEDULE--\"\n",
        "OPT=Adam(learning_rate=LR)\n",
        "\n",
        "\n",
        "model = keras.Sequential()\n",
        "model.add(EfficientNetB4(input_shape=(224, 224, 3), include_top=False, weights='imagenet'))\n",
        "model.add(keras.layers.Dropout(0.5))\n",
        "model.add(keras.layers.GlobalAveragePooling2D())\n",
        "model.add(keras.layers.Flatten())\n",
        "model.add(keras.layers.Dropout(0.5))\n",
        "model.add(keras.layers.Dense(256, activation='relu',kernel_regularizer=l2(0.05), bias_regularizer=l2(0.05)))\n",
        "model.add(keras.layers.BatchNormalization())\n",
        "model.add(keras.layers.Dropout(0.3))\n",
        "model.add(keras.layers.Dense(2, activation='sigmoid')) \n",
        "\n",
        "# monitor\n",
        "early_stopping_monitor = EarlyStopping(patience=100,monitor='val_accuracy')\n",
        "model_checkpoint_callback = ModelCheckpoint(filepath='/content/drive/MyDrive/Melanoma_Data/melanoma_model_raw.h5',\n",
        "                                            save_weights_only=True,\n",
        "                                            monitor='val_accuracy',\n",
        "                                            mode='auto',\n",
        "                                            save_best_only=True,\n",
        "                                            verbose=1)\n",
        "\n",
        "\n",
        "#categorical_crossentropy\n",
        "model.compile(loss='binary_crossentropy', optimizer=OPT, metrics=['accuracy', 'AUC'])"
      ],
      "execution_count": null,
      "outputs": [
        {
          "output_type": "stream",
          "name": "stdout",
          "text": [
            "Downloading data from https://github.com/Callidior/keras-applications/releases/download/efficientnet/efficientnet-b4_weights_tf_dim_ordering_tf_kernels_autoaugment_notop.h5\n",
            "71892992/71892840 [==============================] - 1s 0us/step\n",
            "71901184/71892840 [==============================] - 1s 0us/step\n"
          ]
        }
      ]
    },
    {
      "cell_type": "code",
      "metadata": {
        "colab": {
          "base_uri": "https://localhost:8080/"
        },
        "id": "6y5SbQwu-KgG",
        "outputId": "f671e970-140f-4292-9850-42cf2412e12a"
      },
      "source": [
        "train_dir = PATHtrain\n",
        "validation_dir = PATHvalid\n",
        "test_dir = PATHtest\n",
        "target_size=(224, 224)\n",
        "batch_size=10\n",
        "#train_datagen = ImageDataGenerator(rescale=1./255)\n",
        "train_datagen = ImageDataGenerator(rescale=1./255,\n",
        "                                   rotation_range=45,\n",
        "                                   width_shift_range=0.2,\n",
        "                                   height_shift_range=0.2,\n",
        "                                   shear_range=0.2,\n",
        "                                   zoom_range=0.2,\n",
        "                                   horizontal_flip=True,\n",
        "                                   vertical_flip=True,\n",
        "                                   fill_mode='nearest')\n",
        "\n",
        "test_datagen = ImageDataGenerator(rescale=1./255)\n",
        "\n",
        "train_generator = train_datagen.flow_from_directory(\n",
        "    train_dir,target_size=target_size,batch_size=batch_size,shuffle=True,seed=42)\n",
        "validation_generator = test_datagen.flow_from_directory(\n",
        "    validation_dir,target_size=target_size,batch_size=batch_size,shuffle=True,seed=42)\n",
        "test_generator = test_datagen.flow_from_directory(\n",
        "    test_dir,target_size=target_size,batch_size=1)"
      ],
      "execution_count": null,
      "outputs": [
        {
          "output_type": "stream",
          "name": "stdout",
          "text": [
            "Found 2094 images belonging to 2 classes.\n",
            "Found 450 images belonging to 2 classes.\n",
            "Found 450 images belonging to 2 classes.\n"
          ]
        }
      ]
    },
    {
      "cell_type": "code",
      "metadata": {
        "colab": {
          "base_uri": "https://localhost:8080/"
        },
        "id": "kyVoYLcL-Kit",
        "outputId": "0d138e38-974c-4e51-f87f-bf92b9ff18ee"
      },
      "source": [
        "print(train_generator.class_indices)\n",
        "print(validation_generator.class_indices)\n",
        "print(test_generator.class_indices)"
      ],
      "execution_count": null,
      "outputs": [
        {
          "output_type": "stream",
          "name": "stdout",
          "text": [
            "{'Melanoma': 0, 'NotMelanoma': 1}\n",
            "{'Melanoma': 0, 'NotMelanoma': 1}\n",
            "{'Melanoma': 0, 'NotMelanoma': 1}\n"
          ]
        }
      ]
    },
    {
      "cell_type": "code",
      "metadata": {
        "colab": {
          "base_uri": "https://localhost:8080/"
        },
        "id": "i6-CmTlw-Kk-",
        "outputId": "964df530-2b8f-46e5-b82a-0fffd7365da4"
      },
      "source": [
        "len(test_generator.labels)\n"
      ],
      "execution_count": null,
      "outputs": [
        {
          "output_type": "execute_result",
          "data": {
            "text/plain": [
              "450"
            ]
          },
          "metadata": {},
          "execution_count": 10
        }
      ]
    },
    {
      "cell_type": "code",
      "metadata": {
        "id": "GmWlJDuX-Knj",
        "colab": {
          "base_uri": "https://localhost:8080/"
        },
        "outputId": "49f95e41-e58f-4bab-c570-5adcc28d45f9"
      },
      "source": [
        "history = model.fit(train_generator, epochs=EP, \n",
        "                    steps_per_epoch=train_generator.n//train_generator.batch_size,\n",
        "                    validation_data=validation_generator, \n",
        "                    validation_steps=validation_generator.n//validation_generator.batch_size,\n",
        "                    callbacks=[early_stopping_monitor,model_checkpoint_callback])"
      ],
      "execution_count": null,
      "outputs": [
        {
          "output_type": "stream",
          "name": "stdout",
          "text": [
            "Epoch 1/30\n",
            "209/209 [==============================] - 722s 3s/step - loss: 18.7852 - accuracy: 0.7337 - auc: 0.7751 - val_loss: 15.1659 - val_accuracy: 0.5933 - val_auc: 0.6936\n",
            "\n",
            "Epoch 00001: val_accuracy improved from -inf to 0.59333, saving model to /content/drive/MyDrive/Melanoma_Data/melanoma_model_raw.h5\n",
            "Epoch 2/30\n",
            "209/209 [==============================] - 114s 547ms/step - loss: 12.2132 - accuracy: 0.8186 - auc: 0.8842 - val_loss: 9.8813 - val_accuracy: 0.7044 - val_auc: 0.8260\n",
            "\n",
            "Epoch 00002: val_accuracy improved from 0.59333 to 0.70444, saving model to /content/drive/MyDrive/Melanoma_Data/melanoma_model_raw.h5\n",
            "Epoch 3/30\n",
            "209/209 [==============================] - 115s 549ms/step - loss: 8.0381 - accuracy: 0.8464 - auc: 0.9127 - val_loss: 6.6010 - val_accuracy: 0.7711 - val_auc: 0.8714\n",
            "\n",
            "Epoch 00003: val_accuracy improved from 0.70444 to 0.77111, saving model to /content/drive/MyDrive/Melanoma_Data/melanoma_model_raw.h5\n",
            "Epoch 4/30\n",
            "209/209 [==============================] - 115s 547ms/step - loss: 5.4451 - accuracy: 0.8532 - auc: 0.9235 - val_loss: 4.5919 - val_accuracy: 0.7622 - val_auc: 0.8656\n",
            "\n",
            "Epoch 00004: val_accuracy did not improve from 0.77111\n",
            "Epoch 5/30\n",
            "209/209 [==============================] - 115s 548ms/step - loss: 3.7913 - accuracy: 0.8666 - auc: 0.9315 - val_loss: 3.2373 - val_accuracy: 0.7844 - val_auc: 0.8912\n",
            "\n",
            "Epoch 00005: val_accuracy improved from 0.77111 to 0.78444, saving model to /content/drive/MyDrive/Melanoma_Data/melanoma_model_raw.h5\n",
            "Epoch 6/30\n",
            "209/209 [==============================] - 115s 548ms/step - loss: 2.6843 - accuracy: 0.8752 - auc: 0.9429 - val_loss: 2.4131 - val_accuracy: 0.7822 - val_auc: 0.8823\n",
            "\n",
            "Epoch 00006: val_accuracy did not improve from 0.78444\n",
            "Epoch 7/30\n",
            "209/209 [==============================] - 115s 551ms/step - loss: 1.9912 - accuracy: 0.8666 - auc: 0.9399 - val_loss: 1.8259 - val_accuracy: 0.8044 - val_auc: 0.8985\n",
            "\n",
            "Epoch 00007: val_accuracy improved from 0.78444 to 0.80444, saving model to /content/drive/MyDrive/Melanoma_Data/melanoma_model_raw.h5\n",
            "Epoch 8/30\n",
            "209/209 [==============================] - 116s 552ms/step - loss: 1.4884 - accuracy: 0.8767 - auc: 0.9501 - val_loss: 1.4473 - val_accuracy: 0.8044 - val_auc: 0.8951\n",
            "\n",
            "Epoch 00008: val_accuracy did not improve from 0.80444\n",
            "Epoch 9/30\n",
            "209/209 [==============================] - 115s 548ms/step - loss: 1.1409 - accuracy: 0.8940 - auc: 0.9567 - val_loss: 1.1295 - val_accuracy: 0.8156 - val_auc: 0.9193\n",
            "\n",
            "Epoch 00009: val_accuracy improved from 0.80444 to 0.81556, saving model to /content/drive/MyDrive/Melanoma_Data/melanoma_model_raw.h5\n",
            "Epoch 10/30\n",
            "209/209 [==============================] - 115s 547ms/step - loss: 0.8942 - accuracy: 0.8968 - auc: 0.9626 - val_loss: 0.9394 - val_accuracy: 0.8178 - val_auc: 0.9171\n",
            "\n",
            "Epoch 00010: val_accuracy improved from 0.81556 to 0.81778, saving model to /content/drive/MyDrive/Melanoma_Data/melanoma_model_raw.h5\n",
            "Epoch 11/30\n",
            "209/209 [==============================] - 115s 547ms/step - loss: 0.7370 - accuracy: 0.8925 - auc: 0.9613 - val_loss: 0.7323 - val_accuracy: 0.8644 - val_auc: 0.9408\n",
            "\n",
            "Epoch 00011: val_accuracy improved from 0.81778 to 0.86444, saving model to /content/drive/MyDrive/Melanoma_Data/melanoma_model_raw.h5\n",
            "Epoch 12/30\n",
            "209/209 [==============================] - 114s 547ms/step - loss: 0.6005 - accuracy: 0.9040 - auc: 0.9679 - val_loss: 0.7666 - val_accuracy: 0.8156 - val_auc: 0.9152\n",
            "\n",
            "Epoch 00012: val_accuracy did not improve from 0.86444\n",
            "Epoch 13/30\n",
            "209/209 [==============================] - 115s 549ms/step - loss: 0.5186 - accuracy: 0.9107 - auc: 0.9690 - val_loss: 0.6007 - val_accuracy: 0.8667 - val_auc: 0.9401\n",
            "\n",
            "Epoch 00013: val_accuracy improved from 0.86444 to 0.86667, saving model to /content/drive/MyDrive/Melanoma_Data/melanoma_model_raw.h5\n",
            "Epoch 14/30\n",
            "209/209 [==============================] - 115s 549ms/step - loss: 0.4588 - accuracy: 0.9189 - auc: 0.9701 - val_loss: 0.5516 - val_accuracy: 0.8511 - val_auc: 0.9370\n",
            "\n",
            "Epoch 00014: val_accuracy did not improve from 0.86667\n",
            "Epoch 15/30\n",
            "209/209 [==============================] - 115s 548ms/step - loss: 0.3986 - accuracy: 0.9165 - auc: 0.9738 - val_loss: 0.5641 - val_accuracy: 0.8378 - val_auc: 0.9196\n",
            "\n",
            "Epoch 00015: val_accuracy did not improve from 0.86667\n",
            "Epoch 16/30\n",
            "209/209 [==============================] - 114s 547ms/step - loss: 0.3698 - accuracy: 0.9218 - auc: 0.9727 - val_loss: 0.5859 - val_accuracy: 0.8400 - val_auc: 0.9070\n",
            "\n",
            "Epoch 00016: val_accuracy did not improve from 0.86667\n",
            "Epoch 17/30\n",
            "209/209 [==============================] - 115s 548ms/step - loss: 0.3369 - accuracy: 0.9251 - auc: 0.9743 - val_loss: 0.5522 - val_accuracy: 0.8289 - val_auc: 0.9154\n",
            "\n",
            "Epoch 00017: val_accuracy did not improve from 0.86667\n",
            "Epoch 18/30\n",
            "209/209 [==============================] - 115s 548ms/step - loss: 0.2913 - accuracy: 0.9295 - auc: 0.9803 - val_loss: 0.4559 - val_accuracy: 0.8733 - val_auc: 0.9386\n",
            "\n",
            "Epoch 00018: val_accuracy improved from 0.86667 to 0.87333, saving model to /content/drive/MyDrive/Melanoma_Data/melanoma_model_raw.h5\n",
            "Epoch 19/30\n",
            "209/209 [==============================] - 115s 549ms/step - loss: 0.2715 - accuracy: 0.9285 - auc: 0.9805 - val_loss: 0.4624 - val_accuracy: 0.8667 - val_auc: 0.9354\n",
            "\n",
            "Epoch 00019: val_accuracy did not improve from 0.87333\n",
            "Epoch 20/30\n",
            "209/209 [==============================] - 115s 547ms/step - loss: 0.2425 - accuracy: 0.9405 - auc: 0.9835 - val_loss: 0.5846 - val_accuracy: 0.8311 - val_auc: 0.9126\n",
            "\n",
            "Epoch 00020: val_accuracy did not improve from 0.87333\n",
            "Epoch 21/30\n",
            "209/209 [==============================] - 115s 548ms/step - loss: 0.2683 - accuracy: 0.9227 - auc: 0.9773 - val_loss: 0.4013 - val_accuracy: 0.8600 - val_auc: 0.9445\n",
            "\n",
            "Epoch 00021: val_accuracy did not improve from 0.87333\n",
            "Epoch 22/30\n",
            "209/209 [==============================] - 115s 548ms/step - loss: 0.2393 - accuracy: 0.9429 - auc: 0.9827 - val_loss: 0.5638 - val_accuracy: 0.8133 - val_auc: 0.9027\n",
            "\n",
            "Epoch 00022: val_accuracy did not improve from 0.87333\n",
            "Epoch 23/30\n",
            "209/209 [==============================] - 115s 548ms/step - loss: 0.2416 - accuracy: 0.9362 - auc: 0.9807 - val_loss: 0.4311 - val_accuracy: 0.8711 - val_auc: 0.9361\n",
            "\n",
            "Epoch 00023: val_accuracy did not improve from 0.87333\n",
            "Epoch 24/30\n",
            "209/209 [==============================] - 115s 549ms/step - loss: 0.1910 - accuracy: 0.9549 - auc: 0.9893 - val_loss: 0.4666 - val_accuracy: 0.8867 - val_auc: 0.9393\n",
            "\n",
            "Epoch 00024: val_accuracy improved from 0.87333 to 0.88667, saving model to /content/drive/MyDrive/Melanoma_Data/melanoma_model_raw.h5\n",
            "Epoch 25/30\n",
            "209/209 [==============================] - 115s 548ms/step - loss: 0.1972 - accuracy: 0.9520 - auc: 0.9864 - val_loss: 0.3904 - val_accuracy: 0.8778 - val_auc: 0.9448\n",
            "\n",
            "Epoch 00025: val_accuracy did not improve from 0.88667\n",
            "Epoch 26/30\n",
            "209/209 [==============================] - 115s 547ms/step - loss: 0.2113 - accuracy: 0.9472 - auc: 0.9866 - val_loss: 0.4929 - val_accuracy: 0.8489 - val_auc: 0.9215\n",
            "\n",
            "Epoch 00026: val_accuracy did not improve from 0.88667\n",
            "Epoch 27/30\n",
            "209/209 [==============================] - 114s 547ms/step - loss: 0.2041 - accuracy: 0.9487 - auc: 0.9857 - val_loss: 0.5181 - val_accuracy: 0.8422 - val_auc: 0.9169\n",
            "\n",
            "Epoch 00027: val_accuracy did not improve from 0.88667\n",
            "Epoch 28/30\n",
            "209/209 [==============================] - 115s 548ms/step - loss: 0.1722 - accuracy: 0.9583 - auc: 0.9901 - val_loss: 0.4376 - val_accuracy: 0.8622 - val_auc: 0.9340\n",
            "\n",
            "Epoch 00028: val_accuracy did not improve from 0.88667\n",
            "Epoch 29/30\n",
            "209/209 [==============================] - 115s 547ms/step - loss: 0.1419 - accuracy: 0.9679 - auc: 0.9937 - val_loss: 0.5581 - val_accuracy: 0.8600 - val_auc: 0.9198\n",
            "\n",
            "Epoch 00029: val_accuracy did not improve from 0.88667\n",
            "Epoch 30/30\n",
            "209/209 [==============================] - 114s 547ms/step - loss: 0.1694 - accuracy: 0.9597 - auc: 0.9897 - val_loss: 0.4661 - val_accuracy: 0.8600 - val_auc: 0.9304\n",
            "\n",
            "Epoch 00030: val_accuracy did not improve from 0.88667\n"
          ]
        }
      ]
    },
    {
      "cell_type": "code",
      "metadata": {
        "colab": {
          "base_uri": "https://localhost:8080/",
          "height": 545
        },
        "id": "ovuV8xqA-KqO",
        "outputId": "10b9b860-6b0f-43c2-807f-1545690e72b8"
      },
      "source": [
        "acc = history.history['accuracy']\n",
        "val_acc = history.history['val_accuracy']\n",
        "loss = history.history['loss']\n",
        "val_loss = history.history['val_loss']\n",
        "epochs = range(1, len(acc) + 1)\n",
        "plt.plot(epochs, acc, 'bo', label='Training acc')\n",
        "plt.plot(epochs, val_acc, 'r', label='Validation acc')\n",
        "plt.title('Training and validation accuracy')\n",
        "plt.legend()\n",
        "plt.figure()\n",
        "plt.plot(epochs, loss, 'bo', label='Training loss')\n",
        "plt.plot(epochs, val_loss, 'r', label='Validation loss')\n",
        "plt.title('Training and validation loss')\n",
        "plt.legend()\n",
        "plt.show()"
      ],
      "execution_count": null,
      "outputs": [
        {
          "output_type": "display_data",
          "data": {
            "image/png": "[encoded data removed]",
            "text/plain": [
              "<Figure size 432x288 with 1 Axes>"
            ]
          },
          "metadata": {
            "needs_background": "light"
          }
        },
        {
          "output_type": "display_data",
          "data": {
            "image/png": "[encoded data removed]",
            "text/plain": [
              "<Figure size 432x288 with 1 Axes>"
            ]
          },
          "metadata": {
            "needs_background": "light"
          }
        }
      ]
    },
    {
      "cell_type": "code",
      "metadata": {
        "colab": {
          "base_uri": "https://localhost:8080/"
        },
        "id": "7qm-PLfn-Ks0",
        "outputId": "521d9924-2461-451a-a072-383a84ec3844"
      },
      "source": [
        "y=np.concatenate([test_generator.next()[1] for i in range(test_generator.__len__())])\n",
        "true_labels=np.argmax(y, axis=-1)\n",
        "prediction= model.predict(test_generator, verbose=2)\n",
        "prediction=np.argmax(prediction, axis=-1)"
      ],
      "execution_count": null,
      "outputs": [
        {
          "output_type": "stream",
          "name": "stdout",
          "text": [
            "450/450 - 16s\n"
          ]
        }
      ]
    },
    {
      "cell_type": "code",
      "metadata": {
        "id": "72d5CVb-JlBw"
      },
      "source": [
        "def plot_confusion_matrix(cm, classes,\n",
        "                          normalize=False,\n",
        "                          title='Confusion matrix',\n",
        "                          cmap=plt.cm.Blues):\n",
        "    \"\"\"\n",
        "    This function prints and plots the confusion matrix.\n",
        "    Normalization can be applied by setting `normalize=True`.\n",
        "    \"\"\"\n",
        "    plt.imshow(cm, interpolation='nearest', cmap=cmap)\n",
        "    plt.title(title)\n",
        "    plt.colorbar()\n",
        "    tick_marks = np.arange(len(classes))\n",
        "    plt.xticks(tick_marks, classes, rotation=45)\n",
        "    plt.yticks(tick_marks, classes)\n",
        "\n",
        "    if normalize:\n",
        "        cm = cm.astype('float') / cm.sum(axis=1)[:, np.newaxis]\n",
        "        print(\"Normalized confusion matrix\")\n",
        "    else:\n",
        "        print('Confusion matrix, without normalization')\n",
        "\n",
        "    print(cm)\n",
        "\n",
        "    thresh = cm.max() / 2.\n",
        "    for i, j in itertools.product(range(cm.shape[0]), range(cm.shape[1])):\n",
        "        plt.text(j, i, cm[i, j],\n",
        "            horizontalalignment=\"center\",\n",
        "            color=\"white\" if cm[i, j] > thresh else \"black\")\n",
        "\n",
        "    plt.tight_layout()\n",
        "    plt.ylabel('True label')\n",
        "    plt.xlabel('Predicted label')\n",
        "from sklearn.metrics import confusion_matrix\n",
        "import itertools\n",
        "import matplotlib.pyplot as plt\n",
        "cm = confusion_matrix(y_true=true_labels, y_pred=prediction)"
      ],
      "execution_count": null,
      "outputs": []
    },
    {
      "cell_type": "code",
      "metadata": {
        "id": "90vWWKNkJlFy"
      },
      "source": [
        "cm_plot_labels = ['melanoma','not melanoma']"
      ],
      "execution_count": null,
      "outputs": []
    },
    {
      "cell_type": "code",
      "metadata": {
        "colab": {
          "base_uri": "https://localhost:8080/",
          "height": 433
        },
        "id": "UDd2tVoYJlIb",
        "outputId": "c929c003-6439-4cde-8a94-d200b1e0368f"
      },
      "source": [
        "plot_confusion_matrix(cm=cm, classes=cm_plot_labels, title='Confusion Matrix')\n",
        "from sklearn.metrics import accuracy_score\n",
        "acc=accuracy_score(true_labels,prediction) \n",
        "print('Accuracy: %.3f' % acc)\n",
        "from sklearn.metrics import precision_score\n",
        "precision = precision_score(true_labels,prediction,labels=[1,2], average='micro')\n",
        "print('Precision: %.3f' % precision)\n",
        "from sklearn.metrics import recall_score\n",
        "recall = recall_score(true_labels,prediction, average='binary')\n",
        "print('Recall: %.3f' % recall)\n",
        "from sklearn.metrics import f1_score\n",
        "score = f1_score(true_labels,prediction, average='binary')\n",
        "print('F-Measure: %.3f' % score)"
      ],
      "execution_count": null,
      "outputs": [
        {
          "output_type": "stream",
          "name": "stdout",
          "text": [
            "Confusion matrix, without normalization\n",
            "[[212  13]\n",
            " [ 30 195]]\n",
            "Accuracy: 0.904\n",
            "Precision: 0.938\n",
            "Recall: 0.867\n",
            "F-Measure: 0.901\n"
          ]
        },
        {
          "output_type": "display_data",
          "data": {
            "image/png": "[encoded data removed]",
            "text/plain": [
              "<Figure size 432x288 with 2 Axes>"
            ]
          },
          "metadata": {
            "needs_background": "light"
          }
        }
      ]
    },
    {
      "cell_type": "code",
      "metadata": {
        "id": "IH7yVlPuR2zx",
        "colab": {
          "base_uri": "https://localhost:8080/"
        },
        "outputId": "59ed65c3-0e28-48fa-cc9a-41a912711a8a"
      },
      "source": [
        "model.save('/content/drive/MyDrive/Melanoma_Data/models/raw_model.h5')"
      ],
      "execution_count": null,
      "outputs": [
        {
          "output_type": "stream",
          "name": "stderr",
          "text": [
            "/usr/local/lib/python3.7/dist-packages/keras/utils/generic_utils.py:497: CustomMaskWarning: Custom mask layers require a config and must override get_config. When loading, the custom mask layer must be passed to the custom_objects argument.\n",
            "  category=CustomMaskWarning)\n"
          ]
        }
      ]
    }
  ]
}