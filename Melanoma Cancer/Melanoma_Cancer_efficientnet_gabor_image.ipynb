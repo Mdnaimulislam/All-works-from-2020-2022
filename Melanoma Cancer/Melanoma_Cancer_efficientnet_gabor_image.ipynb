{
  "nbformat": 4,
  "nbformat_minor": 0,
  "metadata": {
    "colab": {
      "name": "Melanoma Cancer efficientnet_gabor_image.ipynb",
      "provenance": [],
      "collapsed_sections": []
    },
    "kernelspec": {
      "display_name": "Python 3",
      "name": "python3"
    },
    "language_info": {
      "name": "python"
    },
    "accelerator": "GPU"
  },
  "cells": [
    {
      "cell_type": "code",
      "metadata": {
        "colab": {
          "base_uri": "https://localhost:8080/"
        },
        "id": "4hI26lpa-KPc",
        "outputId": "a3efa3fe-c0a0-48c9-e42a-c8c9a8f06ad9"
      },
      "source": [
        "!pip install -U efficientnet\n",
        "import sys\n",
        "import os\n",
        "from os.path import join\n",
        "import numpy as np\n",
        "import pandas as pd\n",
        "import matplotlib.pyplot as plt\n",
        "import efficientnet.keras as efn \n",
        "import tensorflow as tf\n",
        "from keras.preprocessing.image import load_img, img_to_array\n",
        "from keras import models, regularizers, layers, optimizers, losses, metrics\n",
        "from keras.models import Sequential\n",
        "from keras.layers import Dense\n",
        "from tensorflow.keras.utils import to_categorical\n",
        "from keras.preprocessing.image import ImageDataGenerator\n",
        "from keras.preprocessing import image"
      ],
      "execution_count": null,
      "outputs": [
        {
          "output_type": "stream",
          "name": "stdout",
          "text": [
            "Collecting efficientnet\n",
            "  Downloading efficientnet-1.1.1-py3-none-any.whl (18 kB)\n",
            "Requirement already satisfied: scikit-image in /usr/local/lib/python3.7/dist-packages (from efficientnet) (0.16.2)\n",
            "Collecting keras-applications<=1.0.8,>=1.0.7\n",
            "  Downloading Keras_Applications-1.0.8-py3-none-any.whl (50 kB)\n",
            "\u001b[K     |████████████████████████████████| 50 kB 3.0 MB/s \n",
            "\u001b[?25hRequirement already satisfied: numpy>=1.9.1 in /usr/local/lib/python3.7/dist-packages (from keras-applications<=1.0.8,>=1.0.7->efficientnet) (1.19.5)\n",
            "Requirement already satisfied: h5py in /usr/local/lib/python3.7/dist-packages (from keras-applications<=1.0.8,>=1.0.7->efficientnet) (3.1.0)\n",
            "Requirement already satisfied: cached-property in /usr/local/lib/python3.7/dist-packages (from h5py->keras-applications<=1.0.8,>=1.0.7->efficientnet) (1.5.2)\n",
            "Requirement already satisfied: networkx>=2.0 in /usr/local/lib/python3.7/dist-packages (from scikit-image->efficientnet) (2.6.3)\n",
            "Requirement already satisfied: matplotlib!=3.0.0,>=2.0.0 in /usr/local/lib/python3.7/dist-packages (from scikit-image->efficientnet) (3.2.2)\n",
            "Requirement already satisfied: scipy>=0.19.0 in /usr/local/lib/python3.7/dist-packages (from scikit-image->efficientnet) (1.4.1)\n",
            "Requirement already satisfied: imageio>=2.3.0 in /usr/local/lib/python3.7/dist-packages (from scikit-image->efficientnet) (2.4.1)\n",
            "Requirement already satisfied: pillow>=4.3.0 in /usr/local/lib/python3.7/dist-packages (from scikit-image->efficientnet) (7.1.2)\n",
            "Requirement already satisfied: PyWavelets>=0.4.0 in /usr/local/lib/python3.7/dist-packages (from scikit-image->efficientnet) (1.1.1)\n",
            "Requirement already satisfied: kiwisolver>=1.0.1 in /usr/local/lib/python3.7/dist-packages (from matplotlib!=3.0.0,>=2.0.0->scikit-image->efficientnet) (1.3.2)\n",
            "Requirement already satisfied: cycler>=0.10 in /usr/local/lib/python3.7/dist-packages (from matplotlib!=3.0.0,>=2.0.0->scikit-image->efficientnet) (0.10.0)\n",
            "Requirement already satisfied: python-dateutil>=2.1 in /usr/local/lib/python3.7/dist-packages (from matplotlib!=3.0.0,>=2.0.0->scikit-image->efficientnet) (2.8.2)\n",
            "Requirement already satisfied: pyparsing!=2.0.4,!=2.1.2,!=2.1.6,>=2.0.1 in /usr/local/lib/python3.7/dist-packages (from matplotlib!=3.0.0,>=2.0.0->scikit-image->efficientnet) (2.4.7)\n",
            "Requirement already satisfied: six in /usr/local/lib/python3.7/dist-packages (from cycler>=0.10->matplotlib!=3.0.0,>=2.0.0->scikit-image->efficientnet) (1.15.0)\n",
            "Installing collected packages: keras-applications, efficientnet\n",
            "Successfully installed efficientnet-1.1.1 keras-applications-1.0.8\n"
          ]
        }
      ]
    },
    {
      "cell_type": "code",
      "metadata": {
        "colab": {
          "base_uri": "https://localhost:8080/"
        },
        "id": "8i8kgoIG-KRY",
        "outputId": "69991125-95c7-45cc-a91f-21be89ae8f85"
      },
      "source": [
        "PATH = \"/content/drive/MyDrive/Melanoma_Data/Gabor_eff/\"\n",
        "print(os.listdir(PATH))"
      ],
      "execution_count": null,
      "outputs": [
        {
          "output_type": "stream",
          "name": "stdout",
          "text": [
            "['train', 'valid', 'test']\n"
          ]
        }
      ]
    },
    {
      "cell_type": "code",
      "metadata": {
        "colab": {
          "base_uri": "https://localhost:8080/"
        },
        "id": "3Sk34dIq-KTt",
        "outputId": "511402fa-250c-4cdc-ec08-ad5174b05fa2"
      },
      "source": [
        "PATHtrain = PATH + 'train/'\n",
        "print(len(os.listdir(PATHtrain)), \" TRAIN Directories of photos\")\n",
        "Labels = os.listdir(PATHtrain)\n",
        "sig = 0\n",
        "for label in sorted(Labels):\n",
        "    print(label,len(os.listdir(PATHtrain + label +'/')))\n",
        "    sig = sig + len(os.listdir(PATHtrain + label +'/'))\n",
        "\n",
        "print(\"Total TRAIN photos \", sig)\n",
        "print(\"_\"*50)\n",
        "\n",
        "PATHvalid = PATH + 'valid/'\n",
        "print(len(os.listdir(PATHvalid)), \" VALID Directories of photos\")\n",
        "Labels = os.listdir(PATHvalid)\n",
        "sig = 0\n",
        "for label in sorted(Labels):\n",
        "    print(label,len(os.listdir(PATHvalid + label +'/')))\n",
        "    sig = sig + len(os.listdir(PATHvalid + label +'/'))\n",
        "\n",
        "print(\"Total Validation photos \", sig)\n",
        "print(\"_\"*50)\n",
        "\n",
        "PATHtest = PATH + 'test/'\n",
        "print(len(os.listdir(PATHtest)), \" TEST Directories of photos\")\n",
        "Labels = os.listdir(PATHtest)\n",
        "sig = 0\n",
        "for label in sorted(Labels):\n",
        "    print(label,len(os.listdir(PATHtest + label +'/')))\n",
        "    sig = sig + len(os.listdir(PATHtest + label +'/'))\n",
        "\n",
        "print(\"Total Testing photos \", sig)\n",
        "print(\"_\"*50)"
      ],
      "execution_count": null,
      "outputs": [
        {
          "output_type": "stream",
          "name": "stdout",
          "text": [
            "2  TRAIN Directories of photos\n",
            "Melanoma 1047\n",
            "NotMelanoma 1047\n",
            "Total TRAIN photos  2094\n",
            "__________________________________________________\n",
            "2  VALID Directories of photos\n",
            "Melanoma 225\n",
            "NotMelanoma 225\n",
            "Total Validation photos  450\n",
            "__________________________________________________\n",
            "2  TEST Directories of photos\n",
            "Melanoma 225\n",
            "NotMelanoma 225\n",
            "Total Testing photos  450\n",
            "__________________________________________________\n"
          ]
        }
      ]
    },
    {
      "cell_type": "code",
      "metadata": {
        "id": "0pjq9JNo-KYd"
      },
      "source": [
        "from efficientnet.tfkeras import EfficientNetB4"
      ],
      "execution_count": null,
      "outputs": []
    },
    {
      "cell_type": "code",
      "metadata": {
        "id": "FMMYcFPU-KbB",
        "colab": {
          "base_uri": "https://localhost:8080/"
        },
        "outputId": "8a59aa8b-f470-49e4-8a1e-f66664feb025"
      },
      "source": [
        "import keras\n",
        "from keras.callbacks import EarlyStopping,ModelCheckpoint,LearningRateScheduler\n",
        "from keras.layers import Conv2D,BatchNormalization,MaxPool2D,Flatten,Dense\n",
        "from keras.regularizers import l2\n",
        "import tensorflow as tf\n",
        "\n",
        "EP=30\n",
        "LR=0.0001\n",
        "DR=LR/EP\n",
        "MM=0.8\n",
        "K=0.2\n",
        "\n",
        "\"lr=0.0001\"\n",
        "\"--USING THIS--\"\n",
        "def lr_scheduler(epoch, lr):return lr* float((np.exp(- (epoch*DR))))\n",
        "    \n",
        "LRD=LearningRateScheduler(lr_scheduler)\n",
        "\n",
        "callbacks_list=[LRD]\n",
        "\n",
        "\n",
        "#OPT=keras.optimizers.Adam(lr=lr_schedule,decy_rate=DR)\n",
        "\n",
        "\"--CORRECT WAY WITH LEARNING RATE SCHEDULE--\"\n",
        "OPT=tf.keras.optimizers.Adam(learning_rate=LR)\n",
        "\n",
        "\n",
        "model = keras.Sequential()\n",
        "model.add(EfficientNetB4(input_shape=(224, 224, 3), include_top=False, weights='imagenet'))\n",
        "model.add(keras.layers.Dropout(0.5))\n",
        "model.add(keras.layers.GlobalAveragePooling2D())\n",
        "model.add(keras.layers.Flatten())\n",
        "model.add(keras.layers.Dropout(0.5))\n",
        "model.add(keras.layers.Dense(256, activation='relu',kernel_regularizer=l2(0.05), bias_regularizer=l2(0.05)))\n",
        "model.add(keras.layers.BatchNormalization())\n",
        "model.add(keras.layers.Dropout(0.3))\n",
        "model.add(keras.layers.Dense(2, activation='sigmoid')) \n",
        "\n",
        "# monitor\n",
        "early_stopping_monitor = EarlyStopping(patience=100,monitor='val_accuracy')\n",
        "model_checkpoint_callback = ModelCheckpoint(filepath='/content/drive/MyDrive/Melanoma_dataset_final/melanoma_model_gabor.hdf5',\n",
        "                                            save_weights_only=True,\n",
        "                                            monitor='val_accuracy',\n",
        "                                            mode='auto',\n",
        "                                            save_best_only=True,\n",
        "                                            verbose=1)\n",
        "\n",
        "\n",
        "#categorical_crossentropy\n",
        "model.compile(loss='binary_crossentropy', optimizer=OPT, metrics=['accuracy', 'AUC'])"
      ],
      "execution_count": null,
      "outputs": [
        {
          "output_type": "stream",
          "name": "stdout",
          "text": [
            "Downloading data from https://github.com/Callidior/keras-applications/releases/download/efficientnet/efficientnet-b4_weights_tf_dim_ordering_tf_kernels_autoaugment_notop.h5\n",
            "71892992/71892840 [==============================] - 1s 0us/step\n",
            "71901184/71892840 [==============================] - 1s 0us/step\n"
          ]
        }
      ]
    },
    {
      "cell_type": "code",
      "metadata": {
        "colab": {
          "base_uri": "https://localhost:8080/"
        },
        "id": "6y5SbQwu-KgG",
        "outputId": "1197f167-ff4b-4557-85b6-75962eeae4fa"
      },
      "source": [
        "train_dir = PATHtrain\n",
        "validation_dir = PATHvalid\n",
        "test_dir = PATHtest\n",
        "target_size=(224, 224)\n",
        "batch_size=32\n",
        "#train_datagen = ImageDataGenerator(rescale=1./255)\n",
        "train_datagen = ImageDataGenerator(rescale=1./255,\n",
        "                                   rotation_range=45,\n",
        "                                   width_shift_range=0.2,\n",
        "                                   height_shift_range=0.2,\n",
        "                                   shear_range=0.2,\n",
        "                                   zoom_range=0.2,\n",
        "                                   horizontal_flip=True,\n",
        "                                   vertical_flip=True,\n",
        "                                   fill_mode='nearest')\n",
        "\n",
        "test_datagen = ImageDataGenerator(rescale=1./255)\n",
        "\n",
        "train_generator = train_datagen.flow_from_directory(\n",
        "    train_dir,target_size=target_size,batch_size=batch_size,shuffle=True,seed=42)\n",
        "validation_generator = test_datagen.flow_from_directory(\n",
        "    validation_dir,target_size=target_size,batch_size=batch_size,shuffle=True,seed=42)\n",
        "test_generator = test_datagen.flow_from_directory(\n",
        "    test_dir,target_size=target_size,batch_size=1)"
      ],
      "execution_count": null,
      "outputs": [
        {
          "output_type": "stream",
          "name": "stdout",
          "text": [
            "Found 2094 images belonging to 2 classes.\n",
            "Found 450 images belonging to 2 classes.\n",
            "Found 450 images belonging to 2 classes.\n"
          ]
        }
      ]
    },
    {
      "cell_type": "code",
      "metadata": {
        "colab": {
          "base_uri": "https://localhost:8080/"
        },
        "id": "kyVoYLcL-Kit",
        "outputId": "bd83e722-5870-422e-85a9-2bbf8d28e900"
      },
      "source": [
        "print(train_generator.class_indices)\n",
        "print(validation_generator.class_indices)\n",
        "print(test_generator.class_indices)"
      ],
      "execution_count": null,
      "outputs": [
        {
          "output_type": "stream",
          "name": "stdout",
          "text": [
            "{'Melanoma': 0, 'NotMelanoma': 1}\n",
            "{'Melanoma': 0, 'NotMelanoma': 1}\n",
            "{'Melanoma': 0, 'NotMelanoma': 1}\n"
          ]
        }
      ]
    },
    {
      "cell_type": "code",
      "metadata": {
        "colab": {
          "base_uri": "https://localhost:8080/"
        },
        "id": "i6-CmTlw-Kk-",
        "outputId": "f1def3a4-77a7-4cd7-f47a-e83f62726d3b"
      },
      "source": [
        "len(test_generator.labels)\n"
      ],
      "execution_count": null,
      "outputs": [
        {
          "output_type": "execute_result",
          "data": {
            "text/plain": [
              "450"
            ]
          },
          "metadata": {},
          "execution_count": 9
        }
      ]
    },
    {
      "cell_type": "code",
      "metadata": {
        "id": "GmWlJDuX-Knj",
        "colab": {
          "base_uri": "https://localhost:8080/"
        },
        "outputId": "bf6cec85-5294-4e8d-f817-af69b9b8f8d8"
      },
      "source": [
        "history = model.fit(train_generator, epochs=EP, \n",
        "                    steps_per_epoch=train_generator.n//train_generator.batch_size,\n",
        "                    validation_data=validation_generator, \n",
        "                    validation_steps=validation_generator.n//validation_generator.batch_size,\n",
        "                    callbacks=[early_stopping_monitor,model_checkpoint_callback])"
      ],
      "execution_count": null,
      "outputs": [
        {
          "output_type": "stream",
          "name": "stdout",
          "text": [
            "Epoch 1/30\n",
            "65/65 [==============================] - 693s 10s/step - loss: 21.1311 - accuracy: 0.6159 - auc: 0.6242 - val_loss: 19.0210 - val_accuracy: 0.5625 - val_auc: 0.5931\n",
            "\n",
            "Epoch 00001: val_accuracy improved from -inf to 0.56250, saving model to /content/drive/MyDrive/Melanoma_dataset_final/melanoma_model_gabor.hdf5\n",
            "Epoch 2/30\n",
            "65/65 [==============================] - 92s 1s/step - loss: 17.3456 - accuracy: 0.7008 - auc: 0.7345 - val_loss: 15.6598 - val_accuracy: 0.6161 - val_auc: 0.6544\n",
            "\n",
            "Epoch 00002: val_accuracy improved from 0.56250 to 0.61607, saving model to /content/drive/MyDrive/Melanoma_dataset_final/melanoma_model_gabor.hdf5\n",
            "Epoch 3/30\n",
            "65/65 [==============================] - 92s 1s/step - loss: 14.2524 - accuracy: 0.7507 - auc: 0.7822 - val_loss: 12.9427 - val_accuracy: 0.6295 - val_auc: 0.6601\n",
            "\n",
            "Epoch 00003: val_accuracy improved from 0.61607 to 0.62946, saving model to /content/drive/MyDrive/Melanoma_dataset_final/melanoma_model_gabor.hdf5\n",
            "Epoch 4/30\n",
            "65/65 [==============================] - 92s 1s/step - loss: 11.7442 - accuracy: 0.7561 - auc: 0.8087 - val_loss: 10.7622 - val_accuracy: 0.5647 - val_auc: 0.6351\n",
            "\n",
            "Epoch 00004: val_accuracy did not improve from 0.62946\n",
            "Epoch 5/30\n",
            "65/65 [==============================] - 93s 1s/step - loss: 9.7203 - accuracy: 0.7677 - auc: 0.8235 - val_loss: 8.9842 - val_accuracy: 0.5848 - val_auc: 0.6362\n",
            "\n",
            "Epoch 00005: val_accuracy did not improve from 0.62946\n",
            "Epoch 6/30\n",
            "65/65 [==============================] - 92s 1s/step - loss: 8.0862 - accuracy: 0.7609 - auc: 0.8331 - val_loss: 7.5020 - val_accuracy: 0.6272 - val_auc: 0.6971\n",
            "\n",
            "Epoch 00006: val_accuracy did not improve from 0.62946\n",
            "Epoch 7/30\n",
            "65/65 [==============================] - 92s 1s/step - loss: 6.7547 - accuracy: 0.7696 - auc: 0.8423 - val_loss: 6.4103 - val_accuracy: 0.6116 - val_auc: 0.6713\n",
            "\n",
            "Epoch 00007: val_accuracy did not improve from 0.62946\n",
            "Epoch 8/30\n",
            "65/65 [==============================] - 93s 1s/step - loss: 5.6904 - accuracy: 0.7915 - auc: 0.8520 - val_loss: 5.5284 - val_accuracy: 0.5938 - val_auc: 0.6566\n",
            "\n",
            "Epoch 00008: val_accuracy did not improve from 0.62946\n",
            "Epoch 9/30\n",
            "65/65 [==============================] - 93s 1s/step - loss: 4.7905 - accuracy: 0.7992 - auc: 0.8625 - val_loss: 4.6206 - val_accuracy: 0.6652 - val_auc: 0.7202\n",
            "\n",
            "Epoch 00009: val_accuracy improved from 0.62946 to 0.66518, saving model to /content/drive/MyDrive/Melanoma_dataset_final/melanoma_model_gabor.hdf5\n",
            "Epoch 10/30\n",
            "65/65 [==============================] - 92s 1s/step - loss: 4.0776 - accuracy: 0.7866 - auc: 0.8620 - val_loss: 3.8869 - val_accuracy: 0.7232 - val_auc: 0.7916\n",
            "\n",
            "Epoch 00010: val_accuracy improved from 0.66518 to 0.72321, saving model to /content/drive/MyDrive/Melanoma_dataset_final/melanoma_model_gabor.hdf5\n",
            "Epoch 11/30\n",
            "65/65 [==============================] - 93s 1s/step - loss: 3.4422 - accuracy: 0.8021 - auc: 0.8840 - val_loss: 3.3513 - val_accuracy: 0.7165 - val_auc: 0.7879\n",
            "\n",
            "Epoch 00011: val_accuracy did not improve from 0.72321\n",
            "Epoch 12/30\n",
            "65/65 [==============================] - 93s 1s/step - loss: 2.9393 - accuracy: 0.8162 - auc: 0.8902 - val_loss: 2.9500 - val_accuracy: 0.6942 - val_auc: 0.7721\n",
            "\n",
            "Epoch 00012: val_accuracy did not improve from 0.72321\n",
            "Epoch 13/30\n",
            "65/65 [==============================] - 93s 1s/step - loss: 2.5183 - accuracy: 0.8157 - auc: 0.8946 - val_loss: 2.5582 - val_accuracy: 0.7232 - val_auc: 0.7826\n",
            "\n",
            "Epoch 00013: val_accuracy did not improve from 0.72321\n",
            "Epoch 14/30\n",
            "65/65 [==============================] - 92s 1s/step - loss: 2.1791 - accuracy: 0.8162 - auc: 0.8952 - val_loss: 2.2650 - val_accuracy: 0.7277 - val_auc: 0.7945\n",
            "\n",
            "Epoch 00014: val_accuracy improved from 0.72321 to 0.72768, saving model to /content/drive/MyDrive/Melanoma_dataset_final/melanoma_model_gabor.hdf5\n",
            "Epoch 15/30\n",
            "65/65 [==============================] - 93s 1s/step - loss: 1.8816 - accuracy: 0.8172 - auc: 0.9014 - val_loss: 1.9721 - val_accuracy: 0.7232 - val_auc: 0.7933\n",
            "\n",
            "Epoch 00015: val_accuracy did not improve from 0.72768\n",
            "Epoch 16/30\n",
            "65/65 [==============================] - 92s 1s/step - loss: 1.6574 - accuracy: 0.8186 - auc: 0.8974 - val_loss: 1.7428 - val_accuracy: 0.7589 - val_auc: 0.8085\n",
            "\n",
            "Epoch 00016: val_accuracy improved from 0.72768 to 0.75893, saving model to /content/drive/MyDrive/Melanoma_dataset_final/melanoma_model_gabor.hdf5\n",
            "Epoch 17/30\n",
            "65/65 [==============================] - 93s 1s/step - loss: 1.4354 - accuracy: 0.8259 - auc: 0.9068 - val_loss: 1.5762 - val_accuracy: 0.7366 - val_auc: 0.8119\n",
            "\n",
            "Epoch 00017: val_accuracy did not improve from 0.75893\n",
            "Epoch 18/30\n",
            "65/65 [==============================] - 92s 1s/step - loss: 1.2578 - accuracy: 0.8337 - auc: 0.9157 - val_loss: 1.4841 - val_accuracy: 0.7165 - val_auc: 0.7858\n",
            "\n",
            "Epoch 00018: val_accuracy did not improve from 0.75893\n",
            "Epoch 19/30\n",
            "65/65 [==============================] - 93s 1s/step - loss: 1.1244 - accuracy: 0.8322 - auc: 0.9155 - val_loss: 1.3335 - val_accuracy: 0.7098 - val_auc: 0.7950\n",
            "\n",
            "Epoch 00019: val_accuracy did not improve from 0.75893\n",
            "Epoch 20/30\n",
            "65/65 [==============================] - 92s 1s/step - loss: 0.9775 - accuracy: 0.8463 - auc: 0.9280 - val_loss: 1.2560 - val_accuracy: 0.7165 - val_auc: 0.8028\n",
            "\n",
            "Epoch 00020: val_accuracy did not improve from 0.75893\n",
            "Epoch 21/30\n",
            "65/65 [==============================] - 92s 1s/step - loss: 0.8835 - accuracy: 0.8550 - auc: 0.9288 - val_loss: 1.2151 - val_accuracy: 0.7165 - val_auc: 0.7855\n",
            "\n",
            "Epoch 00021: val_accuracy did not improve from 0.75893\n",
            "Epoch 22/30\n",
            "65/65 [==============================] - 92s 1s/step - loss: 0.7880 - accuracy: 0.8526 - auc: 0.9338 - val_loss: 1.1719 - val_accuracy: 0.7076 - val_auc: 0.7816\n",
            "\n",
            "Epoch 00022: val_accuracy did not improve from 0.75893\n",
            "Epoch 23/30\n",
            "65/65 [==============================] - 93s 1s/step - loss: 0.7164 - accuracy: 0.8657 - auc: 0.9371 - val_loss: 1.1449 - val_accuracy: 0.7321 - val_auc: 0.7876\n",
            "\n",
            "Epoch 00023: val_accuracy did not improve from 0.75893\n",
            "Epoch 24/30\n",
            "65/65 [==============================] - 92s 1s/step - loss: 0.6612 - accuracy: 0.8608 - auc: 0.9372 - val_loss: 1.0691 - val_accuracy: 0.7299 - val_auc: 0.7848\n",
            "\n",
            "Epoch 00024: val_accuracy did not improve from 0.75893\n",
            "Epoch 25/30\n",
            "65/65 [==============================] - 93s 1s/step - loss: 0.6071 - accuracy: 0.8676 - auc: 0.9404 - val_loss: 1.0789 - val_accuracy: 0.7210 - val_auc: 0.7868\n",
            "\n",
            "Epoch 00025: val_accuracy did not improve from 0.75893\n",
            "Epoch 26/30\n",
            "65/65 [==============================] - 92s 1s/step - loss: 0.5720 - accuracy: 0.8632 - auc: 0.9400 - val_loss: 0.9036 - val_accuracy: 0.7500 - val_auc: 0.8259\n",
            "\n",
            "Epoch 00026: val_accuracy did not improve from 0.75893\n",
            "Epoch 27/30\n",
            "65/65 [==============================] - 93s 1s/step - loss: 0.5289 - accuracy: 0.8681 - auc: 0.9435 - val_loss: 1.0215 - val_accuracy: 0.7188 - val_auc: 0.7951\n",
            "\n",
            "Epoch 00027: val_accuracy did not improve from 0.75893\n",
            "Epoch 28/30\n",
            "65/65 [==============================] - 92s 1s/step - loss: 0.5100 - accuracy: 0.8676 - auc: 0.9424 - val_loss: 0.9552 - val_accuracy: 0.7277 - val_auc: 0.8023\n",
            "\n",
            "Epoch 00028: val_accuracy did not improve from 0.75893\n",
            "Epoch 29/30\n",
            "65/65 [==============================] - 92s 1s/step - loss: 0.5147 - accuracy: 0.8579 - auc: 0.9316 - val_loss: 0.8520 - val_accuracy: 0.7455 - val_auc: 0.8085\n",
            "\n",
            "Epoch 00029: val_accuracy did not improve from 0.75893\n",
            "Epoch 30/30\n",
            "65/65 [==============================] - 93s 1s/step - loss: 0.4441 - accuracy: 0.8773 - auc: 0.9496 - val_loss: 0.8779 - val_accuracy: 0.7299 - val_auc: 0.8098\n",
            "\n",
            "Epoch 00030: val_accuracy did not improve from 0.75893\n"
          ]
        }
      ]
    },
    {
      "cell_type": "code",
      "metadata": {
        "id": "ovuV8xqA-KqO",
        "colab": {
          "base_uri": "https://localhost:8080/",
          "height": 545
        },
        "outputId": "ede58029-2b3d-49e1-da76-7e70e5d4222b"
      },
      "source": [
        "acc = history.history['accuracy']\n",
        "val_acc = history.history['val_accuracy']\n",
        "loss = history.history['loss']\n",
        "val_loss = history.history['val_loss']\n",
        "epochs = range(1, len(acc) + 1)\n",
        "plt.plot(epochs, acc, 'bo', label='Training acc')\n",
        "plt.plot(epochs, val_acc, 'r', label='Validation acc')\n",
        "plt.title('Training and validation accuracy')\n",
        "plt.legend()\n",
        "plt.figure()\n",
        "plt.plot(epochs, loss, 'bo', label='Training loss')\n",
        "plt.plot(epochs, val_loss, 'r', label='Validation loss')\n",
        "plt.title('Training and validation loss')\n",
        "plt.legend()\n",
        "plt.show()"
      ],
      "execution_count": null,
      "outputs": [
        {
          "output_type": "display_data",
          "data": {
            "image/png": "[encoded data removed]",
            "text/plain": [
              "<Figure size 432x288 with 1 Axes>"
            ]
          },
          "metadata": {
            "needs_background": "light"
          }
        },
        {
          "output_type": "display_data",
          "data": {
            "image/png": "[encoded data removed]",
            "text/plain": [
              "<Figure size 432x288 with 1 Axes>"
            ]
          },
          "metadata": {
            "needs_background": "light"
          }
        }
      ]
    },
    {
      "cell_type": "code",
      "metadata": {
        "id": "7qm-PLfn-Ks0",
        "colab": {
          "base_uri": "https://localhost:8080/"
        },
        "outputId": "b023bd58-f81f-400b-ba50-db6739b9897b"
      },
      "source": [
        "y=np.concatenate([test_generator.next()[1] for i in range(test_generator.__len__())])\n",
        "true_labels=np.argmax(y, axis=-1)\n",
        "prediction= model.predict(test_generator, verbose=2)\n",
        "prediction=np.argmax(prediction, axis=-1)"
      ],
      "execution_count": null,
      "outputs": [
        {
          "output_type": "stream",
          "name": "stdout",
          "text": [
            "450/450 - 16s\n"
          ]
        }
      ]
    },
    {
      "cell_type": "code",
      "metadata": {
        "id": "72d5CVb-JlBw"
      },
      "source": [
        "def plot_confusion_matrix(cm, classes,\n",
        "                          normalize=False,\n",
        "                          title='Confusion matrix',\n",
        "                          cmap=plt.cm.Blues):\n",
        "    \"\"\"\n",
        "    This function prints and plots the confusion matrix.\n",
        "    Normalization can be applied by setting `normalize=True`.\n",
        "    \"\"\"\n",
        "    plt.imshow(cm, interpolation='nearest', cmap=cmap)\n",
        "    plt.title(title)\n",
        "    plt.colorbar()\n",
        "    tick_marks = np.arange(len(classes))\n",
        "    plt.xticks(tick_marks, classes, rotation=45)\n",
        "    plt.yticks(tick_marks, classes)\n",
        "\n",
        "    if normalize:\n",
        "        cm = cm.astype('float') / cm.sum(axis=1)[:, np.newaxis]\n",
        "        print(\"Normalized confusion matrix\")\n",
        "    else:\n",
        "        print('Confusion matrix, without normalization')\n",
        "\n",
        "    print(cm)\n",
        "\n",
        "    thresh = cm.max() / 2.\n",
        "    for i, j in itertools.product(range(cm.shape[0]), range(cm.shape[1])):\n",
        "        plt.text(j, i, cm[i, j],\n",
        "            horizontalalignment=\"center\",\n",
        "            color=\"white\" if cm[i, j] > thresh else \"black\")\n",
        "\n",
        "    plt.tight_layout()\n",
        "    plt.ylabel('True label')\n",
        "    plt.xlabel('Predicted label')\n",
        "from sklearn.metrics import confusion_matrix\n",
        "import itertools\n",
        "import matplotlib.pyplot as plt\n",
        "cm = confusion_matrix(y_true=true_labels, y_pred=prediction)"
      ],
      "execution_count": null,
      "outputs": []
    },
    {
      "cell_type": "code",
      "metadata": {
        "id": "90vWWKNkJlFy"
      },
      "source": [
        "cm_plot_labels = ['melanoma','not melanoma']"
      ],
      "execution_count": null,
      "outputs": []
    },
    {
      "cell_type": "code",
      "metadata": {
        "id": "UDd2tVoYJlIb",
        "colab": {
          "base_uri": "https://localhost:8080/",
          "height": 433
        },
        "outputId": "3d9113b4-a56c-46a3-c3e1-8ec4015beb10"
      },
      "source": [
        "plot_confusion_matrix(cm=cm, classes=cm_plot_labels, title='Confusion Matrix')\n",
        "from sklearn.metrics import accuracy_score\n",
        "acc=accuracy_score(true_labels,prediction) \n",
        "print('Accuracy: %.3f' % acc)\n",
        "from sklearn.metrics import precision_score\n",
        "precision = precision_score(true_labels,prediction,labels=[1,2], average='micro')\n",
        "print('Precision: %.3f' % precision)\n",
        "from sklearn.metrics import recall_score\n",
        "recall = recall_score(true_labels,prediction, average='binary')\n",
        "print('Recall: %.3f' % recall)\n",
        "from sklearn.metrics import f1_score\n",
        "score = f1_score(true_labels,prediction, average='binary')\n",
        "print('F-Measure: %.3f' % score)"
      ],
      "execution_count": null,
      "outputs": [
        {
          "output_type": "stream",
          "name": "stdout",
          "text": [
            "Confusion matrix, without normalization\n",
            "[[165  60]\n",
            " [ 44 181]]\n",
            "Accuracy: 0.769\n",
            "Precision: 0.751\n",
            "Recall: 0.804\n",
            "F-Measure: 0.777\n"
          ]
        },
        {
          "output_type": "display_data",
          "data": {
            "image/png": "[encoded data removed]",
            "text/plain": [
              "<Figure size 432x288 with 2 Axes>"
            ]
          },
          "metadata": {
            "needs_background": "light"
          }
        }
      ]
    },
    {
      "cell_type": "code",
      "metadata": {
        "id": "aFiBpF5vLgay",
        "colab": {
          "base_uri": "https://localhost:8080/"
        },
        "outputId": "c0907b3e-a0ce-4784-83c8-1a9ef2f714e7"
      },
      "source": [
        "model.save('/content/drive/MyDrive/Melanoma_Data/models/gabor_model.h5')"
      ],
      "execution_count": null,
      "outputs": [
        {
          "output_type": "stream",
          "name": "stderr",
          "text": [
            "/usr/local/lib/python3.7/dist-packages/keras/utils/generic_utils.py:497: CustomMaskWarning: Custom mask layers require a config and must override get_config. When loading, the custom mask layer must be passed to the custom_objects argument.\n",
            "  category=CustomMaskWarning)\n"
          ]
        }
      ]
    },
    {
      "cell_type": "code",
      "metadata": {
        "id": "g-OopgprLgeb"
      },
      "source": [
        ""
      ],
      "execution_count": null,
      "outputs": []
    },
    {
      "cell_type": "code",
      "metadata": {
        "id": "Xw0bra1mLgjq"
      },
      "source": [
        ""
      ],
      "execution_count": null,
      "outputs": []
    }
  ]
}