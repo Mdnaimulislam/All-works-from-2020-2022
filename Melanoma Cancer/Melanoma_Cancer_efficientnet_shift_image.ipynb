{
  "nbformat": 4,
  "nbformat_minor": 0,
  "metadata": {
    "colab": {
      "name": "Melanoma Cancer efficientnet_shift_image.ipynb",
      "provenance": [],
      "collapsed_sections": []
    },
    "kernelspec": {
      "name": "python3",
      "display_name": "Python 3"
    },
    "language_info": {
      "name": "python"
    },
    "accelerator": "GPU"
  },
  "cells": [
    {
      "cell_type": "code",
      "metadata": {
        "id": "4hI26lpa-KPc",
        "colab": {
          "base_uri": "https://localhost:8080/"
        },
        "outputId": "a55fa5cf-57c5-4704-c8de-936786908b3b"
      },
      "source": [
        "!pip install -U efficientnet\n",
        "import sys\n",
        "import os\n",
        "from os.path import join\n",
        "import numpy as np # linear algebra\n",
        "import pandas as pd # data processing, CSV file I/O (e.g. pd.read_csv)\n",
        "import matplotlib.pyplot as plt\n",
        "import efficientnet.keras as efn \n",
        "import tensorflow as tf\n",
        "from keras.preprocessing.image import load_img, img_to_array\n",
        "from keras import models, regularizers, layers, optimizers, losses, metrics\n",
        "from keras.models import Sequential\n",
        "from keras.layers import Dense\n",
        "from tensorflow.keras.utils import to_categorical\n",
        "from keras.preprocessing.image import ImageDataGenerator\n",
        "from keras.preprocessing import image"
      ],
      "execution_count": null,
      "outputs": [
        {
          "output_type": "stream",
          "name": "stdout",
          "text": [
            "Collecting efficientnet\n",
            "  Downloading efficientnet-1.1.1-py3-none-any.whl (18 kB)\n",
            "Collecting keras-applications<=1.0.8,>=1.0.7\n",
            "  Downloading Keras_Applications-1.0.8-py3-none-any.whl (50 kB)\n",
            "\u001b[?25l\r\u001b[K     |██████▌                         | 10 kB 27.1 MB/s eta 0:00:01\r\u001b[K     |█████████████                   | 20 kB 13.3 MB/s eta 0:00:01\r\u001b[K     |███████████████████▍            | 30 kB 12.5 MB/s eta 0:00:01\r\u001b[K     |█████████████████████████▉      | 40 kB 12.0 MB/s eta 0:00:01\r\u001b[K     |████████████████████████████████| 50 kB 4.1 MB/s \n",
            "\u001b[?25hRequirement already satisfied: scikit-image in /usr/local/lib/python3.7/dist-packages (from efficientnet) (0.16.2)\n",
            "Requirement already satisfied: h5py in /usr/local/lib/python3.7/dist-packages (from keras-applications<=1.0.8,>=1.0.7->efficientnet) (3.1.0)\n",
            "Requirement already satisfied: numpy>=1.9.1 in /usr/local/lib/python3.7/dist-packages (from keras-applications<=1.0.8,>=1.0.7->efficientnet) (1.19.5)\n",
            "Requirement already satisfied: cached-property in /usr/local/lib/python3.7/dist-packages (from h5py->keras-applications<=1.0.8,>=1.0.7->efficientnet) (1.5.2)\n",
            "Requirement already satisfied: PyWavelets>=0.4.0 in /usr/local/lib/python3.7/dist-packages (from scikit-image->efficientnet) (1.1.1)\n",
            "Requirement already satisfied: imageio>=2.3.0 in /usr/local/lib/python3.7/dist-packages (from scikit-image->efficientnet) (2.4.1)\n",
            "Requirement already satisfied: pillow>=4.3.0 in /usr/local/lib/python3.7/dist-packages (from scikit-image->efficientnet) (7.1.2)\n",
            "Requirement already satisfied: networkx>=2.0 in /usr/local/lib/python3.7/dist-packages (from scikit-image->efficientnet) (2.6.3)\n",
            "Requirement already satisfied: scipy>=0.19.0 in /usr/local/lib/python3.7/dist-packages (from scikit-image->efficientnet) (1.4.1)\n",
            "Requirement already satisfied: matplotlib!=3.0.0,>=2.0.0 in /usr/local/lib/python3.7/dist-packages (from scikit-image->efficientnet) (3.2.2)\n",
            "Requirement already satisfied: python-dateutil>=2.1 in /usr/local/lib/python3.7/dist-packages (from matplotlib!=3.0.0,>=2.0.0->scikit-image->efficientnet) (2.8.2)\n",
            "Requirement already satisfied: cycler>=0.10 in /usr/local/lib/python3.7/dist-packages (from matplotlib!=3.0.0,>=2.0.0->scikit-image->efficientnet) (0.10.0)\n",
            "Requirement already satisfied: pyparsing!=2.0.4,!=2.1.2,!=2.1.6,>=2.0.1 in /usr/local/lib/python3.7/dist-packages (from matplotlib!=3.0.0,>=2.0.0->scikit-image->efficientnet) (2.4.7)\n",
            "Requirement already satisfied: kiwisolver>=1.0.1 in /usr/local/lib/python3.7/dist-packages (from matplotlib!=3.0.0,>=2.0.0->scikit-image->efficientnet) (1.3.2)\n",
            "Requirement already satisfied: six in /usr/local/lib/python3.7/dist-packages (from cycler>=0.10->matplotlib!=3.0.0,>=2.0.0->scikit-image->efficientnet) (1.15.0)\n",
            "Installing collected packages: keras-applications, efficientnet\n",
            "Successfully installed efficientnet-1.1.1 keras-applications-1.0.8\n"
          ]
        }
      ]
    },
    {
      "cell_type": "code",
      "metadata": {
        "colab": {
          "base_uri": "https://localhost:8080/"
        },
        "id": "8i8kgoIG-KRY",
        "outputId": "07de7a44-96a2-4b78-dc88-e2a26453e86e"
      },
      "source": [
        "PATH = \"/content/drive/MyDrive/Melanoma_Data/Shift_eff/\"\n",
        "print(os.listdir(PATH))"
      ],
      "execution_count": null,
      "outputs": [
        {
          "output_type": "stream",
          "name": "stdout",
          "text": [
            "['test', 'valid', 'train']\n"
          ]
        }
      ]
    },
    {
      "cell_type": "code",
      "metadata": {
        "colab": {
          "base_uri": "https://localhost:8080/"
        },
        "id": "3Sk34dIq-KTt",
        "outputId": "54f32df0-d0a8-4101-b1b5-02186eb66c5e"
      },
      "source": [
        "PATHtrain = PATH + 'train/'\n",
        "print(len(os.listdir(PATHtrain)), \" TRAIN Directories of photos\")\n",
        "Labels = os.listdir(PATHtrain)\n",
        "sig = 0\n",
        "for label in sorted(Labels):\n",
        "    print(label,len(os.listdir(PATHtrain + label +'/')))\n",
        "    sig = sig + len(os.listdir(PATHtrain + label +'/'))\n",
        "\n",
        "print(\"Total TRAIN photos \", sig)\n",
        "print(\"_\"*50)\n",
        "\n",
        "PATHvalid = PATH + 'valid/'\n",
        "print(len(os.listdir(PATHvalid)), \" VALID Directories of photos\")\n",
        "Labels = os.listdir(PATHvalid)\n",
        "sig = 0\n",
        "for label in sorted(Labels):\n",
        "    print(label,len(os.listdir(PATHvalid + label +'/')))\n",
        "    sig = sig + len(os.listdir(PATHvalid + label +'/'))\n",
        "\n",
        "print(\"Total Validation photos \", sig)\n",
        "print(\"_\"*50)\n",
        "\n",
        "PATHtest = PATH + 'test/'\n",
        "print(len(os.listdir(PATHtest)), \" TEST Directories of photos\")\n",
        "Labels = os.listdir(PATHtest)\n",
        "sig = 0\n",
        "for label in sorted(Labels):\n",
        "    print(label,len(os.listdir(PATHtest + label +'/')))\n",
        "    sig = sig + len(os.listdir(PATHtest + label +'/'))\n",
        "\n",
        "print(\"Total Testing photos \", sig)\n",
        "print(\"_\"*50)"
      ],
      "execution_count": null,
      "outputs": [
        {
          "output_type": "stream",
          "name": "stdout",
          "text": [
            "2  TRAIN Directories of photos\n",
            "Melanoma 1047\n",
            "NotMelanoma 1047\n",
            "Total TRAIN photos  2094\n",
            "__________________________________________________\n",
            "2  VALID Directories of photos\n",
            "Melanoma 225\n",
            "NotMelanoma 225\n",
            "Total Validation photos  450\n",
            "__________________________________________________\n",
            "2  TEST Directories of photos\n",
            "Melanoma 225\n",
            "NotMelanoma 225\n",
            "Total Testing photos  450\n",
            "__________________________________________________\n"
          ]
        }
      ]
    },
    {
      "cell_type": "code",
      "metadata": {
        "id": "0pjq9JNo-KYd"
      },
      "source": [
        "from efficientnet.tfkeras import EfficientNetB4"
      ],
      "execution_count": null,
      "outputs": []
    },
    {
      "cell_type": "code",
      "metadata": {
        "id": "FMMYcFPU-KbB",
        "colab": {
          "base_uri": "https://localhost:8080/"
        },
        "outputId": "7f6bd261-1cf4-4f92-e0fb-38e07f96db83"
      },
      "source": [
        "import keras\n",
        "from keras.callbacks import EarlyStopping,ModelCheckpoint,LearningRateScheduler\n",
        "from keras.layers import Conv2D,BatchNormalization,MaxPool2D,Flatten,Dense\n",
        "from keras.regularizers import l2\n",
        "import tensorflow as tf\n",
        "\n",
        "EP=30\n",
        "LR=0.0001\n",
        "DR=LR/EP\n",
        "MM=0.8\n",
        "K=0.2\n",
        "\n",
        "\"lr=0.0001\"\n",
        "\"--USING THIS--\"\n",
        "def lr_scheduler(epoch, lr):return lr* float((np.exp(- (epoch*DR))))\n",
        "    \n",
        "LRD=LearningRateScheduler(lr_scheduler)\n",
        "\n",
        "callbacks_list=[LRD]\n",
        "\n",
        "\n",
        "#OPT=keras.optimizers.Adam(lr=lr_schedule,decy_rate=DR)\n",
        "\n",
        "\"--CORRECT WAY WITH LEARNING RATE SCHEDULE--\"\n",
        "OPT=tf.keras.optimizers.Adam(learning_rate=LR)\n",
        "\n",
        "\n",
        "model = keras.Sequential()\n",
        "model.add(EfficientNetB4(input_shape=(224, 224, 3), include_top=False, weights='imagenet'))\n",
        "model.add(keras.layers.Dropout(0.5))\n",
        "model.add(keras.layers.GlobalAveragePooling2D())\n",
        "model.add(keras.layers.Flatten())\n",
        "model.add(keras.layers.Dropout(0.5))\n",
        "model.add(keras.layers.Dense(256, activation='relu',kernel_regularizer=l2(0.05), bias_regularizer=l2(0.05)))\n",
        "model.add(keras.layers.BatchNormalization())\n",
        "model.add(keras.layers.Dropout(0.3))\n",
        "model.add(keras.layers.Dense(2, activation='sigmoid')) \n",
        "\n",
        "# monitor\n",
        "early_stopping_monitor = EarlyStopping(patience=100,monitor='val_accuracy')\n",
        "model_checkpoint_callback = ModelCheckpoint(filepath='/content/drive/MyDrive/Melanoma_Data/melanoma_model_shift.hdf5',\n",
        "                                            save_weights_only=True,\n",
        "                                            monitor='val_accuracy',\n",
        "                                            mode='auto',\n",
        "                                            save_best_only=True,\n",
        "                                            verbose=1)\n",
        "\n",
        "\n",
        "#categorical_crossentropy\n",
        "model.compile(loss='binary_crossentropy', optimizer=OPT, metrics=['accuracy', 'AUC'])"
      ],
      "execution_count": null,
      "outputs": [
        {
          "output_type": "stream",
          "name": "stdout",
          "text": [
            "Downloading data from https://github.com/Callidior/keras-applications/releases/download/efficientnet/efficientnet-b4_weights_tf_dim_ordering_tf_kernels_autoaugment_notop.h5\n",
            "71892992/71892840 [==============================] - 1s 0us/step\n",
            "71901184/71892840 [==============================] - 1s 0us/step\n"
          ]
        }
      ]
    },
    {
      "cell_type": "code",
      "metadata": {
        "colab": {
          "base_uri": "https://localhost:8080/"
        },
        "id": "6y5SbQwu-KgG",
        "outputId": "408e2cdb-29f7-4881-8e11-86f13db2f2f9"
      },
      "source": [
        "train_dir = PATHtrain\n",
        "validation_dir = PATHvalid\n",
        "test_dir = PATHtest\n",
        "target_size=(224, 224)\n",
        "batch_size=10\n",
        "#train_datagen = ImageDataGenerator(rescale=1./255)\n",
        "train_datagen = ImageDataGenerator(rescale=1./255,\n",
        "                                   rotation_range=45,\n",
        "                                   width_shift_range=0.2,\n",
        "                                   height_shift_range=0.2,\n",
        "                                   shear_range=0.2,\n",
        "                                   zoom_range=0.2,\n",
        "                                   horizontal_flip=True,\n",
        "                                   vertical_flip=True,\n",
        "                                   fill_mode='nearest')\n",
        "\n",
        "test_datagen = ImageDataGenerator(rescale=1./255)\n",
        "\n",
        "train_generator = train_datagen.flow_from_directory(\n",
        "    train_dir,target_size=target_size,batch_size=batch_size,shuffle=True,seed=42)\n",
        "validation_generator = test_datagen.flow_from_directory(\n",
        "    validation_dir,target_size=target_size,batch_size=batch_size,shuffle=True,seed=42)\n",
        "test_generator = test_datagen.flow_from_directory(\n",
        "    test_dir,target_size=target_size,batch_size=1)"
      ],
      "execution_count": null,
      "outputs": [
        {
          "output_type": "stream",
          "name": "stdout",
          "text": [
            "Found 2094 images belonging to 2 classes.\n",
            "Found 450 images belonging to 2 classes.\n",
            "Found 450 images belonging to 2 classes.\n"
          ]
        }
      ]
    },
    {
      "cell_type": "code",
      "metadata": {
        "colab": {
          "base_uri": "https://localhost:8080/"
        },
        "id": "kyVoYLcL-Kit",
        "outputId": "ec59df5b-4b8c-4596-9454-904b25e4a0bf"
      },
      "source": [
        "print(train_generator.class_indices)\n",
        "print(validation_generator.class_indices)\n",
        "print(test_generator.class_indices)"
      ],
      "execution_count": null,
      "outputs": [
        {
          "output_type": "stream",
          "name": "stdout",
          "text": [
            "{'Melanoma': 0, 'NotMelanoma': 1}\n",
            "{'Melanoma': 0, 'NotMelanoma': 1}\n",
            "{'Melanoma': 0, 'NotMelanoma': 1}\n"
          ]
        }
      ]
    },
    {
      "cell_type": "code",
      "metadata": {
        "colab": {
          "base_uri": "https://localhost:8080/"
        },
        "id": "i6-CmTlw-Kk-",
        "outputId": "aed781c4-71bd-4a1f-e73d-8ea15dd7b090"
      },
      "source": [
        "len(test_generator.labels)\n"
      ],
      "execution_count": null,
      "outputs": [
        {
          "output_type": "execute_result",
          "data": {
            "text/plain": [
              "450"
            ]
          },
          "metadata": {},
          "execution_count": 13
        }
      ]
    },
    {
      "cell_type": "code",
      "metadata": {
        "colab": {
          "base_uri": "https://localhost:8080/"
        },
        "id": "GmWlJDuX-Knj",
        "outputId": "1aa01d8a-66bb-48b3-c42b-200124ccf73e"
      },
      "source": [
        "history = model.fit(train_generator, epochs=EP, \n",
        "                    steps_per_epoch=train_generator.n//train_generator.batch_size,\n",
        "                    validation_data=validation_generator, \n",
        "                    validation_steps=validation_generator.n//validation_generator.batch_size,\n",
        "                    callbacks=[early_stopping_monitor,model_checkpoint_callback])"
      ],
      "execution_count": null,
      "outputs": [
        {
          "output_type": "stream",
          "name": "stdout",
          "text": [
            "Epoch 1/30\n",
            "209/209 [==============================] - 584s 3s/step - loss: 18.8955 - accuracy: 0.7495 - auc: 0.7987 - val_loss: 15.2442 - val_accuracy: 0.7311 - val_auc: 0.8044\n",
            "\n",
            "Epoch 00001: val_accuracy improved from -inf to 0.73111, saving model to /content/drive/MyDrive/Melanoma_Data/melanoma_model_shift.hdf5\n",
            "Epoch 2/30\n",
            "209/209 [==============================] - 112s 536ms/step - loss: 12.6018 - accuracy: 0.8129 - auc: 0.8662 - val_loss: 10.3410 - val_accuracy: 0.7444 - val_auc: 0.8416\n",
            "\n",
            "Epoch 00002: val_accuracy improved from 0.73111 to 0.74444, saving model to /content/drive/MyDrive/Melanoma_Data/melanoma_model_shift.hdf5\n",
            "Epoch 3/30\n",
            "209/209 [==============================] - 113s 540ms/step - loss: 8.6243 - accuracy: 0.8311 - auc: 0.8969 - val_loss: 7.2208 - val_accuracy: 0.7689 - val_auc: 0.8729\n",
            "\n",
            "Epoch 00003: val_accuracy improved from 0.74444 to 0.76889, saving model to /content/drive/MyDrive/Melanoma_Data/melanoma_model_shift.hdf5\n",
            "Epoch 4/30\n",
            "209/209 [==============================] - 113s 540ms/step - loss: 6.0865 - accuracy: 0.8445 - auc: 0.9125 - val_loss: 5.2056 - val_accuracy: 0.7511 - val_auc: 0.8539\n",
            "\n",
            "Epoch 00004: val_accuracy did not improve from 0.76889\n",
            "Epoch 5/30\n",
            "209/209 [==============================] - 112s 536ms/step - loss: 4.4113 - accuracy: 0.8393 - auc: 0.9116 - val_loss: 3.8411 - val_accuracy: 0.7689 - val_auc: 0.8719\n",
            "\n",
            "Epoch 00005: val_accuracy did not improve from 0.76889\n",
            "Epoch 6/30\n",
            "209/209 [==============================] - 112s 534ms/step - loss: 3.2489 - accuracy: 0.8474 - auc: 0.9221 - val_loss: 2.8714 - val_accuracy: 0.7778 - val_auc: 0.8819\n",
            "\n",
            "Epoch 00006: val_accuracy improved from 0.76889 to 0.77778, saving model to /content/drive/MyDrive/Melanoma_Data/melanoma_model_shift.hdf5\n",
            "Epoch 7/30\n",
            "209/209 [==============================] - 113s 540ms/step - loss: 2.4659 - accuracy: 0.8426 - auc: 0.9191 - val_loss: 2.1695 - val_accuracy: 0.7867 - val_auc: 0.8987\n",
            "\n",
            "Epoch 00007: val_accuracy improved from 0.77778 to 0.78667, saving model to /content/drive/MyDrive/Melanoma_Data/melanoma_model_shift.hdf5\n",
            "Epoch 8/30\n",
            "209/209 [==============================] - 113s 539ms/step - loss: 1.8938 - accuracy: 0.8522 - auc: 0.9240 - val_loss: 1.7288 - val_accuracy: 0.7800 - val_auc: 0.8931\n",
            "\n",
            "Epoch 00008: val_accuracy did not improve from 0.78667\n",
            "Epoch 9/30\n",
            "209/209 [==============================] - 112s 536ms/step - loss: 1.4801 - accuracy: 0.8498 - auc: 0.9326 - val_loss: 1.3989 - val_accuracy: 0.7622 - val_auc: 0.8866\n",
            "\n",
            "Epoch 00009: val_accuracy did not improve from 0.78667\n",
            "Epoch 10/30\n",
            "209/209 [==============================] - 112s 535ms/step - loss: 1.1787 - accuracy: 0.8671 - auc: 0.9391 - val_loss: 1.1138 - val_accuracy: 0.8089 - val_auc: 0.9081\n",
            "\n",
            "Epoch 00010: val_accuracy improved from 0.78667 to 0.80889, saving model to /content/drive/MyDrive/Melanoma_Data/melanoma_model_shift.hdf5\n",
            "Epoch 11/30\n",
            "209/209 [==============================] - 113s 538ms/step - loss: 0.9678 - accuracy: 0.8700 - auc: 0.9401 - val_loss: 0.9753 - val_accuracy: 0.7800 - val_auc: 0.8991\n",
            "\n",
            "Epoch 00011: val_accuracy did not improve from 0.80889\n",
            "Epoch 12/30\n",
            "209/209 [==============================] - 113s 539ms/step - loss: 0.8194 - accuracy: 0.8666 - auc: 0.9404 - val_loss: 1.0086 - val_accuracy: 0.7600 - val_auc: 0.8616\n",
            "\n",
            "Epoch 00012: val_accuracy did not improve from 0.80889\n",
            "Epoch 13/30\n",
            "209/209 [==============================] - 112s 537ms/step - loss: 0.6578 - accuracy: 0.8824 - auc: 0.9539 - val_loss: 0.6934 - val_accuracy: 0.8111 - val_auc: 0.9157\n",
            "\n",
            "Epoch 00013: val_accuracy improved from 0.80889 to 0.81111, saving model to /content/drive/MyDrive/Melanoma_Data/melanoma_model_shift.hdf5\n",
            "Epoch 14/30\n",
            "209/209 [==============================] - 112s 535ms/step - loss: 0.5955 - accuracy: 0.8796 - auc: 0.9494 - val_loss: 0.6867 - val_accuracy: 0.7844 - val_auc: 0.9038\n",
            "\n",
            "Epoch 00014: val_accuracy did not improve from 0.81111\n",
            "Epoch 15/30\n",
            "209/209 [==============================] - 113s 538ms/step - loss: 0.5346 - accuracy: 0.8791 - auc: 0.9477 - val_loss: 0.7258 - val_accuracy: 0.7578 - val_auc: 0.8774\n",
            "\n",
            "Epoch 00015: val_accuracy did not improve from 0.81111\n",
            "Epoch 16/30\n",
            "209/209 [==============================] - 113s 539ms/step - loss: 0.4704 - accuracy: 0.8863 - auc: 0.9541 - val_loss: 0.5842 - val_accuracy: 0.7933 - val_auc: 0.9016\n",
            "\n",
            "Epoch 00016: val_accuracy did not improve from 0.81111\n",
            "Epoch 17/30\n",
            "209/209 [==============================] - 113s 538ms/step - loss: 0.4422 - accuracy: 0.8853 - auc: 0.9538 - val_loss: 0.6261 - val_accuracy: 0.8000 - val_auc: 0.8886\n",
            "\n",
            "Epoch 00017: val_accuracy did not improve from 0.81111\n",
            "Epoch 18/30\n",
            "209/209 [==============================] - 112s 535ms/step - loss: 0.3938 - accuracy: 0.8978 - auc: 0.9594 - val_loss: 0.5527 - val_accuracy: 0.8000 - val_auc: 0.9050\n",
            "\n",
            "Epoch 00018: val_accuracy did not improve from 0.81111\n",
            "Epoch 19/30\n",
            "209/209 [==============================] - 113s 539ms/step - loss: 0.3962 - accuracy: 0.8896 - auc: 0.9549 - val_loss: 0.5340 - val_accuracy: 0.8111 - val_auc: 0.9127\n",
            "\n",
            "Epoch 00019: val_accuracy did not improve from 0.81111\n",
            "Epoch 20/30\n",
            "209/209 [==============================] - 113s 538ms/step - loss: 0.3435 - accuracy: 0.9131 - auc: 0.9653 - val_loss: 0.5069 - val_accuracy: 0.8178 - val_auc: 0.9191\n",
            "\n",
            "Epoch 00020: val_accuracy improved from 0.81111 to 0.81778, saving model to /content/drive/MyDrive/Melanoma_Data/melanoma_model_shift.hdf5\n",
            "Epoch 21/30\n",
            "209/209 [==============================] - 112s 537ms/step - loss: 0.3497 - accuracy: 0.9021 - auc: 0.9593 - val_loss: 0.5036 - val_accuracy: 0.8333 - val_auc: 0.9108\n",
            "\n",
            "Epoch 00021: val_accuracy improved from 0.81778 to 0.83333, saving model to /content/drive/MyDrive/Melanoma_Data/melanoma_model_shift.hdf5\n",
            "Epoch 22/30\n",
            "209/209 [==============================] - 112s 536ms/step - loss: 0.3430 - accuracy: 0.8968 - auc: 0.9615 - val_loss: 0.6398 - val_accuracy: 0.7933 - val_auc: 0.8795\n",
            "\n",
            "Epoch 00022: val_accuracy did not improve from 0.83333\n",
            "Epoch 23/30\n",
            "209/209 [==============================] - 113s 538ms/step - loss: 0.3404 - accuracy: 0.9060 - auc: 0.9630 - val_loss: 0.6475 - val_accuracy: 0.7867 - val_auc: 0.8833\n",
            "\n",
            "Epoch 00023: val_accuracy did not improve from 0.83333\n",
            "Epoch 24/30\n",
            "209/209 [==============================] - 113s 539ms/step - loss: 0.2988 - accuracy: 0.9122 - auc: 0.9690 - val_loss: 0.5076 - val_accuracy: 0.8222 - val_auc: 0.9207\n",
            "\n",
            "Epoch 00024: val_accuracy did not improve from 0.83333\n",
            "Epoch 25/30\n",
            "209/209 [==============================] - 112s 537ms/step - loss: 0.3274 - accuracy: 0.9031 - auc: 0.9598 - val_loss: 0.4559 - val_accuracy: 0.8356 - val_auc: 0.9251\n",
            "\n",
            "Epoch 00025: val_accuracy improved from 0.83333 to 0.83556, saving model to /content/drive/MyDrive/Melanoma_Data/melanoma_model_shift.hdf5\n",
            "Epoch 26/30\n",
            "209/209 [==============================] - 112s 535ms/step - loss: 0.3035 - accuracy: 0.9179 - auc: 0.9679 - val_loss: 0.4506 - val_accuracy: 0.8267 - val_auc: 0.9312\n",
            "\n",
            "Epoch 00026: val_accuracy did not improve from 0.83556\n",
            "Epoch 27/30\n",
            "209/209 [==============================] - 113s 539ms/step - loss: 0.2828 - accuracy: 0.9155 - auc: 0.9728 - val_loss: 0.6873 - val_accuracy: 0.8200 - val_auc: 0.8841\n",
            "\n",
            "Epoch 00027: val_accuracy did not improve from 0.83556\n",
            "Epoch 28/30\n",
            "209/209 [==============================] - 113s 540ms/step - loss: 0.2915 - accuracy: 0.9208 - auc: 0.9681 - val_loss: 0.6206 - val_accuracy: 0.7956 - val_auc: 0.8937\n",
            "\n",
            "Epoch 00028: val_accuracy did not improve from 0.83556\n",
            "Epoch 29/30\n",
            "209/209 [==============================] - 112s 537ms/step - loss: 0.2600 - accuracy: 0.9256 - auc: 0.9766 - val_loss: 0.7266 - val_accuracy: 0.7800 - val_auc: 0.8745\n",
            "\n",
            "Epoch 00029: val_accuracy did not improve from 0.83556\n",
            "Epoch 30/30\n",
            "209/209 [==============================] - 112s 535ms/step - loss: 0.2480 - accuracy: 0.9280 - auc: 0.9790 - val_loss: 0.5465 - val_accuracy: 0.8289 - val_auc: 0.9245\n",
            "\n",
            "Epoch 00030: val_accuracy did not improve from 0.83556\n"
          ]
        }
      ]
    },
    {
      "cell_type": "code",
      "metadata": {
        "colab": {
          "base_uri": "https://localhost:8080/",
          "height": 545
        },
        "id": "ovuV8xqA-KqO",
        "outputId": "bdee0b6f-90c5-40a0-ea99-a25fb9d79e19"
      },
      "source": [
        "acc = history.history['accuracy']\n",
        "val_acc = history.history['val_accuracy']\n",
        "loss = history.history['loss']\n",
        "val_loss = history.history['val_loss']\n",
        "epochs = range(1, len(acc) + 1)\n",
        "plt.plot(epochs, acc, 'bo', label='Training acc')\n",
        "plt.plot(epochs, val_acc, 'r', label='Validation acc')\n",
        "plt.title('Training and validation accuracy')\n",
        "plt.legend()\n",
        "plt.figure()\n",
        "plt.plot(epochs, loss, 'bo', label='Training loss')\n",
        "plt.plot(epochs, val_loss, 'r', label='Validation loss')\n",
        "plt.title('Training and validation loss')\n",
        "plt.legend()\n",
        "plt.show()"
      ],
      "execution_count": null,
      "outputs": [
        {
          "output_type": "display_data",
          "data": {
            "image/png": "[encoded data removed]",
            "text/plain": [
              "<Figure size 432x288 with 1 Axes>"
            ]
          },
          "metadata": {
            "needs_background": "light"
          }
        },
        {
          "output_type": "display_data",
          "data": {
            "image/png": "[encoded data removed]",
            "text/plain": [
              "<Figure size 432x288 with 1 Axes>"
            ]
          },
          "metadata": {
            "needs_background": "light"
          }
        }
      ]
    },
    {
      "cell_type": "code",
      "metadata": {
        "colab": {
          "base_uri": "https://localhost:8080/"
        },
        "id": "7qm-PLfn-Ks0",
        "outputId": "29a5ab77-f331-4c5c-f202-55265100c011"
      },
      "source": [
        "y=np.concatenate([test_generator.next()[1] for i in range(test_generator.__len__())])\n",
        "true_labels=np.argmax(y, axis=-1)\n",
        "prediction= model.predict(test_generator, verbose=2)\n",
        "prediction=np.argmax(prediction, axis=-1)"
      ],
      "execution_count": null,
      "outputs": [
        {
          "output_type": "stream",
          "name": "stdout",
          "text": [
            "450/450 - 16s\n"
          ]
        }
      ]
    },
    {
      "cell_type": "code",
      "metadata": {
        "id": "72d5CVb-JlBw"
      },
      "source": [
        "def plot_confusion_matrix(cm, classes,\n",
        "                          normalize=False,\n",
        "                          title='Confusion matrix',\n",
        "                          cmap=plt.cm.Blues):\n",
        "    \"\"\"\n",
        "    This function prints and plots the confusion matrix.\n",
        "    Normalization can be applied by setting `normalize=True`.\n",
        "    \"\"\"\n",
        "    plt.imshow(cm, interpolation='nearest', cmap=cmap)\n",
        "    plt.title(title)\n",
        "    plt.colorbar()\n",
        "    tick_marks = np.arange(len(classes))\n",
        "    plt.xticks(tick_marks, classes, rotation=45)\n",
        "    plt.yticks(tick_marks, classes)\n",
        "\n",
        "    if normalize:\n",
        "        cm = cm.astype('float') / cm.sum(axis=1)[:, np.newaxis]\n",
        "        print(\"Normalized confusion matrix\")\n",
        "    else:\n",
        "        print('Confusion matrix, without normalization')\n",
        "\n",
        "    print(cm)\n",
        "\n",
        "    thresh = cm.max() / 2.\n",
        "    for i, j in itertools.product(range(cm.shape[0]), range(cm.shape[1])):\n",
        "        plt.text(j, i, cm[i, j],\n",
        "            horizontalalignment=\"center\",\n",
        "            color=\"white\" if cm[i, j] > thresh else \"black\")\n",
        "\n",
        "    plt.tight_layout()\n",
        "    plt.ylabel('True label')\n",
        "    plt.xlabel('Predicted label')\n",
        "from sklearn.metrics import confusion_matrix\n",
        "import itertools\n",
        "import matplotlib.pyplot as plt\n",
        "cm = confusion_matrix(y_true=true_labels, y_pred=prediction)"
      ],
      "execution_count": null,
      "outputs": []
    },
    {
      "cell_type": "code",
      "metadata": {
        "id": "90vWWKNkJlFy"
      },
      "source": [
        "cm_plot_labels = ['melanoma','not melanoma']"
      ],
      "execution_count": null,
      "outputs": []
    },
    {
      "cell_type": "code",
      "metadata": {
        "colab": {
          "base_uri": "https://localhost:8080/",
          "height": 176
        },
        "id": "UDd2tVoYJlIb",
        "outputId": "27b5cac9-30dd-4f3c-d95a-986ffa349a5f"
      },
      "source": [
        "plot_confusion_matrix(cm=cm, classes=cm_plot_labels, title='Confusion Matrix')\n",
        "from sklearn.metrics import accuracy_score\n",
        "acc=accuracy_score(true_labels,prediction) \n",
        "print('Accuracy: %.3f' % acc)\n",
        "from sklearn.metrics import precision_score\n",
        "precision = precision_score(true_labels,prediction,labels=[1,2], average='micro')\n",
        "print('Precision: %.3f' % precision)\n",
        "from sklearn.metrics import recall_score\n",
        "recall = recall_score(true_labels,prediction, average='binary')\n",
        "print('Recall: %.3f' % recall)\n",
        "from sklearn.metrics import f1_score\n",
        "score = f1_score(true_labels,prediction, average='binary')\n",
        "print('F-Measure: %.3f' % score)"
      ],
      "execution_count": null,
      "outputs": [
        {
          "output_type": "stream",
          "name": "stdout",
          "text": [
            "Confusion matrix, without normalization\n",
            "[[210  15]\n",
            " [ 48 177]]\n",
            "Accuracy: 0.860\n",
            "Precision: 0.922\n",
            "Recall: 0.787\n",
            "F-Measure: 0.849\n"
          ]
        },
        {
          "output_type": "display_data",
          "data": {
            "image/png": "[encoded data removed]",
            "text/plain": [
              "<Figure size 432x288 with 2 Axes>"
            ]
          },
          "metadata": {
            "needs_background": "light"
          }
        }
      ]
    },
    {
      "cell_type": "code",
      "metadata": {
        "id": "aFiBpF5vLgay",
        "colab": {
          "base_uri": "https://localhost:8080/"
        },
        "outputId": "39844284-e480-4f55-f9de-7d66f82f6e9f"
      },
      "source": [
        "model.save('/content/drive/MyDrive/Melanoma_Data/models/shift_model.h5')"
      ],
      "execution_count": null,
      "outputs": [
        {
          "output_type": "stream",
          "name": "stderr",
          "text": [
            "/usr/local/lib/python3.7/dist-packages/keras/utils/generic_utils.py:497: CustomMaskWarning: Custom mask layers require a config and must override get_config. When loading, the custom mask layer must be passed to the custom_objects argument.\n",
            "  category=CustomMaskWarning)\n"
          ]
        }
      ]
    }
  ]
}