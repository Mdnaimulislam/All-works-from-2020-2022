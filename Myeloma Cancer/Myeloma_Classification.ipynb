{
  "nbformat": 4,
  "nbformat_minor": 0,
  "metadata": {
    "accelerator": "GPU",
    "colab": {
      "name": "Myeloma Classification.ipynb",
      "provenance": [],
      "collapsed_sections": []
    },
    "kernelspec": {
      "display_name": "Python 3",
      "name": "python3"
    },
    "language_info": {
      "name": "python"
    }
  },
  "cells": [
    {
      "cell_type": "markdown",
      "metadata": {
        "id": "RkdA4e8e3nsb"
      },
      "source": [
        "Myeloma Classification\n"
      ]
    },
    {
      "cell_type": "code",
      "metadata": {
        "id": "1EXm58owCRfT"
      },
      "source": [
        "from tensorflow.keras.preprocessing.image import ImageDataGenerator\n",
        "from tensorflow.keras.applications import VGG16\n",
        "from tensorflow.keras.layers import AveragePooling2D\n",
        "from tensorflow.keras.layers import Dropout\n",
        "from tensorflow.keras.layers import Flatten\n",
        "from tensorflow.keras.layers import Dense\n",
        "from tensorflow.keras.layers import Input\n",
        "from tensorflow.keras.models import Model\n",
        "from tensorflow.keras.optimizers import Adam\n",
        "from tensorflow.keras.utils import to_categorical\n",
        "from sklearn.preprocessing import LabelBinarizer\n",
        "from sklearn.model_selection import train_test_split\n",
        "from sklearn.metrics import classification_report\n",
        "from sklearn.metrics import confusion_matrix\n",
        "from imutils import paths\n",
        "import matplotlib.pyplot as plt\n",
        "import numpy as np\n",
        "import argparse\n",
        "import cv2\n",
        "import os\n",
        "import pandas as pd"
      ],
      "execution_count": null,
      "outputs": []
    },
    {
      "cell_type": "code",
      "metadata": {
        "id": "u9ftk6AWJhat"
      },
      "source": [
        "INIT_LR = 1e-3\n",
        "EPOCHS = 30\n",
        "BS = 32"
      ],
      "execution_count": null,
      "outputs": []
    },
    {
      "cell_type": "code",
      "metadata": {
        "colab": {
          "base_uri": "https://localhost:8080/"
        },
        "id": "-tAfU5pmrFdI",
        "outputId": "3b9094e3-3b8b-46db-d2f2-65ccdc6a9609"
      },
      "source": [
        "print(\"[INFO] loading images...\")\n",
        "imagePaths = list(paths.list_images(\"/content/drive/MyDrive/Myeloma_data/dataset\"))\n",
        "data = []\n",
        "labels = []\n",
        "\n",
        "# loop over the image paths\n",
        "for imagePath in imagePaths:\n",
        "\t# extract the class label from the filename\n",
        "\tlabel = imagePath.split(os.path.sep)[-2]\n",
        "\n",
        "\t# load the image, swap color channels, and resize it to be a fixed\n",
        "\t# 224x224 pixels while ignoring aspect ratio\n",
        "\timage = cv2.imread(imagePath)\n",
        "\timage = cv2.cvtColor(image, cv2.COLOR_BGR2RGB)\n",
        "\timage = cv2.resize(image, (224, 224))\n",
        "\n",
        "\t# update the data and labels lists, respectively\n",
        "\tdata.append(image)\n",
        "\tlabels.append(label)"
      ],
      "execution_count": null,
      "outputs": [
        {
          "output_type": "stream",
          "name": "stdout",
          "text": [
            "[INFO] loading images...\n"
          ]
        }
      ]
    },
    {
      "cell_type": "code",
      "metadata": {
        "id": "3DT1HZWvrFfm"
      },
      "source": [
        "# convert the data and labels to NumPy arrays while scaling the pixel\n",
        "# intensities to the range [0, 255]\n",
        "data = np.array(data) / 255.0\n",
        "labels = np.array(labels)\n",
        "\n",
        "# perform one-hot encoding on the labels\n",
        "lb = LabelBinarizer()\n",
        "labels = lb.fit_transform(labels)\n",
        "labels = to_categorical(labels)"
      ],
      "execution_count": null,
      "outputs": []
    },
    {
      "cell_type": "code",
      "metadata": {
        "id": "LBechO_urFh1",
        "colab": {
          "base_uri": "https://localhost:8080/"
        },
        "outputId": "ac75d513-b45d-4d72-ff0f-d14ce2ebf24a"
      },
      "source": [
        "# partition the data into training and testing splits using 80% of\n",
        "# the data for training and the remaining 20% for testing\n",
        "(trainX, remX, trainY, remY) = train_test_split(data, labels,\n",
        "\ttest_size=0.20, stratify=labels, random_state=42,shuffle=True)\n",
        "\n",
        "(validX, testX, validY, testY) = train_test_split(remX, remY,\n",
        "\ttest_size=0.50, stratify=remY, random_state=42,shuffle=True)\n",
        "\n",
        "# initialize the training data augmentation object\n",
        "trainAug = ImageDataGenerator(\n",
        "    rotation_range=20,\n",
        "\tzoom_range=0.15,\n",
        "\twidth_shift_range=0.2,\n",
        "\theight_shift_range=0.2,\n",
        "\tshear_range=0.15,\n",
        "\thorizontal_flip=True,\n",
        "\tfill_mode=\"nearest\",\n",
        "\t)\n",
        "\n",
        "# load the VGG16 network, ensuring the head FC layer sets are left\n",
        "# off\n",
        "baseModel = VGG16(weights=\"imagenet\", include_top=False,\n",
        "\tinput_tensor=Input(shape=(224, 224, 3)))"
      ],
      "execution_count": null,
      "outputs": [
        {
          "output_type": "stream",
          "name": "stdout",
          "text": [
            "Downloading data from https://storage.googleapis.com/tensorflow/keras-applications/vgg16/vgg16_weights_tf_dim_ordering_tf_kernels_notop.h5\n",
            "58892288/58889256 [==============================] - 1s 0us/step\n",
            "58900480/58889256 [==============================] - 1s 0us/step\n"
          ]
        }
      ]
    },
    {
      "cell_type": "code",
      "metadata": {
        "id": "kskr4bQZrFkw"
      },
      "source": [
        "# construct the head of the model that will be placed on top of the\n",
        "# the base model\n",
        "headModel = baseModel.output\n",
        "headModel = AveragePooling2D(pool_size=(4, 4))(headModel)\n",
        "headModel = Flatten(name=\"flatten\")(headModel)\n",
        "headModel = Dense(64, activation=\"relu\")(headModel)\n",
        "headModel = Dropout(0.5)(headModel)\n",
        "headModel = Dense(2, activation=\"softmax\")(headModel)\n",
        "\n",
        "# place the head FC model on top of the base model (this will become\n",
        "# the actual model we will train)\n",
        "model = Model(inputs=baseModel.input, outputs=headModel)\n",
        "\n",
        "# loop over all layers in the base model and freeze them so they will\n",
        "# *not* be updated during the first training process\n",
        "for layer in baseModel.layers:\n",
        "\tlayer.trainable = False"
      ],
      "execution_count": null,
      "outputs": []
    },
    {
      "cell_type": "code",
      "metadata": {
        "colab": {
          "base_uri": "https://localhost:8080/"
        },
        "id": "DkF_nDazrFmn",
        "outputId": "707e1a85-fd4c-49be-dbd5-761c3b383d1d"
      },
      "source": [
        "# compile our model\n",
        "print(\"[INFO] compiling model...\")\n",
        "opt = Adam(lr=INIT_LR, decay=INIT_LR / EPOCHS)\n",
        "model.compile(loss=\"binary_crossentropy\", optimizer=opt,\n",
        "\tmetrics=[\"accuracy\"])\n"
      ],
      "execution_count": null,
      "outputs": [
        {
          "output_type": "stream",
          "name": "stdout",
          "text": [
            "[INFO] compiling model...\n"
          ]
        },
        {
          "output_type": "stream",
          "name": "stderr",
          "text": [
            "/usr/local/lib/python3.7/dist-packages/keras/optimizer_v2/optimizer_v2.py:356: UserWarning: The `lr` argument is deprecated, use `learning_rate` instead.\n",
            "  \"The `lr` argument is deprecated, use `learning_rate` instead.\")\n"
          ]
        }
      ]
    },
    {
      "cell_type": "code",
      "metadata": {
        "colab": {
          "base_uri": "https://localhost:8080/"
        },
        "id": "7Z36TKjCdGEs",
        "outputId": "3cedce90-16a0-4e1e-fe34-76774e498985"
      },
      "source": [
        "model.summary()"
      ],
      "execution_count": null,
      "outputs": [
        {
          "output_type": "stream",
          "name": "stdout",
          "text": [
            "Model: \"model\"\n",
            "_________________________________________________________________\n",
            "Layer (type)                 Output Shape              Param #   \n",
            "=================================================================\n",
            "input_1 (InputLayer)         [(None, 224, 224, 3)]     0         \n",
            "_________________________________________________________________\n",
            "block1_conv1 (Conv2D)        (None, 224, 224, 64)      1792      \n",
            "_________________________________________________________________\n",
            "block1_conv2 (Conv2D)        (None, 224, 224, 64)      36928     \n",
            "_________________________________________________________________\n",
            "block1_pool (MaxPooling2D)   (None, 112, 112, 64)      0         \n",
            "_________________________________________________________________\n",
            "block2_conv1 (Conv2D)        (None, 112, 112, 128)     73856     \n",
            "_________________________________________________________________\n",
            "block2_conv2 (Conv2D)        (None, 112, 112, 128)     147584    \n",
            "_________________________________________________________________\n",
            "block2_pool (MaxPooling2D)   (None, 56, 56, 128)       0         \n",
            "_________________________________________________________________\n",
            "block3_conv1 (Conv2D)        (None, 56, 56, 256)       295168    \n",
            "_________________________________________________________________\n",
            "block3_conv2 (Conv2D)        (None, 56, 56, 256)       590080    \n",
            "_________________________________________________________________\n",
            "block3_conv3 (Conv2D)        (None, 56, 56, 256)       590080    \n",
            "_________________________________________________________________\n",
            "block3_pool (MaxPooling2D)   (None, 28, 28, 256)       0         \n",
            "_________________________________________________________________\n",
            "block4_conv1 (Conv2D)        (None, 28, 28, 512)       1180160   \n",
            "_________________________________________________________________\n",
            "block4_conv2 (Conv2D)        (None, 28, 28, 512)       2359808   \n",
            "_________________________________________________________________\n",
            "block4_conv3 (Conv2D)        (None, 28, 28, 512)       2359808   \n",
            "_________________________________________________________________\n",
            "block4_pool (MaxPooling2D)   (None, 14, 14, 512)       0         \n",
            "_________________________________________________________________\n",
            "block5_conv1 (Conv2D)        (None, 14, 14, 512)       2359808   \n",
            "_________________________________________________________________\n",
            "block5_conv2 (Conv2D)        (None, 14, 14, 512)       2359808   \n",
            "_________________________________________________________________\n",
            "block5_conv3 (Conv2D)        (None, 14, 14, 512)       2359808   \n",
            "_________________________________________________________________\n",
            "block5_pool (MaxPooling2D)   (None, 7, 7, 512)         0         \n",
            "_________________________________________________________________\n",
            "average_pooling2d (AveragePo (None, 1, 1, 512)         0         \n",
            "_________________________________________________________________\n",
            "flatten (Flatten)            (None, 512)               0         \n",
            "_________________________________________________________________\n",
            "dense (Dense)                (None, 64)                32832     \n",
            "_________________________________________________________________\n",
            "dropout (Dropout)            (None, 64)                0         \n",
            "_________________________________________________________________\n",
            "dense_1 (Dense)              (None, 2)                 130       \n",
            "=================================================================\n",
            "Total params: 14,747,650\n",
            "Trainable params: 32,962\n",
            "Non-trainable params: 14,714,688\n",
            "_________________________________________________________________\n"
          ]
        }
      ]
    },
    {
      "cell_type": "code",
      "metadata": {
        "colab": {
          "base_uri": "https://localhost:8080/"
        },
        "id": "8tUu5HUwrojq",
        "outputId": "b77f34f4-d8d8-4862-cb18-65ff199dcc05"
      },
      "source": [
        "# train the head of the network\n",
        "print(\"[INFO] training head...\")\n",
        "H = model.fit_generator(\n",
        "\ttrainAug.flow(trainX, trainY, batch_size=BS),\n",
        "\tsteps_per_epoch=len(trainX) // BS,\n",
        "\tvalidation_data=(validX, validY),\n",
        "\tvalidation_steps=len(validX) // BS,\n",
        "\tepochs=EPOCHS)"
      ],
      "execution_count": null,
      "outputs": [
        {
          "output_type": "stream",
          "name": "stdout",
          "text": [
            "[INFO] training head...\n"
          ]
        },
        {
          "output_type": "stream",
          "name": "stderr",
          "text": [
            "/usr/local/lib/python3.7/dist-packages/keras/engine/training.py:1972: UserWarning: `Model.fit_generator` is deprecated and will be removed in a future version. Please use `Model.fit`, which supports generators.\n",
            "  warnings.warn('`Model.fit_generator` is deprecated and '\n"
          ]
        },
        {
          "output_type": "stream",
          "name": "stdout",
          "text": [
            "Epoch 1/30\n",
            "65/65 [==============================] - 88s 761ms/step - loss: 0.6163 - accuracy: 0.6601 - val_loss: 0.5402 - val_accuracy: 0.7719\n",
            "Epoch 2/30\n",
            "65/65 [==============================] - 31s 467ms/step - loss: 0.5209 - accuracy: 0.7582 - val_loss: 0.4652 - val_accuracy: 0.8061\n",
            "Epoch 3/30\n",
            "65/65 [==============================] - 30s 464ms/step - loss: 0.4545 - accuracy: 0.8030 - val_loss: 0.4171 - val_accuracy: 0.8327\n",
            "Epoch 4/30\n",
            "65/65 [==============================] - 30s 465ms/step - loss: 0.4021 - accuracy: 0.8353 - val_loss: 0.3793 - val_accuracy: 0.8365\n",
            "Epoch 5/30\n",
            "65/65 [==============================] - 30s 460ms/step - loss: 0.3614 - accuracy: 0.8551 - val_loss: 0.3530 - val_accuracy: 0.8441\n",
            "Epoch 6/30\n",
            "65/65 [==============================] - 30s 461ms/step - loss: 0.3546 - accuracy: 0.8493 - val_loss: 0.3359 - val_accuracy: 0.8859\n",
            "Epoch 7/30\n",
            "65/65 [==============================] - 30s 461ms/step - loss: 0.2991 - accuracy: 0.8889 - val_loss: 0.3159 - val_accuracy: 0.8935\n",
            "Epoch 8/30\n",
            "65/65 [==============================] - 30s 465ms/step - loss: 0.3150 - accuracy: 0.8793 - val_loss: 0.3163 - val_accuracy: 0.8897\n",
            "Epoch 9/30\n",
            "65/65 [==============================] - 31s 469ms/step - loss: 0.2949 - accuracy: 0.8918 - val_loss: 0.2822 - val_accuracy: 0.9011\n",
            "Epoch 10/30\n",
            "65/65 [==============================] - 31s 471ms/step - loss: 0.2702 - accuracy: 0.8962 - val_loss: 0.2702 - val_accuracy: 0.9125\n",
            "Epoch 11/30\n",
            "65/65 [==============================] - 30s 464ms/step - loss: 0.2687 - accuracy: 0.8928 - val_loss: 0.2816 - val_accuracy: 0.9240\n",
            "Epoch 12/30\n",
            "65/65 [==============================] - 30s 467ms/step - loss: 0.2495 - accuracy: 0.9073 - val_loss: 0.2912 - val_accuracy: 0.9049\n",
            "Epoch 13/30\n",
            "65/65 [==============================] - 30s 463ms/step - loss: 0.2321 - accuracy: 0.9237 - val_loss: 0.2449 - val_accuracy: 0.9278\n",
            "Epoch 14/30\n",
            "65/65 [==============================] - 30s 460ms/step - loss: 0.2305 - accuracy: 0.9160 - val_loss: 0.2408 - val_accuracy: 0.9278\n",
            "Epoch 15/30\n",
            "65/65 [==============================] - 30s 462ms/step - loss: 0.2349 - accuracy: 0.9189 - val_loss: 0.2423 - val_accuracy: 0.9240\n",
            "Epoch 16/30\n",
            "65/65 [==============================] - 30s 462ms/step - loss: 0.2300 - accuracy: 0.9179 - val_loss: 0.2400 - val_accuracy: 0.9202\n",
            "Epoch 17/30\n",
            "65/65 [==============================] - 30s 465ms/step - loss: 0.2148 - accuracy: 0.9174 - val_loss: 0.2504 - val_accuracy: 0.9163\n",
            "Epoch 18/30\n",
            "65/65 [==============================] - 30s 466ms/step - loss: 0.2169 - accuracy: 0.9232 - val_loss: 0.2597 - val_accuracy: 0.9202\n",
            "Epoch 19/30\n",
            "65/65 [==============================] - 30s 463ms/step - loss: 0.2019 - accuracy: 0.9208 - val_loss: 0.2311 - val_accuracy: 0.9202\n",
            "Epoch 20/30\n",
            "65/65 [==============================] - 30s 460ms/step - loss: 0.1972 - accuracy: 0.9271 - val_loss: 0.2111 - val_accuracy: 0.9240\n",
            "Epoch 21/30\n",
            "65/65 [==============================] - 30s 460ms/step - loss: 0.1859 - accuracy: 0.9310 - val_loss: 0.2157 - val_accuracy: 0.9278\n",
            "Epoch 22/30\n",
            "65/65 [==============================] - 30s 460ms/step - loss: 0.1836 - accuracy: 0.9353 - val_loss: 0.1962 - val_accuracy: 0.9316\n",
            "Epoch 23/30\n",
            "65/65 [==============================] - 30s 460ms/step - loss: 0.1844 - accuracy: 0.9343 - val_loss: 0.1990 - val_accuracy: 0.9354\n",
            "Epoch 24/30\n",
            "65/65 [==============================] - 30s 461ms/step - loss: 0.2033 - accuracy: 0.9266 - val_loss: 0.2083 - val_accuracy: 0.9316\n",
            "Epoch 25/30\n",
            "65/65 [==============================] - 30s 458ms/step - loss: 0.1860 - accuracy: 0.9324 - val_loss: 0.1892 - val_accuracy: 0.9392\n",
            "Epoch 26/30\n",
            "65/65 [==============================] - 30s 459ms/step - loss: 0.1668 - accuracy: 0.9392 - val_loss: 0.1988 - val_accuracy: 0.9316\n",
            "Epoch 27/30\n",
            "65/65 [==============================] - 30s 456ms/step - loss: 0.1769 - accuracy: 0.9411 - val_loss: 0.1886 - val_accuracy: 0.9354\n",
            "Epoch 28/30\n",
            "65/65 [==============================] - 30s 459ms/step - loss: 0.1777 - accuracy: 0.9396 - val_loss: 0.2123 - val_accuracy: 0.9240\n",
            "Epoch 29/30\n",
            "65/65 [==============================] - 30s 464ms/step - loss: 0.1670 - accuracy: 0.9392 - val_loss: 0.1902 - val_accuracy: 0.9316\n",
            "Epoch 30/30\n",
            "65/65 [==============================] - 30s 463ms/step - loss: 0.1688 - accuracy: 0.9413 - val_loss: 0.1746 - val_accuracy: 0.9316\n"
          ]
        }
      ]
    },
    {
      "cell_type": "code",
      "metadata": {
        "id": "YnxFc8Ui4c1X"
      },
      "source": [
        "model.save(\"/content/drive/MyDrive/Myeloma_data/myeloma_main_model.h5\")"
      ],
      "execution_count": null,
      "outputs": []
    },
    {
      "cell_type": "code",
      "metadata": {
        "id": "Rti-9xQy9dM4"
      },
      "source": [
        "from keras.models import load_model\n",
        "\n",
        "model = load_model(\"/content/drive/MyDrive/Myeloma_data/myeloma_main_model.h5\")"
      ],
      "execution_count": null,
      "outputs": []
    },
    {
      "cell_type": "code",
      "metadata": {
        "colab": {
          "base_uri": "https://localhost:8080/"
        },
        "id": "tJDeB-fHronI",
        "outputId": "b456992f-c04d-4746-e348-e7f6df2b9a78"
      },
      "source": [
        "# make predictions on the testing set\n",
        "print(\"[INFO] evaluating network...\")\n",
        "predIdxs = model.predict(testX, batch_size=BS)\n",
        "\n",
        "# for each image in the testing set we need to find the index of the\n",
        "# label with corresponding largest predicted probability\n",
        "predIdxs = np.argmax(predIdxs, axis=1)"
      ],
      "execution_count": null,
      "outputs": [
        {
          "output_type": "stream",
          "name": "stdout",
          "text": [
            "[INFO] evaluating network...\n"
          ]
        }
      ]
    },
    {
      "cell_type": "code",
      "metadata": {
        "id": "ZdFVTSe0aTD3"
      },
      "source": [
        "fpr, tpr, threshold = roc_curve(testY.argmax(axis=1), predIdxs)"
      ],
      "execution_count": null,
      "outputs": []
    },
    {
      "cell_type": "code",
      "metadata": {
        "colab": {
          "base_uri": "https://localhost:8080/"
        },
        "id": "FCN6fDQuiYvX",
        "outputId": "c6bf3994-00e1-49d4-c850-88a4164e67fd"
      },
      "source": [
        "from sklearn.metrics import roc_auc_score\n",
        "auc = roc_auc_score(testY.argmax(axis=1),predIdxs)\n",
        "print('ROC AUC: %.3f' % auc)"
      ],
      "execution_count": null,
      "outputs": [
        {
          "output_type": "stream",
          "name": "stdout",
          "text": [
            "ROC AUC: 0.950\n"
          ]
        }
      ]
    },
    {
      "cell_type": "code",
      "metadata": {
        "colab": {
          "base_uri": "https://localhost:8080/"
        },
        "id": "qTxc_8Exhuw2",
        "outputId": "d75a770e-5165-4522-d896-dfc7a93dc11d"
      },
      "source": [
        "# roc curve for tpr = fpr \n",
        "random_probs = [0 for i in range(len(testY))]\n",
        "p_fpr, p_tpr, _ = roc_curve(testY.argmax(axis=1), random_probs, pos_label=1)\n",
        "random = roc_auc_score(testY.argmax(axis=1),random_probs)\n",
        "print('ROC AUC: %.3f' % random)"
      ],
      "execution_count": null,
      "outputs": [
        {
          "output_type": "stream",
          "name": "stdout",
          "text": [
            "ROC AUC: 0.500\n"
          ]
        }
      ]
    },
    {
      "cell_type": "code",
      "metadata": {
        "colab": {
          "base_uri": "https://localhost:8080/",
          "height": 376
        },
        "id": "pmIF-DuThTu4",
        "outputId": "1660f0a2-f600-4a83-d1fb-7c24d796a86f"
      },
      "source": [
        "# matplotlib\n",
        "import matplotlib.pyplot as plt\n",
        "plt.style.use('seaborn')\n",
        "\n",
        "# plot roc curves\n",
        "plt.plot(fpr, tpr, linestyle='--',color='orange', label='VGG16 ROC (area = %0.2f)'% auc)\n",
        "plt.plot(p_fpr, p_tpr, linestyle='--', color='blue',label='Random (area = %0.2f)'% random)\n",
        "# title\n",
        "plt.title('ROC curve')\n",
        "# x label\n",
        "plt.xlabel('False Positive Rate')\n",
        "# y label\n",
        "plt.ylabel('True Positive rate')\n",
        "\n",
        "plt.legend(loc='best')\n",
        "plt.savefig('ROC',dpi=300)\n",
        "plt.show();"
      ],
      "execution_count": null,
      "outputs": [
        {
          "output_type": "display_data",
          "data": {
            "image/png": "[encoded data removed]",
            "text/plain": [
              "<Figure size 576x396 with 1 Axes>"
            ]
          },
          "metadata": {}
        }
      ]
    },
    {
      "cell_type": "code",
      "metadata": {
        "colab": {
          "base_uri": "https://localhost:8080/"
        },
        "id": "gKuktu31roqh",
        "outputId": "624c9137-7cc0-45de-986d-338da993473d"
      },
      "source": [
        "# show a nicely formatted classification report\n",
        "print(classification_report(testY.argmax(axis=1), predIdxs,\n",
        "\ttarget_names=lb.classes_))\n",
        "# compute the confusion matrix and and use it to derive the raw\n",
        "# accuracy, sensitivity, and specificity\n",
        "cm = confusion_matrix(testY.argmax(axis=1), predIdxs)\n",
        "total = sum(sum(cm))\n",
        "acc = (cm[0, 0] + cm[1, 1]) / total\n",
        "sensitivity = cm[0, 0] / (cm[0, 0] + cm[0, 1])\n",
        "specificity = cm[1, 1] / (cm[1, 0] + cm[1, 1])\n",
        "\n",
        "# show the confusion matrix, accuracy, sensitivity, and specificity\n",
        "print(\"acc: {:.4f}\".format(acc))\n",
        "print(\"sensitivity: {:.4f}\".format(sensitivity))\n",
        "print(\"specificity: {:.4f}\".format(specificity))"
      ],
      "execution_count": null,
      "outputs": [
        {
          "output_type": "stream",
          "name": "stdout",
          "text": [
            "              precision    recall  f1-score   support\n",
            "\n",
            "     myeloma       0.95      0.96      0.96       145\n",
            " non_myeloma       0.95      0.94      0.94       118\n",
            "\n",
            "    accuracy                           0.95       263\n",
            "   macro avg       0.95      0.95      0.95       263\n",
            "weighted avg       0.95      0.95      0.95       263\n",
            "\n",
            "acc: 0.9506\n",
            "sensitivity: 0.9586\n",
            "specificity: 0.9407\n"
          ]
        }
      ]
    },
    {
      "cell_type": "code",
      "metadata": {
        "colab": {
          "base_uri": "https://localhost:8080/",
          "height": 317
        },
        "id": "6Pnxr7AZroso",
        "outputId": "9c28d531-85e6-4858-fb07-338014d05c1f"
      },
      "source": [
        "# plot the training loss and accuracy\n",
        "N = EPOCHS\n",
        "plt.style.use(\"ggplot\")\n",
        "plt.figure()\n",
        "plt.plot(np.arange(0, N), H.history[\"loss\"], label=\"train_loss\")\n",
        "plt.plot(np.arange(0, N), H.history[\"val_loss\"], label=\"val_loss\")\n",
        "plt.plot(np.arange(0, N), H.history[\"accuracy\"], label=\"train_acc\")\n",
        "plt.plot(np.arange(0, N), H.history[\"val_accuracy\"], label=\"val_acc\")\n",
        "plt.title(\"Training Loss and Accuracy\")\n",
        "plt.xlabel(\"Epoch #\")\n",
        "plt.ylabel(\"Loss/Accuracy\")\n",
        "plt.legend(loc=\"lower left\")"
      ],
      "execution_count": null,
      "outputs": [
        {
          "output_type": "execute_result",
          "data": {
            "text/plain": [
              "<matplotlib.legend.Legend at 0x7f0844355790>"
            ]
          },
          "metadata": {},
          "execution_count": 19
        },
        {
          "output_type": "display_data",
          "data": {
            "image/png": "[encoded data removed]",
            "text/plain": [
              "<Figure size 432x288 with 1 Axes>"
            ]
          },
          "metadata": {}
        }
      ]
    },
    {
      "cell_type": "code",
      "metadata": {
        "colab": {
          "base_uri": "https://localhost:8080/",
          "height": 347
        },
        "id": "7Wj2cgpWpqyg",
        "outputId": "14509a9f-7520-48ce-e1bd-0d8fee39fb61"
      },
      "source": [
        "#Evaluation of Model - Confusion Matrix Plot\n",
        "import itertools \n",
        "def plot_confusion_matrix(cm, classes,\n",
        "                          normalize=False,\n",
        "                          title='Confusion matrix',\n",
        "                          cmap=plt.cm.Blues):\n",
        "    \"\"\"\n",
        "    This function prints and plots the confusion matrix.\n",
        "    Normalization can be applied by setting `normalize=True`.\n",
        "    \"\"\"\n",
        "    if normalize:\n",
        "        cm = cm.astype('float') / cm.sum(axis=1)[:, np.newaxis]\n",
        "        print(\"Normalized confusion matrix\")\n",
        "    else:\n",
        "        print('Confusion matrix, without normalization')\n",
        "\n",
        "    print(cm)\n",
        "\n",
        "    plt.imshow(cm, interpolation='nearest', cmap=cmap)\n",
        "    plt.title(title)\n",
        "    plt.colorbar()\n",
        "    tick_marks = np.arange(len(classes))\n",
        "    plt.xticks(tick_marks, classes, rotation=45)\n",
        "    plt.yticks(tick_marks, classes)\n",
        "\n",
        "    fmt = '.2f' if normalize else 'd'\n",
        "    thresh = cm.max() / 2.\n",
        "    for i, j in itertools.product(range(cm.shape[0]), range(cm.shape[1])):\n",
        "        plt.text(j, i, format(cm[i, j], fmt),\n",
        "                 horizontalalignment=\"center\",\n",
        "                 color=\"white\" if cm[i, j] > thresh else \"black\")\n",
        "\n",
        "    plt.ylabel('True label')\n",
        "    plt.xlabel('Predicted label')\n",
        "    plt.tight_layout()\n",
        "\n",
        "\n",
        "# Compute confusion matrix\n",
        "cnf_matrix = confusion_matrix(testY.argmax(axis=1), predIdxs)\n",
        "np.set_printoptions(precision=2)\n",
        "\n",
        "# Plot non-normalized confusion matrix\n",
        "plt.figure()\n",
        "plot_confusion_matrix(cnf_matrix, classes=['Myeloma','Non-Myeloma'],\n",
        "                      title='Confusion matrix')"
      ],
      "execution_count": null,
      "outputs": [
        {
          "output_type": "stream",
          "name": "stdout",
          "text": [
            "Confusion matrix, without normalization\n",
            "[[139   6]\n",
            " [  7 111]]\n"
          ]
        },
        {
          "output_type": "display_data",
          "data": {
            "image/png": "[encoded data removed]",
            "text/plain": [
              "<Figure size 432x288 with 2 Axes>"
            ]
          },
          "metadata": {
            "needs_background": "light"
          }
        }
      ]
    },
    {
      "cell_type": "code",
      "metadata": {
        "colab": {
          "base_uri": "https://localhost:8080/"
        },
        "id": "wwXfoK85pq3e",
        "outputId": "fcde89e7-bffd-41c3-9eaa-8c725ecd9a92"
      },
      "source": [
        "#extracting true_positives, false_positives, true_negatives, false_negatives\n",
        "tn, fp, fn, tp = confusion_matrix(testY.argmax(axis=1), predIdxs).ravel()\n",
        "print(\"True Negatives: \",tn)\n",
        "print(\"False Positives: \",fp)\n",
        "print(\"False Negatives: \",fn)\n",
        "print(\"True Positives: \",tp)"
      ],
      "execution_count": null,
      "outputs": [
        {
          "output_type": "stream",
          "name": "stdout",
          "text": [
            "True Negatives:  139\n",
            "False Positives:  6\n",
            "False Negatives:  7\n",
            "True Positives:  111\n"
          ]
        }
      ]
    },
    {
      "cell_type": "code",
      "metadata": {
        "id": "4hVrjAVrJhwH"
      },
      "source": [
        ""
      ],
      "execution_count": null,
      "outputs": []
    }
  ]
}