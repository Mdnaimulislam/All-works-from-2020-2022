{
  "nbformat": 4,
  "nbformat_minor": 0,
  "metadata": {
    "colab": {
      "name": "social distancing.ipynb",
      "provenance": [],
      "collapsed_sections": []
    },
    "kernelspec": {
      "name": "python3",
      "display_name": "Python 3"
    },
    "accelerator": "GPU"
  },
  "cells": [
    {
      "cell_type": "code",
      "metadata": {
        "id": "boyjErwC_W9N"
      },
      "source": [
        "from scipy.spatial import distance as dist\n",
        "import numpy as np\n",
        "import argparse\n",
        "import imutils\n",
        "import os\n",
        "import cv2\n",
        "\n",
        "NMS_THRESH=0.3\n",
        "MIN_CONF=0.3\n",
        "MIN_DISTANCE=30\n",
        "USE_GPU=False"
      ],
      "execution_count": null,
      "outputs": []
    },
    {
      "cell_type": "code",
      "metadata": {
        "id": "jOLVSFv2_W_l"
      },
      "source": [
        "import numpy as np\n",
        "from google.colab.patches import cv2_imshow\n",
        "\n",
        "def detect_people(frame, net, ln, personIdx=0):\n",
        "\t# grab the dimensions of the frame and  initialize the list of\n",
        "\t# results\n",
        "\t(H, W) = frame.shape[:2]\n",
        "\tresults = []\n",
        "\n",
        "\t# construct a blob from the input frame and then perform a forward\n",
        "\t# pass of the YOLO object detector, giving us our bounding boxes\n",
        "\t# and associated probabilities\n",
        "\tblob = cv2.dnn.blobFromImage(frame, 1 / 255.0, (416, 416),\n",
        "\t\tswapRB=True, crop=False)\n",
        "\tnet.setInput(blob)\n",
        "\tlayerOutputs = net.forward(ln)\n",
        "\n",
        "\t# initialize our lists of detected bounding boxes, centroids, and\n",
        "\t# confidences, respectively\n",
        "\tboxes = []\n",
        "\tcentroids = []\n",
        "\tconfidences = []\n",
        "\n",
        "\t# loop over each of the layer outputs\n",
        "\tfor output in layerOutputs:\n",
        "\t\t# loop over each of the detections\n",
        "\t\tfor detection in output:\n",
        "\t\t\t# extract the class ID and confidence (i.e., probability)\n",
        "\t\t\t# of the current object detection\n",
        "\t\t\tscores = detection[5:]\n",
        "\t\t\tclassID = np.argmax(scores)\n",
        "\t\t\tconfidence = scores[classID]\n",
        "\n",
        "\t\t\t# filter detections by (1) ensuring that the object\n",
        "\t\t\t# detected was a person and (2) that the minimum\n",
        "\t\t\t# confidence is met\n",
        "\t\t\tif classID == personIdx and confidence > MIN_CONF:\n",
        "\t\t\t\t# scale the bounding box coordinates back relative to\n",
        "\t\t\t\t# the size of the image, keeping in mind that YOLO\n",
        "\t\t\t\t# actually returns the center (x, y)-coordinates of\n",
        "\t\t\t\t# the bounding box followed by the boxes' width and\n",
        "\t\t\t\t# height\n",
        "\t\t\t\tbox = detection[0:4] * np.array([W, H, W, H])\n",
        "\t\t\t\t(centerX, centerY, width, height) = box.astype(\"int\")\n",
        "\n",
        "\t\t\t\t# use the center (x, y)-coordinates to derive the top\n",
        "\t\t\t\t# and and left corner of the bounding box\n",
        "\t\t\t\tx = int(centerX - (width / 2))\n",
        "\t\t\t\ty = int(centerY - (height / 2))\n",
        "\n",
        "\t\t\t\t# update our list of bounding box coordinates,\n",
        "\t\t\t\t# centroids, and confidences\n",
        "\t\t\t\tboxes.append([x, y, int(width), int(height)])\n",
        "\t\t\t\tcentroids.append((centerX, centerY))\n",
        "\t\t\t\tconfidences.append(float(confidence))\n",
        "\n",
        "\t# apply non-maxima suppression to suppress weak, overlapping\n",
        "\t# bounding boxes\n",
        "\tidxs = cv2.dnn.NMSBoxes(boxes, confidences, MIN_CONF, NMS_THRESH)\n",
        "\n",
        "\t# ensure at least one detection exists\n",
        "\tif len(idxs) > 0:\n",
        "\t\t# loop over the indexes we are keeping\n",
        "\t\tfor i in idxs.flatten():\n",
        "\t\t\t# extract the bounding box coordinates\n",
        "\t\t\t(x, y) = (boxes[i][0], boxes[i][1])\n",
        "\t\t\t(w, h) = (boxes[i][2], boxes[i][3])\n",
        "\n",
        "\t\t\t# update our results list to consist of the person\n",
        "\t\t\t# prediction probability, bounding box coordinates,\n",
        "\t\t\t# and the centroid\n",
        "\t\t\tr = (confidences[i], (x, y, x + w, y + h), centroids[i])\n",
        "\t\t\tresults.append(r)\n",
        "\n",
        "\t# return the list of results\n",
        "\treturn results"
      ],
      "execution_count": null,
      "outputs": []
    },
    {
      "cell_type": "code",
      "metadata": {
        "id": "TcVwxtDBL5bF",
        "colab": {
          "base_uri": "https://localhost:8080/",
          "height": 34
        },
        "outputId": "d930d187-c693-422f-e012-ca4d6827d7a6"
      },
      "source": [
        "# load the COCO class labels our YOLO model was trained on\n",
        "labelsPath = os.path.sep.join([\"/content/drive/My Drive/Socail distancing/yolo-coco\", \"coco.names\"])\n",
        "LABELS = open(labelsPath).read().strip().split(\"\\n\")\n",
        "\n",
        "# derive the paths to the YOLO weights and model configuration\n",
        "weightsPath = os.path.sep.join([\"/content/drive/My Drive/Socail distancing/yolo-coco\", \"yolov3.weights\"])\n",
        "configPath = os.path.sep.join([\"/content/drive/My Drive/Socail distancing/yolo-coco\", \"yolov3.cfg\"])\n",
        "\n",
        "# load our YOLO object detector trained on COCO dataset (80 classes)\n",
        "print(\"[INFO] loading YOLO from disk...\")\n",
        "net = cv2.dnn.readNetFromDarknet(configPath, weightsPath)\n"
      ],
      "execution_count": null,
      "outputs": [
        {
          "output_type": "stream",
          "text": [
            "[INFO] loading YOLO from disk...\n"
          ],
          "name": "stdout"
        }
      ]
    },
    {
      "cell_type": "code",
      "metadata": {
        "id": "wPjo6cdoL5dd"
      },
      "source": [
        "# check if we are going to use GPU\n",
        "if USE_GPU:\n",
        "\t# set CUDA as the preferable backend and target\n",
        "\tprint(\"[INFO] setting preferable backend and target to CUDA...\")\n",
        "\tnet.setPreferableBackend(cv2.dnn.DNN_BACKEND_CUDA)\n",
        "\tnet.setPreferableTarget(cv2.dnn.DNN_TARGET_CUDA)"
      ],
      "execution_count": null,
      "outputs": []
    },
    {
      "cell_type": "code",
      "metadata": {
        "id": "V8-VbTSmL5fZ"
      },
      "source": [
        "# determine only the *output* layer names that we need from YOLO\n",
        "ln = net.getLayerNames()\n",
        "ln = [ln[i[0] - 1] for i in net.getUnconnectedOutLayers()]"
      ],
      "execution_count": null,
      "outputs": []
    },
    {
      "cell_type": "code",
      "metadata": {
        "id": "6NtoY7bKL5jk",
        "colab": {
          "base_uri": "https://localhost:8080/",
          "height": 129
        },
        "outputId": "4df7f4b7-bd9a-4b79-940c-4467c3557e97"
      },
      "source": [
        "# initialize the video stream and pointer to output video file\n",
        "print(\"[INFO] accessing video stream...\")\n",
        "vs = cv2.VideoCapture(\"/content/drive/My Drive/Socail distancing/Lucky One Mall, Karachi, Pakistan 2019 - shopping mall.mp4\")\n",
        "writer = None\n",
        "\n",
        "# loop over the frames from the video stream\n",
        "while True:\n",
        "\t\t\t# read the next frame from the file\n",
        "\t\t\t(grabbed, frame) = vs.read()\n",
        "\n",
        "\t\t\t# if the frame was not grabbed, then we have reached the end\n",
        "\t\t\t# of the stream\n",
        "\t\t\tif not grabbed:\n",
        "\t\t\t\tbreak\n",
        "\n",
        "\t\t\t# resize the frame and then detect people (and only people) in it\n",
        "\t\t\tframe = imutils.resize(frame, width=700)\n",
        "\t\t\tresults = detect_people(frame, net, ln,personIdx=LABELS.index(\"person\")\n",
        "\n",
        "\t\t\t# initialize the set of indexes that violate the minimum social\n",
        "\t\t\t# distance\n",
        "\t\t\tviolate = set()\n",
        "\n",
        "\t\t\t# ensure there are *at least* two people detections (required in\n",
        "\t\t\t# order to compute our pairwise distance maps)\n",
        "\t\t\tif len(results) >= 2:\n",
        "\t\t\t\t# extract all centroids from the results and compute the\n",
        "\t\t\t\t# Euclidean distances between all pairs of the centroids\n",
        "\t\t\t\tcentroids = np.array([r[2] for r in results])\n",
        "\t\t\t\tD = dist.cdist(centroids, centroids, metric=\"euclidean\")\n",
        "\n",
        "\t\t\t\t# loop over the upper triangular of the distance matrix\n",
        "\t\t\t\tfor i in range(0, D.shape[0]):\n",
        "\t\t\t\t\tfor j in range(i + 1, D.shape[1]):\n",
        "\t\t\t\t\t\t# check to see if the distance between any two\n",
        "\t\t\t\t\t\t# centroid pairs is less than the configured number\n",
        "\t\t\t\t\t\t# of pixels\n",
        "\t\t\t\t\t\tif D[i, j] < MIN_DISTANCE:\n",
        "\t\t\t\t\t\t\t# update our violation set with the indexes of\n",
        "\t\t\t\t\t\t\t# the centroid pairs\n",
        "\t\t\t\t\t\t\tviolate.add(i)\n",
        "\t\t\t\t\t\t\tviolate.add(j)\n",
        "\n",
        "\t\t\t# loop over the results\n",
        "\t\t\tfor (i, (prob, bbox, centroid)) in enumerate(results):\n",
        "\t\t\t\t# extract the bounding box and centroid coordinates, then\n",
        "\t\t\t\t# initialize the color of the annotation\n",
        "\t\t\t\t(startX, startY, endX, endY) = bbox\n",
        "\t\t\t\t(cX, cY) = centroid\n",
        "\t\t\t\tcolor = (0, 255, 0)\n",
        "\n",
        "\t\t\t\t# if the index pair exists within the violation set, then\n",
        "\t\t\t\t# update the color\n",
        "\t\t\t\tif i in violate:\n",
        "\t\t\t\t\tcolor = (0, 0, 255)\n",
        "\n",
        "\t\t\t\t# draw (1) a bounding box around the person and (2) the\n",
        "\t\t\t\t# centroid coordinates of the person,\n",
        "\t\t\t\tcv2.rectangle(frame, (startX, startY), (endX, endY), color, 2)\n",
        "\t\t\t\tcv2.circle(frame, (cX, cY), 5, color, 1)\n",
        "\n",
        "\t\t\t# draw the total number of social distancing violations on the\n",
        "\t\t\t# output frame\n",
        "\t\t\ttext = \"Social Distancing Violations: {}\".format(len(violate))\n",
        "\t\t\tcv2.putText(frame, text, (10, frame.shape[0] - 25),\n",
        "\t\t\t\tcv2.FONT_HERSHEY_SIMPLEX, 0.85, (0, 0, 255), 3)\n",
        "\n",
        "\t\t\t# check to see if the output frame should be displayed to our\n",
        "\t\t\t# screen\n",
        "\t\t\t\n",
        "\t\t\t# show the output frame\n",
        "\t\t\tcv2_imshow(frame)\n",
        "\t\t\tkey = cv2.waitKey(1) & 0xFF\n",
        "\n",
        "\t\t\tfourcc = cv2.VideoWriter_fourcc(*\"MJPG\")\n",
        "\t\t\twriter = cv2.VideoWriter(\"/content/drive/My Drive/Socaildistancing/result.avi\", fourcc, 25,(frame.shape[1], frame.shape[0]), True)\n",
        "\n"
      ],
      "execution_count": null,
      "outputs": [
        {
          "output_type": "error",
          "ename": "SyntaxError",
          "evalue": "ignored",
          "traceback": [
            "\u001b[0;36m  File \u001b[0;32m\"<ipython-input-23-769200e785d3>\"\u001b[0;36m, line \u001b[0;32m22\u001b[0m\n\u001b[0;31m    violate = set()\u001b[0m\n\u001b[0m          ^\u001b[0m\n\u001b[0;31mSyntaxError\u001b[0m\u001b[0;31m:\u001b[0m invalid syntax\n"
          ]
        }
      ]
    }
  ]
}